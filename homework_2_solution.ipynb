{
  "nbformat": 4,
  "nbformat_minor": 0,
  "metadata": {
    "colab": {
      "provenance": [],
      "toc_visible": true,
      "authorship_tag": "ABX9TyNHSvOI5/0+POqSegWaU9YS",
      "include_colab_link": true
    },
    "kernelspec": {
      "name": "python3",
      "display_name": "Python 3"
    },
    "language_info": {
      "name": "python"
    }
  },
  "cells": [
    {
      "cell_type": "markdown",
      "metadata": {
        "id": "view-in-github",
        "colab_type": "text"
      },
      "source": [
        "<a href=\"https://colab.research.google.com/github/statrliu/data_bootcamp_part1/blob/main/homework_2_solution.ipynb\" target=\"_parent\"><img src=\"https://colab.research.google.com/assets/colab-badge.svg\" alt=\"Open In Colab\"/></a>"
      ]
    },
    {
      "cell_type": "code",
      "source": [
        "import pandas as pd"
      ],
      "metadata": {
        "id": "n_ZfWAj3xK9Z"
      },
      "execution_count": null,
      "outputs": []
    },
    {
      "cell_type": "markdown",
      "source": [
        "#Q1#\n",
        "Create a Pandas Series containing the following data: [10, 20, 30, 40, 50] and label it with the corresponding days of the week (Monday to Friday)."
      ],
      "metadata": {
        "id": "SqgQziyUGC2z"
      }
    },
    {
      "cell_type": "code",
      "execution_count": null,
      "metadata": {
        "id": "7ctim7OKF8Q2",
        "colab": {
          "base_uri": "https://localhost:8080/"
        },
        "outputId": "ed9d8ca9-415a-4fc1-a916-13f596bbb90b"
      },
      "outputs": [
        {
          "output_type": "stream",
          "name": "stdout",
          "text": [
            "Monday       10\n",
            "Tuesday      20\n",
            "Wednesday    30\n",
            "Thursday     40\n",
            "Friday       50\n",
            "dtype: int64\n"
          ]
        }
      ],
      "source": [
        "data = [10, 20, 30, 40, 50]\n",
        "days = ['Monday', 'Tuesday', 'Wednesday', 'Thursday', 'Friday']\n",
        "\n",
        "# Create a Series\n",
        "series = pd.Series(data, index=days)\n",
        "print(series)\n"
      ]
    },
    {
      "cell_type": "markdown",
      "source": [
        "#Q2#\n",
        "From the Series created in Problem 1, extract and print the value corresponding to 'Wednesday' and \"Friday\"."
      ],
      "metadata": {
        "id": "alO97tTXPH6R"
      }
    },
    {
      "cell_type": "code",
      "source": [
        "wednesday_value = series[['Wednesday',\"Friday\"]]\n",
        "print(wednesday_value)"
      ],
      "metadata": {
        "colab": {
          "base_uri": "https://localhost:8080/"
        },
        "id": "FigidSedPXlw",
        "outputId": "59449159-f0fe-48f4-cbcd-4e585f45b46c"
      },
      "execution_count": null,
      "outputs": [
        {
          "output_type": "stream",
          "name": "stdout",
          "text": [
            "Wednesday    30\n",
            "Friday       50\n",
            "dtype: int64\n"
          ]
        }
      ]
    },
    {
      "cell_type": "markdown",
      "source": [
        "#Q3#\n",
        "\n",
        "Filter and print the values in the Series `series` that are greater than 30.\n",
        "\n",
        "```\n",
        "series = pd.Series([12, 30, 43, 2, 567])\n",
        "```"
      ],
      "metadata": {
        "id": "8gjag6jFPgLn"
      }
    },
    {
      "cell_type": "code",
      "source": [
        "series = pd.Series([12, 30, 43, 2, 567])\n",
        "filtered_values = series[series > 30]\n",
        "print(filtered_values)"
      ],
      "metadata": {
        "colab": {
          "base_uri": "https://localhost:8080/"
        },
        "id": "26OwpBTSP-UM",
        "outputId": "917a2032-3cc1-49de-95ff-b66ec0d06ed6"
      },
      "execution_count": null,
      "outputs": [
        {
          "output_type": "stream",
          "name": "stdout",
          "text": [
            "2     43\n",
            "4    567\n",
            "dtype: int64\n"
          ]
        }
      ]
    },
    {
      "cell_type": "markdown",
      "source": [
        "#Q4#\n",
        "Check if there are any null (missing) values in `ser` and print the result.\n",
        "```\n",
        "ser = pd.Series([1, 20, None, 45, pd.NA])\n",
        "```\n"
      ],
      "metadata": {
        "id": "Wu9CxFNORNsm"
      }
    },
    {
      "cell_type": "code",
      "source": [
        "ser = pd.Series([1, 20, None, 45, pd.NA])\n",
        "print(ser.hasnans)"
      ],
      "metadata": {
        "colab": {
          "base_uri": "https://localhost:8080/"
        },
        "id": "41AQB5tpRYzs",
        "outputId": "6e704531-db92-4e66-b23e-49e587cf0cf8"
      },
      "execution_count": null,
      "outputs": [
        {
          "output_type": "stream",
          "name": "stdout",
          "text": [
            "True\n"
          ]
        }
      ]
    },
    {
      "cell_type": "markdown",
      "source": [
        "#Q5#\n",
        "Sort the Series `ser` in ascending order by its absolute values and put any missing values at the end.\n",
        "```\n",
        "ser = pd.Series([12, -23, None, 2, 40, -5, -90, None])\n",
        "```"
      ],
      "metadata": {
        "id": "nb0cBndORxdT"
      }
    },
    {
      "cell_type": "code",
      "source": [
        "ser = pd.Series([12, -23, None, 2, 40, -5, -90, None])\n",
        "\n",
        "print(ser.sort_values( ascending= True, na_position='last', key = abs))"
      ],
      "metadata": {
        "colab": {
          "base_uri": "https://localhost:8080/"
        },
        "id": "mRkD2OrfRvBH",
        "outputId": "fc4b43aa-6e38-4b1a-c76b-6f49b801cde4"
      },
      "execution_count": null,
      "outputs": [
        {
          "output_type": "stream",
          "name": "stdout",
          "text": [
            "3     2.0\n",
            "5    -5.0\n",
            "0    12.0\n",
            "1   -23.0\n",
            "4    40.0\n",
            "6   -90.0\n",
            "2     NaN\n",
            "7     NaN\n",
            "dtype: float64\n"
          ]
        }
      ]
    },
    {
      "cell_type": "markdown",
      "source": [
        "#Q6#\n",
        "Extract and print the unique values from the Series `ser = pd.Series([23, 1, 3, None, 3, 23])`"
      ],
      "metadata": {
        "id": "shYTeXiCSR0l"
      }
    },
    {
      "cell_type": "code",
      "source": [
        "ser = pd.Series([23, 1, 3, None, 3, 23])\n",
        "print(ser.unique())"
      ],
      "metadata": {
        "colab": {
          "base_uri": "https://localhost:8080/"
        },
        "id": "HD9Gm_rbSQEz",
        "outputId": "a1836834-d8b8-4bc0-ce8c-d6ec15d5b3fc"
      },
      "execution_count": null,
      "outputs": [
        {
          "output_type": "stream",
          "name": "stdout",
          "text": [
            "[23.  1.  3. nan]\n"
          ]
        }
      ]
    },
    {
      "cell_type": "markdown",
      "source": [
        "#Q7#\n",
        "Calculate the exponential of each element in the Series `ser` and store the result in a new Series.\n",
        "\n",
        "```\n",
        "ser = pd.Series([2, 4, 5, 12, 6])\n",
        "```"
      ],
      "metadata": {
        "id": "8VcZx57US70G"
      }
    },
    {
      "cell_type": "code",
      "source": [
        "from math import exp\n",
        "ser = pd.Series([2, 4, 5, 12, 6])\n",
        "exponential_series = ser.apply(lambda x: exp(x))\n",
        "print(exponential_series)"
      ],
      "metadata": {
        "colab": {
          "base_uri": "https://localhost:8080/"
        },
        "id": "A5vCgMnbTBcf",
        "outputId": "60111e63-e81e-4fc9-fba5-cd1870ad5f38"
      },
      "execution_count": null,
      "outputs": [
        {
          "output_type": "stream",
          "name": "stdout",
          "text": [
            "0         7.389056\n",
            "1        54.598150\n",
            "2       148.413159\n",
            "3    162754.791419\n",
            "4       403.428793\n",
            "dtype: float64\n"
          ]
        }
      ]
    },
    {
      "cell_type": "markdown",
      "source": [
        "#Q8#\n",
        "\n",
        "Count and print the number of occurrences of each unique value in the Series `ser`, inclusing missing values\n",
        "\n",
        "```\n",
        "ser = pd.Series([2, 3, 4, 3, 5, 6, None, 6])\n",
        "```"
      ],
      "metadata": {
        "id": "2LR-YUf-T9EZ"
      }
    },
    {
      "cell_type": "code",
      "source": [
        "ser = pd.Series([2, 3, 4, 3, 5, 6, None, 6])\n",
        "print(ser.value_counts(dropna = False))"
      ],
      "metadata": {
        "colab": {
          "base_uri": "https://localhost:8080/"
        },
        "id": "RkUclK5HYgiR",
        "outputId": "760110f3-5712-4e31-afbd-b9218e19ec7c"
      },
      "execution_count": null,
      "outputs": [
        {
          "output_type": "stream",
          "name": "stdout",
          "text": [
            "3.0    2\n",
            "6.0    2\n",
            "2.0    1\n",
            "4.0    1\n",
            "5.0    1\n",
            "NaN    1\n",
            "dtype: int64\n"
          ]
        }
      ]
    },
    {
      "cell_type": "markdown",
      "source": [
        "#Q9#\n",
        "Find and print the minimum and maximum values in the Series `ser`\n",
        "\n",
        "```\n",
        "ser = pd.Series([-10, 34, 45, 87, 54])\n",
        "```"
      ],
      "metadata": {
        "id": "Es6hBQMwWVYQ"
      }
    },
    {
      "cell_type": "code",
      "source": [
        "ser = pd.Series([-10, 34, 45, 87, 54])\n",
        "print(ser.min())\n",
        "print(ser.max())"
      ],
      "metadata": {
        "colab": {
          "base_uri": "https://localhost:8080/"
        },
        "id": "jmJBjueAWfk0",
        "outputId": "a8faf3f8-e10e-43ca-cf95-ca6798284dee"
      },
      "execution_count": null,
      "outputs": [
        {
          "output_type": "stream",
          "name": "stdout",
          "text": [
            "-10\n",
            "87\n"
          ]
        }
      ]
    },
    {
      "cell_type": "markdown",
      "source": [
        "#Q10#\n",
        "\n",
        "Create two Series with the same index labels and subtract one from the other."
      ],
      "metadata": {
        "id": "olmlaDhpXVLV"
      }
    },
    {
      "cell_type": "code",
      "source": [
        "# Create two Series\n",
        "series1 = pd.Series([10, 20, 30], index=['A', 'B', 'C'])\n",
        "series2 = pd.Series([5, 15, 25], index=['A', 'B', 'C'])\n",
        "\n",
        "# Subtract the second Series from the first\n",
        "result = series1 - series2\n",
        "print(result)\n"
      ],
      "metadata": {
        "colab": {
          "base_uri": "https://localhost:8080/"
        },
        "id": "YZrvLXJ2YEC7",
        "outputId": "31a08e8b-7fcb-45ee-c42f-ff7353bd3e17"
      },
      "execution_count": null,
      "outputs": [
        {
          "output_type": "stream",
          "name": "stdout",
          "text": [
            "A    5\n",
            "B    5\n",
            "C    5\n",
            "dtype: int64\n"
          ]
        }
      ]
    },
    {
      "cell_type": "markdown",
      "source": [
        "#Q11#\n",
        "\n",
        "Filter the elements of the Series `ser` to include only those values that are greater than the mean of the Series.\n",
        "\n",
        "```\n",
        "import numpy as np\n",
        "np.random.seed(1234)\n",
        "ser = pd.Series(np.random.normal(size = 15))\n",
        "```"
      ],
      "metadata": {
        "id": "iztTuFCzDpzJ"
      }
    },
    {
      "cell_type": "code",
      "source": [
        "import numpy as np\n",
        "np.random.seed(1234)\n",
        "ser = pd.Series(np.random.normal(size = 15))\n",
        "print(ser[ser>ser.mean()])"
      ],
      "metadata": {
        "colab": {
          "base_uri": "https://localhost:8080/"
        },
        "id": "lS7K-7F8DvwK",
        "outputId": "95c80a21-b030-4ca3-ead9-23fc9435c043"
      },
      "execution_count": null,
      "outputs": [
        {
          "output_type": "stream",
          "name": "stdout",
          "text": [
            "0     0.471435\n",
            "2     1.432707\n",
            "5     0.887163\n",
            "6     0.859588\n",
            "8     0.015696\n",
            "10    1.150036\n",
            "11    0.991946\n",
            "12    0.953324\n",
            "dtype: float64\n"
          ]
        }
      ]
    },
    {
      "cell_type": "markdown",
      "source": [
        "#Q12#\n",
        "\n",
        "Rename the index of the Series `ser` with new index labels `\"A\", \"B\", \"C\"`\n",
        "\n",
        "```\n",
        "ser = pd.Series([1,2,3], index = list(\"abc\"))\n",
        "```\n",
        "\n"
      ],
      "metadata": {
        "id": "iZYGypDsEZBk"
      }
    },
    {
      "cell_type": "code",
      "source": [
        "ser = pd.Series([1,2,3], index = list(\"abc\"))\n",
        "ser.index = [\"A\", \"B\", \"C\"]\n",
        "#ser.rename(index = {\"a\": \"A\", \"b\": \"B\", \"c\":\"C\"}, inplace = True)\n",
        "print(ser)"
      ],
      "metadata": {
        "colab": {
          "base_uri": "https://localhost:8080/"
        },
        "id": "QK0EsmmsEfrv",
        "outputId": "b7a71447-72e4-4cb0-aadc-177804286811"
      },
      "execution_count": null,
      "outputs": [
        {
          "output_type": "stream",
          "name": "stdout",
          "text": [
            "A    1\n",
            "B    2\n",
            "C    3\n",
            "dtype: int64\n"
          ]
        }
      ]
    },
    {
      "cell_type": "markdown",
      "source": [
        "#Q13#\n",
        "\n",
        "Convert the data type of the Series `ser` to  integer.\n",
        "\n",
        "```\n",
        "ser = pd.Series([1.0, 2.34, 5.6], dtype = \"float64\")\n",
        "```\n",
        "\n",
        "**Hint:** `astype()` method"
      ],
      "metadata": {
        "id": "LmSbyKpwFlFH"
      }
    },
    {
      "cell_type": "code",
      "source": [
        "ser = pd.Series([1.0, 2.34, 5.6], dtype = \"float64\")\n",
        "print(ser.astype(\"int\"))"
      ],
      "metadata": {
        "colab": {
          "base_uri": "https://localhost:8080/"
        },
        "id": "txIoPmpUGvpy",
        "outputId": "8318a35f-2188-404f-8cfc-4a04328c71d6"
      },
      "execution_count": null,
      "outputs": [
        {
          "output_type": "stream",
          "name": "stdout",
          "text": [
            "0    1\n",
            "1    2\n",
            "2    5\n",
            "dtype: int64\n"
          ]
        }
      ]
    },
    {
      "cell_type": "markdown",
      "source": [
        "#Q14#\n",
        "\n",
        "Replace specific values in the Series `ser` with new values as follows:\n",
        "\n",
        "replace `'b' by 100, 'c' by 200` and keep other values untouched.\n",
        "\n",
        "```\n",
        "ser = pd.Series([\"a\", \"c\", \"c\", \"b\", \"d\"])\n",
        "```"
      ],
      "metadata": {
        "id": "g_ZzptXXJ4V5"
      }
    },
    {
      "cell_type": "code",
      "source": [
        "ser = pd.Series([\"a\", \"c\", \"c\", \"b\", \"d\"])\n",
        "\n",
        "replacement_values = {'b': 100, 'c': 200}\n",
        "print(ser.replace(replacement_values))"
      ],
      "metadata": {
        "colab": {
          "base_uri": "https://localhost:8080/"
        },
        "id": "WwzfztwsJ9oB",
        "outputId": "6d7e3eba-cf3b-4a3b-af62-4916a7f1bab6"
      },
      "execution_count": null,
      "outputs": [
        {
          "output_type": "stream",
          "name": "stdout",
          "text": [
            "0      a\n",
            "1    200\n",
            "2    200\n",
            "3    100\n",
            "4      d\n",
            "dtype: object\n"
          ]
        }
      ]
    },
    {
      "cell_type": "markdown",
      "source": [
        "#Q15#\n",
        "\n",
        "Interpolate missing values in the Series `ser` using **linear** interpolation.\n",
        "\n",
        "```\n",
        "ser = pd.Series([1, None, 3, None, 5])\n",
        "```"
      ],
      "metadata": {
        "id": "e0Mrsya3Kdng"
      }
    },
    {
      "cell_type": "code",
      "source": [
        "ser = pd.Series([1, None, 3, None, 5])\n",
        "print(ser.interpolate(method='linear'))"
      ],
      "metadata": {
        "colab": {
          "base_uri": "https://localhost:8080/"
        },
        "id": "1UnDTwdBKtPY",
        "outputId": "969d0c76-0016-431e-f4ee-28b77d4b630e"
      },
      "execution_count": null,
      "outputs": [
        {
          "output_type": "stream",
          "name": "stdout",
          "text": [
            "0    1.0\n",
            "1    2.0\n",
            "2    3.0\n",
            "3    4.0\n",
            "4    5.0\n",
            "dtype: float64\n"
          ]
        }
      ]
    },
    {
      "cell_type": "markdown",
      "source": [
        "#Q16#\n",
        "\n",
        "Create a Series of student grades (e.g., 'A', 'B', 'C', 'D', 'F'). Use the `map` method to convert these letter grades to corresponding grade point averages (GPA) as follows:\n",
        "```\n",
        "'A' -> 4.0\n",
        "'B' -> 3.0\n",
        "'C' -> 2.0\n",
        "'D' -> 1.0\n",
        "'F' -> 0.0\n",
        "```"
      ],
      "metadata": {
        "id": "EbfeNyD4K6DF"
      }
    },
    {
      "cell_type": "code",
      "source": [
        "# Create a Series of student grades\n",
        "grades = pd.Series(['A', 'B', 'C', 'D', 'F'])\n",
        "\n",
        "# Define a mapping dictionary for GPA conversion\n",
        "gpa_mapping = {'A': 4.0, 'B': 3.0, 'C': 2.0, 'D': 1.0, 'F': 0.0}\n",
        "\n",
        "# Use the map method to convert grades to GPA\n",
        "gpa_series = grades.map(gpa_mapping)\n",
        "print(gpa_series)\n"
      ],
      "metadata": {
        "colab": {
          "base_uri": "https://localhost:8080/"
        },
        "id": "J-gaTxyzLesa",
        "outputId": "e92289ed-676e-4043-dcd3-9fdb5b9e0928"
      },
      "execution_count": null,
      "outputs": [
        {
          "output_type": "stream",
          "name": "stdout",
          "text": [
            "0    4.0\n",
            "1    3.0\n",
            "2    2.0\n",
            "3    1.0\n",
            "4    0.0\n",
            "dtype: float64\n"
          ]
        }
      ]
    },
    {
      "cell_type": "markdown",
      "source": [
        "#Q17#\n",
        "\n",
        "Given the Series `ser`, use the agg method to calculate the total value, average value, and maximum value.\n",
        "\n",
        "```\n",
        "ser = pd.Series([1000, 1500, 800, 2000, 1200])\n",
        "```"
      ],
      "metadata": {
        "id": "mKIOKd61MIJ9"
      }
    },
    {
      "cell_type": "code",
      "source": [
        "ser = pd.Series([1000, 1500, 800, 2000, 1200])\n",
        "\n",
        "result = ser.agg(['sum', 'mean', 'max'])\n",
        "print(result)"
      ],
      "metadata": {
        "colab": {
          "base_uri": "https://localhost:8080/"
        },
        "id": "jN8g5NtJMLjS",
        "outputId": "2306de03-b1ae-4ce7-ce6f-30918191173c"
      },
      "execution_count": null,
      "outputs": [
        {
          "output_type": "stream",
          "name": "stdout",
          "text": [
            "sum     6500.0\n",
            "mean    1300.0\n",
            "max     2000.0\n",
            "dtype: float64\n"
          ]
        }
      ]
    },
    {
      "cell_type": "markdown",
      "source": [
        "#Q18#\n",
        "\n",
        "Given the following Series of lists containing exam scores for 4 students, calculate the average score for each student.\n",
        "\n",
        "```\n",
        "scores = pd.Series([[85, 90, 78], [92, 88, 94], [78, 85, 80], [88, 92, 90]],\n",
        "                   index = [\"stu1\", \"stu2\", \"stu3\", \"stu4\"])\n",
        "\n",
        "```"
      ],
      "metadata": {
        "id": "5ihLqra6MzMi"
      }
    },
    {
      "cell_type": "code",
      "source": [
        "scores = pd.Series([[85, 90, 78], [92, 88, 94], [78, 85, 80], [88, 92, 90]],\n",
        "                   index = [\"stu1\", \"stu2\", \"stu3\", \"stu4\"])\n",
        "\n",
        "# Define a function to calculate the average score for a student\n",
        "def average_score(scores_list):\n",
        "    return sum(scores_list) / len(scores_list)\n",
        "\n",
        "# Use the apply method to calculate the average score for each student\n",
        "average_scores = scores.apply(average_score)\n",
        "print(average_scores)\n"
      ],
      "metadata": {
        "colab": {
          "base_uri": "https://localhost:8080/"
        },
        "id": "XjU464wrNY6X",
        "outputId": "a0ec10a5-bf50-4564-c9f5-c7614af58362"
      },
      "execution_count": null,
      "outputs": [
        {
          "output_type": "stream",
          "name": "stdout",
          "text": [
            "stu1    84.333333\n",
            "stu2    91.333333\n",
            "stu3    81.000000\n",
            "stu4    90.000000\n",
            "dtype: float64\n"
          ]
        }
      ]
    },
    {
      "cell_type": "markdown",
      "source": [
        "#Q19#\n",
        "\n",
        "You have a Series of exam scores as follows,\n",
        "\n",
        "```\n",
        "scores = pd.Series([45, 78, 55, 92, 60, 38, 72])\n",
        "```\n",
        "\n",
        "You want to apply a curve to the scores:\n",
        "\n",
        "if a score is less than 60, increase it by 10 points; otherwise, leave it unchanged.\n",
        "\n",
        "Use the `where` method to apply this curve to the scores."
      ],
      "metadata": {
        "id": "9YzJfl9WOHRU"
      }
    },
    {
      "cell_type": "code",
      "source": [
        "scores = pd.Series([45, 78, 55, 92, 60, 38, 72])\n",
        "\n",
        "\n",
        "# Use the where method to apply the curve\n",
        "curved_scores = scores.where(scores >= 60, scores + 10)\n",
        "print(\"Original Scores:\")\n",
        "print(scores)\n",
        "print(\"\\nCurved Scores:\")\n",
        "print(curved_scores)\n"
      ],
      "metadata": {
        "colab": {
          "base_uri": "https://localhost:8080/"
        },
        "id": "PBXWTAMJOGem",
        "outputId": "ac3d5af8-5181-417e-ac96-fba96454a24b"
      },
      "execution_count": null,
      "outputs": [
        {
          "output_type": "stream",
          "name": "stdout",
          "text": [
            "Original Scores:\n",
            "0    45\n",
            "1    78\n",
            "2    55\n",
            "3    92\n",
            "4    60\n",
            "5    38\n",
            "6    72\n",
            "dtype: int64\n",
            "\n",
            "Curved Scores:\n",
            "0    55\n",
            "1    78\n",
            "2    65\n",
            "3    92\n",
            "4    60\n",
            "5    48\n",
            "6    72\n",
            "dtype: int64\n"
          ]
        }
      ]
    },
    {
      "cell_type": "markdown",
      "source": [
        "#Q20#\n",
        "\n",
        "You have a Series of temperatures in Celsius,\n",
        "\n",
        "```\n",
        "temperatures_celsius = pd.Series([20, 28, 22, 30, 18, 25, 27])\n",
        "```\n",
        "\n",
        "You want to convert temperatures above a certain threshold (e.g., 25 degrees Celsius) to Fahrenheit.\n",
        "\n",
        "Write code to apply the conversion formula to temperatures above the threshold and leave temperatures below the threshold in Celsius.\n",
        "\n",
        "**Note:** The Fahrenheit to Celsius conversion formula is: `F = (C * 9/5) + 32`, where `F` is the temperature in Fahrenheit and `C` is the temperature in Celsius."
      ],
      "metadata": {
        "id": "vEOXkDlUP6t_"
      }
    },
    {
      "cell_type": "code",
      "source": [
        "temperatures_celsius = pd.Series([20, 28, 22, 30, 18, 25, 27])\n",
        "\n",
        "# Define the threshold for conversion\n",
        "threshold = 25\n",
        "\n",
        "# Use the where method to apply the conversion formula\n",
        "temperatures_fahrenheit = temperatures_celsius.where(temperatures_celsius <= threshold, (temperatures_celsius * 9/5) + 32)\n",
        "\n",
        "print(\"Temperatures in Celsius:\")\n",
        "print(temperatures_celsius)\n",
        "print(\"\\nTemperatures in Fahrenheit (above threshold):\")\n",
        "print(temperatures_fahrenheit)\n"
      ],
      "metadata": {
        "colab": {
          "base_uri": "https://localhost:8080/"
        },
        "id": "5O2kN1uRQFJb",
        "outputId": "90c1613a-af51-44ec-9e70-2faefd95112f"
      },
      "execution_count": null,
      "outputs": [
        {
          "output_type": "stream",
          "name": "stdout",
          "text": [
            "Temperatures in Celsius:\n",
            "0    20\n",
            "1    28\n",
            "2    22\n",
            "3    30\n",
            "4    18\n",
            "5    25\n",
            "6    27\n",
            "dtype: int64\n",
            "\n",
            "Temperatures in Fahrenheit (above threshold):\n",
            "0    20.0\n",
            "1    82.4\n",
            "2    22.0\n",
            "3    86.0\n",
            "4    18.0\n",
            "5    25.0\n",
            "6    80.6\n",
            "dtype: float64\n"
          ]
        }
      ]
    },
    {
      "cell_type": "markdown",
      "source": [
        "#Q21#\n",
        "\n",
        "You have a Series of names, and you want to identify and print the duplicated names in the Series.\n",
        "\n",
        "```\n",
        "names = pd.Series(['Alice', 'Bob', 'Alice', 'Charlie', 'Bob', 'David'])\n",
        "```"
      ],
      "metadata": {
        "id": "1IoLNHc0RDkG"
      }
    },
    {
      "cell_type": "code",
      "source": [
        "names = pd.Series(['Alice', 'Bob', 'Alice', 'Charlie', 'Bob', 'David'])\n",
        "\n",
        "# Detect and print duplicated names\n",
        "duplicated_names = names[names.duplicated()]\n",
        "print(\"Duplicated Names:\")\n",
        "print(duplicated_names)"
      ],
      "metadata": {
        "colab": {
          "base_uri": "https://localhost:8080/"
        },
        "id": "B8hbmy3_RJBd",
        "outputId": "a442f3f0-cdac-4fd3-c2c7-a4022f34e99d"
      },
      "execution_count": null,
      "outputs": [
        {
          "output_type": "stream",
          "name": "stdout",
          "text": [
            "Duplicated Names:\n",
            "2    Alice\n",
            "4      Bob\n",
            "dtype: object\n"
          ]
        }
      ]
    },
    {
      "cell_type": "markdown",
      "source": [
        "#Q22#\n",
        "\n",
        "Extend the previous question to count the occurrences of each duplicated value in the Series."
      ],
      "metadata": {
        "id": "_-DsCWs8Rzlm"
      }
    },
    {
      "cell_type": "code",
      "source": [
        "names = pd.Series(['Alice', 'Bob', 'Alice', 'Charlie', 'Bob', 'David'])\n",
        "\n",
        "# Count occurrences of duplicated names\n",
        "duplicated_counts = names.value_counts()[names[names.duplicated()]]\n",
        "print(\"Count of Duplicated Names:\")\n",
        "print(duplicated_counts)\n"
      ],
      "metadata": {
        "colab": {
          "base_uri": "https://localhost:8080/"
        },
        "id": "mB_H6p1CSFHl",
        "outputId": "ed663569-5a0c-49cb-8f4f-8d68312c89ec"
      },
      "execution_count": null,
      "outputs": [
        {
          "output_type": "stream",
          "name": "stdout",
          "text": [
            "Count of Duplicated Names:\n",
            "Alice    2\n",
            "Bob      2\n",
            "dtype: int64\n"
          ]
        }
      ]
    },
    {
      "cell_type": "markdown",
      "source": [
        "#Q23#\n",
        "\n",
        "You have a Series of data with missing values represented as `None`, and you want to replace these missing values with the mean of the non-missing values.\n",
        "\n",
        "```\n",
        "data = pd.Series([10, 20, None, 30, 40, None, 50])\n",
        "```\n"
      ],
      "metadata": {
        "id": "Hl4f9MbFSqgt"
      }
    },
    {
      "cell_type": "code",
      "source": [
        "data = pd.Series([10, 20, None, 30, 40, None, 50])\n",
        "\n",
        "# Replace missing values with the mean of non-missing values\n",
        "mean_value = data.mean()\n",
        "data_filled = data.fillna(mean_value)\n",
        "print(\"Original Data:\")\n",
        "print(data)\n",
        "print(\"\\nData with Missing Values Filled:\")\n",
        "print(data_filled)"
      ],
      "metadata": {
        "colab": {
          "base_uri": "https://localhost:8080/"
        },
        "id": "HsCjEG58Stvm",
        "outputId": "405447a1-200b-4e01-debd-9c88e07034ec"
      },
      "execution_count": null,
      "outputs": [
        {
          "output_type": "stream",
          "name": "stdout",
          "text": [
            "Original Data:\n",
            "0    10.0\n",
            "1    20.0\n",
            "2     NaN\n",
            "3    30.0\n",
            "4    40.0\n",
            "5     NaN\n",
            "6    50.0\n",
            "dtype: float64\n",
            "\n",
            "Data with Missing Values Filled:\n",
            "0    10.0\n",
            "1    20.0\n",
            "2    30.0\n",
            "3    30.0\n",
            "4    40.0\n",
            "5    30.0\n",
            "6    50.0\n",
            "dtype: float64\n"
          ]
        }
      ]
    },
    {
      "cell_type": "markdown",
      "source": [
        "#Q24#\n",
        "\n",
        "Extend the previous question to drop rows containing missing values from the Series.\n",
        "\n",
        "```\n",
        "data = pd.Series([10, 20, None, 30, 40, None, 50])\n",
        "```"
      ],
      "metadata": {
        "id": "G-40K60WTqEv"
      }
    },
    {
      "cell_type": "code",
      "source": [
        "data = pd.Series([10, 20, None, 30, 40, None, 50])\n",
        "\n",
        "# Drop rows with missing values\n",
        "data_dropped = data.dropna()\n",
        "print(\"Original Data:\")\n",
        "print(data)\n",
        "print(\"\\nData with Missing Values Dropped:\")\n",
        "print(data_dropped)\n"
      ],
      "metadata": {
        "colab": {
          "base_uri": "https://localhost:8080/"
        },
        "id": "hbdsdbOzTt1W",
        "outputId": "a893c074-6d31-4fe3-ca90-c70b451ac55a"
      },
      "execution_count": null,
      "outputs": [
        {
          "output_type": "stream",
          "name": "stdout",
          "text": [
            "Original Data:\n",
            "0    10.0\n",
            "1    20.0\n",
            "2     NaN\n",
            "3    30.0\n",
            "4    40.0\n",
            "5     NaN\n",
            "6    50.0\n",
            "dtype: float64\n",
            "\n",
            "Data with Missing Values Dropped:\n",
            "0    10.0\n",
            "1    20.0\n",
            "3    30.0\n",
            "4    40.0\n",
            "6    50.0\n",
            "dtype: float64\n"
          ]
        }
      ]
    },
    {
      "cell_type": "markdown",
      "source": [
        "# Q25\n",
        "\n",
        "You have a Series of stock prices with missing values, and you want to backward fill (copy the next available value) to fill in the missing values.\n",
        "\n",
        "```\n",
        "import numpy as np\n",
        "prices = pd.Series([100, np.nan, 105, np.nan, 110, 112, np.nan, 115])\n",
        "```"
      ],
      "metadata": {
        "id": "T1K9BqGZZUf2"
      }
    },
    {
      "cell_type": "code",
      "source": [
        "import numpy as np\n",
        "prices = pd.Series([100, np.nan, 105, np.nan, 110, 112, np.nan, 115])\n",
        "\n",
        "# Backward fill missing values\n",
        "filled_prices = prices.bfill()\n",
        "print(\"Original Stock Prices:\")\n",
        "print(prices)\n",
        "print(\"\\nStock Prices with Missing Values Backward Filled:\")\n",
        "print(filled_prices)"
      ],
      "metadata": {
        "colab": {
          "base_uri": "https://localhost:8080/"
        },
        "id": "ZgsvkAc0Zdfw",
        "outputId": "11f4854c-e2df-485c-c46a-f34f78b9aebb"
      },
      "execution_count": null,
      "outputs": [
        {
          "output_type": "stream",
          "name": "stdout",
          "text": [
            "Original Stock Prices:\n",
            "0    100.0\n",
            "1      NaN\n",
            "2    105.0\n",
            "3      NaN\n",
            "4    110.0\n",
            "5    112.0\n",
            "6      NaN\n",
            "7    115.0\n",
            "dtype: float64\n",
            "\n",
            "Stock Prices with Missing Values Backward Filled:\n",
            "0    100.0\n",
            "1    105.0\n",
            "2    105.0\n",
            "3    110.0\n",
            "4    110.0\n",
            "5    112.0\n",
            "6    115.0\n",
            "7    115.0\n",
            "dtype: float64\n"
          ]
        }
      ]
    }
  ]
}