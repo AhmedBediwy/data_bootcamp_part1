{
  "nbformat": 4,
  "nbformat_minor": 0,
  "metadata": {
    "colab": {
      "provenance": [],
      "authorship_tag": "ABX9TyNvPeEOnBsM0ZTA2wg8IzTM",
      "include_colab_link": true
    },
    "kernelspec": {
      "name": "python3",
      "display_name": "Python 3"
    },
    "language_info": {
      "name": "python"
    }
  },
  "cells": [
    {
      "cell_type": "markdown",
      "metadata": {
        "id": "view-in-github",
        "colab_type": "text"
      },
      "source": [
        "<a href=\"https://colab.research.google.com/github/statrliu/data_bootcamp_part1/blob/main/homework_3_solution.ipynb\" target=\"_parent\"><img src=\"https://colab.research.google.com/assets/colab-badge.svg\" alt=\"Open In Colab\"/></a>"
      ]
    },
    {
      "cell_type": "code",
      "source": [
        "import pandas as pd"
      ],
      "metadata": {
        "id": "g3gx6R9H5qxj"
      },
      "execution_count": null,
      "outputs": []
    },
    {
      "cell_type": "markdown",
      "source": [
        "# Q1\n",
        "\n",
        "Create a DataFrame containing information about students, including their names, ages, and grades.\n",
        "\n",
        "Example output:\n",
        "```\n",
        "      Name  Age Grade\n",
        "0    Alice   20     A\n",
        "1      Bob   22     B\n",
        "2  Charlie   21     C\n",
        "3    David   23     B\n",
        "```"
      ],
      "metadata": {
        "id": "sPW3BMuBIrgb"
      }
    },
    {
      "cell_type": "code",
      "execution_count": null,
      "metadata": {
        "colab": {
          "base_uri": "https://localhost:8080/"
        },
        "id": "B_0UDwTEIoRU",
        "outputId": "4ee49127-bab7-4e9b-96b1-db95466840c4"
      },
      "outputs": [
        {
          "output_type": "stream",
          "name": "stdout",
          "text": [
            "      Name  Age Grade\n",
            "0    Alice   20     A\n",
            "1      Bob   22     B\n",
            "2  Charlie   21     C\n",
            "3    David   23     B\n"
          ]
        }
      ],
      "source": [
        "import pandas as pd\n",
        "\n",
        "# Create lists of student data\n",
        "student_data = {'Name': ['Alice', 'Bob', 'Charlie', 'David'],\n",
        "                'Age': [20, 22, 21, 23],\n",
        "                'Grade': ['A', 'B', 'C', 'B']}\n",
        "\n",
        "# Create a DataFrame from lists\n",
        "df_students = pd.DataFrame(student_data)\n",
        "print(df_students)\n"
      ]
    },
    {
      "cell_type": "markdown",
      "source": [
        "# Q2\n",
        "\n",
        "You have a DataFrame (`df_mixed`) containing a column of numerical values, but some values are represented as strings. You want to convert the column to float, and for values that cannot be converted, replace them with a specific placeholder value, such as -1.\n",
        "\n",
        "```\n",
        "data = {'Values': [100, 'yellow', 'apple', '201', 78.5]}\n",
        "\n",
        "df_mixed = pd.DataFrame(data)\n",
        "```"
      ],
      "metadata": {
        "id": "BuARSwT2O9M9"
      }
    },
    {
      "cell_type": "code",
      "source": [
        "data = {'Values': [100, 'yellow', 'apple', '201', 78.5]}\n",
        "\n",
        "df_mixed = pd.DataFrame(data)\n",
        "# Define a placeholder value for non-numeric values\n",
        "placeholder_value = -1\n",
        "\n",
        "# Change the data type of the 'Values' column to float and replace non-numeric values\n",
        "df_mixed['Values'] = pd.to_numeric(df_mixed['Values'], errors='coerce').fillna(placeholder_value)\n",
        "print(df_mixed)"
      ],
      "metadata": {
        "colab": {
          "base_uri": "https://localhost:8080/"
        },
        "id": "kUA3-RmxPXiO",
        "outputId": "5bfad08f-7e9e-4daa-bdc2-2796353fc631"
      },
      "execution_count": null,
      "outputs": [
        {
          "output_type": "stream",
          "name": "stdout",
          "text": [
            "   Values\n",
            "0   100.0\n",
            "1    -1.0\n",
            "2    -1.0\n",
            "3   201.0\n",
            "4    78.5\n"
          ]
        }
      ]
    },
    {
      "cell_type": "markdown",
      "source": [
        "# Q3\n",
        "\n",
        "You have a DataFrame (`df_students`) containing student information, and you want to add a new column 'Grade' that contains the corresponding grade level for each student. Assume that the grade levels are 'Freshman', 'Sophomore', 'Junior', and 'Senior'.\n",
        "\n",
        "```\n",
        "data = {'Name': ['Alice', 'Bob', 'Charlie', 'David'],\n",
        "        'Age': [20, 22, 21, 23]}\n",
        "\n",
        "df_students = pd.DataFrame(data)\n",
        "```"
      ],
      "metadata": {
        "id": "_70K23ujVR1R"
      }
    },
    {
      "cell_type": "code",
      "source": [
        "data = {'Name': ['Alice', 'Bob', 'Charlie', 'David'],\n",
        "        'Age': [20, 22, 21, 23]}\n",
        "\n",
        "df_students = pd.DataFrame(data)\n",
        "\n",
        "# Add a new 'Grade' column to the DataFrame\n",
        "grades = ['Freshman', 'Sophomore', 'Junior', 'Senior']\n",
        "df_students['Grade'] = grades\n",
        "\n",
        "print(df_students)\n"
      ],
      "metadata": {
        "colab": {
          "base_uri": "https://localhost:8080/"
        },
        "id": "JtNSYSE5Wh6p",
        "outputId": "a5599976-7be0-46c0-c94d-84d8b8aab2dc"
      },
      "execution_count": null,
      "outputs": [
        {
          "output_type": "stream",
          "name": "stdout",
          "text": [
            "      Name  Age      Grade\n",
            "0    Alice   20   Freshman\n",
            "1      Bob   22  Sophomore\n",
            "2  Charlie   21     Junior\n",
            "3    David   23     Senior\n"
          ]
        }
      ]
    },
    {
      "cell_type": "markdown",
      "source": [
        "# Q4\n",
        "\n",
        "You have a DataFrame (`df_sales`) containing sales data with a column 'Tax' that you want to drop because it's no longer needed.\n",
        "\n",
        "```\n",
        "data = {'Product': ['Laptop', 'Phone', 'Tablet', 'Monitor'],\n",
        "        'Quantity Sold': [100, 200, 150, 50],\n",
        "        'Price': [800, 500, 300, 200],\n",
        "        'Tax': [40, 25, 15, 10]}\n",
        "\n",
        "df_sales = pd.DataFrame(data)\n",
        "```"
      ],
      "metadata": {
        "id": "AG1Y87P_Wx8F"
      }
    },
    {
      "cell_type": "code",
      "source": [
        "data = {'Product': ['Laptop', 'Phone', 'Tablet', 'Monitor'],\n",
        "        'Quantity Sold': [100, 200, 150, 50],\n",
        "        'Price': [800, 500, 300, 200],\n",
        "        'Tax': [40, 25, 15, 10]}\n",
        "\n",
        "df_sales = pd.DataFrame(data)\n",
        "\n",
        "# Drop the 'Tax' column from the DataFrame\n",
        "df_sales = df_sales.drop(columns='Tax')\n",
        "\n",
        "print(df_sales)"
      ],
      "metadata": {
        "colab": {
          "base_uri": "https://localhost:8080/"
        },
        "id": "wfQQmEzlW3Ur",
        "outputId": "2dfdf60f-aab7-4c9e-e9f3-99bc0658a59c"
      },
      "execution_count": null,
      "outputs": [
        {
          "output_type": "stream",
          "name": "stdout",
          "text": [
            "   Product  Quantity Sold  Price\n",
            "0   Laptop            100    800\n",
            "1    Phone            200    500\n",
            "2   Tablet            150    300\n",
            "3  Monitor             50    200\n"
          ]
        }
      ]
    },
    {
      "cell_type": "markdown",
      "source": [
        "# Q5\n",
        "\n",
        "You have a DataFrame (`df_students`) with student information, and you want to drop all students who are older than 22 years old.\n",
        "\n",
        "```\n",
        "data = {'Name': ['Alice', 'Bob', 'Charlie', 'David'],\n",
        "        'Age': [20, 22, 21, 23]}\n",
        "\n",
        "df_students = pd.DataFrame(data)\n",
        "```"
      ],
      "metadata": {
        "id": "tScOMlurXUbN"
      }
    },
    {
      "cell_type": "code",
      "source": [
        "data = {'Name': ['Alice', 'Bob', 'Charlie', 'David'],\n",
        "        'Age': [20, 22, 21, 23]}\n",
        "\n",
        "df_students = pd.DataFrame(data)\n",
        "\n",
        "# Drop students older than 22 years old\n",
        "df_students = df_students[df_students['Age'] <= 22]\n",
        "\n",
        "print(df_students)"
      ],
      "metadata": {
        "colab": {
          "base_uri": "https://localhost:8080/"
        },
        "id": "UhQRvzW1XYNb",
        "outputId": "feb4e94d-9b92-425b-dd5e-d996a6a01564"
      },
      "execution_count": null,
      "outputs": [
        {
          "output_type": "stream",
          "name": "stdout",
          "text": [
            "      Name  Age\n",
            "0    Alice   20\n",
            "1      Bob   22\n",
            "2  Charlie   21\n"
          ]
        }
      ]
    },
    {
      "cell_type": "markdown",
      "source": [
        "# Q6\n",
        "\n",
        "You have a DataFrame (`df_students`) containing student information, and you want to create a new DataFrame that includes only the first two rows of student data.\n",
        "\n",
        "```\n",
        "data = {'Name': ['Alice', 'Bob', 'Charlie', 'David'],\n",
        "        'Age': [20, 22, 21, 23]}\n",
        "\n",
        "df_students = pd.DataFrame(data)\n",
        "```"
      ],
      "metadata": {
        "id": "gA21M9A-pRnv"
      }
    },
    {
      "cell_type": "code",
      "source": [
        "data = {'Name': ['Alice', 'Bob', 'Charlie', 'David'],\n",
        "        'Age': [20, 22, 21, 23]}\n",
        "\n",
        "df_students = pd.DataFrame(data)\n",
        "\n",
        "# Subset the DataFrame to include only the first two rows\n",
        "df_subset = df_students.iloc[:2, :]\n",
        "\n",
        "print(df_subset)\n"
      ],
      "metadata": {
        "colab": {
          "base_uri": "https://localhost:8080/"
        },
        "id": "wlnb5t1PpWBM",
        "outputId": "89ff1d35-78a0-429f-9797-ec7b6aacdf4a"
      },
      "execution_count": null,
      "outputs": [
        {
          "output_type": "stream",
          "name": "stdout",
          "text": [
            "    Name  Age\n",
            "0  Alice   20\n",
            "1    Bob   22\n"
          ]
        }
      ]
    },
    {
      "cell_type": "markdown",
      "source": [
        "# Q7\n",
        "\n",
        "You have a DataFrame (`df_employees`) containing employee information, and you want to create a new DataFrame that includes only the employees with a salary greater than $60,000.\n",
        "\n",
        "```\n",
        "data = {'EmployeeID': [101, 102, 103, 104],\n",
        "        'Name': ['Alice', 'Bob', 'Charlie', 'David'],\n",
        "        'Salary': [50000, 60000, 75000, 70000]}\n",
        "\n",
        "df_employees = pd.DataFrame(data)\n",
        "```"
      ],
      "metadata": {
        "id": "FTHyLG1OppB2"
      }
    },
    {
      "cell_type": "code",
      "source": [
        "data = {'EmployeeID': [101, 102, 103, 104],\n",
        "        'Name': ['Alice', 'Bob', 'Charlie', 'David'],\n",
        "        'Salary': [50000, 60000, 75000, 70000]}\n",
        "\n",
        "df_employees = pd.DataFrame(data)\n",
        "\n",
        "# Filter the DataFrame to include only employees with salary > $60,000\n",
        "df_filtered = df_employees[df_employees['Salary'] > 60000]\n",
        "\n",
        "print(df_filtered)\n"
      ],
      "metadata": {
        "colab": {
          "base_uri": "https://localhost:8080/"
        },
        "id": "w1BzNBZ_pzID",
        "outputId": "bcaa6064-bbf6-4670-9d6d-11f4a7964133"
      },
      "execution_count": null,
      "outputs": [
        {
          "output_type": "stream",
          "name": "stdout",
          "text": [
            "   EmployeeID     Name  Salary\n",
            "2         103  Charlie   75000\n",
            "3         104    David   70000\n"
          ]
        }
      ]
    },
    {
      "cell_type": "markdown",
      "source": [
        "# Q8\n",
        "\n",
        "You have a DataFrame (`df_products`) with product information, and you want to create a new DataFrame that includes only the products with a price greater than $300 and a quantity sold greater than 100.\n",
        "\n",
        "```\n",
        "data = {'Product': ['Laptop', 'Phone', 'Tablet', 'Monitor'],\n",
        "        'Quantity Sold': [100, 200, 150, 50],\n",
        "        'Price': [800, 500, 300, 200]}\n",
        "\n",
        "df_products = pd.DataFrame(data)\n",
        "```"
      ],
      "metadata": {
        "id": "jTdCO2JKp7PF"
      }
    },
    {
      "cell_type": "code",
      "source": [
        "data = {'Product': ['Laptop', 'Phone', 'Tablet', 'Monitor'],\n",
        "        'Quantity Sold': [100, 200, 150, 50],\n",
        "        'Price': [800, 500, 300, 200]}\n",
        "\n",
        "df_products = pd.DataFrame(data)\n",
        "\n",
        "# Filter the DataFrame to include products meeting multiple conditions\n",
        "df_filtered = df_products[(df_products['Price'] > 300) & (df_products['Quantity Sold'] > 100)]\n",
        "\n",
        "print(df_filtered)\n"
      ],
      "metadata": {
        "colab": {
          "base_uri": "https://localhost:8080/"
        },
        "id": "WJ6oc0wPqA4D",
        "outputId": "324d453e-95ba-43ee-a38a-2d635f775a8e"
      },
      "execution_count": null,
      "outputs": [
        {
          "output_type": "stream",
          "name": "stdout",
          "text": [
            "  Product  Quantity Sold  Price\n",
            "1   Phone            200    500\n"
          ]
        }
      ]
    },
    {
      "cell_type": "markdown",
      "source": [
        "# Q9\n",
        "\n",
        "You have a DataFrame (`df_products`) containing product information, and you want to filter and create a new DataFrame that includes only the products that are either 'Laptop' or 'Tablet.'\n",
        "\n",
        "```\n",
        "data = {'Product': ['Laptop', 'Phone', 'Tablet', 'Monitor'],\n",
        "        'Quantity Sold': [100, 200, 150, 50],\n",
        "        'Price': [800, 500, 300, 200]}\n",
        "\n",
        "df_products = pd.DataFrame(data)\n",
        "```"
      ],
      "metadata": {
        "id": "wGbJZXnKqiEi"
      }
    },
    {
      "cell_type": "code",
      "source": [
        "data = {'Product': ['Laptop', 'Phone', 'Tablet', 'Monitor'],\n",
        "        'Quantity Sold': [100, 200, 150, 50],\n",
        "        'Price': [800, 500, 300, 200]}\n",
        "\n",
        "df_products = pd.DataFrame(data)\n",
        "\n",
        "# Filter rows where the 'Product' column is 'Laptop' or 'Tablet'\n",
        "filtered_products = df_products[df_products['Product'].isin(['Laptop', 'Tablet'])]\n",
        "\n",
        "print(filtered_products)\n"
      ],
      "metadata": {
        "colab": {
          "base_uri": "https://localhost:8080/"
        },
        "id": "MwUBTJYsqnyH",
        "outputId": "a1cf348b-7ba6-412b-d3d4-46d168aa31a9"
      },
      "execution_count": null,
      "outputs": [
        {
          "output_type": "stream",
          "name": "stdout",
          "text": [
            "  Product  Quantity Sold  Price\n",
            "0  Laptop            100    800\n",
            "2  Tablet            150    300\n"
          ]
        }
      ]
    },
    {
      "cell_type": "markdown",
      "source": [
        "# Q10\n",
        "\n",
        "You have a DataFrame (`df_products`) containing product information with columns 'Product_Name', 'Category', 'Price_USD', 'In_Stock', and 'Supplier'. Use the filter method with like to create a new DataFrame containing only columns containing 'Price' in their names ('Price_USD').\n",
        "\n",
        "```\n",
        "data = {'Product_Name': ['Laptop', 'Phone', 'Tablet', 'Monitor'],\n",
        "        'Category': ['Electronics', 'Electronics', 'Electronics', 'Electronics'],\n",
        "        'Price_USD': [800, 500, 300, 200],\n",
        "        'In_Stock': [True, True, False, True],\n",
        "        'Supplier': ['Supplier1', 'Supplier2', 'Supplier3', 'Supplier4']}\n",
        "\n",
        "df_products = pd.DataFrame(data)\n",
        "```"
      ],
      "metadata": {
        "id": "RiB-MvqCrRd8"
      }
    },
    {
      "cell_type": "code",
      "source": [
        "data = {'Product_Name': ['Laptop', 'Phone', 'Tablet', 'Monitor'],\n",
        "        'Category': ['Electronics', 'Electronics', 'Electronics', 'Electronics'],\n",
        "        'Price_USD': [800, 500, 300, 200],\n",
        "        'In_Stock': [True, True, False, True],\n",
        "        'Supplier': ['Supplier1', 'Supplier2', 'Supplier3', 'Supplier4']}\n",
        "\n",
        "df_products = pd.DataFrame(data)\n",
        "\n",
        "# Use the 'filter' method with 'like' to select columns\n",
        "selected_columns = df_products.filter(like='Price')\n",
        "\n",
        "print(selected_columns)\n"
      ],
      "metadata": {
        "colab": {
          "base_uri": "https://localhost:8080/"
        },
        "id": "GkoM5T3JrQnt",
        "outputId": "65ad0fa4-399d-4b71-b408-23707b65feb5"
      },
      "execution_count": null,
      "outputs": [
        {
          "output_type": "stream",
          "name": "stdout",
          "text": [
            "   Price_USD\n",
            "0        800\n",
            "1        500\n",
            "2        300\n",
            "3        200\n"
          ]
        }
      ]
    },
    {
      "cell_type": "markdown",
      "source": [
        "# Q11\n",
        "\n",
        "You have a DataFrame (`df_sales`) containing sales data with columns 'Date', 'Product', and 'Revenue.' Sort the DataFrame first by 'Product' in ascending order and then by 'Revenue' in descending order within each product group.\n",
        "\n",
        "```\n",
        "data = {'Date': ['2023-01-15', '2023-01-16', '2023-01-17', '2023-01-18'],\n",
        "        'Product': ['Laptop', 'Phone', 'Tablet', 'Laptop'],\n",
        "        'Revenue': [1200, 800, 450, 1000]}\n",
        "\n",
        "df_sales = pd.DataFrame(data)\n",
        "```\n",
        "\n"
      ],
      "metadata": {
        "id": "QSIe_-RctHm4"
      }
    },
    {
      "cell_type": "code",
      "source": [
        "data = {'Date': ['2023-01-15', '2023-01-16', '2023-01-17', '2023-01-18'],\n",
        "        'Product': ['Laptop', 'Phone', 'Tablet', 'Laptop'],\n",
        "        'Revenue': [1200, 800, 450, 1000]}\n",
        "\n",
        "df_sales = pd.DataFrame(data)\n",
        "\n",
        "# Sort the DataFrame by 'Product' in ascending order, then by 'Revenue' in descending order\n",
        "sorted_sales = df_sales.sort_values(by=['Product', 'Revenue'], ascending=[True, False])\n",
        "\n",
        "print(sorted_sales)\n"
      ],
      "metadata": {
        "colab": {
          "base_uri": "https://localhost:8080/"
        },
        "id": "iUeTziBotNxP",
        "outputId": "15e27e0e-6a44-45c1-8862-37ba7b8b5195"
      },
      "execution_count": null,
      "outputs": [
        {
          "output_type": "stream",
          "name": "stdout",
          "text": [
            "         Date Product  Revenue\n",
            "0  2023-01-15  Laptop     1200\n",
            "3  2023-01-18  Laptop     1000\n",
            "1  2023-01-16   Phone      800\n",
            "2  2023-01-17  Tablet      450\n"
          ]
        }
      ]
    },
    {
      "cell_type": "markdown",
      "source": [
        "# Q12\n",
        "\n",
        "You have a DataFrame (`df_cities`) with a custom index and columns 'City' and 'Population.' Sort the DataFrame by the index in ascending order to get the data sorted by city names.\n",
        "\n",
        "```\n",
        "data = {'City': ['New York', 'Los Angeles', 'Chicago'],\n",
        "        'Population': [8398748, 3990456, 2705994]}\n",
        "\n",
        "index = ['NY', 'CA', 'IL']\n",
        "\n",
        "df_cities = pd.DataFrame(data, index=index)\n",
        "```"
      ],
      "metadata": {
        "id": "_yA025e5tvbg"
      }
    },
    {
      "cell_type": "code",
      "source": [
        "data = {'City': ['New York', 'Los Angeles', 'Chicago'],\n",
        "        'Population': [8398748, 3990456, 2705994]}\n",
        "\n",
        "index = ['NY', 'CA', 'IL']\n",
        "\n",
        "df_cities = pd.DataFrame(data, index=index)\n",
        "\n",
        "# Sort the DataFrame by index in ascending order\n",
        "sorted_cities = df_cities.sort_index()\n",
        "\n",
        "print(sorted_cities)\n"
      ],
      "metadata": {
        "colab": {
          "base_uri": "https://localhost:8080/"
        },
        "id": "F-tSmqm5t0uD",
        "outputId": "a37fbefd-1c02-4f7a-a71e-fb1cc952929a"
      },
      "execution_count": null,
      "outputs": [
        {
          "output_type": "stream",
          "name": "stdout",
          "text": [
            "           City  Population\n",
            "CA  Los Angeles     3990456\n",
            "IL      Chicago     2705994\n",
            "NY     New York     8398748\n"
          ]
        }
      ]
    },
    {
      "cell_type": "markdown",
      "source": [
        "# Q13\n",
        "\n",
        "You have a DataFrame (`df_sales`) containing sales data with columns 'OrderID', 'Product', and 'Quantity.' Find and display the duplicated rows in the DataFrame based on all columns.\n",
        "\n",
        "```\n",
        "data = {'OrderID': [101, 102, 101, 103, 102],\n",
        "        'Product': ['Laptop', 'Phone', 'Laptop', 'Tablet', 'Phone'],\n",
        "        'Quantity': [2, 3, 2, 1, 4]}\n",
        "\n",
        "df_sales = pd.DataFrame(data)\n",
        "```"
      ],
      "metadata": {
        "id": "g_JfDZIA5R5w"
      }
    },
    {
      "cell_type": "code",
      "source": [
        "data = {'OrderID': [101, 102, 101, 103, 102],\n",
        "        'Product': ['Laptop', 'Phone', 'Laptop', 'Tablet', 'Phone'],\n",
        "        'Quantity': [2, 3, 2, 1, 4]}\n",
        "\n",
        "df_sales = pd.DataFrame(data)\n",
        "\n",
        "# Find and display duplicated rows based on all columns\n",
        "duplicates = df_sales[df_sales.duplicated()]\n",
        "print(duplicates)\n"
      ],
      "metadata": {
        "colab": {
          "base_uri": "https://localhost:8080/"
        },
        "id": "YoFRUoFe5WDy",
        "outputId": "580f9690-854a-4242-ce8f-d1b94f6ab7bf"
      },
      "execution_count": null,
      "outputs": [
        {
          "output_type": "stream",
          "name": "stdout",
          "text": [
            "   OrderID Product  Quantity\n",
            "2      101  Laptop         2\n"
          ]
        }
      ]
    },
    {
      "cell_type": "markdown",
      "source": [
        "# Q14\n",
        "\n",
        "You have a DataFrame (`df_employees`) with employee information containing columns 'EmployeeID', 'Name', and 'Email.' Find and display the duplicated rows based on the 'Email' column only.\n",
        "\n",
        "```\n",
        "data = {'EmployeeID': [101, 102, 103, 104],\n",
        "        'Name': ['Alice', 'Bob', 'Charlie', 'David'],\n",
        "        'Email': ['alice@example.com', 'bob@example.com', 'alice@example.com', 'david@example.com']}\n",
        "\n",
        "df_employees = pd.DataFrame(data)\n",
        "```"
      ],
      "metadata": {
        "id": "1Qon72YC535Q"
      }
    },
    {
      "cell_type": "code",
      "source": [
        "data = {'EmployeeID': [101, 102, 103, 104],\n",
        "        'Name': ['Alice', 'Bob', 'Charlie', 'David'],\n",
        "        'Email': ['alice@example.com', 'bob@example.com', 'alice@example.com', 'david@example.com']}\n",
        "\n",
        "df_employees = pd.DataFrame(data)\n",
        "\n",
        "# Find and display duplicated rows based on the 'Email' column\n",
        "duplicates = df_employees[df_employees.duplicated(subset='Email')]\n",
        "print(duplicates)\n"
      ],
      "metadata": {
        "colab": {
          "base_uri": "https://localhost:8080/"
        },
        "id": "Z-Dvt8Es58M0",
        "outputId": "f13caebc-db42-4300-c265-a7295be617ea"
      },
      "execution_count": null,
      "outputs": [
        {
          "output_type": "stream",
          "name": "stdout",
          "text": [
            "   EmployeeID     Name              Email\n",
            "2         103  Charlie  alice@example.com\n"
          ]
        }
      ]
    },
    {
      "cell_type": "markdown",
      "source": [
        "# Q15\n",
        "\n",
        "You have a DataFrame (`df_products`) containing product information with columns 'ProductID', 'Name', and 'Category.' Drop all duplicated rows in the DataFrame, keeping the first occurrence.\n",
        "\n",
        "```\n",
        "data = {'ProductID': [101, 102, 101, 103, 102],\n",
        "        'Name': ['Laptop', 'Phone', 'Laptop', 'Tablet', 'Phone'],\n",
        "        'Category': ['Electronics', 'Electronics', 'Electronics', 'Electronics', 'Electronics']}\n",
        "\n",
        "df_products = pd.DataFrame(data)\n",
        "```"
      ],
      "metadata": {
        "id": "E9IWPlxt6Vgs"
      }
    },
    {
      "cell_type": "code",
      "source": [
        "data = {'ProductID': [101, 102, 101, 103, 102],\n",
        "        'Name': ['Laptop', 'Phone', 'Laptop', 'Tablet', 'Phone'],\n",
        "        'Category': ['Electronics', 'Electronics', 'Electronics', 'Electronics', 'Electronics']}\n",
        "\n",
        "df_products = pd.DataFrame(data)\n",
        "\n",
        "# Drop all duplicated rows, keeping the first occurrence\n",
        "df_products = df_products.drop_duplicates(keep='first')\n",
        "\n",
        "print(df_products)\n"
      ],
      "metadata": {
        "colab": {
          "base_uri": "https://localhost:8080/"
        },
        "id": "2TWxFSnV6ZU0",
        "outputId": "4e766f40-96a6-4ce4-ce4b-65efa0c5a543"
      },
      "execution_count": null,
      "outputs": [
        {
          "output_type": "stream",
          "name": "stdout",
          "text": [
            "   ProductID    Name     Category\n",
            "0        101  Laptop  Electronics\n",
            "1        102   Phone  Electronics\n",
            "3        103  Tablet  Electronics\n"
          ]
        }
      ]
    },
    {
      "cell_type": "markdown",
      "source": [
        "# Q16\n",
        "\n",
        "You have a DataFrame (`df_employees`) containing employee information with columns 'EmployeeID', 'Name', 'Salary', and 'Department.' Find and display the rows that contain missing values.\n",
        "\n",
        "```\n",
        "data = {'EmployeeID': [101, 102, 103, 104],\n",
        "        'Name': ['Alice', 'Bob', 'Charlie', 'David'],\n",
        "        'Salary': [50000, None, 75000, 70000],\n",
        "        'Department': ['HR', 'Finance', None, 'IT']}\n",
        "\n",
        "df_employees = pd.DataFrame(data)\n",
        "```"
      ],
      "metadata": {
        "id": "5ygzh3QoAyCZ"
      }
    },
    {
      "cell_type": "code",
      "source": [
        "data = {'EmployeeID': [101, 102, 103, 104],\n",
        "        'Name': ['Alice', 'Bob', 'Charlie', 'David'],\n",
        "        'Salary': [50000, None, 75000, 70000],\n",
        "        'Department': ['HR', 'Finance', None, 'IT']}\n",
        "\n",
        "df_employees = pd.DataFrame(data)\n",
        "\n",
        "# Find and display rows with missing values\n",
        "missing_values = df_employees[df_employees.isnull().any(axis=1)]\n",
        "print(missing_values)\n"
      ],
      "metadata": {
        "colab": {
          "base_uri": "https://localhost:8080/"
        },
        "id": "_BXkSJRGA3ya",
        "outputId": "5e00e184-dd21-4fc4-db0a-f223598c741b"
      },
      "execution_count": null,
      "outputs": [
        {
          "output_type": "stream",
          "name": "stdout",
          "text": [
            "   EmployeeID     Name   Salary Department\n",
            "1         102      Bob      NaN    Finance\n",
            "2         103  Charlie  75000.0       None\n"
          ]
        }
      ]
    },
    {
      "cell_type": "markdown",
      "source": [
        "# Q17\n",
        "\n",
        "You have a DataFrame (`df_feedback`) containing customer feedback data with columns 'Name', 'Feedback', 'Rating', and 'Comments.' Drop the columns that contain missing values from the DataFrame.\n",
        "\n",
        "```\n",
        "data = {'Name': ['Alice', 'Bob', 'Charlie', 'David'],\n",
        "        'Feedback': ['Positive', None, 'Positive', 'Negative'],\n",
        "        'Rating': [5, 4, None, 2],\n",
        "        'Comments': ['Great service', 'No comments', None, 'Poor experience']}\n",
        "\n",
        "df_feedback = pd.DataFrame(data)\n",
        "```"
      ],
      "metadata": {
        "id": "3ftbwI2jBaMP"
      }
    },
    {
      "cell_type": "code",
      "source": [
        "data = {'Name': ['Alice', 'Bob', 'Charlie', 'David'],\n",
        "        'Feedback': ['Positive', None, 'Positive', 'Negative'],\n",
        "        'Rating': [5, 4, None, 2],\n",
        "        'Comments': ['Great service', 'No comments', None, 'Poor experience']}\n",
        "\n",
        "df_feedback = pd.DataFrame(data)\n",
        "\n",
        "# Drop columns with missing values from the DataFrame\n",
        "df_feedback = df_feedback.dropna(axis=1)\n",
        "\n",
        "print(df_feedback)"
      ],
      "metadata": {
        "colab": {
          "base_uri": "https://localhost:8080/"
        },
        "id": "sN5Yh28nBhXY",
        "outputId": "754e73a1-8ed6-4c9f-88d3-6de37eb7de38"
      },
      "execution_count": null,
      "outputs": [
        {
          "output_type": "stream",
          "name": "stdout",
          "text": [
            "      Name\n",
            "0    Alice\n",
            "1      Bob\n",
            "2  Charlie\n",
            "3    David\n"
          ]
        }
      ]
    },
    {
      "cell_type": "markdown",
      "source": [
        "# Q18\n",
        "\n",
        "You have a DataFrame (`df_sales`) containing sales data with columns 'Quantity Sold' and 'Price.' Calculate the total revenue for each product by multiplying the 'Quantity Sold' by the 'Price' and add it as a new column 'Revenue' to the DataFrame.\n",
        "\n",
        "```\n",
        "data = {'Product': ['Laptop', 'Phone', 'Tablet', 'Monitor'],\n",
        "        'Quantity Sold': [100, 200, 150, 50],\n",
        "        'Price': [800, 500, 300, 200]}\n",
        "\n",
        "df_sales = pd.DataFrame(data)\n",
        "```"
      ],
      "metadata": {
        "id": "K3WauUXw9rMV"
      }
    },
    {
      "cell_type": "code",
      "source": [
        "# Create a DataFrame with sales data\n",
        "data = {'Product': ['Laptop', 'Phone', 'Tablet', 'Monitor'],\n",
        "        'Quantity Sold': [100, 200, 150, 50],\n",
        "        'Price': [800, 500, 300, 200]}\n",
        "\n",
        "df_sales = pd.DataFrame(data)\n",
        "\n",
        "# Calculate 'Revenue' by multiplying 'Quantity Sold' and 'Price'\n",
        "df_sales['Revenue'] = df_sales['Quantity Sold'] * df_sales['Price']\n",
        "\n",
        "print(df_sales)\n"
      ],
      "metadata": {
        "colab": {
          "base_uri": "https://localhost:8080/"
        },
        "id": "s_ocDsgF9wg8",
        "outputId": "2ec0df75-0ff4-4b47-8079-1d39d780ed43"
      },
      "execution_count": null,
      "outputs": [
        {
          "output_type": "stream",
          "name": "stdout",
          "text": [
            "   Product  Quantity Sold  Price  Revenue\n",
            "0   Laptop            100    800    80000\n",
            "1    Phone            200    500   100000\n",
            "2   Tablet            150    300    45000\n",
            "3  Monitor             50    200    10000\n"
          ]
        }
      ]
    },
    {
      "cell_type": "markdown",
      "source": [
        "# Q19\n",
        "\n",
        "You have a DataFrame (`df_products`) with product information containing columns 'Stock' and 'Price.' Filter and create a new DataFrame that includes only the products that are both in stock (Stock > 0) and priced below $400 (Price < 400).\n",
        "\n",
        "```\n",
        "data = {'Product': ['Laptop', 'Phone', 'Tablet', 'Monitor'],\n",
        "        'Stock': [10, 20, 0, 5],\n",
        "        'Price': [800, 500, 300, 200]}\n",
        "\n",
        "df_products = pd.DataFrame(data)\n",
        "```"
      ],
      "metadata": {
        "id": "I3jkzesZ-J1c"
      }
    },
    {
      "cell_type": "code",
      "source": [
        "data = {'Product': ['Laptop', 'Phone', 'Tablet', 'Monitor'],\n",
        "        'Stock': [10, 20, 0, 5],\n",
        "        'Price': [800, 500, 300, 200]}\n",
        "\n",
        "df_products = pd.DataFrame(data)\n",
        "\n",
        "# Filter and create a new DataFrame for in-stock products with price < $400\n",
        "filtered_products = df_products[(df_products['Stock'] > 0) & (df_products['Price'] < 400)]\n",
        "\n",
        "print(filtered_products)\n"
      ],
      "metadata": {
        "colab": {
          "base_uri": "https://localhost:8080/"
        },
        "id": "SrR8mujf-P_w",
        "outputId": "01bf733b-488b-4129-f33b-6b194dc0f54c"
      },
      "execution_count": null,
      "outputs": [
        {
          "output_type": "stream",
          "name": "stdout",
          "text": [
            "   Product  Stock  Price\n",
            "3  Monitor      5    200\n"
          ]
        }
      ]
    },
    {
      "cell_type": "markdown",
      "source": [
        "# Q20\n",
        "\n",
        "You have a DataFrame (`df_sales`) containing sales data with columns 'Product' and 'Revenue.' Calculate the total revenue and average revenue for each product group using the agg() method.\n",
        "\n",
        "```\n",
        "data = {'Product': ['Laptop', 'Phone', 'Tablet', 'Laptop', 'Phone'],\n",
        "        'Revenue': [1200, 800, 450, 1000, 700]}\n",
        "\n",
        "df_sales = pd.DataFrame(data)\n",
        "```\n"
      ],
      "metadata": {
        "id": "J3c7zLkN-wYa"
      }
    },
    {
      "cell_type": "code",
      "source": [
        "data = {'Product': ['Laptop', 'Phone', 'Tablet', 'Laptop', 'Phone'],\n",
        "        'Revenue': [1200, 800, 450, 1000, 700]}\n",
        "\n",
        "df_sales = pd.DataFrame(data)\n",
        "\n",
        "# Calculate total revenue and average revenue for each product group\n",
        "agg_results = df_sales.groupby('Product')['Revenue'].agg(['sum', 'mean'])\n",
        "\n",
        "print(agg_results)\n"
      ],
      "metadata": {
        "colab": {
          "base_uri": "https://localhost:8080/"
        },
        "id": "00eqMrKP-0Py",
        "outputId": "1a2c8158-88c5-479a-fbff-24652d159a37"
      },
      "execution_count": null,
      "outputs": [
        {
          "output_type": "stream",
          "name": "stdout",
          "text": [
            "          sum    mean\n",
            "Product              \n",
            "Laptop   2200  1100.0\n",
            "Phone    1500   750.0\n",
            "Tablet    450   450.0\n"
          ]
        }
      ]
    },
    {
      "cell_type": "markdown",
      "source": [
        "# Q21\n",
        "\n",
        "You have a DataFrame (`df_employees`) containing employee information with columns 'Name' and 'Salary.' Apply a function that increases the salary of each employee by 10% using the apply() method.\n",
        "\n",
        "```\n",
        "data = {'Name': ['Alice', 'Bob', 'Charlie', 'David'],\n",
        "        'Salary': [50000, 60000, 75000, 70000]}\n",
        "\n",
        "df_employees = pd.DataFrame(data)\n",
        "```"
      ],
      "metadata": {
        "id": "ZBhjcSwL_E5H"
      }
    },
    {
      "cell_type": "code",
      "source": [
        "data = {'Name': ['Alice', 'Bob', 'Charlie', 'David'],\n",
        "        'Salary': [50000, 60000, 75000, 70000]}\n",
        "\n",
        "df_employees = pd.DataFrame(data)\n",
        "\n",
        "# Define a function to increase salary by 10%\n",
        "def increase_salary(salary):\n",
        "    return salary * 1.10\n",
        "\n",
        "# Apply the function to increase salary for each employee\n",
        "df_employees['Salary'] = df_employees['Salary'].apply(increase_salary)\n",
        "\n",
        "print(df_employees)"
      ],
      "metadata": {
        "colab": {
          "base_uri": "https://localhost:8080/"
        },
        "id": "mTmbrKPi_LWc",
        "outputId": "7bfa0398-34d6-4779-f972-a0c60613e69c"
      },
      "execution_count": null,
      "outputs": [
        {
          "output_type": "stream",
          "name": "stdout",
          "text": [
            "      Name   Salary\n",
            "0    Alice  55000.0\n",
            "1      Bob  66000.0\n",
            "2  Charlie  82500.0\n",
            "3    David  77000.0\n"
          ]
        }
      ]
    },
    {
      "cell_type": "markdown",
      "source": [
        "# Q22\n",
        "\n",
        "You have a DataFrame (`df_feedback`) containing customer feedback data with columns 'Feedback' and 'Rating.' Apply a function that converts the text in the 'Feedback' column to uppercase and doubles the 'Rating' using the applymap() method.\n",
        "\n",
        "```\n",
        "data = {'Feedback': ['Positive', 'Neutral', 'Negative'],\n",
        "        'Rating': [5, 4, 2]}\n",
        "\n",
        "df_feedback = pd.DataFrame(data)\n",
        "```"
      ],
      "metadata": {
        "id": "xqFOVM0D_vpW"
      }
    },
    {
      "cell_type": "code",
      "source": [
        "data = {'Feedback': ['Positive', 'Neutral', 'Negative'],\n",
        "        'Rating': [5, 4, 2]}\n",
        "\n",
        "df_feedback = pd.DataFrame(data)\n",
        "\n",
        "# Define a function to convert text to uppercase and double the rating\n",
        "def process_feedback(cell):\n",
        "    if isinstance(cell, str):\n",
        "        return cell.upper()\n",
        "    elif isinstance(cell, int):\n",
        "        return cell * 2\n",
        "    else:\n",
        "        return cell\n",
        "\n",
        "# Apply the function using applymap() to both columns\n",
        "df_feedback = df_feedback.applymap(process_feedback)\n",
        "\n",
        "print(df_feedback)"
      ],
      "metadata": {
        "colab": {
          "base_uri": "https://localhost:8080/"
        },
        "id": "qFsXUSI1_zWo",
        "outputId": "14b9d2bf-a97b-468f-9c02-1fb284d8662a"
      },
      "execution_count": null,
      "outputs": [
        {
          "output_type": "stream",
          "name": "stdout",
          "text": [
            "   Feedback  Rating\n",
            "0  POSITIVE      10\n",
            "1   NEUTRAL       8\n",
            "2  NEGATIVE       4\n"
          ]
        }
      ]
    },
    {
      "cell_type": "markdown",
      "source": [
        "# Q23\n",
        "\n",
        "You have a DataFrame (`df_sales`) containing sales data with columns 'Product' and 'Revenue.' Group the data by 'Product' and calculate the total revenue for each product group.\n",
        "\n",
        "```\n",
        "data = {'Product': ['Laptop', 'Phone', 'Tablet', 'Laptop', 'Phone'],\n",
        "        'Revenue': [1200, 800, 450, 1000, 700]}\n",
        "\n",
        "df_sales = pd.DataFrame(data)\n",
        "```"
      ],
      "metadata": {
        "id": "QssUcQnGLFGm"
      }
    },
    {
      "cell_type": "code",
      "source": [
        "data = {'Product': ['Laptop', 'Phone', 'Tablet', 'Laptop', 'Phone'],\n",
        "        'Revenue': [1200, 800, 450, 1000, 700]}\n",
        "\n",
        "df_sales = pd.DataFrame(data)\n",
        "\n",
        "# Group the data by 'Product' and calculate total revenue\n",
        "grouped_sales = df_sales.groupby('Product')['Revenue'].sum().reset_index()\n",
        "\n",
        "print(grouped_sales)\n"
      ],
      "metadata": {
        "colab": {
          "base_uri": "https://localhost:8080/"
        },
        "id": "SyFDLmGXLK4Z",
        "outputId": "a6060e79-d1d8-4abb-bb9c-aa198dd9a414"
      },
      "execution_count": null,
      "outputs": [
        {
          "output_type": "stream",
          "name": "stdout",
          "text": [
            "  Product  Revenue\n",
            "0  Laptop     2200\n",
            "1   Phone     1500\n",
            "2  Tablet      450\n"
          ]
        }
      ]
    },
    {
      "cell_type": "markdown",
      "source": [
        "# Q24\n",
        "\n",
        "You have a DataFrame (`df_feedback`) containing customer feedback data with columns 'Feedback' and 'Rating.' Group the data by 'Feedback' and count the number of occurrences of each feedback type.\n",
        "\n",
        "```\n",
        "data = {'Feedback': ['Positive', 'Neutral', 'Negative', 'Positive', 'Negative'],\n",
        "        'Rating': [5, 4, 2, 5, 1]}\n",
        "\n",
        "df_feedback = pd.DataFrame(data)\n",
        "```"
      ],
      "metadata": {
        "id": "vul2hZBwLWnW"
      }
    },
    {
      "cell_type": "code",
      "source": [
        "data = {'Feedback': ['Positive', 'Neutral', 'Negative', 'Positive', 'Negative'],\n",
        "        'Rating': [5, 4, 2, 5, 1]}\n",
        "\n",
        "df_feedback = pd.DataFrame(data)\n",
        "\n",
        "# Group the data by 'Feedback' and count occurrences\n",
        "feedback_counts = df_feedback.groupby('Feedback').size().reset_index(name='Count')\n",
        "\n",
        "print(feedback_counts)"
      ],
      "metadata": {
        "colab": {
          "base_uri": "https://localhost:8080/"
        },
        "id": "oVsTvxnvLhC1",
        "outputId": "df01458f-816e-43f8-998b-db0c098b4b59"
      },
      "execution_count": null,
      "outputs": [
        {
          "output_type": "stream",
          "name": "stdout",
          "text": [
            "   Feedback  Count\n",
            "0  Negative      2\n",
            "1   Neutral      1\n",
            "2  Positive      2\n"
          ]
        }
      ]
    },
    {
      "cell_type": "markdown",
      "source": [
        "# Q25\n",
        "\n",
        "You have a DataFrame (`df_sales`) containing sales data with columns 'Product', 'Category', and 'Revenue.' Group the data by both 'Product' and 'Category' and calculate the total revenue for each product-category combination.\n",
        "\n",
        "```\n",
        "data = {'Product': ['Laptop', 'Phone', 'Tablet', 'Laptop', 'Phone'],\n",
        "        'Category': ['Electronics', 'Electronics', 'Electronics', 'Electronics', 'Electronics'],\n",
        "        'Revenue': [1200, 800, 450, 1000, 700]}\n",
        "\n",
        "df_sales = pd.DataFrame(data)\n",
        "```"
      ],
      "metadata": {
        "id": "DBQcsOatMqZZ"
      }
    },
    {
      "cell_type": "code",
      "source": [
        "data = {'Product': ['Laptop', 'Phone', 'Tablet', 'Laptop', 'Phone'],\n",
        "        'Category': ['Electronics', 'Electronics', 'Electronics', 'Electronics', 'Electronics'],\n",
        "        'Revenue': [1200, 800, 450, 1000, 700]}\n",
        "\n",
        "df_sales = pd.DataFrame(data)\n",
        "\n",
        "# Group the data by both 'Product' and 'Category' and calculate total revenue\n",
        "grouped_sales = df_sales.groupby(['Product', 'Category'])['Revenue'].sum().reset_index()\n",
        "\n",
        "print(grouped_sales)"
      ],
      "metadata": {
        "colab": {
          "base_uri": "https://localhost:8080/"
        },
        "id": "iPgZeq61MvTA",
        "outputId": "0e340934-6bf0-4985-bb86-4ebab6b4e059"
      },
      "execution_count": null,
      "outputs": [
        {
          "output_type": "stream",
          "name": "stdout",
          "text": [
            "  Product     Category  Revenue\n",
            "0  Laptop  Electronics     2200\n",
            "1   Phone  Electronics     1500\n",
            "2  Tablet  Electronics      450\n"
          ]
        }
      ]
    },
    {
      "cell_type": "markdown",
      "source": [
        "# Q26\n",
        "\n",
        "You have two DataFrames, `df1` and `df2`, both containing student information with columns 'Name' and 'Age.' Concatenate the two DataFrames vertically to create a single DataFrame containing all student records.\n",
        "\n",
        "```\n",
        "data1 = {'Name': ['Alice', 'Bob'],\n",
        "         'Age': [20, 22]}\n",
        "data2 = {'Name': ['Charlie', 'David'],\n",
        "         'Age': [21, 23]}\n",
        "\n",
        "df1 = pd.DataFrame(data1)\n",
        "df2 = pd.DataFrame(data2)\n",
        "```"
      ],
      "metadata": {
        "id": "S6eDI25YFoiQ"
      }
    },
    {
      "cell_type": "code",
      "source": [
        "data1 = {'Name': ['Alice', 'Bob'],\n",
        "         'Age': [20, 22]}\n",
        "data2 = {'Name': ['Charlie', 'David'],\n",
        "         'Age': [21, 23]}\n",
        "\n",
        "df1 = pd.DataFrame(data1)\n",
        "df2 = pd.DataFrame(data2)\n",
        "\n",
        "# Concatenate the two DataFrames vertically\n",
        "result_df = pd.concat([df1, df2], axis=0, ignore_index = True)\n",
        "\n",
        "print(result_df)"
      ],
      "metadata": {
        "colab": {
          "base_uri": "https://localhost:8080/"
        },
        "id": "6-2kBs9UFvU_",
        "outputId": "772ad31b-7a8f-465a-879d-fe177c37b937"
      },
      "execution_count": null,
      "outputs": [
        {
          "output_type": "stream",
          "name": "stdout",
          "text": [
            "      Name  Age\n",
            "0    Alice   20\n",
            "1      Bob   22\n",
            "2  Charlie   21\n",
            "3    David   23\n"
          ]
        }
      ]
    },
    {
      "cell_type": "markdown",
      "source": [
        "# Q27\n",
        "\n",
        "You have two DataFrames, `df1` and `df2`, with columns 'ProductID' and 'Category.' Perform a left join on 'ProductID' to combine the information, keeping all rows from df1.\n",
        "\n",
        "```\n",
        "data1 = {'ProductID': [101, 102, 103],\n",
        "         'Category': ['Electronics', 'Clothing', 'Electronics']}\n",
        "data2 = {'ProductID': [102, 103, 104],\n",
        "         'Category': ['Clothing', 'Electronics', 'Furniture']}\n",
        "\n",
        "df1 = pd.DataFrame(data1)\n",
        "df2 = pd.DataFrame(data2)\n",
        "```"
      ],
      "metadata": {
        "id": "7shew1n5F7ID"
      }
    },
    {
      "cell_type": "code",
      "source": [
        "data1 = {'ProductID': [101, 102, 103],\n",
        "         'Category': ['Electronics', 'Clothing', 'Electronics']}\n",
        "data2 = {'ProductID': [102, 103, 104],\n",
        "         'Category': ['Clothing', 'Electronics', 'Furniture']}\n",
        "\n",
        "df1 = pd.DataFrame(data1)\n",
        "df2 = pd.DataFrame(data2)\n",
        "\n",
        "# Perform a left join on 'ProductID'\n",
        "result_df = pd.merge(df1, df2, on='ProductID', how='left')\n",
        "\n",
        "print(result_df)\n"
      ],
      "metadata": {
        "colab": {
          "base_uri": "https://localhost:8080/"
        },
        "id": "Wb6FbPlCGLbH",
        "outputId": "012b8c13-a726-4f59-930d-f45829990016"
      },
      "execution_count": null,
      "outputs": [
        {
          "output_type": "stream",
          "name": "stdout",
          "text": [
            "   ProductID   Category_x   Category_y\n",
            "0        101  Electronics          NaN\n",
            "1        102     Clothing     Clothing\n",
            "2        103  Electronics  Electronics\n"
          ]
        }
      ]
    }
  ]
}