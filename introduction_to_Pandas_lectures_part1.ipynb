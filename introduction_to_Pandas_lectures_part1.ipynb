{
  "nbformat": 4,
  "nbformat_minor": 0,
  "metadata": {
    "colab": {
      "provenance": [],
      "toc_visible": true,
      "authorship_tag": "ABX9TyPwnUeH54cgpSyUrJJ2hF9U",
      "include_colab_link": true
    },
    "kernelspec": {
      "name": "python3",
      "display_name": "Python 3"
    },
    "language_info": {
      "name": "python"
    }
  },
  "cells": [
    {
      "cell_type": "markdown",
      "metadata": {
        "id": "view-in-github",
        "colab_type": "text"
      },
      "source": [
        "<a href=\"https://colab.research.google.com/github/statrliu/data_bootcamp_part1/blob/main/introduction_to_Pandas_lectures_part1.ipynb\" target=\"_parent\"><img src=\"https://colab.research.google.com/assets/colab-badge.svg\" alt=\"Open In Colab\"/></a>"
      ]
    },
    {
      "cell_type": "markdown",
      "source": [
        "# **Pandas**\n",
        "\n",
        "Pandas is an open-source data analysis and manipulation library for the Python programming language.\n",
        "\n",
        "* Pandas is an \"in-memory\" (data must be loaded in memory first) data analysis tool.\n",
        "* Pandas provides a variety of functions and methods for data manipulation, including indexing, merging, grouping, filtering, and reshaping data.\n",
        "\n",
        "* It can handle missing data, time-series data, and text data, and provides support for data aggregation and statistical analysis.\n",
        "\n",
        "Pandas is widely used in data analysis, finance, social sciences, and many other fields, and has become an essential tool for data professionals and researchers using Python.\n",
        "\n",
        "\n"
      ],
      "metadata": {
        "id": "gGuCruyAun6J"
      }
    },
    {
      "cell_type": "markdown",
      "source": [
        "Some of the key features of Pandas include:\n",
        "\n",
        "* DataFrame: A two-dimensional table-like data structure, similar to a spreadsheet or SQL table.\n",
        "* Series: A one-dimensional labeled array that can hold data of any type, including integers, floats, strings, and objects.\n",
        "* Data cleaning: Provides functions for handling missing data, dropping duplicates, and filtering data.\n",
        "* Data aggregation: Supports grouping, pivoting, and reshaping data for aggregation and analysis.\n",
        "* Data input/output: Ability to read and write data in a variety of formats, including CSV, Excel, SQL databases, and JSON.\n",
        "* Data visualization: Provides support for data visualization through integration with Matplotlib.\n",
        "\n"
      ],
      "metadata": {
        "id": "uupugrTnzUXH"
      }
    },
    {
      "cell_type": "code",
      "source": [
        "import pandas as pd\n",
        "pd.__version__"
      ],
      "metadata": {
        "id": "HH9WulUYO7sy"
      },
      "execution_count": null,
      "outputs": []
    },
    {
      "cell_type": "markdown",
      "source": [
        "# **Series**\n",
        "\n",
        "A Pandas Series is a one-dimensional labeled array that can hold data of any type, including integers, floats, strings, and objects.\n",
        "\n",
        "It is similar to a column in a spreadsheet or a column in a SQL table.\n",
        "\n",
        "Each element in a Series is assigned a **label** or **index** that can be used to access the value of that element.\n",
        "\n",
        "Besides index label, we can also use positions (starting from 0) to select elements in an series."
      ],
      "metadata": {
        "id": "tGgyV47JuyPE"
      }
    },
    {
      "cell_type": "markdown",
      "source": [
        "## *Creating Series*\n"
      ],
      "metadata": {
        "id": "ZR_ryrtPu9Km"
      }
    },
    {
      "cell_type": "markdown",
      "source": [
        "### **Using Python List/Tuple**\n"
      ],
      "metadata": {
        "id": "ZEZXfwDy69_j"
      }
    },
    {
      "cell_type": "code",
      "source": [
        "import pandas as pd\n",
        "\n",
        "ages = pd.Series([22, 35, 58], name = \"Age\")\n",
        "print(ages)"
      ],
      "metadata": {
        "id": "OGPvMIg_7CAc"
      },
      "execution_count": null,
      "outputs": []
    },
    {
      "cell_type": "code",
      "source": [
        "data = [1, 3, 5, 7, 9]\n",
        "index = ['a', 'b', 'c', 'd', 'e']\n",
        "s = pd.Series(data, index=index)\n",
        "print(s)"
      ],
      "metadata": {
        "id": "mkJPtAom0Wpf"
      },
      "execution_count": null,
      "outputs": []
    },
    {
      "cell_type": "markdown",
      "source": [
        "Question:\n",
        "Will the following statements genereate an error?\n",
        "```\n",
        "data = (1, 3, 5, 7)\n",
        "index = (\"a\", \"b\", \"a\", \"b\")\n",
        "print(pd.Series(data, index = index))\n",
        "```"
      ],
      "metadata": {
        "id": "wTtl4SVXKiNB"
      }
    },
    {
      "cell_type": "code",
      "source": [],
      "metadata": {
        "id": "BwQhyqKwLON9"
      },
      "execution_count": null,
      "outputs": []
    },
    {
      "cell_type": "markdown",
      "source": [
        "### **Using Python Dictionary**\n"
      ],
      "metadata": {
        "id": "Egp7OazA7G02"
      }
    },
    {
      "cell_type": "code",
      "source": [
        "py_dict = {\"a\":1, \"b\":2, \"c\":3}\n",
        "se_dict = pd.Series(py_dict)\n",
        "print(se_dict)"
      ],
      "metadata": {
        "id": "mcTm6ZPQ7HuO"
      },
      "execution_count": null,
      "outputs": []
    },
    {
      "cell_type": "markdown",
      "source": [
        "### **Using Numpy 1-d Array**"
      ],
      "metadata": {
        "id": "E13KB-7SvQwy"
      }
    },
    {
      "cell_type": "code",
      "source": [
        "import numpy as np\n",
        "np_arr = np.array([3,7,10])\n",
        "obj_np = pd.Series(np_arr)\n",
        "print(obj_np)"
      ],
      "metadata": {
        "id": "-VkpWh2Mnprx"
      },
      "execution_count": null,
      "outputs": []
    },
    {
      "cell_type": "markdown",
      "source": [
        "### **`Series` can store mixed types of data.**\n",
        "This is not recommented in Pandas. It'll make the Series object slow."
      ],
      "metadata": {
        "id": "qxZkH5E010Bo"
      }
    },
    {
      "cell_type": "code",
      "source": [
        "mixed_s = pd.Series([23, \"a\", 45.6, (1,2,3), {\"a\": 10, \"b\": \"book\"}])\n",
        "mixed_s"
      ],
      "metadata": {
        "id": "BoXw1jDH13R6"
      },
      "execution_count": null,
      "outputs": []
    },
    {
      "cell_type": "markdown",
      "source": [
        "## *Investigating Basic Series Attributes*\n",
        "Series objects have a number of built-in attributes that provide information about the Series, such as its `size`, `shape`, and `dtype`\n",
        "\n",
        "\n"
      ],
      "metadata": {
        "id": "WlFhfEr-wGc9"
      }
    },
    {
      "cell_type": "code",
      "source": [
        "se_num = pd.Series([2,5,10,24], index = [\"a\", \"b\", \"c\", \"d\"], name = \"numbers\")\n",
        "print(se_num)"
      ],
      "metadata": {
        "id": "qeWMODghMdwL"
      },
      "execution_count": null,
      "outputs": []
    },
    {
      "cell_type": "markdown",
      "source": [
        "### **Size and Shape**"
      ],
      "metadata": {
        "id": "J4MxYQ4B38Rt"
      }
    },
    {
      "cell_type": "code",
      "source": [
        "print(se_num.size)\n",
        "print(se_num.shape)"
      ],
      "metadata": {
        "id": "3A_WqdrQLRmz"
      },
      "execution_count": null,
      "outputs": []
    },
    {
      "cell_type": "markdown",
      "source": [
        "### **Dtype**\n",
        "\n",
        "https://pandas.pydata.org/pandas-docs/version/1.5/user_guide/basics.html"
      ],
      "metadata": {
        "id": "VDaX94CTLSOS"
      }
    },
    {
      "cell_type": "code",
      "source": [
        "print(se_num.dtype)"
      ],
      "metadata": {
        "id": "RCbg_1LXNteI"
      },
      "execution_count": null,
      "outputs": []
    },
    {
      "cell_type": "markdown",
      "source": [
        "### **Index**"
      ],
      "metadata": {
        "id": "iu5hqLAYL2Z_"
      }
    },
    {
      "cell_type": "code",
      "source": [
        "print(se_num.index)"
      ],
      "metadata": {
        "id": "1DduKijZN2ON"
      },
      "execution_count": null,
      "outputs": []
    },
    {
      "cell_type": "markdown",
      "source": [
        "### **Array**"
      ],
      "metadata": {
        "id": "Zb12DGnTLhp9"
      }
    },
    {
      "cell_type": "code",
      "source": [
        "print(se_num.array)"
      ],
      "metadata": {
        "id": "Ww1pkwyjT8cv"
      },
      "execution_count": null,
      "outputs": []
    },
    {
      "cell_type": "markdown",
      "source": [
        "Question:\n",
        "How to convert `se_num.array` to a list?"
      ],
      "metadata": {
        "id": "Rjc6qEQ_NONu"
      }
    },
    {
      "cell_type": "code",
      "source": [],
      "metadata": {
        "id": "OZOkXXvG87E5"
      },
      "execution_count": 12,
      "outputs": []
    },
    {
      "cell_type": "markdown",
      "source": [
        "### **Name**"
      ],
      "metadata": {
        "id": "HhDW8lH4LvZH"
      }
    },
    {
      "cell_type": "code",
      "source": [
        "print(se_num.name)"
      ],
      "metadata": {
        "id": "HlJThSKLUAag"
      },
      "execution_count": null,
      "outputs": []
    },
    {
      "cell_type": "markdown",
      "source": [
        "## *Subsetting a Series*\n",
        "\n"
      ],
      "metadata": {
        "id": "sn73b2NvwUfc"
      }
    },
    {
      "cell_type": "markdown",
      "source": [
        "### **Indexing a Series**\n",
        "\n",
        "Like other data structures in pandas, Series objects can be indexed by label or position.\n",
        "\n",
        "**Positional-based indexing (implicit indexing)** is used to retrieve data based on its position.  \n",
        "\n",
        "In Pandas, you can use the `iloc` indexer to access data using positional-based indexing.\n",
        "\n",
        "**Label-based indexing (explicit indexing)**, on the other hand, is used to retrieve data based on labels or names.\n",
        "\n",
        "In Pandas, you can use the `loc` indexer to access data using label-based indexing.\n"
      ],
      "metadata": {
        "id": "QqXiSE7_1GTl"
      }
    },
    {
      "cell_type": "markdown",
      "source": [
        "#### *Indexing with `.iloc[]`*\n"
      ],
      "metadata": {
        "id": "G6txCl2G1fYZ"
      }
    },
    {
      "cell_type": "markdown",
      "source": [
        "##### **Selecting Single Item**\n"
      ],
      "metadata": {
        "id": "wZh3q443UM9z"
      }
    },
    {
      "cell_type": "code",
      "source": [
        "## Selecting a single element based on position:\n",
        "s = pd.Series([10, 20, 30, 40, 50])\n",
        "print(s.iloc[2])"
      ],
      "metadata": {
        "id": "HU_wcreRoRWg"
      },
      "execution_count": null,
      "outputs": []
    },
    {
      "cell_type": "markdown",
      "source": [
        "Question:\n",
        "What is the output of the following statements?\n",
        "```\n",
        "s = pd.Series([10, 20, 30, 40, 50])\n",
        "print(s.iloc(-2))\n",
        "```\n",
        "a. `-2`\n",
        "\n",
        "b. `40`\n",
        "\n",
        "c. `30`\n",
        "\n",
        "d. `20`\n",
        "\n",
        "e. None of the above"
      ],
      "metadata": {
        "id": "z54sdbX4Pbae"
      }
    },
    {
      "cell_type": "code",
      "source": [],
      "metadata": {
        "id": "Ff7o532FPySP"
      },
      "execution_count": 14,
      "outputs": []
    },
    {
      "cell_type": "markdown",
      "source": [
        "##### **Slicing**\n",
        "Using slice object or `:` to get a subset of a Series object."
      ],
      "metadata": {
        "id": "TT-5kq75UZrT"
      }
    },
    {
      "cell_type": "code",
      "source": [
        "s = pd.Series([10, 20, 30, 40, 50])\n",
        "print(s.iloc[1:4:2])"
      ],
      "metadata": {
        "id": "5v7KDFVGqvvC"
      },
      "execution_count": null,
      "outputs": []
    },
    {
      "cell_type": "markdown",
      "source": [
        "##### **Selecting Element(s) using List of Position(s)**\n"
      ],
      "metadata": {
        "id": "WR4g5CvLovWn"
      }
    },
    {
      "cell_type": "code",
      "source": [
        "## Selecting element(s) based on a list of position(s):\n",
        "print(s.iloc[[0, 2, 4]])"
      ],
      "metadata": {
        "id": "4PHkE1r44gbV"
      },
      "execution_count": null,
      "outputs": []
    },
    {
      "cell_type": "markdown",
      "source": [
        "Question:\n",
        "What is the type of the varible `var`?\n",
        "```\n",
        "s = pd.Series([1,2,3,4,5])\n",
        "var = s.iloc[[0]]\n",
        "```\n",
        "a. `int`\n",
        "\n",
        "b. `float`\n",
        "\n",
        "c. `list`\n",
        "\n",
        "d. `Series`"
      ],
      "metadata": {
        "id": "-RsL05Cv4sQd"
      }
    },
    {
      "cell_type": "code",
      "source": [],
      "metadata": {
        "id": "fsv6KUuJpD52"
      },
      "execution_count": 16,
      "outputs": []
    },
    {
      "cell_type": "markdown",
      "source": [
        "##### **Selecting with a Boolean Condition**\n",
        "\n",
        "The boolean mask must have the same length as the Series you are indexing."
      ],
      "metadata": {
        "id": "a-zZicy2UnGj"
      }
    },
    {
      "cell_type": "code",
      "source": [
        "## Selecting elements based on a Boolean list\n",
        "s = pd.Series([10, 20, 30, 40, 50])\n",
        "mask = [True, False, True, False, True]\n",
        "print(s.iloc[mask])"
      ],
      "metadata": {
        "id": "jdCXHt_45mjQ"
      },
      "execution_count": null,
      "outputs": []
    },
    {
      "cell_type": "markdown",
      "source": [
        "#### *Indexing with `.loc[]`*\n"
      ],
      "metadata": {
        "id": "6rov5RBY1vSC"
      }
    },
    {
      "cell_type": "markdown",
      "source": [
        "##### **Selecting Single Item**"
      ],
      "metadata": {
        "id": "sBo8CoVvdA83"
      }
    },
    {
      "cell_type": "code",
      "source": [
        "s = pd.Series([10, 20, 30, 40, 50], index=['a', 'b', 'c', 'd', 'e'])\n",
        "\n",
        "## Selecting a single element based on label\n",
        "print(s.loc['c'])\n",
        "# s.loc['f'] # KeyError: 'f'"
      ],
      "metadata": {
        "id": "TzbcfgtNCNKc"
      },
      "execution_count": null,
      "outputs": []
    },
    {
      "cell_type": "markdown",
      "source": [
        "Question:\n",
        "What is the output of the following statements?\n",
        "```\n",
        "s = pd.Series([10, 20, 30, 40, 50], index=['a', 'b', 'c', 'd', 'e'])\n",
        "\n",
        "print(s.loc['f'])\n",
        "```\n",
        "\n",
        "a. `10`\n",
        "\n",
        "b. `'f'`\n",
        "\n",
        "c. `-1`\n",
        "\n",
        "d. None of the above"
      ],
      "metadata": {
        "id": "yyY-tpcnRan6"
      }
    },
    {
      "cell_type": "code",
      "source": [],
      "metadata": {
        "id": "MBJYfj23R4pj"
      },
      "execution_count": 18,
      "outputs": []
    },
    {
      "cell_type": "markdown",
      "source": [
        "##### **Slicing**\n"
      ],
      "metadata": {
        "id": "c3Qe-zlZdHQS"
      }
    },
    {
      "cell_type": "code",
      "source": [
        "## Selecting a slice of elements based on labels\n",
        "s = pd.Series([10, 20, 30, 40, 50], index=['a', 'b', 'c', 'd', 'e'])\n",
        "print(s.loc['b':'d'])\n",
        "# In label-based slicing, the stop value is inclusive!"
      ],
      "metadata": {
        "id": "gt7dOuo9CWHI"
      },
      "execution_count": null,
      "outputs": []
    },
    {
      "cell_type": "markdown",
      "source": [
        "Question:\n",
        "What is the output of the following statements?\n",
        "```\n",
        "s = pd.Series([10, 20, 30, 40, 50, 60, 70], index=['a', 'b', 'c', 'd', 'e', \"f\", \"d\"])\n",
        "\n",
        "print(list(s.loc['b':'d']))\n",
        "```\n",
        "\n",
        "a. `[20, 30]`\n",
        "\n",
        "b. `[20, 30, 40]`\n",
        "\n",
        "c. `'KeyError'`\n",
        "\n",
        "d. `[20, 30, 40, 50, 60, 70]`"
      ],
      "metadata": {
        "id": "_v7WPpjgSLY3"
      }
    },
    {
      "cell_type": "code",
      "source": [],
      "metadata": {
        "id": "fcmCxk3-4TVd"
      },
      "execution_count": 19,
      "outputs": []
    },
    {
      "cell_type": "markdown",
      "source": [
        "##### **Selecting Element(s) using List of Position(s)**\n"
      ],
      "metadata": {
        "id": "TB1RrVK4CzRc"
      }
    },
    {
      "cell_type": "code",
      "source": [
        "## Selecting elements based on a list of labels\n",
        "s = pd.Series([10, 20, 30, 40, 50], index=['a', 'c', 'b', 'd', 'e'])\n",
        "print(s.loc[['a', 'c', 'e']])"
      ],
      "metadata": {
        "id": "maWai6X1CzRi"
      },
      "execution_count": null,
      "outputs": []
    },
    {
      "cell_type": "markdown",
      "source": [
        "##### **Selecting with a Boolean Condition**"
      ],
      "metadata": {
        "id": "g6cwIMjGdNLs"
      }
    },
    {
      "cell_type": "code",
      "source": [
        "## Selecting elements based on a Boolean Series object\n",
        "## Pandas will match labels first, then select the matched values.\n",
        "s = pd.Series([10, 20, 30, 40, 50], index=['a', 'b', 'c', 'd', 'e'])\n",
        "\n",
        "print(s>30, end = '\\n\\n')\n",
        "print(s.loc[s > 30])"
      ],
      "metadata": {
        "id": "atq3e7UaCpjN"
      },
      "execution_count": null,
      "outputs": []
    },
    {
      "cell_type": "markdown",
      "source": [
        "Question:\n",
        "What is the output of the following statements?\n",
        "\n",
        "```\n",
        "s = pd.Series([10, 20, 30, 40], index=['a', 'b', 'c', 'd'])\n",
        "\n",
        "bool_idx = pd.Series([True, False, False, True], index = ['b', 'c', 'a', 'd'])\n",
        "\n",
        "print(list(s.loc[bool_idx]))\n",
        "```\n",
        "\n",
        "a. `[10, 40]`\n",
        "\n",
        "b. `[20, 30]`\n",
        "\n",
        "c. `[20, 40]`\n",
        "\n",
        "c. `40`"
      ],
      "metadata": {
        "id": "_Xek61JVT04W"
      }
    },
    {
      "cell_type": "code",
      "source": [],
      "metadata": {
        "id": "_-Zb2D2YUZuY"
      },
      "execution_count": 21,
      "outputs": []
    },
    {
      "cell_type": "markdown",
      "source": [
        "What is the output of the following statements?\n",
        "\n",
        "```\n",
        "s = pd.Series([10, 20, 30, 40], index=['a', 'b', 'c', 'd'])\n",
        "\n",
        "bool_idx = pd.Series([True, False, False, True], index = ['b', 'c', 'a', 'd'])\n",
        "\n",
        "print(list(s.iloc[bool_idx]))\n",
        "```\n",
        "\n",
        "a. `[10, 40]`\n",
        "\n",
        "b. `[20, 30]`\n",
        "\n",
        "c. `[20, 40]`\n",
        "\n",
        "c. `ValueError`"
      ],
      "metadata": {
        "id": "fFOhpqfCU8yE"
      }
    },
    {
      "cell_type": "code",
      "source": [],
      "metadata": {
        "id": "17PrZ-_h55v6"
      },
      "execution_count": 21,
      "outputs": []
    },
    {
      "cell_type": "markdown",
      "source": [
        "#### *Indexing with `[]`*\n",
        "`[]` can be used for both position-based or label-based indexing. Python will automatically decides which one to use.\n"
      ],
      "metadata": {
        "id": "8CwE2i-i2PzC"
      }
    },
    {
      "cell_type": "code",
      "source": [
        "s = pd.Series([10, 20, 30, 40, 50], index=['a', 'b', 'c', 'd', 'e'])\n",
        "\n",
        "print(s[1])\n",
        "print(s[\"c\":\"e\"])\n",
        "## Also support boolean indexing\n",
        "print(s[s>30])"
      ],
      "metadata": {
        "id": "TZ78rspH3A0P"
      },
      "execution_count": null,
      "outputs": []
    },
    {
      "cell_type": "markdown",
      "source": [
        "Question:\n",
        "\n",
        "What is the output of the following statements?\n",
        "```\n",
        "s = pd.Series([10, 20, 30, 40, 50], index=[2, 3, 4, 1, 0])\n",
        "\n",
        "print(s[0])\n",
        "```\n",
        "\n",
        "a. `0`\n",
        "\n",
        "b. `10`\n",
        "\n",
        "c. `50`\n",
        "\n",
        "d. `ValueError`"
      ],
      "metadata": {
        "id": "gqkMHlBFDlRg"
      }
    },
    {
      "cell_type": "code",
      "source": [
        "s = pd.Series([10, 20, 30, 40, 50], index=[2, 3, 4, 1, 0])\n",
        "\n",
        "print(s[0])"
      ],
      "metadata": {
        "id": "R1mSuDSFDpAS"
      },
      "execution_count": null,
      "outputs": []
    },
    {
      "cell_type": "markdown",
      "source": [
        "Question:\n",
        "\n",
        "What is the output of the following statements?\n",
        "\n",
        "```\n",
        "s = pd.Series([10, 20, 30, 40, 50], index=[2, 3, 4, 1, 0])\n",
        "\n",
        "print(list(s[1:3]))\n",
        "```\n",
        "\n",
        "a. `ValueError`\n",
        "\n",
        "b. `KeyError`\n",
        "\n",
        "c. `[20, 30, 40]`\n",
        "\n",
        "d. `[10, 20, 40]`\n",
        "\n",
        "e. `[20, 30]`"
      ],
      "metadata": {
        "id": "tWbu-ccUWxd8"
      }
    },
    {
      "cell_type": "code",
      "source": [],
      "metadata": {
        "id": "tl1YWMZ8W_YU"
      },
      "execution_count": 69,
      "outputs": []
    },
    {
      "cell_type": "markdown",
      "source": [
        "## *Update Values in a Series*\n",
        "\n"
      ],
      "metadata": {
        "id": "e-fEP54sMAoH"
      }
    },
    {
      "cell_type": "markdown",
      "source": [
        "### **Using iloc, loc, or []**\n",
        "\n",
        "You can use `.iloc[], .loc[]` or `[]` on the left hand of the assignment statement to change values of elements in a Series."
      ],
      "metadata": {
        "id": "Yn_YrWMXdqit"
      }
    },
    {
      "cell_type": "markdown",
      "source": [
        "####*Update one element*####"
      ],
      "metadata": {
        "id": "5PVrglc5EwxN"
      }
    },
    {
      "cell_type": "code",
      "source": [
        "## .iloc\n",
        "s = pd.Series([10, 20, 30, 40, 50], index=['a', 'b', 'c', 'd', 'e'])\n",
        "s.iloc[0] = 100\n",
        "#s[0] = 101 # Or: s.iloc[0] = 101, s.loc['a'] = 101\n",
        "print(s)\n",
        "# s.iloc[100] # IndexError: single positional indexer is out-of-bounds"
      ],
      "metadata": {
        "id": "HK1TEalQEKop"
      },
      "execution_count": null,
      "outputs": []
    },
    {
      "cell_type": "code",
      "source": [
        "## .loc\n",
        "s = pd.Series([10, 20, 30, 40, 50], index=['a', 'b', 'c', 'd', 'e'])\n",
        "s.loc[\"a\"] = 100\n",
        "print(s)\n",
        "\n",
        "s.loc[0] = 1000 # This will add a new element with label 0 and value 1000\n",
        "print(s)"
      ],
      "metadata": {
        "id": "uAY65V1xHmKI"
      },
      "execution_count": null,
      "outputs": []
    },
    {
      "cell_type": "code",
      "source": [
        "# []\n",
        "#Pandas will first try to match lables, if not find, then try to match positions\n",
        "s = pd.Series([10, 20, 30, 40, 50], index=['a', 'b', 'c', 'd', 'e'])\n",
        "s[0] = 100\n",
        "print(s)\n",
        "\n",
        "s[\"a\"] = 1000\n",
        "print(s)"
      ],
      "metadata": {
        "id": "z-F3dV8BIR4U"
      },
      "execution_count": null,
      "outputs": []
    },
    {
      "cell_type": "markdown",
      "source": [
        "Question:\n",
        "\n",
        "what is result of the following statements?\n",
        "```\n",
        "s = pd.Series([10, 20, 30], index=['a', 'b', 'c'])\n",
        "\n",
        "s.loc[0] = 1000\n",
        "print(list(s))\n",
        "```\n",
        "\n",
        "a. `KeyError`\n",
        "\n",
        "b. `[0, 10, 20, 30]`\n",
        "\n",
        "c. `ValueError`\n",
        "\n",
        "d. `[10, 20, 30, 1000]`"
      ],
      "metadata": {
        "id": "m4nujQEkYGY7"
      }
    },
    {
      "cell_type": "code",
      "source": [],
      "metadata": {
        "id": "NNb3YsioY5Cw"
      },
      "execution_count": 69,
      "outputs": []
    },
    {
      "cell_type": "markdown",
      "source": [
        "####*Update a slice*####"
      ],
      "metadata": {
        "id": "ZeLrdSnFHdZ_"
      }
    },
    {
      "cell_type": "code",
      "source": [
        "# iloc\n",
        "s = pd.Series([10, 20, 30, 40, 50], index=['a', 'b', 'c', 'd', 'e'])\n",
        "s.iloc[1:3] = 1\n",
        "s.iloc[3:5] = [201, 301]\n",
        "print(s)"
      ],
      "metadata": {
        "id": "uzLtjATTihLp"
      },
      "execution_count": null,
      "outputs": []
    },
    {
      "cell_type": "code",
      "source": [
        "# .loc\n",
        "s = pd.Series([10, 20, 30, 40, 50], index=['a', 'b', 'c', 'd', 'e'])\n",
        "s.loc[\"a\":\"b\"] = 23\n",
        "s.loc[\"c\":\"d\"] = [401, 501]\n",
        "print(s)"
      ],
      "metadata": {
        "id": "wxCv58znJfzB"
      },
      "execution_count": null,
      "outputs": []
    },
    {
      "cell_type": "code",
      "source": [
        "# []\n",
        "s = pd.Series([10, 20, 30, 40, 50], index=['a', 'b', 'c', 'd', 'e'])\n",
        "s[1:3] = 1\n",
        "s[3:5] = [100, 200]\n",
        "print(s)\n",
        "\n",
        "s[\"a\":\"b\"] = 203 #[101, 201]\n",
        "print(s)"
      ],
      "metadata": {
        "id": "P6ZIWCyaJvuR"
      },
      "execution_count": null,
      "outputs": []
    },
    {
      "cell_type": "markdown",
      "source": [
        "####*Update a subset*####"
      ],
      "metadata": {
        "id": "vYFY83O4K3bC"
      }
    },
    {
      "cell_type": "code",
      "source": [
        "# .iloc\n",
        "s = pd.Series([10, 20, 30, 40, 50], index=['a', 'b', 'c', 'd', 'e'])\n",
        "s.iloc[[0,2,3]] = 1 # or [101, 202, 303]\n",
        "print(s)"
      ],
      "metadata": {
        "id": "gMj1oX-VK5qN"
      },
      "execution_count": null,
      "outputs": []
    },
    {
      "cell_type": "code",
      "source": [
        "# .loc\n",
        "s = pd.Series([10, 20, 30, 40, 50], index=['a', 'b', 'c', 'd', 'e'])\n",
        "s.loc[[\"d\", \"c\", \"a\"]] = 1 # or [101, 202, 303]\n",
        "print(s)\n",
        "# s.loc[[0,2,3]] = [101, 202, 303] # KeyError: \"None of [Int64Index([0, 2, 3],\n",
        "# dtype='int64')] are in the [index]\""
      ],
      "metadata": {
        "id": "yRzvD9Q3L4aT"
      },
      "execution_count": null,
      "outputs": []
    },
    {
      "cell_type": "code",
      "source": [
        "# []\n",
        "s = pd.Series([10, 20, 30, 40, 50], index=['a', 'b', 'c', 'd', 'e'])\n",
        "s[[\"b\", \"e\", \"a\"]] = 1 # or [101, 202, 303]\n",
        "print(s)\n",
        "\n",
        "s = pd.Series([10, 20, 30, 40, 50], index=['a', 'b', 'c', 'd', 'e'])\n",
        "s[[0, 2, 3]] = 1 #or [101, 202, 303]\n",
        "print(s)"
      ],
      "metadata": {
        "id": "MoVQkbxSMgiu"
      },
      "execution_count": null,
      "outputs": []
    },
    {
      "cell_type": "markdown",
      "source": [
        "### **Using Update Method**\n",
        "Like Python dictionary, we can also use `update` method to to update the values of one series with the values of another series having the same index."
      ],
      "metadata": {
        "id": "QgDBxFiNRYVj"
      }
    },
    {
      "cell_type": "code",
      "source": [
        "s1 = pd.Series([1, 2, 3], index=['a', 'b', 'c'])\n",
        "s2 = pd.Series([4, 5, 6], index=['a', 'b1', 'c'])\n",
        "\n",
        "# updating s1 with s2\n",
        "s1.update(s2)\n",
        "\n",
        "print(s1)"
      ],
      "metadata": {
        "id": "1MogWraqNTAy"
      },
      "execution_count": null,
      "outputs": []
    },
    {
      "cell_type": "markdown",
      "source": [
        "## Add element(s) to a Series\n"
      ],
      "metadata": {
        "id": "DX0qjRNlOL5r"
      }
    },
    {
      "cell_type": "markdown",
      "source": [
        "### **Add a Label**\n",
        "\n"
      ],
      "metadata": {
        "id": "nRPgvpvgR7hp"
      }
    },
    {
      "cell_type": "code",
      "source": [
        "s = pd.Series([1,2,3,4], index = list(\"abcd\"))\n",
        "print(s)\n",
        "\n",
        "s[\"e\"] = 5\n",
        "s.loc[\"f\"] = 6\n",
        "print(s)"
      ],
      "metadata": {
        "id": "dFDqrFLOT1uM"
      },
      "execution_count": null,
      "outputs": []
    },
    {
      "cell_type": "markdown",
      "source": [
        "Question:\n",
        "\n",
        "What is the output of the following statements?\n",
        "\n",
        "```\n",
        "s = pd.Series([1,2,3,4], index = list(\"abcd\"))\n",
        "s.iloc[4] = 7\n",
        "print(list(s))\n",
        "```\n",
        "\n",
        "a. `[1, 2, 3, 4]`\n",
        "\n",
        "b. `[1, 2, 3, 7]`\n",
        "\n",
        "c. `[1, 2, 3, 4, 7]`\n",
        "\n",
        "c. None of the above"
      ],
      "metadata": {
        "id": "Ky65bNKoZtLj"
      }
    },
    {
      "cell_type": "code",
      "source": [],
      "metadata": {
        "id": "Pcp9LEW7Zve5"
      },
      "execution_count": 36,
      "outputs": []
    },
    {
      "cell_type": "markdown",
      "source": [
        "### **Append and Concat**\n"
      ],
      "metadata": {
        "id": "_I0I87JrT2cR"
      }
    },
    {
      "cell_type": "code",
      "source": [
        "s1 = pd.Series([1,2,3])\n",
        "s2 = pd.Series([4,5,6])\n",
        "#print(s1)\n",
        "#print(s2)\n",
        "\n",
        "print(s1.append(s2))\n",
        "#print(pd.concat([s1, s2]))"
      ],
      "metadata": {
        "id": "2XqmkRPUyq47"
      },
      "execution_count": null,
      "outputs": []
    },
    {
      "cell_type": "code",
      "source": [
        "#print(s1.append(s2, ignore_index = True))\n",
        "print(pd.concat([s1, s2, s1], ignore_index= True))"
      ],
      "metadata": {
        "id": "yQs_Wj7JPYLS"
      },
      "execution_count": null,
      "outputs": []
    },
    {
      "cell_type": "markdown",
      "source": [
        "## *Sort a Series*\n"
      ],
      "metadata": {
        "id": "uADKDj_P4NMx"
      }
    },
    {
      "cell_type": "markdown",
      "source": [
        "### **Sort_values Method**\n"
      ],
      "metadata": {
        "id": "9kkkJ1YJ4RjZ"
      }
    },
    {
      "cell_type": "code",
      "source": [
        "s = pd.Series([3, 1, 4, 1, 5, 9, 2, 6, 5])\n",
        "\n",
        "# sort the values in ascending order\n",
        "s_sorted = s.sort_values()\n",
        "print(s_sorted)"
      ],
      "metadata": {
        "id": "QlGuT0oW4fT9"
      },
      "execution_count": null,
      "outputs": []
    },
    {
      "cell_type": "code",
      "source": [
        "# sort the values in descending order\n",
        "s_sorted_desc = s.sort_values(ascending=False)\n",
        "print(s_sorted_desc)"
      ],
      "metadata": {
        "id": "PlUWaBkbayLp"
      },
      "execution_count": null,
      "outputs": []
    },
    {
      "cell_type": "code",
      "source": [
        "# sort in place\n",
        "s.sort_values(inplace = True)\n",
        "print(s)"
      ],
      "metadata": {
        "id": "r3coFMJ2-Z6Q"
      },
      "execution_count": null,
      "outputs": []
    },
    {
      "cell_type": "code",
      "source": [
        "# sort the values in descending order and place null values at the beginning\n",
        "s = pd.Series([3, 1, -4, None, -5, 9, 2, 6, 5])\n",
        "s_sorted = s.sort_values(ascending=False, na_position='first')\n",
        "print(s_sorted)"
      ],
      "metadata": {
        "id": "ttFhetXKJIGq"
      },
      "execution_count": null,
      "outputs": []
    },
    {
      "cell_type": "code",
      "source": [
        "# sort the values in ascending order, reset the index, and use the absolute value as the sorting key\n",
        "s = pd.Series([3, 1, -4, None, -5, 9, 2, 6, 5])\n",
        "s_sorted_abs = s.sort_values(ascending=True, ignore_index=True, key=abs)\n",
        "print(s_sorted_abs)"
      ],
      "metadata": {
        "id": "ciByk6C4-uXA"
      },
      "execution_count": null,
      "outputs": []
    },
    {
      "cell_type": "markdown",
      "source": [
        "### **Sort_index Method**"
      ],
      "metadata": {
        "id": "UjJkUfKD4Z99"
      }
    },
    {
      "cell_type": "code",
      "source": [
        "s = pd.Series([3, 1, 4, -1, 5, 9, 2, 6, 15], index=['c', 'a', 'd', 'a', 'e', 'i', 'b', 'f', 'e'])\n",
        "\n",
        "# sort the index in ascending order\n",
        "s_sorted_index = s.sort_index()\n",
        "print(s_sorted_index)\n",
        "\n",
        "# sort the index in descending order\n",
        "s_sorted_index_desc = s.sort_index(ascending=False)\n",
        "print(s_sorted_index_desc)"
      ],
      "metadata": {
        "id": "vK_MNBhq4eeS"
      },
      "execution_count": null,
      "outputs": []
    },
    {
      "cell_type": "markdown",
      "source": [
        "## *Unique and Duplicated Values in a Series*"
      ],
      "metadata": {
        "id": "SJRqmn4h4x8i"
      }
    },
    {
      "cell_type": "markdown",
      "source": [
        "### **Find Unique Values**\n"
      ],
      "metadata": {
        "id": "FA8MdMvn42X3"
      }
    },
    {
      "cell_type": "code",
      "source": [
        "import numpy as np\n",
        "s = pd.Series([1, 2, 3, 4, None, 4, 4, 5,  5, 6, np.nan]) # None, pd.NA,\n",
        "\n",
        "# find unique values\n",
        "unique_values = s.unique()\n",
        "print(unique_values)\n",
        "#print(s.dtype)\n",
        "print(s, end = '\\n\\n')\n",
        "\n"
      ],
      "metadata": {
        "id": "t5G48gaH5BOp"
      },
      "execution_count": null,
      "outputs": []
    },
    {
      "cell_type": "code",
      "source": [
        "s = pd.Series([1, 2, 3, 4, None, 4, 4, pd.NA, 5,  5, 6, np.nan]) # None, pd.NA,\n",
        "\n",
        "# find unique values\n",
        "unique_values = s.unique()\n",
        "print(unique_values)\n",
        "print(s.dtype)\n",
        "print(s, end = '\\n\\n')"
      ],
      "metadata": {
        "id": "9MNfgB9CBh2E"
      },
      "execution_count": null,
      "outputs": []
    },
    {
      "cell_type": "code",
      "source": [
        "s = pd.Series([1, 2, 3, 4, None, 4, 4, pd.NA, 5,  5, 6, np.nan])\n",
        "# number of unique values excluding missing values\n",
        "print(s.nunique())\n",
        "# number of unique values\n",
        "print(s.nunique(dropna = False))"
      ],
      "metadata": {
        "id": "kSNZLXkgAPSQ"
      },
      "execution_count": null,
      "outputs": []
    },
    {
      "cell_type": "markdown",
      "source": [
        "### **Find Duplicated Values**\n"
      ],
      "metadata": {
        "id": "zw6PMSgL5B0a"
      }
    },
    {
      "cell_type": "code",
      "source": [
        "## duplicated(): Returns a boolean Series indicating which values are\n",
        "## duplicated.\n",
        "## By default, the method considers the first occurrence of a value as not\n",
        "## duplicated, and all subsequent occurrences as duplicated.\n",
        "\n",
        "s = pd.Series([1, 2, 4, 4, 5, 6, 6])\n",
        "print(s, end = '\\n\\n')\n",
        "# check for duplicated values\n",
        "duplicates = s.duplicated()\n",
        "print(duplicates)\n",
        "\n",
        "#print(s.duplicated(keep='first'))\n",
        "#print(s.duplicated(keep='last'))\n",
        "#print(s.duplicated(keep=False))"
      ],
      "metadata": {
        "id": "fVa2PPoP5SmP"
      },
      "execution_count": null,
      "outputs": []
    },
    {
      "cell_type": "markdown",
      "source": [
        "### **Drop Duplicated Values**\n"
      ],
      "metadata": {
        "id": "PIhyfxNB5TFe"
      }
    },
    {
      "cell_type": "code",
      "source": [
        "s = pd.Series([1, 2, 4, 4, 5, 6, 6])\n",
        "print(s)\n",
        "# drop duplicated values\n",
        "unique_values = s.drop_duplicates()\n",
        "\n",
        "print(unique_values)\n",
        "#print(s.drop_duplicates(keep = \"last\"))\n",
        "#print(s.drop_duplicates(keep = \"first\"))\n",
        "#print(s.drop_duplicates(keep = False))"
      ],
      "metadata": {
        "id": "xDrU7r2u5ZJg"
      },
      "execution_count": null,
      "outputs": []
    },
    {
      "cell_type": "markdown",
      "source": [
        "## *Missing Values in a Series*"
      ],
      "metadata": {
        "id": "5YJQGIc55dJs"
      }
    },
    {
      "cell_type": "markdown",
      "source": [
        "### **Find Missing Values**\n"
      ],
      "metadata": {
        "id": "wg5lNDpE5hn1"
      }
    },
    {
      "cell_type": "code",
      "source": [
        "import pandas as pd\n",
        "import numpy as np\n",
        "\n",
        "my_series = pd.Series([1, 2, pd.NA, None, np.nan, 4]) # None, pd.NA\n",
        "## The hasnans attribute in Pandas Series returns a boolean value indicating whether there are any missing values (NaN) in the Series.\n",
        "\n",
        "print(my_series.hasnans)\n"
      ],
      "metadata": {
        "id": "-pv-qcJy5rZq"
      },
      "execution_count": null,
      "outputs": []
    },
    {
      "cell_type": "code",
      "source": [
        "# isna(), isnull() returns a boolean mask indicating which values in the Series\n",
        "# are missing (NaN).\n",
        "my_series = pd.Series([1, 2, pd.NA, None, np.nan, 4]) # None, pd.NA\n",
        "print(my_series.isnull())\n"
      ],
      "metadata": {
        "id": "oq_X4MxvFNNg"
      },
      "execution_count": null,
      "outputs": []
    },
    {
      "cell_type": "code",
      "source": [
        "# notna(), notnull() returns a boolean mask indicating which values in the\n",
        "# Series are not missing (not NaN).\n",
        "my_series = pd.Series([1, 2, pd.NA, None, np.nan, 4]) # None, pd.NA\n",
        "print(my_series.notnull())"
      ],
      "metadata": {
        "id": "a4J78cSAFTeL"
      },
      "execution_count": null,
      "outputs": []
    },
    {
      "cell_type": "markdown",
      "source": [
        "### **Drop Missing Values**\n"
      ],
      "metadata": {
        "id": "0B1CTOa35r9M"
      }
    },
    {
      "cell_type": "code",
      "source": [
        "## The dropna() method in Pandas Series is used to remove any missing values\n",
        "## from a Series object.\n",
        "## dropna() also has inplace parameter, default is False.\n",
        "\n",
        "my_series = pd.Series([1, None, 2, np.nan, 4, pd.NA])\n",
        "\n",
        "clean_series = my_series.dropna()\n",
        "\n",
        "print(clean_series)"
      ],
      "metadata": {
        "id": "VvTA8qdn5v-F"
      },
      "execution_count": null,
      "outputs": []
    },
    {
      "cell_type": "markdown",
      "source": [
        "### **Fill in Missing Values**\n",
        "1. The `fillna()` method in Pandas Series is used to fill in missing values (`NaN`) with a specified value or method.\n",
        "2. The `interpolate` method is used to fill missing or NaN values in a DataFrame or Series with interpolated values.\n",
        "\n",
        "  * Linear Interpolation - Fills missing values using a linear function that connects the two nearest known values.\n",
        "\n",
        "  * Polynomial Interpolation - Fills missing values using a polynomial function of the specified degree that connects the nearest known values.\n",
        "\n",
        "  * Spline Interpolation - Fills missing values using a piecewise polynomial function that smoothly connects the nearest known values."
      ],
      "metadata": {
        "id": "dAYPe4t25wS8"
      }
    },
    {
      "cell_type": "markdown",
      "source": [
        "#### *Fill NA with a Single Value*\n"
      ],
      "metadata": {
        "id": "7QtqrPz159gW"
      }
    },
    {
      "cell_type": "code",
      "source": [
        "# create a Series with some NaN values\n",
        "s = pd.Series([None, 1, 2, np.nan, None,4, np.nan,5, np.nan, np.nan])\n",
        "\n",
        "print(s.fillna(-1))"
      ],
      "metadata": {
        "id": "wANS9aZm6LM5"
      },
      "execution_count": null,
      "outputs": []
    },
    {
      "cell_type": "markdown",
      "source": [
        "#### *Forward Fill and Backward Fill*\n"
      ],
      "metadata": {
        "id": "fHh5MUVP6I6k"
      }
    },
    {
      "cell_type": "code",
      "source": [
        "s = pd.Series([None, 1, 2, np.nan, None,4, np.nan,5, np.nan, np.nan])\n",
        "print(s, \"\\n\\n\")\n",
        "# fill in the NaN values with the mean of the Series\n",
        "print(s.fillna(method = \"ffill\"))\n",
        "#print(s.fillna(method = \"bfill\"))"
      ],
      "metadata": {
        "id": "yA9zidEw912s"
      },
      "execution_count": null,
      "outputs": []
    },
    {
      "cell_type": "markdown",
      "source": [
        "## *Operations on Series*\n"
      ],
      "metadata": {
        "id": "kKohSbEXB2JT"
      }
    },
    {
      "cell_type": "markdown",
      "source": [
        "### **Arithmetic operations**\n",
        "+ Arithmetic operators: `+, -, *, /, //, %, **`\n",
        "+ Arithmetic methods: `add, sub, mul, div, floordiv, mod, pow`"
      ],
      "metadata": {
        "id": "7vHXk8zKEg7_"
      }
    },
    {
      "cell_type": "code",
      "source": [
        "# broadcast\n",
        "s1 = pd.Series([10, 20, 30, 40, 50])\n",
        "print(s1 + 3)"
      ],
      "metadata": {
        "id": "37HADwtZEo74"
      },
      "execution_count": null,
      "outputs": []
    },
    {
      "cell_type": "code",
      "source": [
        "# element wise operation, matched by index labels.\n",
        "s1 = pd.Series([10, 20, 30, 40, 50])\n",
        "s2 = pd.Series([2, 3, 4, 5, 6], index = [1,2,3,4,5])\n",
        "print(s1)\n",
        "print(s2, end = '\\n\\n')\n",
        "\n",
        "print(s1 + s2)"
      ],
      "metadata": {
        "id": "-QN769tEJGEO"
      },
      "execution_count": null,
      "outputs": []
    },
    {
      "cell_type": "code",
      "source": [
        "## add method\n",
        "s1 = pd.Series([None, 10, 20, None, 40, 50])\n",
        "s2 = pd.Series([2, 3, 4, 5, 6, 7], index = [1,2,3,4,5, 6])\n",
        "\n",
        "print(s1)\n",
        "print(s2, \"\\n\\n\")\n",
        "print(s1.add(s2, fill_value = 0))"
      ],
      "metadata": {
        "id": "nKeMJ4ppjgQs"
      },
      "execution_count": null,
      "outputs": []
    },
    {
      "cell_type": "markdown",
      "source": [
        "### **Summary and Aggregation**\n"
      ],
      "metadata": {
        "id": "5FTIk-LZEqJc"
      }
    },
    {
      "cell_type": "markdown",
      "source": [
        "#### *Value_counts Method (generating frequency table)*\n"
      ],
      "metadata": {
        "id": "R4SRqXYYFpmn"
      }
    },
    {
      "cell_type": "code",
      "source": [
        "import pandas as pd\n",
        "\n",
        "# create a sample Series\n",
        "s = pd.Series(['apple', 'banana', 'banana', None, 'orange', None, 'apple', 'banana'])\n",
        "\n",
        "# count the number of occurrences of each unique value\n",
        "value_counts = s.value_counts()\n",
        "\n",
        "print(s.value_counts(sort = False, dropna = False, normalize = True))"
      ],
      "metadata": {
        "id": "CgWH6DNrE0ad"
      },
      "execution_count": null,
      "outputs": []
    },
    {
      "cell_type": "markdown",
      "source": [
        "#### *Other Summary Statistics*\n",
        "Here are some of the most commonly used functions in pandas Series:\n",
        "\n",
        "* `sum()`: calculates the sum of all values in the Series.\n",
        "* `mean()`: calculates the arithmetic mean of all values in the Series.\n",
        "* `median()`: calculates the median of all values in the Series.\n",
        "* `min()`: returns the minimum value in the Series.\n",
        "* `max()`: returns the maximum value in the Series.\n",
        "* `count()`: returns the number of non-null values in the Series.\n",
        "* `std()`: calculates the standard deviation of all values in the Series.\n",
        "* `var()`: calculates the variance of all values in the Series.\n",
        "\n",
        "All of these functions have `skipna` parameter, by default NaN values will be dropped.\n"
      ],
      "metadata": {
        "id": "MV8G7dm3F_6f"
      }
    },
    {
      "cell_type": "code",
      "source": [
        "# create a sample Series\n",
        "s = pd.Series([1, 2, 3, 4, 5, 6, 7, 8, 9, 10, None])\n",
        "\n",
        "# calculate some basic statistics using aggregation functions\n",
        "print(s.sum())\n",
        "print(s.mean(skipna = False))\n",
        "print(s.median())\n",
        "print(s.min())\n",
        "print(s.max())\n",
        "print(s.count())\n",
        "print(s.std())\n",
        "print(s.var())"
      ],
      "metadata": {
        "id": "sJMhtwYFGKRB"
      },
      "execution_count": null,
      "outputs": []
    },
    {
      "cell_type": "markdown",
      "source": [
        "#### *Agg() Method*\n",
        "The `agg()` method in pandas Series allows you to apply one or more aggregation functions to the values in a Series. It is similar to the aggregation functions we discussed earlier, but it allows you to apply multiple functions at once and specify their names as well.\n"
      ],
      "metadata": {
        "id": "u4OqVwTqoW9_"
      }
    },
    {
      "cell_type": "code",
      "source": [
        "s = pd.Series([1, 2, 3, 4, 5, 6, 7, 8, 9, 10])\n",
        "\n",
        "# apply multiple aggregation functions using the agg() method\n",
        "result = s.agg([sum, 'mean', 'min', 'max', 'count'])\n",
        "\n",
        "print(result)\n",
        "#'mean' in dir(s)"
      ],
      "metadata": {
        "id": "njms76K4otrH"
      },
      "execution_count": null,
      "outputs": []
    },
    {
      "cell_type": "code",
      "source": [
        "# User defined agg functions\n",
        "s = pd.Series([1, 2, 3, 4, 5, 6, 7, 8, 9, 10])\n",
        "\n",
        "def calculate_range(ser):\n",
        "    return ser.max() - ser.min()\n",
        "\n",
        "print(s.agg(calculate_range))"
      ],
      "metadata": {
        "id": "tJkzK64guGvK"
      },
      "execution_count": null,
      "outputs": []
    },
    {
      "cell_type": "code",
      "source": [
        "# User defined function with parameters\n",
        "s = pd.Series([1, 2, 3, 4, 5, 6, 7, 8, 9, 10])\n",
        "\n",
        "def fcn(ser, pow=2):\n",
        "    return ser ** pow\n",
        "print(s.agg(fcn, 0, 3))"
      ],
      "metadata": {
        "id": "2IMG388IwPv0"
      },
      "execution_count": null,
      "outputs": []
    },
    {
      "cell_type": "markdown",
      "source": [
        "### **Element-wise Methods**\n"
      ],
      "metadata": {
        "id": "iHj4IKLHE07x"
      }
    },
    {
      "cell_type": "markdown",
      "source": [
        "#### *Comparison Operations*\n"
      ],
      "metadata": {
        "id": "2FNR07J_ZieM"
      }
    },
    {
      "cell_type": "code",
      "source": [
        "## >, >=, <, <=, ==, !=\n",
        "s = pd.Series([1, 2, 3, 4, 5])\n",
        "print(s > 3)"
      ],
      "metadata": {
        "id": "XIkJdZvzxYQ0"
      },
      "execution_count": null,
      "outputs": []
    },
    {
      "cell_type": "markdown",
      "source": [
        "Question:\n",
        "What is the output of the following statements?\n",
        "```\n",
        "s1 = pd.Series([1,2,3])\n",
        "s2 = pd.Series([0,1,2], index = [1,2,3])\n",
        "print(list(s1 > s2))\n",
        "```\n",
        "\n",
        "a. `True`\n",
        "\n",
        "b. `[True, True, True]`\n",
        "\n",
        "c. `[False, False, False]`\n",
        "\n",
        "d. `[NaN, False, False]`\n",
        "\n",
        "e. None of the above"
      ],
      "metadata": {
        "id": "_jfqvJA50YRI"
      }
    },
    {
      "cell_type": "code",
      "source": [],
      "metadata": {
        "id": "x8siAGucD78j"
      },
      "execution_count": null,
      "outputs": []
    },
    {
      "cell_type": "markdown",
      "source": [
        "Questions:\n",
        "What are the results of the following statements.\n",
        "```\n",
        "print(False == None)\n",
        "print(False == pd.NA)\n",
        "print(False == np.nan)\n",
        "```"
      ],
      "metadata": {
        "id": "e8L8B1kp2EQa"
      }
    },
    {
      "cell_type": "code",
      "source": [],
      "metadata": {
        "id": "Nw0IZxkFxh1W"
      },
      "execution_count": 64,
      "outputs": []
    },
    {
      "cell_type": "code",
      "source": [
        "## isin()\n",
        "s = pd.Series(['apple', 'banana', 'orange', 'pear', 'mango'])\n",
        "print(s.isin(['banana', 'mango', 'kiwi']))"
      ],
      "metadata": {
        "id": "kd66sZ6Ixx50"
      },
      "execution_count": null,
      "outputs": []
    },
    {
      "cell_type": "markdown",
      "source": [
        "Question:\n",
        "\n",
        "What is the output of the following statements?\n",
        "```\n",
        "s = pd.Series(['apple', 'banana', 'orange', 'pear', 'mango'])\n",
        "print('apple' in s)\n",
        "```\n",
        "\n",
        "a. `True`\n",
        "\n",
        "b. `False`\n",
        "\n",
        "c. `NaN`\n",
        "\n",
        "c. None of the above"
      ],
      "metadata": {
        "id": "AW7jakG-3nbg"
      }
    },
    {
      "cell_type": "code",
      "source": [],
      "metadata": {
        "id": "1i8HXIG138r3"
      },
      "execution_count": 65,
      "outputs": []
    },
    {
      "cell_type": "code",
      "source": [
        "# between method\n",
        "s = pd.Series([1, 2, 3, 4, 5])\n",
        "print(s.between(2, 4))\n",
        "# print(s.between(2,4, inclusive = \"neither\"))"
      ],
      "metadata": {
        "id": "hMN7L1SHbUkN"
      },
      "execution_count": null,
      "outputs": []
    },
    {
      "cell_type": "markdown",
      "source": [
        "#### *Where Method*\n",
        "The `where()` method is used to replace values in a Series that do not satisfy a certain condition with a specified value.\n",
        "\n",
        "It takes two arguments: `cond` and `other`, which specify the condition to be applied and the value to replace the elements that do not satisfy the condition, respectively.\n"
      ],
      "metadata": {
        "id": "iSTkFjKUFFCM"
      }
    },
    {
      "cell_type": "code",
      "source": [
        "s = pd.Series([1, 2, 3, 4, 5])\n",
        "print(s.where(s <= 3, other=3))"
      ],
      "metadata": {
        "id": "oIII5VSbFO3q"
      },
      "execution_count": null,
      "outputs": []
    },
    {
      "cell_type": "markdown",
      "source": [
        "#### *Map Method*\n",
        "The `map()` method in Pandas is used to apply a function to each element of a Series. It takes a function or a dictionary as an argument and applies it to each element of the Series.\n",
        "\n"
      ],
      "metadata": {
        "id": "kMDyxfM0FPT7"
      }
    },
    {
      "cell_type": "code",
      "source": [
        "s = pd.Series([1, 2, 3, 4, 5])\n",
        "print(s.map(lambda x: x ** 2))"
      ],
      "metadata": {
        "id": "MHcjV7LdFUub",
        "colab": {
          "base_uri": "https://localhost:8080/"
        },
        "outputId": "3cb5b0bc-bc62-4dd5-f6cf-85339788d044"
      },
      "execution_count": 68,
      "outputs": [
        {
          "output_type": "stream",
          "name": "stdout",
          "text": [
            "0     1\n",
            "1     4\n",
            "2     9\n",
            "3    16\n",
            "4    25\n",
            "dtype: int64\n"
          ]
        }
      ]
    },
    {
      "cell_type": "markdown",
      "source": [
        "Question:\n",
        "\n",
        "What is the output of the following statements?\n",
        "\n",
        "```\n",
        "s = pd.Series(['dog', 'cat', 'dog', 'cat', 'bird'])\n",
        "print(list(s.map({'dog': 'big_dog', 'cat': 'small_cat'})))\n",
        "```\n",
        "\n",
        "a. `['big_dog', 'small_cat', 'big_dog', 'small_cat']`\n",
        "\n",
        "b. `['big_dog', 'small_cat', 'big_dog', 'small_cat', nan]`\n",
        "\n",
        "c. `['big_dog', 'small_cat', 'big_dog', 'small_cat', 'bird']`\n",
        "\n",
        "d. None of the above"
      ],
      "metadata": {
        "id": "aB18ocJp4Pov"
      }
    },
    {
      "cell_type": "code",
      "source": [],
      "metadata": {
        "id": "LGCUVKmkzlr-"
      },
      "execution_count": 68,
      "outputs": []
    },
    {
      "cell_type": "markdown",
      "source": [
        "#### *Apply Method*\n",
        "The `apply()` method in Pandas is used to apply a function to each element of a Series. It takes a function as an argument and applies it to each element of the Series.\n"
      ],
      "metadata": {
        "id": "OscqBaPpFYS8"
      }
    },
    {
      "cell_type": "code",
      "source": [
        "def add_prefix(x, prefix):\n",
        "    return prefix + str(x)\n",
        "\n",
        "# Create a Series of integers\n",
        "s = pd.Series([1, 2, 3, 4, 5])\n",
        "\n",
        "# Apply the add_prefix function to each element of the Series, with the prefix 'num'\n",
        "result = s.apply(add_prefix, args = (\"num\",))\n",
        "\n",
        "# Print the original Series and the new Series with prefixes\n",
        "print(s, end = \"\\n\\n\")\n",
        "print(result)"
      ],
      "metadata": {
        "id": "m3ZBlXCaFmgt"
      },
      "execution_count": null,
      "outputs": []
    },
    {
      "cell_type": "code",
      "source": [],
      "metadata": {
        "id": "smu1Jnk8EBlN"
      },
      "execution_count": null,
      "outputs": []
    }
  ]
}