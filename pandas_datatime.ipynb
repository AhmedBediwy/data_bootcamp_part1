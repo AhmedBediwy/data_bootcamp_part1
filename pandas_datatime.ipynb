{
  "nbformat": 4,
  "nbformat_minor": 0,
  "metadata": {
    "colab": {
      "provenance": [],
      "authorship_tag": "ABX9TyM185u4z2Ms6N6LLq0oFGdR",
      "include_colab_link": true
    },
    "kernelspec": {
      "name": "python3",
      "display_name": "Python 3"
    },
    "language_info": {
      "name": "python"
    }
  },
  "cells": [
    {
      "cell_type": "markdown",
      "metadata": {
        "id": "view-in-github",
        "colab_type": "text"
      },
      "source": [
        "<a href=\"https://colab.research.google.com/github/statrliu/data_bootcamp_part1/blob/main/pandas_datatime.ipynb\" target=\"_parent\"><img src=\"https://colab.research.google.com/assets/colab-badge.svg\" alt=\"Open In Colab\"/></a>"
      ]
    },
    {
      "cell_type": "markdown",
      "source": [
        "# **Pandas Datetime**\n",
        "\n"
      ],
      "metadata": {
        "id": "6RU3mNyYT9fu"
      }
    },
    {
      "cell_type": "markdown",
      "source": [
        "## *Creating datetime objects in pandas*\n",
        "\n",
        "In this lesson, we will learn\n",
        "+ The different datetime formats in pandas.\n",
        "+ how to create datetime objects using the `to_datetime()` method.\n",
        "+ how to set a datetime object as the index of a pandas DataFrame."
      ],
      "metadata": {
        "id": "cJPY2NuAUmMf"
      }
    },
    {
      "cell_type": "markdown",
      "source": [
        "### **Understanding datetime formats in pandas**\n",
        "Pandas supports a variety of datetime formats, including:\n",
        "\n",
        "+ ISO 8601 format: `YYYY-MM-DDTHH:MM:SS.ssssss`\n",
        "+ Unix timestamp: the number of seconds since January 1, 1970 (also known as \"epoch time\")\n",
        "+ Python datetime object: a datetime object from the built-in datetime module in Python\n",
        "+ `%Y-%m-%d %H:%M:%S:` This format represents the date and time in the ISO format. It includes the year, month, day, hour, minute, and second in the format `YYYY-MM-DD HH:MM:SS`. Example: `'2022-01-01 10:30:00'`.\n",
        "\n",
        "+ `%Y/%m/%d %H:%M:%S:` This format represents the date and time in a forward slash-separated format. It includes the year, month, day, hour, minute, and second in the format `YYYY/MM/DD HH:MM:SS`. Example: `'2022/01/01 10:30:00'`.\n",
        "\n",
        "+ `%m/%d/%Y %H:%M:%S:` This format represents the date and time in a month/day/year format. It includes the month, day, year, hour, minute, and second in the format `MM/DD/YYYY HH:MM:SS`. Example: `'01/01/2022 10:30:00'.`\n",
        "\n",
        "+ `%d-%b-%Y %H:%M:%S:` This format represents the date and time in a day-month-year format. It includes the day, abbreviated month name, year, hour, minute, and second in the format `DD-MMM-YYYY HH:MM:SS.` Example: `'01-Jan-2022 10:30:00'.`\n",
        "\n",
        "+ `%A, %B %d, %Y %I:%M:%S %p:` This format represents the date and time in a day of the week, month day, year format with the time in a 12-hour format. It includes the day of the week, full month name, day, year, hour, minute, and second in the format `Weekday, Month DD, YYYY HH:MM:SS AM/PM.` Example: `'Saturday, January 01, 2022 10:30:00 AM'.`\n",
        "\n",
        "These are just a few examples of datetime formats in pandas. The format of the datetime value will depend on the data source and the specific requirements of the analysis or application.\n",
        "\n",
        "Pandas provides a variety of datetime functions to manipulate and transform datetime values, allowing users to work with datetime data in a flexible and powerful way.\n",
        "\n",
        "\n",
        "\n",
        "\n",
        "\n"
      ],
      "metadata": {
        "id": "WKBMlCRmVEyb"
      }
    },
    {
      "cell_type": "markdown",
      "source": [
        "### **Creating datetime objects using `to_datetime()`**\n",
        "The `to_datetime()` method in pandas is a powerful tool for creating datetime objects from a variety of input formats.\n",
        "\n"
      ],
      "metadata": {
        "id": "nMmpANUVVa0T"
      }
    },
    {
      "cell_type": "code",
      "source": [
        "import pandas as pd\n",
        "\n",
        "# create a datetime object from a string in ISO 8601 format:\n",
        "date_str = '2022-03-24T12:30:00.000000'\n",
        "date_obj = pd.to_datetime(date_str)\n",
        "print(date_obj)"
      ],
      "metadata": {
        "id": "z8f2fZCKWTlG",
        "colab": {
          "base_uri": "https://localhost:8080/"
        },
        "outputId": "ee5251fb-8e75-428f-ebf1-fe57feb209a8"
      },
      "execution_count": 1,
      "outputs": [
        {
          "output_type": "stream",
          "name": "stdout",
          "text": [
            "2022-03-24 12:30:00\n"
          ]
        }
      ]
    },
    {
      "cell_type": "markdown",
      "source": [],
      "metadata": {
        "id": "nVPhlBcPwjfC"
      }
    },
    {
      "cell_type": "code",
      "source": [
        "# Convert a list of string to date\n",
        "date_list = ['2022-01-01', '2022-01-02', '2022-01-03']\n",
        "date_objs = pd.to_datetime(date_list)\n",
        "print(date_objs)"
      ],
      "metadata": {
        "id": "FpUguPP7wi3M",
        "colab": {
          "base_uri": "https://localhost:8080/"
        },
        "outputId": "512af29e-420f-476f-dc7f-a6df1497263e"
      },
      "execution_count": 2,
      "outputs": [
        {
          "output_type": "stream",
          "name": "stdout",
          "text": [
            "DatetimeIndex(['2022-01-01', '2022-01-02', '2022-01-03'], dtype='datetime64[ns]', freq=None)\n"
          ]
        }
      ]
    },
    {
      "cell_type": "markdown",
      "source": [
        "### **Setting a datetime object as the index of a pandas DataFrame**\n",
        "\n",
        "Once we have created a datetime object using `to_datetime()`, we can set it as the index of a pandas DataFrame using the `set_index()` method.\n"
      ],
      "metadata": {
        "id": "eSZ8WUtmWG5q"
      }
    },
    {
      "cell_type": "code",
      "source": [
        "dates = ['2022-03-24', '2022-03-25', '2022-03-26', '2022-03-27', '2022-03-28']\n",
        "data = [10, 20, 30, 40, 50]\n",
        "\n",
        "df = pd.DataFrame({'data': data}, index=pd.to_datetime(dates))\n",
        "print(df)"
      ],
      "metadata": {
        "id": "GYok3ta8WS2A",
        "colab": {
          "base_uri": "https://localhost:8080/"
        },
        "outputId": "4f86847b-27ff-4fad-a1f7-71404ac33752"
      },
      "execution_count": 3,
      "outputs": [
        {
          "output_type": "stream",
          "name": "stdout",
          "text": [
            "            data\n",
            "2022-03-24    10\n",
            "2022-03-25    20\n",
            "2022-03-26    30\n",
            "2022-03-27    40\n",
            "2022-03-28    50\n"
          ]
        }
      ]
    },
    {
      "cell_type": "markdown",
      "source": [
        "## *Working with datetime objects in pandas*\n",
        "In this lesson, we will learn how to manipulate datetime objects in pandas.\n",
        "+ common operations such as extracting year, month, and day values.\n",
        "+ resampling time series data using the resample() method."
      ],
      "metadata": {
        "id": "fDasoFRHXPos"
      }
    },
    {
      "cell_type": "markdown",
      "source": [
        "### **Extracting values from datetime objects**\n",
        "\n",
        "One of the most common operations when working with datetime objects is extracting specific values such as year, month, and day. We can do this using the dt accessor in pandas.\n"
      ],
      "metadata": {
        "id": "fvcviJvhXfcD"
      }
    },
    {
      "cell_type": "code",
      "source": [
        "date_str = '2023-09-18T12:30:00.000000'\n",
        "date_obj = pd.to_datetime(date_str)\n",
        "\n",
        "print(date_obj.year)\n",
        "print(date_obj.month)\n",
        "print(date_obj.day)\n",
        "print(date_obj.weekday())"
      ],
      "metadata": {
        "id": "tMPaDdVQXo0T",
        "colab": {
          "base_uri": "https://localhost:8080/"
        },
        "outputId": "16b10738-02e2-41d8-fc3e-d33e2a8161b0"
      },
      "execution_count": 4,
      "outputs": [
        {
          "output_type": "stream",
          "name": "stdout",
          "text": [
            "2023\n",
            "9\n",
            "18\n",
            "0\n"
          ]
        }
      ]
    },
    {
      "cell_type": "markdown",
      "source": [
        "### **Resampling time series data**\n",
        "Another common operation when working with datetime objects is resampling time series data. We can use the `resample()` method in pandas to aggregate or interpolate time series data over a different time frequency. https://pandas.pydata.org/pandas-docs/stable/user_guide/timeseries.html#dateoffset-objects\n"
      ],
      "metadata": {
        "id": "EpZhMy5eZVqP"
      }
    },
    {
      "cell_type": "code",
      "source": [
        "import pandas as pd\n",
        "import numpy as np\n",
        "\n",
        "# Create a DataFrame with a datetime index and random values\n",
        "np.random.seed(123)\n",
        "date_range = pd.date_range(start='2022-01-01', end='2022-03-31', freq='D')\n",
        "df = pd.DataFrame({'value': np.random.rand(len(date_range))}, index=date_range)\n",
        "print(df.head())\n",
        "print(\"\\n\\n\")"
      ],
      "metadata": {
        "id": "-L2xJQrFZyE9",
        "colab": {
          "base_uri": "https://localhost:8080/"
        },
        "outputId": "9aefae42-f866-4f1d-b376-e85700f8859f"
      },
      "execution_count": 5,
      "outputs": [
        {
          "output_type": "stream",
          "name": "stdout",
          "text": [
            "               value\n",
            "2022-01-01  0.696469\n",
            "2022-01-02  0.286139\n",
            "2022-01-03  0.226851\n",
            "2022-01-04  0.551315\n",
            "2022-01-05  0.719469\n",
            "\n",
            "\n",
            "\n"
          ]
        }
      ]
    },
    {
      "cell_type": "code",
      "source": [
        "# Resample to weekly frequency and calculate the mean\n",
        "weekly_mean = df.resample('W').mean()\n",
        "print(weekly_mean)"
      ],
      "metadata": {
        "id": "YF4g9FsgJqHf",
        "colab": {
          "base_uri": "https://localhost:8080/"
        },
        "outputId": "1bd41110-7516-4e10-9cdd-ca6e71caef25"
      },
      "execution_count": 6,
      "outputs": [
        {
          "output_type": "stream",
          "name": "stdout",
          "text": [
            "               value\n",
            "2022-01-02  0.491304\n",
            "2022-01-09  0.581038\n",
            "2022-01-16  0.442662\n",
            "2022-01-23  0.518516\n",
            "2022-01-30  0.453024\n",
            "2022-02-06  0.373542\n",
            "2022-02-13  0.544438\n",
            "2022-02-20  0.548338\n",
            "2022-02-27  0.531382\n",
            "2022-03-06  0.683295\n",
            "2022-03-13  0.405466\n",
            "2022-03-20  0.404292\n",
            "2022-03-27  0.630915\n",
            "2022-04-03  0.275986\n"
          ]
        }
      ]
    },
    {
      "cell_type": "code",
      "source": [
        "# Resample to monthly frequency and calculate the sum\n",
        "monthly_sum = df.resample('MS').sum()\n",
        "print(monthly_sum)\n"
      ],
      "metadata": {
        "id": "TV-HoIcRJtjm",
        "colab": {
          "base_uri": "https://localhost:8080/"
        },
        "outputId": "1150a10b-f395-41d2-cb78-3485faeb892f"
      },
      "execution_count": 7,
      "outputs": [
        {
          "output_type": "stream",
          "name": "stdout",
          "text": [
            "                value\n",
            "2022-01-01  15.041394\n",
            "2022-02-01  14.767261\n",
            "2022-03-01  15.096258\n"
          ]
        }
      ]
    },
    {
      "cell_type": "markdown",
      "source": [
        "### *DateOffset*\n",
        "\n",
        "DateOffset is a class in the pandas module that represents a duration of time in pandas-specific terms."
      ],
      "metadata": {
        "id": "VUhwLbnJeqvo"
      }
    },
    {
      "cell_type": "markdown",
      "source": [
        "#### **Creating a DateOffset object**\n",
        "You can create a DateOffset object by specifying the number of days, months, or years. Here are some examples:\n"
      ],
      "metadata": {
        "id": "VuDvV6MVeyr9"
      }
    },
    {
      "cell_type": "code",
      "source": [
        "from pandas.core.api import DateOffset\n",
        "import pandas as pd\n",
        "\n",
        "# Create a DateOffset object representing 1 day\n",
        "dof = pd.DateOffset(days=1) #, hours = 0\n",
        "print(dof)\n"
      ],
      "metadata": {
        "id": "3jQsrK2ae-TD",
        "colab": {
          "base_uri": "https://localhost:8080/"
        },
        "outputId": "ae19788d-0ca6-4d3b-95d1-e539e6a2d03f"
      },
      "execution_count": 8,
      "outputs": [
        {
          "output_type": "stream",
          "name": "stdout",
          "text": [
            "<DateOffset: days=1>\n"
          ]
        }
      ]
    },
    {
      "cell_type": "code",
      "source": [
        "# Create a DateOffset object representing 2 months\n",
        "dof = pd.DateOffset(months=2)\n",
        "print(dof)\n",
        "\n",
        "# Create a DateOffset object representing 1 year\n",
        "dof = pd.DateOffset(years=1)\n",
        "print(dof)"
      ],
      "metadata": {
        "id": "3yAj-18mKY48",
        "colab": {
          "base_uri": "https://localhost:8080/"
        },
        "outputId": "08b243eb-b57a-4b20-b9bb-677a5524cbdf"
      },
      "execution_count": 9,
      "outputs": [
        {
          "output_type": "stream",
          "name": "stdout",
          "text": [
            "<DateOffset: months=2>\n",
            "<DateOffset: years=1>\n"
          ]
        }
      ]
    },
    {
      "cell_type": "markdown",
      "source": [
        "#### **Applying a DateOffset to a date or datetime**\n",
        "\n",
        "You can apply a DateOffset object to a date or datetime object to shift the date or time by the specified duration. Here are some examples:\n"
      ],
      "metadata": {
        "id": "kHP2Lo71spg0"
      }
    },
    {
      "cell_type": "code",
      "source": [
        "import pandas as pd\n",
        "\n",
        "# Create a date object for January 1, 2022\n",
        "date = pd.to_datetime('2022-01-01')\n",
        "print(date)\n",
        "\n",
        "# Add 1 day to the date\n",
        "new_date = date + pd.DateOffset(days=1)\n",
        "print(new_date)"
      ],
      "metadata": {
        "id": "N3fLM_2cszPP",
        "colab": {
          "base_uri": "https://localhost:8080/"
        },
        "outputId": "abba8395-3e38-4ba7-8590-3aa9696564cb"
      },
      "execution_count": 10,
      "outputs": [
        {
          "output_type": "stream",
          "name": "stdout",
          "text": [
            "2022-01-01 00:00:00\n",
            "2022-01-02 00:00:00\n"
          ]
        }
      ]
    },
    {
      "cell_type": "code",
      "source": [
        "# Subtract 2 months from the date\n",
        "new_date = date - pd.DateOffset(months=2)\n",
        "print(new_date)"
      ],
      "metadata": {
        "id": "QWZXwHopKnN3",
        "colab": {
          "base_uri": "https://localhost:8080/"
        },
        "outputId": "92f95f18-bb87-42d5-ad10-fd7e707a4b6d"
      },
      "execution_count": 11,
      "outputs": [
        {
          "output_type": "stream",
          "name": "stdout",
          "text": [
            "2021-11-01 00:00:00\n"
          ]
        }
      ]
    },
    {
      "cell_type": "code",
      "source": [
        "# Add 1 year to the datetime\n",
        "datetime = pd.to_datetime('2022-01-01 12:00:00')\n",
        "new_datetime = datetime + pd.DateOffset(years=1)\n",
        "print(new_datetime)\n"
      ],
      "metadata": {
        "id": "5gFyYxF3KsqV",
        "colab": {
          "base_uri": "https://localhost:8080/"
        },
        "outputId": "4d0683c8-fc80-434a-aae3-3d94411c11c1"
      },
      "execution_count": 12,
      "outputs": [
        {
          "output_type": "stream",
          "name": "stdout",
          "text": [
            "2023-01-01 12:00:00\n"
          ]
        }
      ]
    }
  ]
}