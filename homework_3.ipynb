{
  "nbformat": 4,
  "nbformat_minor": 0,
  "metadata": {
    "colab": {
      "provenance": [],
      "authorship_tag": "ABX9TyMy3Aoqy5fkRgrg3wMk9HRi",
      "include_colab_link": true
    },
    "kernelspec": {
      "name": "python3",
      "display_name": "Python 3"
    },
    "language_info": {
      "name": "python"
    }
  },
  "cells": [
    {
      "cell_type": "markdown",
      "metadata": {
        "id": "view-in-github",
        "colab_type": "text"
      },
      "source": [
        "<a href=\"https://colab.research.google.com/github/statrliu/data_bootcamp_part1/blob/main/homework_3.ipynb\" target=\"_parent\"><img src=\"https://colab.research.google.com/assets/colab-badge.svg\" alt=\"Open In Colab\"/></a>"
      ]
    },
    {
      "cell_type": "code",
      "source": [
        "import pandas as pd"
      ],
      "metadata": {
        "id": "g3gx6R9H5qxj"
      },
      "execution_count": 7,
      "outputs": []
    },
    {
      "cell_type": "markdown",
      "source": [
        "# Q1\n",
        "\n",
        "Create a DataFrame containing information about students, including their names, ages, and grades.\n",
        "\n",
        "Example output:\n",
        "```\n",
        "      Name  Age Grade\n",
        "0    Alice   20     A\n",
        "1      Bob   22     B\n",
        "2  Charlie   21     C\n",
        "3    David   23     B\n",
        "```"
      ],
      "metadata": {
        "id": "sPW3BMuBIrgb"
      }
    },
    {
      "cell_type": "code",
      "execution_count": 7,
      "metadata": {
        "id": "B_0UDwTEIoRU"
      },
      "outputs": [],
      "source": []
    },
    {
      "cell_type": "markdown",
      "source": [
        "# Q2\n",
        "\n",
        "You have a DataFrame (`df_mixed`) containing a column of numerical values, but some values are represented as strings. You want to convert the column to float, and for values that cannot be converted, replace them with a specific placeholder value, such as -1.\n",
        "\n",
        "```\n",
        "data = {'Values': [100, 'yellow', 'apple', '201', 78.5]}\n",
        "\n",
        "df_mixed = pd.DataFrame(data)\n",
        "```"
      ],
      "metadata": {
        "id": "BuARSwT2O9M9"
      }
    },
    {
      "cell_type": "code",
      "source": [],
      "metadata": {
        "id": "kUA3-RmxPXiO"
      },
      "execution_count": 7,
      "outputs": []
    },
    {
      "cell_type": "markdown",
      "source": [
        "# Q3\n",
        "\n",
        "You have a DataFrame (`df_students`) containing student information, and you want to add a new column 'Grade' that contains the corresponding grade level for each student. Assume that the grade levels are 'Freshman', 'Sophomore', 'Junior', and 'Senior'.\n",
        "\n",
        "```\n",
        "data = {'Name': ['Alice', 'Bob', 'Charlie', 'David'],\n",
        "        'Age': [20, 22, 21, 23]}\n",
        "\n",
        "df_students = pd.DataFrame(data)\n",
        "```"
      ],
      "metadata": {
        "id": "_70K23ujVR1R"
      }
    },
    {
      "cell_type": "code",
      "source": [],
      "metadata": {
        "id": "JtNSYSE5Wh6p"
      },
      "execution_count": 7,
      "outputs": []
    },
    {
      "cell_type": "markdown",
      "source": [
        "# Q4\n",
        "\n",
        "You have a DataFrame (`df_sales`) containing sales data with a column 'Tax' that you want to drop because it's no longer needed.\n",
        "\n",
        "```\n",
        "data = {'Product': ['Laptop', 'Phone', 'Tablet', 'Monitor'],\n",
        "        'Quantity Sold': [100, 200, 150, 50],\n",
        "        'Price': [800, 500, 300, 200],\n",
        "        'Tax': [40, 25, 15, 10]}\n",
        "\n",
        "df_sales = pd.DataFrame(data)\n",
        "```"
      ],
      "metadata": {
        "id": "AG1Y87P_Wx8F"
      }
    },
    {
      "cell_type": "code",
      "source": [],
      "metadata": {
        "id": "wfQQmEzlW3Ur"
      },
      "execution_count": 7,
      "outputs": []
    },
    {
      "cell_type": "markdown",
      "source": [
        "# Q5\n",
        "\n",
        "You have a DataFrame (`df_students`) with student information, and you want to drop all students who are older than 22 years old.\n",
        "\n",
        "```\n",
        "data = {'Name': ['Alice', 'Bob', 'Charlie', 'David'],\n",
        "        'Age': [20, 22, 21, 23]}\n",
        "\n",
        "df_students = pd.DataFrame(data)\n",
        "```"
      ],
      "metadata": {
        "id": "tScOMlurXUbN"
      }
    },
    {
      "cell_type": "code",
      "source": [],
      "metadata": {
        "id": "UhQRvzW1XYNb"
      },
      "execution_count": 7,
      "outputs": []
    },
    {
      "cell_type": "markdown",
      "source": [
        "# Q6\n",
        "\n",
        "You have a DataFrame (`df_students`) containing student information, and you want to create a new DataFrame that includes only the first two rows of student data.\n",
        "\n",
        "```\n",
        "data = {'Name': ['Alice', 'Bob', 'Charlie', 'David'],\n",
        "        'Age': [20, 22, 21, 23]}\n",
        "\n",
        "df_students = pd.DataFrame(data)\n",
        "```"
      ],
      "metadata": {
        "id": "gA21M9A-pRnv"
      }
    },
    {
      "cell_type": "code",
      "source": [],
      "metadata": {
        "id": "wlnb5t1PpWBM"
      },
      "execution_count": 7,
      "outputs": []
    },
    {
      "cell_type": "markdown",
      "source": [
        "# Q7\n",
        "\n",
        "You have a DataFrame (`df_employees`) containing employee information, and you want to create a new DataFrame that includes only the employees with a salary greater than $60,000.\n",
        "\n",
        "```\n",
        "data = {'EmployeeID': [101, 102, 103, 104],\n",
        "        'Name': ['Alice', 'Bob', 'Charlie', 'David'],\n",
        "        'Salary': [50000, 60000, 75000, 70000]}\n",
        "\n",
        "df_employees = pd.DataFrame(data)\n",
        "```"
      ],
      "metadata": {
        "id": "FTHyLG1OppB2"
      }
    },
    {
      "cell_type": "code",
      "source": [],
      "metadata": {
        "id": "w1BzNBZ_pzID"
      },
      "execution_count": 7,
      "outputs": []
    },
    {
      "cell_type": "markdown",
      "source": [
        "# Q8\n",
        "\n",
        "You have a DataFrame (`df_products`) with product information, and you want to create a new DataFrame that includes only the products with a price greater than $300 and a quantity sold greater than 100.\n",
        "\n",
        "```\n",
        "data = {'Product': ['Laptop', 'Phone', 'Tablet', 'Monitor'],\n",
        "        'Quantity Sold': [100, 200, 150, 50],\n",
        "        'Price': [800, 500, 300, 200]}\n",
        "\n",
        "df_products = pd.DataFrame(data)\n",
        "```"
      ],
      "metadata": {
        "id": "jTdCO2JKp7PF"
      }
    },
    {
      "cell_type": "code",
      "source": [
        "\n"
      ],
      "metadata": {
        "id": "WJ6oc0wPqA4D"
      },
      "execution_count": 7,
      "outputs": []
    },
    {
      "cell_type": "markdown",
      "source": [
        "# Q9\n",
        "\n",
        "You have a DataFrame (`df_products`) containing product information, and you want to filter and create a new DataFrame that includes only the products that are either 'Laptop' or 'Tablet.'\n",
        "\n",
        "```\n",
        "data = {'Product': ['Laptop', 'Phone', 'Tablet', 'Monitor'],\n",
        "        'Quantity Sold': [100, 200, 150, 50],\n",
        "        'Price': [800, 500, 300, 200]}\n",
        "\n",
        "df_products = pd.DataFrame(data)\n",
        "```"
      ],
      "metadata": {
        "id": "wGbJZXnKqiEi"
      }
    },
    {
      "cell_type": "code",
      "source": [],
      "metadata": {
        "id": "MwUBTJYsqnyH"
      },
      "execution_count": 7,
      "outputs": []
    },
    {
      "cell_type": "markdown",
      "source": [
        "# Q10\n",
        "\n",
        "You have a DataFrame (`df_products`) containing product information with columns 'Product_Name', 'Category', 'Price_USD', 'In_Stock', and 'Supplier'. Use the filter method with like to create a new DataFrame containing only columns containing 'Price' in their names ('Price_USD').\n",
        "\n",
        "```\n",
        "data = {'Product_Name': ['Laptop', 'Phone', 'Tablet', 'Monitor'],\n",
        "        'Category': ['Electronics', 'Electronics', 'Electronics', 'Electronics'],\n",
        "        'Price_USD': [800, 500, 300, 200],\n",
        "        'In_Stock': [True, True, False, True],\n",
        "        'Supplier': ['Supplier1', 'Supplier2', 'Supplier3', 'Supplier4']}\n",
        "\n",
        "df_products = pd.DataFrame(data)\n",
        "```"
      ],
      "metadata": {
        "id": "RiB-MvqCrRd8"
      }
    },
    {
      "cell_type": "code",
      "source": [
        "\n"
      ],
      "metadata": {
        "id": "GkoM5T3JrQnt"
      },
      "execution_count": 7,
      "outputs": []
    },
    {
      "cell_type": "markdown",
      "source": [
        "# Q11\n",
        "\n",
        "You have a DataFrame (`df_sales`) containing sales data with columns 'Date', 'Product', and 'Revenue.' Sort the DataFrame first by 'Product' in ascending order and then by 'Revenue' in descending order within each product group.\n",
        "\n",
        "```\n",
        "data = {'Date': ['2023-01-15', '2023-01-16', '2023-01-17', '2023-01-18'],\n",
        "        'Product': ['Laptop', 'Phone', 'Tablet', 'Laptop'],\n",
        "        'Revenue': [1200, 800, 450, 1000]}\n",
        "\n",
        "df_sales = pd.DataFrame(data)\n",
        "```\n",
        "\n"
      ],
      "metadata": {
        "id": "QSIe_-RctHm4"
      }
    },
    {
      "cell_type": "code",
      "source": [],
      "metadata": {
        "id": "iUeTziBotNxP"
      },
      "execution_count": 7,
      "outputs": []
    },
    {
      "cell_type": "markdown",
      "source": [
        "# Q12\n",
        "\n",
        "You have a DataFrame (`df_cities`) with a custom index and columns 'City' and 'Population.' Sort the DataFrame by the index in ascending order to get the data sorted by city names.\n",
        "\n",
        "```\n",
        "data = {'City': ['New York', 'Los Angeles', 'Chicago'],\n",
        "        'Population': [8398748, 3990456, 2705994]}\n",
        "\n",
        "index = ['NY', 'CA', 'IL']\n",
        "\n",
        "df_cities = pd.DataFrame(data, index=index)\n",
        "```"
      ],
      "metadata": {
        "id": "_yA025e5tvbg"
      }
    },
    {
      "cell_type": "code",
      "source": [
        "\n"
      ],
      "metadata": {
        "id": "F-tSmqm5t0uD"
      },
      "execution_count": 7,
      "outputs": []
    },
    {
      "cell_type": "markdown",
      "source": [
        "# Q13\n",
        "\n",
        "You have a DataFrame (`df_sales`) containing sales data with columns 'OrderID', 'Product', and 'Quantity.' Find and display the duplicated rows in the DataFrame based on all columns.\n",
        "\n",
        "```\n",
        "data = {'OrderID': [101, 102, 101, 103, 102],\n",
        "        'Product': ['Laptop', 'Phone', 'Laptop', 'Tablet', 'Phone'],\n",
        "        'Quantity': [2, 3, 2, 1, 4]}\n",
        "\n",
        "df_sales = pd.DataFrame(data)\n",
        "```"
      ],
      "metadata": {
        "id": "g_JfDZIA5R5w"
      }
    },
    {
      "cell_type": "code",
      "source": [],
      "metadata": {
        "id": "YoFRUoFe5WDy"
      },
      "execution_count": 7,
      "outputs": []
    },
    {
      "cell_type": "markdown",
      "source": [
        "# Q14\n",
        "\n",
        "You have a DataFrame (`df_employees`) with employee information containing columns 'EmployeeID', 'Name', and 'Email.' Find and display the duplicated rows based on the 'Email' column only.\n",
        "\n",
        "```\n",
        "data = {'EmployeeID': [101, 102, 103, 104],\n",
        "        'Name': ['Alice', 'Bob', 'Charlie', 'David'],\n",
        "        'Email': ['alice@example.com', 'bob@example.com', 'alice@example.com', 'david@example.com']}\n",
        "\n",
        "df_employees = pd.DataFrame(data)\n",
        "```"
      ],
      "metadata": {
        "id": "1Qon72YC535Q"
      }
    },
    {
      "cell_type": "code",
      "source": [],
      "metadata": {
        "id": "Z-Dvt8Es58M0"
      },
      "execution_count": 7,
      "outputs": []
    },
    {
      "cell_type": "markdown",
      "source": [
        "# Q15\n",
        "\n",
        "You have a DataFrame (`df_products`) containing product information with columns 'ProductID', 'Name', and 'Category.' Drop all duplicated rows in the DataFrame, keeping the first occurrence.\n",
        "\n",
        "```\n",
        "data = {'ProductID': [101, 102, 101, 103, 102],\n",
        "        'Name': ['Laptop', 'Phone', 'Laptop', 'Tablet', 'Phone'],\n",
        "        'Category': ['Electronics', 'Electronics', 'Electronics', 'Electronics', 'Electronics']}\n",
        "\n",
        "df_products = pd.DataFrame(data)\n",
        "```"
      ],
      "metadata": {
        "id": "E9IWPlxt6Vgs"
      }
    },
    {
      "cell_type": "code",
      "source": [],
      "metadata": {
        "id": "2TWxFSnV6ZU0"
      },
      "execution_count": 7,
      "outputs": []
    },
    {
      "cell_type": "markdown",
      "source": [
        "# Q16\n",
        "\n",
        "You have a DataFrame (`df_employees`) containing employee information with columns 'EmployeeID', 'Name', 'Salary', and 'Department.' Find and display the rows that contain missing values.\n",
        "\n",
        "```\n",
        "data = {'EmployeeID': [101, 102, 103, 104],\n",
        "        'Name': ['Alice', 'Bob', 'Charlie', 'David'],\n",
        "        'Salary': [50000, None, 75000, 70000],\n",
        "        'Department': ['HR', 'Finance', None, 'IT']}\n",
        "\n",
        "df_employees = pd.DataFrame(data)\n",
        "```"
      ],
      "metadata": {
        "id": "5ygzh3QoAyCZ"
      }
    },
    {
      "cell_type": "code",
      "source": [],
      "metadata": {
        "id": "_BXkSJRGA3ya"
      },
      "execution_count": 7,
      "outputs": []
    },
    {
      "cell_type": "markdown",
      "source": [
        "# Q17\n",
        "\n",
        "You have a DataFrame (`df_feedback`) containing customer feedback data with columns 'Name', 'Feedback', 'Rating', and 'Comments.' Drop the columns that contain missing values from the DataFrame.\n",
        "\n",
        "```\n",
        "data = {'Name': ['Alice', 'Bob', 'Charlie', 'David'],\n",
        "        'Feedback': ['Positive', None, 'Positive', 'Negative'],\n",
        "        'Rating': [5, 4, None, 2],\n",
        "        'Comments': ['Great service', 'No comments', None, 'Poor experience']}\n",
        "\n",
        "df_feedback = pd.DataFrame(data)\n",
        "```"
      ],
      "metadata": {
        "id": "3ftbwI2jBaMP"
      }
    },
    {
      "cell_type": "code",
      "source": [],
      "metadata": {
        "id": "sN5Yh28nBhXY"
      },
      "execution_count": 7,
      "outputs": []
    },
    {
      "cell_type": "markdown",
      "source": [
        "# Q18\n",
        "\n",
        "You have a DataFrame (`df_sales`) containing sales data with columns 'Quantity Sold' and 'Price.' Calculate the total revenue for each product by multiplying the 'Quantity Sold' by the 'Price' and add it as a new column 'Revenue' to the DataFrame.\n",
        "\n",
        "```\n",
        "data = {'Product': ['Laptop', 'Phone', 'Tablet', 'Monitor'],\n",
        "        'Quantity Sold': [100, 200, 150, 50],\n",
        "        'Price': [800, 500, 300, 200]}\n",
        "\n",
        "df_sales = pd.DataFrame(data)\n",
        "```"
      ],
      "metadata": {
        "id": "K3WauUXw9rMV"
      }
    },
    {
      "cell_type": "code",
      "source": [
        "\n"
      ],
      "metadata": {
        "id": "s_ocDsgF9wg8"
      },
      "execution_count": 7,
      "outputs": []
    },
    {
      "cell_type": "markdown",
      "source": [
        "# Q19\n",
        "\n",
        "You have a DataFrame (`df_products`) with product information containing columns 'Stock' and 'Price.' Filter and create a new DataFrame that includes only the products that are both in stock (Stock > 0) and priced below $400 (Price < 400).\n",
        "\n",
        "```\n",
        "data = {'Product': ['Laptop', 'Phone', 'Tablet', 'Monitor'],\n",
        "        'Stock': [10, 20, 0, 5],\n",
        "        'Price': [800, 500, 300, 200]}\n",
        "\n",
        "df_products = pd.DataFrame(data)\n",
        "```"
      ],
      "metadata": {
        "id": "I3jkzesZ-J1c"
      }
    },
    {
      "cell_type": "code",
      "source": [
        "\n"
      ],
      "metadata": {
        "id": "SrR8mujf-P_w"
      },
      "execution_count": 7,
      "outputs": []
    },
    {
      "cell_type": "markdown",
      "source": [
        "# Q20\n",
        "\n",
        "You have a DataFrame (`df_sales`) containing sales data with columns 'Product' and 'Revenue.' Calculate the total revenue and average revenue for each product group using the agg() method.\n",
        "\n",
        "```\n",
        "data = {'Product': ['Laptop', 'Phone', 'Tablet', 'Laptop', 'Phone'],\n",
        "        'Revenue': [1200, 800, 450, 1000, 700]}\n",
        "\n",
        "df_sales = pd.DataFrame(data)\n",
        "```\n"
      ],
      "metadata": {
        "id": "J3c7zLkN-wYa"
      }
    },
    {
      "cell_type": "code",
      "source": [],
      "metadata": {
        "id": "00eqMrKP-0Py"
      },
      "execution_count": 7,
      "outputs": []
    },
    {
      "cell_type": "markdown",
      "source": [
        "# Q21\n",
        "\n",
        "You have a DataFrame (`df_employees`) containing employee information with columns 'Name' and 'Salary.' Apply a function that increases the salary of each employee by 10% using the apply() method.\n",
        "\n",
        "```\n",
        "data = {'Name': ['Alice', 'Bob', 'Charlie', 'David'],\n",
        "        'Salary': [50000, 60000, 75000, 70000]}\n",
        "\n",
        "df_employees = pd.DataFrame(data)\n",
        "```"
      ],
      "metadata": {
        "id": "ZBhjcSwL_E5H"
      }
    },
    {
      "cell_type": "code",
      "source": [],
      "metadata": {
        "id": "mTmbrKPi_LWc"
      },
      "execution_count": 7,
      "outputs": []
    },
    {
      "cell_type": "markdown",
      "source": [
        "# Q22\n",
        "\n",
        "You have a DataFrame (`df_feedback`) containing customer feedback data with columns 'Feedback' and 'Rating.' Apply a function that converts the text in the 'Feedback' column to uppercase and doubles the 'Rating' using the applymap() method.\n",
        "\n",
        "```\n",
        "data = {'Feedback': ['Positive', 'Neutral', 'Negative'],\n",
        "        'Rating': [5, 4, 2]}\n",
        "\n",
        "df_feedback = pd.DataFrame(data)\n",
        "```"
      ],
      "metadata": {
        "id": "xqFOVM0D_vpW"
      }
    },
    {
      "cell_type": "code",
      "source": [],
      "metadata": {
        "id": "qFsXUSI1_zWo"
      },
      "execution_count": 7,
      "outputs": []
    },
    {
      "cell_type": "markdown",
      "source": [
        "# Q23\n",
        "\n",
        "You have a DataFrame (`df_sales`) containing sales data with columns 'Product' and 'Revenue.' Group the data by 'Product' and calculate the total revenue for each product group.\n",
        "\n",
        "```\n",
        "data = {'Product': ['Laptop', 'Phone', 'Tablet', 'Laptop', 'Phone'],\n",
        "        'Revenue': [1200, 800, 450, 1000, 700]}\n",
        "\n",
        "df_sales = pd.DataFrame(data)\n",
        "```"
      ],
      "metadata": {
        "id": "QssUcQnGLFGm"
      }
    },
    {
      "cell_type": "code",
      "source": [],
      "metadata": {
        "id": "SyFDLmGXLK4Z"
      },
      "execution_count": 7,
      "outputs": []
    },
    {
      "cell_type": "markdown",
      "source": [
        "# Q24\n",
        "\n",
        "You have a DataFrame (`df_feedback`) containing customer feedback data with columns 'Feedback' and 'Rating.' Group the data by 'Feedback' and count the number of occurrences of each feedback type.\n",
        "\n",
        "```\n",
        "data = {'Feedback': ['Positive', 'Neutral', 'Negative', 'Positive', 'Negative'],\n",
        "        'Rating': [5, 4, 2, 5, 1]}\n",
        "\n",
        "df_feedback = pd.DataFrame(data)\n",
        "```"
      ],
      "metadata": {
        "id": "vul2hZBwLWnW"
      }
    },
    {
      "cell_type": "code",
      "source": [],
      "metadata": {
        "id": "oVsTvxnvLhC1"
      },
      "execution_count": 7,
      "outputs": []
    },
    {
      "cell_type": "markdown",
      "source": [
        "# Q25\n",
        "\n",
        "You have a DataFrame (`df_sales`) containing sales data with columns 'Product', 'Category', and 'Revenue.' Group the data by both 'Product' and 'Category' and calculate the total revenue for each product-category combination.\n",
        "\n",
        "```\n",
        "data = {'Product': ['Laptop', 'Phone', 'Tablet', 'Laptop', 'Phone'],\n",
        "        'Category': ['Electronics', 'Electronics', 'Electronics', 'Electronics', 'Electronics'],\n",
        "        'Revenue': [1200, 800, 450, 1000, 700]}\n",
        "\n",
        "df_sales = pd.DataFrame(data)\n",
        "```"
      ],
      "metadata": {
        "id": "DBQcsOatMqZZ"
      }
    },
    {
      "cell_type": "code",
      "source": [],
      "metadata": {
        "id": "iPgZeq61MvTA"
      },
      "execution_count": 7,
      "outputs": []
    },
    {
      "cell_type": "markdown",
      "source": [
        "# Q26\n",
        "\n",
        "You have two DataFrames, `df1` and `df2`, both containing student information with columns 'Name' and 'Age.' Concatenate the two DataFrames vertically to create a single DataFrame containing all student records.\n",
        "\n",
        "```\n",
        "data1 = {'Name': ['Alice', 'Bob'],\n",
        "         'Age': [20, 22]}\n",
        "data2 = {'Name': ['Charlie', 'David'],\n",
        "         'Age': [21, 23]}\n",
        "\n",
        "df1 = pd.DataFrame(data1)\n",
        "df2 = pd.DataFrame(data2)\n",
        "```"
      ],
      "metadata": {
        "id": "S6eDI25YFoiQ"
      }
    },
    {
      "cell_type": "code",
      "source": [],
      "metadata": {
        "id": "6-2kBs9UFvU_"
      },
      "execution_count": 7,
      "outputs": []
    },
    {
      "cell_type": "markdown",
      "source": [
        "# Q27\n",
        "\n",
        "You have two DataFrames, `df1` and `df2`, with columns 'ProductID' and 'Category.' Perform a left join on 'ProductID' to combine the information, keeping all rows from df1.\n",
        "\n",
        "```\n",
        "data1 = {'ProductID': [101, 102, 103],\n",
        "         'Category': ['Electronics', 'Clothing', 'Electronics']}\n",
        "data2 = {'ProductID': [102, 103, 104],\n",
        "         'Category': ['Clothing', 'Electronics', 'Furniture']}\n",
        "\n",
        "df1 = pd.DataFrame(data1)\n",
        "df2 = pd.DataFrame(data2)\n",
        "```"
      ],
      "metadata": {
        "id": "7shew1n5F7ID"
      }
    },
    {
      "cell_type": "code",
      "source": [],
      "metadata": {
        "id": "Wb6FbPlCGLbH"
      },
      "execution_count": 7,
      "outputs": []
    }
  ]
}