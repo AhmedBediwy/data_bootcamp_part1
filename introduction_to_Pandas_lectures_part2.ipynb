{
  "nbformat": 4,
  "nbformat_minor": 0,
  "metadata": {
    "colab": {
      "provenance": [],
      "toc_visible": true,
      "authorship_tag": "ABX9TyPgVeTQ5/ewHrwtk95XWhth",
      "include_colab_link": true
    },
    "kernelspec": {
      "name": "python3",
      "display_name": "Python 3"
    },
    "language_info": {
      "name": "python"
    }
  },
  "cells": [
    {
      "cell_type": "markdown",
      "metadata": {
        "id": "view-in-github",
        "colab_type": "text"
      },
      "source": [
        "<a href=\"https://colab.research.google.com/github/statrliu/data_bootcamp_part1/blob/main/introduction_to_Pandas_lectures_part2.ipynb\" target=\"_parent\"><img src=\"https://colab.research.google.com/assets/colab-badge.svg\" alt=\"Open In Colab\"/></a>"
      ]
    },
    {
      "cell_type": "code",
      "source": [
        "import pandas as pd\n",
        "pd.__version__"
      ],
      "metadata": {
        "id": "HH9WulUYO7sy"
      },
      "execution_count": null,
      "outputs": []
    },
    {
      "cell_type": "markdown",
      "source": [
        "# **DataFrame**\n",
        "One of the main data structures in Pandas is the DataFrame, which is a two-dimensional table-like data structure consisting of rows and columns."
      ],
      "metadata": {
        "id": "w8evcEAmvnFS"
      }
    },
    {
      "cell_type": "markdown",
      "source": [
        "## *Create DataFrame Objects*\n",
        "\n",
        "* When creating a DataFrame object, Pandas decides the indexes (row labels) and columns (column labels) first, than populate the content of the dataframe.\n",
        "* Two ways to create DataFame objects:\n",
        "  1. Column-wise: Combine list-like (list, dict, Pandas Series, numpy ndarray, ) objects in a column-by-column way.\n",
        "  2. Row-wise: Combine list-like objects in a row-by-row way.\n",
        "* There are several Pandas functions/methods for creating DataFrames, the commonly used one is the `.DataFrame()` constructor function.   \n"
      ],
      "metadata": {
        "id": "urQlEE2FlNyI"
      }
    },
    {
      "cell_type": "markdown",
      "source": [
        "### **Column-wise Creation**\n",
        "We can use a **dictionary** of list-like objects to create a DataFrame object using `.DataFrame()` or `.DataFrame.from_dict()`.\n",
        "\n",
        "* Each list-like object is treated as a column of the DataFrame object.\n",
        "* If `columns = None` (default) when calling the `.DataFrame()`, the keys of the dictionary object will be the column labels.\n",
        "* If `index = None` (default) when calling the `DataFrame()`, the index of the DataFrame object will be, depending on the type of list-like objects in the dictionary,  \n",
        "  * the **union** of indexes of Series objects.\n",
        "  * the **union** of keys of dictionaries.\n",
        "  * `range(n)` for list or numpy ndarray object. Here `n` is the number of elements in the object.\n",
        "\n",
        "\n"
      ],
      "metadata": {
        "id": "z_EPNB-gYuzf"
      }
    },
    {
      "cell_type": "code",
      "source": [
        "# Using Dictionary of lists\n",
        "data = {'Name': ['John', 'Mary', 'Peter', 'Jane'],\n",
        "        'Age': [25, 30, 20, 35],\n",
        "        'City': ['New York', 'Paris', 'London', 'Sydney'],\n",
        "        'Country': ['USA', 'France', 'UK', 'Australia']}\n",
        "\n",
        "df = pd.DataFrame(data)\n",
        "\n",
        "print(df, end = '\\n\\n')\n",
        "print(df.index, end = '\\n\\n')\n",
        "print(df.columns)"
      ],
      "metadata": {
        "id": "CHINfgQ62XJ6"
      },
      "execution_count": null,
      "outputs": []
    },
    {
      "cell_type": "code",
      "source": [
        "# Using Dictionary of dictionary\n",
        "data = {'Name': {'row1': 'John', 'row2': 'Mary', 'row3': 'Peter', 'row4': 'Jane'},\n",
        "        'Age': {'row1': 25, 'row2': 30, 'row3': 20, 'row4': 35},\n",
        "        'City': {'row1': 'New York', 'row2': 'Paris', 'row3': 'London', 'row4': 'Sydney'},\n",
        "        'Country': {'row1': 'USA', 'row2': 'France', 'row3': 'UK', 'row4': 'Australia'}}\n",
        "\n",
        "df = pd.DataFrame(data)\n",
        "# Or use from_dict method: df = pd.DataFrame.from_dict(data, orient='columns')\n",
        "\n",
        "print(df)"
      ],
      "metadata": {
        "id": "7y0Z2UWZ4LS0"
      },
      "execution_count": null,
      "outputs": []
    },
    {
      "cell_type": "markdown",
      "source": [
        "### **Row-wise Creation**"
      ],
      "metadata": {
        "id": "h5S0jDP4Y51z"
      }
    },
    {
      "cell_type": "code",
      "source": [
        "# Use list of list.\n",
        "data = [['Alice', 25, 'New York'],\n",
        "        ['Bob', 30, 'Los Angeles'],\n",
        "        ['Charlie', 22, 'Chicago']]\n",
        "\n",
        "df = pd.DataFrame(data, columns= [\"Name\", \"Age\", \"City\"], index=None)\n",
        "print(df)"
      ],
      "metadata": {
        "colab": {
          "base_uri": "https://localhost:8080/"
        },
        "id": "7pomKlp74pfa",
        "outputId": "092b04c5-f28e-4def-ef73-142741f8cfbd"
      },
      "execution_count": 4,
      "outputs": [
        {
          "output_type": "stream",
          "name": "stdout",
          "text": [
            "      Name  Age         City\n",
            "0    Alice   25     New York\n",
            "1      Bob   30  Los Angeles\n",
            "2  Charlie   22      Chicago\n"
          ]
        }
      ]
    },
    {
      "cell_type": "markdown",
      "source": [
        "### *Set_index and Reset_index*\n",
        "* The `set_index() method is used to set a column or a combination of columns as the DataFrame's index. This method returns a new DataFrame with the specified column(s) set as the index.\n",
        "\n",
        "* The `reset_index()` method is used to reset the index of a DataFrame. By default, the method adds a new integer index starting from 0 and makes the current index a new column.\n",
        "\n",
        "Both of methods have `inplace` parameter to change the original DataFrame\n",
        "\n"
      ],
      "metadata": {
        "id": "mwHACr__qtUB"
      }
    },
    {
      "cell_type": "code",
      "source": [
        "# Set index\n",
        "data = {'Name': ['John', 'Mary', 'Peter', 'Jane'],\n",
        "        'Age': [25, 30, 20, 35],\n",
        "        'City': ['New York', 'Paris', 'London', 'Sydney'],\n",
        "        'Country': ['USA', 'France', 'UK', 'Australia']}\n",
        "\n",
        "df = pd.DataFrame(data)\n",
        "print(df, end = \"\\n\\n\")\n",
        "\n",
        "# set 'Name' column as index\n",
        "df_new = df.set_index('Name')\n",
        "print(df_new)"
      ],
      "metadata": {
        "id": "HzENr0dT7hNK"
      },
      "execution_count": null,
      "outputs": []
    },
    {
      "cell_type": "markdown",
      "source": [
        "Question:\n",
        "\n",
        "What is the index of the following dataframe ?\n",
        "```\n",
        "data = {'Name': ['John', 'Mary', 'Peter', 'Jane'],\n",
        "        'Age': [25, 30, 20, 35],\n",
        "        'City': ['New York', 'Paris', 'London', 'Sydney'],\n",
        "        'Country': ['USA', 'France', 'UK', 'Australia']}\n",
        "\n",
        "df.set_index(['Name','Age'])\n",
        "```"
      ],
      "metadata": {
        "id": "55eMLoQ8KLic"
      }
    },
    {
      "cell_type": "code",
      "source": [],
      "metadata": {
        "id": "TO8fEU45KNtY"
      },
      "execution_count": null,
      "outputs": []
    },
    {
      "cell_type": "code",
      "source": [
        "# Reset index\n",
        "data = {'Name': ['John', 'Mary', 'Peter', 'Jane'],\n",
        "        'Age': [25, 30, 20, 35],\n",
        "        'City': ['New York', 'Paris', 'London', 'Sydney'],\n",
        "        'Country': ['USA', 'France', 'UK', 'Australia']}\n",
        "\n",
        "df = pd.DataFrame(data)\n",
        "\n",
        "# set 'Name' column as index\n",
        "df_new = df.set_index('Name')\n",
        "print(df_new, end = \"\\n\\n\")\n",
        "\n",
        "print(df_new.reset_index())\n",
        "#print(df_new.reset_index(drop = True))"
      ],
      "metadata": {
        "id": "TG-Y7L0j6SGr"
      },
      "execution_count": null,
      "outputs": []
    },
    {
      "cell_type": "markdown",
      "source": [
        "Question:\n",
        "What is the index of the following dataframe?\n",
        "```\n",
        "data = {'Name': ['John', 'Mary', 'Peter', 'Jane'],\n",
        "        'Age': [25, 30, 20, 35],\n",
        "        'City': ['New York', 'Paris', 'London', 'Sydney'],\n",
        "        'Country': ['USA', 'France', 'UK', 'Australia']}\n",
        "\n",
        "df.set_index(['Name','Age']).reset_index(level = 0)\n",
        "```"
      ],
      "metadata": {
        "id": "44NYeeBLKy8b"
      }
    },
    {
      "cell_type": "code",
      "source": [],
      "metadata": {
        "id": "zdOnT4l7LFXU"
      },
      "execution_count": null,
      "outputs": []
    },
    {
      "cell_type": "markdown",
      "source": [
        "## *Quick Summary Info of a DataFrame*\n"
      ],
      "metadata": {
        "id": "DdSlZzoIlTFl"
      }
    },
    {
      "cell_type": "code",
      "source": [
        "import numpy as np\n",
        "# create data\n",
        "data = {'int_col': [1, 2, 3, 4, 5],\n",
        "        'float_col': [1.1, 2.2, 3.3, np.nan, 5.5],\n",
        "        'str_col': ['apple', 'banana', 'cherry', 'date', np.nan],\n",
        "        'datetime_col': [pd.Timestamp('2022-01-01'), pd.Timestamp('2022-01-02'), pd.Timestamp('2022-01-03'), pd.NaT, pd.Timestamp('2022-01-05')]}\n",
        "\n",
        "df = pd.DataFrame(data)\n",
        "\n",
        "print(df.head(3))\n",
        "\n",
        "print(df.shape)"
      ],
      "metadata": {
        "id": "RKbEsdHg_LJC"
      },
      "execution_count": null,
      "outputs": []
    },
    {
      "cell_type": "code",
      "source": [
        "# Show column types\n",
        "print(df.dtypes)\n"
      ],
      "metadata": {
        "id": "CE6UNd5wMYEN"
      },
      "execution_count": null,
      "outputs": []
    },
    {
      "cell_type": "code",
      "source": [
        "print(df.info()) # memory_usage = \"deep\""
      ],
      "metadata": {
        "id": "0HmptlmtMqJf"
      },
      "execution_count": null,
      "outputs": []
    },
    {
      "cell_type": "code",
      "source": [
        "# describe method\n",
        "print(df.describe()) #include = \"all\""
      ],
      "metadata": {
        "id": "pKzpYtB2MvMZ"
      },
      "execution_count": null,
      "outputs": []
    },
    {
      "cell_type": "markdown",
      "source": [
        "## *Data Type Conversion*\n",
        "In Pandas, you can use the `astype()` method to convert the data types of one or more columns in a DataFrame.\n",
        "\n",
        "Note that the `astype()` method **by default (`copy = False`)** returns a new copy of the DataFrame with the specified data type conversions. If you want to modify the original DataFrame, you need to assign the result of the `astype()` method back to the original DataFrame.\n"
      ],
      "metadata": {
        "id": "Q2HCH3-6oUst"
      }
    },
    {
      "cell_type": "code",
      "source": [
        "data = {'Name': ['John', 'Mary', 'Peter', 'Jane'],\n",
        "        'Age': [25, 30, 20, 35],\n",
        "        'City': ['New York', 'Paris', 'London', 'Sydney'],\n",
        "        'Salary': ['10000', '20000', '30000', '40000']}\n",
        "\n",
        "df = pd.DataFrame(data)\n",
        "print(\"Age: \", df.Age.dtype)\n",
        "print(\"Salary: \", df.Salary.dtype, end = \"\\n\\n\")\n",
        "\n",
        "\n",
        "# convert 'Age' column to float\n",
        "df['Age'] = df['Age'].astype(float)\n",
        "\n",
        "# convert 'Salary' column to int\n",
        "df['Salary'] = df['Salary'].astype(int)\n",
        "\n",
        "# print DataFrame\n",
        "print(df.dtypes)"
      ],
      "metadata": {
        "id": "q6Td1GdGDVVP"
      },
      "execution_count": null,
      "outputs": []
    },
    {
      "cell_type": "markdown",
      "source": [
        "Question:\n",
        "\n",
        "We can also use `pd.to_numeric()` function to convert to float numbers. What is the output of the following statements?\n",
        "```\n",
        "data = {'Values': [10.5, '20.2', 'abc', 30.7, 'xyz']}\n",
        "\n",
        "df_mixed = pd.DataFrame(data)\n",
        "\n",
        "df_mixed['Values'] = pd.to_numeric(df_mixed['Values'])         \n",
        "print(df_mixed.Values.dtype)\n",
        "```\n",
        "\n",
        "a. `float64`\n",
        "\n",
        "b. `int64`\n",
        "\n",
        "c. `object`\n",
        "\n",
        "d. None of the above"
      ],
      "metadata": {
        "id": "LH0dkrIOQb38"
      }
    },
    {
      "cell_type": "code",
      "source": [
        "data = {'Values': [10.5, '20.2', 'abc', 30.7, 'xyz']}\n",
        "\n",
        "df_mixed = pd.DataFrame(data)\n",
        "\n",
        "df_mixed['Values'] = pd.to_numeric(df_mixed['Values'], errors='coerce')         #, errors='coerce'\n",
        "print(df_mixed.Values.dtype)\n",
        "#df_mixed"
      ],
      "metadata": {
        "id": "NVDCG8LVQ220"
      },
      "execution_count": null,
      "outputs": []
    },
    {
      "cell_type": "markdown",
      "source": [
        "## *Add and Drop Rows/Columns*"
      ],
      "metadata": {
        "id": "16Y1K21nrJcU"
      }
    },
    {
      "cell_type": "markdown",
      "source": [
        "### **Add Rows**\n",
        "*Add Rows*:\n",
        "\n",
        "In Pandas, you can add rows to a DataFrame using the `append()` method or by concatenating two DataFrames together using `concate()`, which is prefered method.\n"
      ],
      "metadata": {
        "id": "z5Phv77grRfq"
      }
    },
    {
      "cell_type": "code",
      "source": [
        "import pandas as pd\n",
        "\n",
        "# create initial dataframe\n",
        "df = pd.DataFrame({'A': [1, 2], 'B': [3, 4]})\n",
        "print(df, end = '\\n\\n')\n",
        "\n",
        "# concatenate dataframes\n",
        "new_df = pd.DataFrame({'A': [5], 'B': [6]})\n",
        "df = pd.concat([df, new_df], ignore_index=True)\n",
        "\n",
        "print(df)"
      ],
      "metadata": {
        "id": "ZzvcMVpwG38N"
      },
      "execution_count": null,
      "outputs": []
    },
    {
      "cell_type": "markdown",
      "source": [
        "### **Add Columns**:\n",
        "\n",
        "To add one or more columns to a DataFrame in Pandas, you can simply assign a new column (or multiple columns) to the DataFrame using bracket notation.\n"
      ],
      "metadata": {
        "id": "5Qo_QtofHjm3"
      }
    },
    {
      "cell_type": "code",
      "source": [
        "import pandas as pd\n",
        "\n",
        "# create initial dataframe\n",
        "df = pd.DataFrame({'A': [1, 2], 'B': [3, 4]})\n",
        "\n",
        "# add a new column with a constant value\n",
        "df['C'] = 5 # don't use df.C = 5 !!\n",
        "\n",
        "print(df, end = '\\n\\n')\n",
        "\n",
        "# add multiple columns at once\n",
        "df[['E', 'F']] = pd.DataFrame([[6, 7]])\n",
        "\n",
        "# print updated dataframe\n",
        "print(df)"
      ],
      "metadata": {
        "id": "itrKkfqlICn-"
      },
      "execution_count": null,
      "outputs": []
    },
    {
      "cell_type": "markdown",
      "source": [
        "### **Drop Rows/Columns**\n",
        "To drop rows or columns from a DataFrame in Pandas, you can use the `drop()` method. By default, you will get a copy of the new DataFrame, but you can set `inplace = True` to change the original DataFrame.\n",
        "\n"
      ],
      "metadata": {
        "id": "yjhYU-YLrWWW"
      }
    },
    {
      "cell_type": "code",
      "source": [
        "df = pd.DataFrame({'A': [1, 2, 3], 'B': [4, 5, 6], 'C': [7, 8, 9]})\n",
        "df.index = [\"a\", \"b\", \"c\"]\n",
        "\n",
        "# drop a column by label\n",
        "print(df.drop('C', axis=1), end = \"\\n\\n\")\n",
        "# or use print(df.drop(columns = 'C'))\n",
        "\n",
        "print(df)\n"
      ],
      "metadata": {
        "id": "TOEnARbXKMf3"
      },
      "execution_count": null,
      "outputs": []
    },
    {
      "cell_type": "code",
      "source": [
        "df = pd.DataFrame({'A': [1, 2, 3], 'B': [4, 5, 6], 'C': [7, 8, 9]})\n",
        "df.index = [\"a\", \"b\", \"c\"]\n",
        "# drop a row by label\n",
        "print(df.drop(\"a\", axis=0), end = '\\n\\n')\n",
        "\n",
        "# drop multiple rows by label\n",
        "print(df.drop([\"a\", \"c\"], axis=0))\n",
        "# or use:  print(df.drop(index = [\"a\", \"c\"]))\n"
      ],
      "metadata": {
        "id": "PcGY86x8UylC"
      },
      "execution_count": null,
      "outputs": []
    },
    {
      "cell_type": "markdown",
      "source": [
        "## *Subset a DataFrame*"
      ],
      "metadata": {
        "id": "-N-t_L2-lbp_"
      }
    },
    {
      "cell_type": "markdown",
      "source": [
        "### **Indexing and Slicing**\n",
        "There are several ways to index a Pandas DataFrame:\n",
        "\n",
        "* By column name: You can index a DataFrame by specifying the column name using the square bracket notation, e.g., `df['column_name']`.\n",
        "\n",
        "* By row/column label: You can index a DataFrame by specifying the row/column label using `loc`, e.g., `df.loc[row_label], df.loc[row_label, col_label]`.\n",
        "\n",
        "* By integer position: You can index a DataFrame by specifying the integer position using `iloc`, e.g., `df.iloc[row_position]`.\n",
        "\n",
        "* By Boolean indexing: You can index a DataFrame by specifying a Boolean condition using the square bracket notation, e.g., `df[df['column_name'] > 0]`."
      ],
      "metadata": {
        "id": "QXgdico8mBMx"
      }
    },
    {
      "cell_type": "markdown",
      "source": [
        "#### *Select Columns using `[]`*\n"
      ],
      "metadata": {
        "id": "A5RNQ0Gmru-8"
      }
    },
    {
      "cell_type": "code",
      "source": [
        "import pandas as pd\n",
        "\n",
        "# Create a simple DataFrame\n",
        "df = pd.DataFrame({\n",
        "    'name': ['Alice', 'Bob', 'Charlie', 'David'],\n",
        "    'age': [25, 30, 35, 40],\n",
        "    'city': ['New York', 'Los Angeles', 'Chicago', 'Houston']\n",
        "}, index = [\"a\", \"b\", \"c\", \"d\"])\n",
        "\n",
        "print(df[\"name\"], end = '\\n\\n')\n",
        "\n",
        "print(df[[\"name\", \"city\"]])"
      ],
      "metadata": {
        "id": "792fE7F0sCyH"
      },
      "execution_count": null,
      "outputs": []
    },
    {
      "cell_type": "markdown",
      "source": [
        "#### *Using `loc()`*\n"
      ],
      "metadata": {
        "id": "p1ke_JLVsDKB"
      }
    },
    {
      "cell_type": "code",
      "source": [
        "import pandas as pd\n",
        "\n",
        "# Create a simple DataFrame\n",
        "df = pd.DataFrame({\n",
        "    'name': ['Alice', 'Bob', 'Charlie', 'David'],\n",
        "    'age': [25, 30, 35, 40],\n",
        "    'city': ['New York', 'Los Angeles', 'Chicago', 'Houston']\n",
        "}, index = [\"a\", \"b\", \"c\", \"d\"])\n",
        "\n",
        "print(df.loc['a'], end = '\\n\\n') # return a Series\n",
        "print(df.loc[['a']]) # return a dataframe\n"
      ],
      "metadata": {
        "id": "XQjESL-osMkK"
      },
      "execution_count": null,
      "outputs": []
    },
    {
      "cell_type": "code",
      "source": [
        "# Select multiple rows with list or slice\n",
        "print(df.loc[['a', 'a', 'd']])\n",
        "print(df.loc['a':'d'])"
      ],
      "metadata": {
        "id": "y5DRm0i-jTo5"
      },
      "execution_count": null,
      "outputs": []
    },
    {
      "cell_type": "code",
      "source": [
        "# Select rows and columns\n",
        "print(df.loc[['a', 'd'], [\"name\", \"age\"]])"
      ],
      "metadata": {
        "id": "mT_MJDWQjZYH"
      },
      "execution_count": null,
      "outputs": []
    },
    {
      "cell_type": "markdown",
      "source": [
        "#### *Using `iloc`*\n"
      ],
      "metadata": {
        "id": "LrNpSGVPsM4x"
      }
    },
    {
      "cell_type": "code",
      "source": [
        "import pandas as pd\n",
        "\n",
        "# Create a simple DataFrame\n",
        "df = pd.DataFrame({\n",
        "    'name': ['Alice', 'Bob', 'Charlie', 'David'],\n",
        "    'age': [25, 30, 35, 40],\n",
        "    'city': ['New York', 'Los Angeles', 'Chicago', 'Houston']\n",
        "}, index = [\"a\", \"b\", \"c\", \"d\"])\n",
        "\n",
        "print(df.iloc[0])\n",
        "print(df.iloc[[0]])"
      ],
      "metadata": {
        "id": "neruMnIosQsn"
      },
      "execution_count": null,
      "outputs": []
    },
    {
      "cell_type": "code",
      "source": [
        "# Select using list of integers and slice obejct\n",
        "print(df.iloc[[0,2]])\n",
        "print(df.iloc[0:3])\n"
      ],
      "metadata": {
        "id": "ZxfziqxCj5dp"
      },
      "execution_count": null,
      "outputs": []
    },
    {
      "cell_type": "code",
      "source": [
        "# Select rows and columns using positions\n",
        "print(df.iloc[[1,2], [0,1]])"
      ],
      "metadata": {
        "id": "iGcQN3KmkG2W"
      },
      "execution_count": null,
      "outputs": []
    },
    {
      "cell_type": "markdown",
      "source": [
        "#### *Boolean Indexing*\n"
      ],
      "metadata": {
        "id": "Yv6UHdw_sRDK"
      }
    },
    {
      "cell_type": "code",
      "source": [
        "# Create a simple DataFrame\n",
        "df = pd.DataFrame({\n",
        "    'name': ['Alice', 'Bob', 'Charlie', 'David'],\n",
        "    'age': [25, 30, 35, 40],\n",
        "    'city': ['New York', 'Los Angeles', 'Chicago', 'Houston']\n",
        "}, index = [\"a\", \"b\", \"c\", \"d\"])\n",
        "\n",
        "# Use []\n",
        "print(df[df.age > 30])"
      ],
      "metadata": {
        "id": "ymJFy-57sWBe"
      },
      "execution_count": null,
      "outputs": []
    },
    {
      "cell_type": "code",
      "source": [
        "# Combine boolean condtions useing &, |, donnot use and, or\n",
        "# Use ~ instead of not to negate a boolean condition\n",
        "print(df[(df.age > 30) & df.city.isin([\"New York\", \"Chicago\"])])\n",
        "\n",
        "#print(df[(df.age > 30) | df.city.isin([\"New York\", \"Chicago\"])])\n",
        "\n",
        "#print(df[~(df.age > 30)])"
      ],
      "metadata": {
        "id": "KCKdRji-k5fa"
      },
      "execution_count": null,
      "outputs": []
    },
    {
      "cell_type": "code",
      "source": [
        "# Use .loc[] to get rows and columns\n",
        "print(df.loc[df.age > 30, [\"name\", \"age\"] ])"
      ],
      "metadata": {
        "id": "ykUWP1vxkhew"
      },
      "execution_count": null,
      "outputs": []
    },
    {
      "cell_type": "markdown",
      "source": [
        "Question:\n",
        "\n",
        "What will happen if we run\n",
        "\n",
        "```\n",
        "df = pd.DataFrame({\n",
        "    'name': ['Alice', 'Bob', 'Charlie', 'David'],\n",
        "    'age': [25, 30, 35, 40],\n",
        "    'city': ['New York', 'Los Angeles', 'Chicago', 'Houston']\n",
        "}, index = [\"a\", \"b\", \"c\", \"d\"])\n",
        "\n",
        "print(df.iloc[df.age > 30, [\"name\", \"age\"] ])\n",
        "```"
      ],
      "metadata": {
        "id": "4K87FX8pmMvO"
      }
    },
    {
      "cell_type": "code",
      "source": [],
      "metadata": {
        "id": "dwSE3eEmmXkH"
      },
      "execution_count": 101,
      "outputs": []
    },
    {
      "cell_type": "markdown",
      "source": [
        "### **Filtering with Filter Method**\n",
        "The filter() method in Pandas DataFrame is used to subset the DataFrame based on the column names or row labels.\n",
        "\n",
        "**Syntax:** `df.filter(items=None, like=None, regex=None, axis=None)`\n",
        "\n",
        "* `items:` a list-like object containing the column names to be selected.\n",
        "* `like:` a string containing a regex expression to match the column names.\n",
        "* `regex:` a string containing a regex expression to match the column names.\n",
        "* `axis:` the axis to filter. By default, axis=columns.\n",
        "* The `items, like, and regex` parameters are enforced to be mutually exclusive.\n",
        "\n"
      ],
      "metadata": {
        "id": "C4x1MEVCmHWJ"
      }
    },
    {
      "cell_type": "code",
      "source": [
        "# Create a sample DataFrame\n",
        "data = {'Name': ['John', 'Alice', 'Bob'],\n",
        "        'Age': [25, 30, 35],\n",
        "        'Big City': ['New York', 'Chicago', 'Los Angeles']}\n",
        "df = pd.DataFrame(data)\n",
        "print(df)"
      ],
      "metadata": {
        "id": "N1wvzBxD0r_F"
      },
      "execution_count": null,
      "outputs": []
    },
    {
      "cell_type": "code",
      "source": [
        "# Filter columns by name\n",
        "print(df.filter(items=['Name', 'Age']))"
      ],
      "metadata": {
        "colab": {
          "base_uri": "https://localhost:8080/"
        },
        "id": "zTZVMZO8nMOg",
        "outputId": "95f99ec7-3a1e-4b12-8105-618e55e12e4b"
      },
      "execution_count": 27,
      "outputs": [
        {
          "output_type": "stream",
          "name": "stdout",
          "text": [
            "    Name  Age\n",
            "0   John   25\n",
            "1  Alice   30\n",
            "2    Bob   35\n"
          ]
        }
      ]
    },
    {
      "cell_type": "code",
      "source": [
        "# Filter columns by regular expression\n",
        "print(df.filter(regex='e$')) # selects columns ending with 'e'"
      ],
      "metadata": {
        "id": "QnPWHskynfzN"
      },
      "execution_count": null,
      "outputs": []
    },
    {
      "cell_type": "code",
      "source": [
        "# Filter columns by substring\n",
        "print(df.filter(like='City')) # selects columns containing 'City'\n"
      ],
      "metadata": {
        "id": "kdSYWq_Ynitd"
      },
      "execution_count": null,
      "outputs": []
    },
    {
      "cell_type": "code",
      "source": [
        "# Filter rows by index labels\n",
        "print(df.filter(items=[0, 2], axis=0)) # selects rows with index labels 0 and 2"
      ],
      "metadata": {
        "id": "QC4VxbJlnk6C"
      },
      "execution_count": null,
      "outputs": []
    },
    {
      "cell_type": "markdown",
      "source": [
        "## *Sort a DataFrame*"
      ],
      "metadata": {
        "id": "LAsd__WIm05k"
      }
    },
    {
      "cell_type": "markdown",
      "source": [
        "### **Sort_values Method**\n",
        "To sort a DataFrame (either rows or columns) in Pandas, you can use the `sort_values()` method. By default, it sorts rows.\n",
        "\n",
        "Note that the `sort_values()` method returns a new DataFrame object with the specified sort order, and does not modify the original DataFrame in place. If you want to modify the original DataFrame, you can either assign the result of sort_values() back to the original DataFrame, or use the `inplace=True` parameter to modify the DataFrame in place\n",
        "\n"
      ],
      "metadata": {
        "id": "bwIigHcknHJa"
      }
    },
    {
      "cell_type": "code",
      "source": [
        "import pandas as pd\n",
        "\n",
        "# create initial dataframe\n",
        "df = pd.DataFrame({'A': [2, 1, None, 2, 3, 2], 'B': [5, 4, 12, 6, 3, 9], 'C': [8, 7, 23, 9, 4, 12]})\n",
        "\n",
        "print(df)\n"
      ],
      "metadata": {
        "id": "YbsgrYTasCvZ"
      },
      "execution_count": null,
      "outputs": []
    },
    {
      "cell_type": "code",
      "source": [
        "# sort by values in column A\n",
        "print(df.sort_values(by='A'))"
      ],
      "metadata": {
        "id": "vsCyWziNr1Mq"
      },
      "execution_count": null,
      "outputs": []
    },
    {
      "cell_type": "code",
      "source": [
        "# sort by values in column A and B\n",
        "print(df.sort_values(by=['A', 'B']))\n",
        "print(df.sort_values(by=['A', 'B'], ignore_index = True))\n"
      ],
      "metadata": {
        "id": "KwjjzFpBrzdr"
      },
      "execution_count": null,
      "outputs": []
    },
    {
      "cell_type": "code",
      "source": [
        "# sort by values in column A in descending order\n",
        "print(df.sort_values(by=['A', 'B'], ascending= [False, True], na_position = \"first\"))"
      ],
      "metadata": {
        "id": "u_ZitQRIr6hf"
      },
      "execution_count": null,
      "outputs": []
    },
    {
      "cell_type": "markdown",
      "source": [
        "### **Sort_index Method**\n",
        "To sort a DataFrame in Pandas by its index/columns, you can use the `sort_index()` method. Simillary, you can set `inplace = True` to modify the origianl DataFrame\n",
        "\n"
      ],
      "metadata": {
        "id": "6flOYctPnMSS"
      }
    },
    {
      "cell_type": "code",
      "source": [
        "import pandas as pd\n",
        "\n",
        "# create initial dataframe\n",
        "df = pd.DataFrame({'A': [2, 1, 3], 'B': [5, 4, 6], 'C': [8, 7, 9]}, index=['c', 'a', 'b'])\n",
        "print(df)\n"
      ],
      "metadata": {
        "id": "HZl6V7uQsh-i"
      },
      "execution_count": null,
      "outputs": []
    },
    {
      "cell_type": "code",
      "source": [
        "# sort by index in ascending order\n",
        "print(df.sort_index())\n",
        "print(df.sort_index(ignore_index = True))\n",
        "\n",
        "# sort by index in descending order\n",
        "#print(df.sort_index(ascending=False))\n"
      ],
      "metadata": {
        "id": "TvbnxjySsScm"
      },
      "execution_count": null,
      "outputs": []
    },
    {
      "cell_type": "code",
      "source": [
        "# sort by columns in descending order\n",
        "print(df.sort_index(axis = 1, ascending=False))\n"
      ],
      "metadata": {
        "id": "PUSl3FH_sbbE"
      },
      "execution_count": null,
      "outputs": []
    },
    {
      "cell_type": "markdown",
      "source": [
        "## *Duplicated Rows in a DataFrame*"
      ],
      "metadata": {
        "id": "_1J4oXYAncW8"
      }
    },
    {
      "cell_type": "markdown",
      "source": [
        "### **Find Duplicated Rows**\n",
        "The `duplicated()` method returns a boolean series indicating which rows are duplicates. You may need think about the following to help you identify duplicated rows.\n",
        "* How to define duplicated rows? Use all the columns or just some of the columns?\n",
        "* How to mark duplicated rows? Mark all the rows with the same value or leave one of them as non-duplicated and the others as duplicated?\n",
        "\n"
      ],
      "metadata": {
        "id": "Af9aDSPRYIFn"
      }
    },
    {
      "cell_type": "code",
      "source": [
        "import pandas as pd\n",
        "data = {'name': ['Alice', 'Bob', 'Charlie', 'Alice', 'Emily', 'Alice', 'Bob'],\n",
        "        'age': [25, 30, 35, 25, 40, 25, 30],\n",
        "        'height': [165, 175, 172, 165, 173, 165, 180]}\n",
        "df = pd.DataFrame(data)\n",
        "\n",
        "print(df)\n"
      ],
      "metadata": {
        "id": "hwRWCMNe2Z4T"
      },
      "execution_count": null,
      "outputs": []
    },
    {
      "cell_type": "code",
      "source": [
        "# Check for duplicated rows\n",
        "duplicated_rows = df.duplicated()\n",
        "\n",
        "# Display the boolean series\n",
        "print(duplicated_rows)"
      ],
      "metadata": {
        "id": "RCVlGXNy0Oh9"
      },
      "execution_count": null,
      "outputs": []
    },
    {
      "cell_type": "code",
      "source": [
        "# Mark all duplicated rows\n",
        "print(df, end = '\\n\\n')\n",
        "print(df.duplicated(keep = False))"
      ],
      "metadata": {
        "id": "qs1l8Jd60n_G"
      },
      "execution_count": null,
      "outputs": []
    },
    {
      "cell_type": "code",
      "source": [
        "# Find duplicates rows based on a subset of columns\n",
        "print(df, end = '\\n\\n')\n",
        "print(df.duplicated(subset = [\"name\", 'age']))"
      ],
      "metadata": {
        "id": "gctjZXsK04te"
      },
      "execution_count": null,
      "outputs": []
    },
    {
      "cell_type": "markdown",
      "source": [
        "### **Remove Duplicated Rows**\n",
        "The `drop_duplicates()` method returns a DataFrame with duplicate rows removed.\n",
        "\n",
        "* Parameter `subset` : column label or sequence of labels. Only consider certain columns for identifying duplicates, by default use all of the columns.\n",
        "* The `inplace` parameter allows you to modify the DataFrame in place. By default, it is set to `False`\n",
        "* Parameter `ignore_index` : bool, default `False`. If `True`, the resulting axis will be labeled `0, 1, …, n - 1.`\n",
        "* Parameter `keep` : `{'first', 'last', False}`, default `'first'`. Determines which duplicates (if any) to keep.\n",
        "\n"
      ],
      "metadata": {
        "id": "xpPGA3atYTS5"
      }
    },
    {
      "cell_type": "code",
      "source": [
        "import pandas as pd\n",
        "data = {'name': ['Alice', 'Bob', 'Charlie', 'Alice', 'Emily', 'Alice', 'Bob'],\n",
        "        'age': [25, 30, 35, 25, 40, 25, 30],\n",
        "        'height': [165, 175, 172, 165, 173, 165, 180]}\n",
        "df = pd.DataFrame(data)\n",
        "\n",
        "print(df)"
      ],
      "metadata": {
        "id": "shV72vZt4suB"
      },
      "execution_count": null,
      "outputs": []
    },
    {
      "cell_type": "code",
      "source": [
        "# Drop all duplicated rows except the first occurrence.\n",
        "print(df.drop_duplicates())\n",
        "# print(df.drop_duplicates(keep = False))"
      ],
      "metadata": {
        "id": "PFm7_8he24QV"
      },
      "execution_count": null,
      "outputs": []
    },
    {
      "cell_type": "code",
      "source": [
        "# Regenerate the index\n",
        "print(df.drop_duplicates(ignore_index = True))"
      ],
      "metadata": {
        "id": "3e5r6EhI2-GU"
      },
      "execution_count": null,
      "outputs": []
    },
    {
      "cell_type": "code",
      "source": [
        "# Use a subset of columns to drop duplicates\n",
        "print(df.drop_duplicates(subset = [\"name\"]))"
      ],
      "metadata": {
        "id": "7mQnTcZf3ZwL"
      },
      "execution_count": null,
      "outputs": []
    },
    {
      "cell_type": "markdown",
      "source": [
        "## *Missing Values in a DataFrame*"
      ],
      "metadata": {
        "id": "-oS-0jZknjbK"
      }
    },
    {
      "cell_type": "markdown",
      "source": [
        "### **Find Missing Values**\n",
        "`isna() or isnull()`: These methods return a DataFrame of the same shape as the original DataFrame, where each value is either `True` or `False`, indicating whether it is a missing value.\n"
      ],
      "metadata": {
        "id": "Rgs-VfJffC_w"
      }
    },
    {
      "cell_type": "code",
      "source": [
        "import numpy as np\n",
        "\n",
        "# Create a sample DataFrame with missing values\n",
        "data = {'A': [1, 2, np.nan, 4],\n",
        "        'B': [5, None, 7, 8],\n",
        "        'C': [9, 10, 11, pd.NA]}\n",
        "df = pd.DataFrame(data)\n",
        "\n",
        "print(df, \"\\n\\n\")\n",
        "# Check for missing values\n",
        "# print(df['A'].hasnans)\n",
        "print(df.isna())"
      ],
      "metadata": {
        "id": "tZ3HBBHAfWgx"
      },
      "execution_count": null,
      "outputs": []
    },
    {
      "cell_type": "markdown",
      "source": [
        "### **Drop Rows/Columns with Missing Values**\n",
        "`dropna()` method is used to remove rows or columns with missing values.\n",
        "\n",
        "*Important parameters:*\n",
        "* `axis`: `{0 or 'index', 1 or 'columns'}`, default 0. Determine if rows or columns which contain missing values are removed.\n",
        "* `how `: `{'any', 'all'}`, default `'any'`. Determine if row or column is removed from DataFrame, when we have at least one NA or all NA.\n",
        "* `thresh` : `int`, optional. Require that many `non-NA` values. Cannot be combined with how.\n",
        "* `subset` : column label or sequence of labels, optional. Labels along other axis to consider, e.g. if you are dropping rows these would be a list of columns to include.\n",
        "* `inplace` : `bool`, default `False`. Whether to modify the DataFrame rather than creating a new one.\n",
        "\n"
      ],
      "metadata": {
        "id": "qSrO9P-snpGS"
      }
    },
    {
      "cell_type": "code",
      "source": [
        "import pandas as pd\n",
        "import numpy as np\n",
        "\n",
        "# Create a sample DataFrame with missing values\n",
        "data = {'A': [1, 2, np.nan, 4],\n",
        "        'B': [5, np.nan, 7, 8],\n",
        "        'C': [9, 10, 11, 13]}\n",
        "df = pd.DataFrame(data)\n",
        "\n",
        "print(df)\n"
      ],
      "metadata": {
        "id": "HDwZrlsT-a0P"
      },
      "execution_count": null,
      "outputs": []
    },
    {
      "cell_type": "code",
      "source": [
        "# Drop rows with missing values\n",
        "print(df.dropna()) # axis = 1\n"
      ],
      "metadata": {
        "id": "MUCx44gb9bjd"
      },
      "execution_count": null,
      "outputs": []
    },
    {
      "cell_type": "code",
      "source": [
        "# Keep rows with at least \"thresh\" number of non-missing values\n",
        "print(df, '\\n\\n')\n",
        "print(df.dropna(thresh = 3))\n"
      ],
      "metadata": {
        "id": "ydtDg5r19gct"
      },
      "execution_count": null,
      "outputs": []
    },
    {
      "cell_type": "code",
      "source": [
        "# Drop missing rows based on a subset of columns\n",
        "print(df, '\\n\\n')\n",
        "print(df.dropna(subset = [\"A\", \"C\"]))"
      ],
      "metadata": {
        "id": "-t7B0yL99tmr"
      },
      "execution_count": null,
      "outputs": []
    },
    {
      "cell_type": "markdown",
      "source": [
        "### **Fill in Missing Values**\n",
        "We can use\n",
        "* `fillna()` method to fill missing values with a specified value or method.\n",
        "* `interpolate()` method to fill missing values with interpolated values based on neighboring values."
      ],
      "metadata": {
        "id": "S-xnBFohnyU0"
      }
    },
    {
      "cell_type": "markdown",
      "source": [
        "#### *Fillna Method*\n",
        "Important parameters:\n",
        "\n",
        "* `value:` scalar, dict, Series, or DataFrame, optional. The value to use to fill NaN values. If it is a dict, it is used to fill NaN values with the specified values for each column.\n",
        "\n",
        "* `method: {'backfill', 'bfill', 'pad', 'ffill', None},` optional. The method to use for filling missing values. `'backfill' or 'bfill'` is used to fill the next row's missing values with the current row's values. `'pad' or 'ffill'` is used to fill the previous row's missing values with the current row's values. If `None`, it fills with the specified value.\n",
        "\n",
        "* `axis: {0 or 'index', 1 or 'columns'}`, optional. The axis to fill the missing values along. By default, it is 0 or 'index'.\n",
        "\n",
        "* `inplace:` bool, optional. If True, fill the DataFrame in place and return None. Otherwise, return a new DataFrame with the missing values filled.\n",
        "\n"
      ],
      "metadata": {
        "id": "z8u7uRL0jpge"
      }
    },
    {
      "cell_type": "code",
      "source": [
        "data = {'A': [1, 2, np.nan, 4],\n",
        "        'B': [5, np.nan, 7, 8],\n",
        "        'C': [9, 10, 11, np.nan]}\n",
        "df = pd.DataFrame(data)\n",
        "print(df)"
      ],
      "metadata": {
        "id": "LkUfPT4jAGW-"
      },
      "execution_count": null,
      "outputs": []
    },
    {
      "cell_type": "code",
      "source": [
        "# Fill missing values with a specified value\n",
        "print(df.fillna(value=0))"
      ],
      "metadata": {
        "id": "xA54qtH4-_tv"
      },
      "execution_count": null,
      "outputs": []
    },
    {
      "cell_type": "code",
      "source": [
        "# Fill missing values with a dictionary. Fill missing values with the specified values for each column\n",
        "fill_values = {'A': 0, 'B': 10, 'C': 20}\n",
        "print(df, '\\n\\n')\n",
        "print(df.fillna(value=fill_values))"
      ],
      "metadata": {
        "id": "qeEHYw4q_DlD"
      },
      "execution_count": null,
      "outputs": []
    },
    {
      "cell_type": "code",
      "source": [
        "# Use forward fill method. top to bottom\n",
        "print(df, end = '\\n\\n')\n",
        "print(df.fillna(method = \"ffill\"))\n"
      ],
      "metadata": {
        "id": "k8T22I-i_F7Y"
      },
      "execution_count": null,
      "outputs": []
    },
    {
      "cell_type": "code",
      "source": [
        "# Use forward fill method. left to right\n",
        "print(df, end = '\\n\\n')\n",
        "print(df.fillna(method = \"ffill\", axis = 1))"
      ],
      "metadata": {
        "id": "EW7kcfmS_mrF"
      },
      "execution_count": null,
      "outputs": []
    },
    {
      "cell_type": "markdown",
      "source": [
        "#### *Interpolate Method*\n"
      ],
      "metadata": {
        "id": "fNfGLtnhohHW"
      }
    },
    {
      "cell_type": "code",
      "source": [
        "data = {'A': [1, np.nan, 3, np.nan, 5],\n",
        "        'B': [np.nan, 7, 8, np.nan, 10],\n",
        "        'C': [5, 10, 20, 12, None]}\n",
        "df = pd.DataFrame(data)\n",
        "print(df)\n"
      ],
      "metadata": {
        "id": "RQLcAk3JAdev"
      },
      "execution_count": null,
      "outputs": []
    },
    {
      "cell_type": "code",
      "source": [
        "# Fill missing values with interpolated values\n",
        "df.interpolate(method='linear', axis=0, inplace=True)\n",
        "\n",
        "# Display the modified DataFrame\n",
        "print(df)"
      ],
      "metadata": {
        "id": "fVno9mJMAR_G"
      },
      "execution_count": null,
      "outputs": []
    },
    {
      "cell_type": "markdown",
      "source": [
        "## *Operations on a DataFrame*"
      ],
      "metadata": {
        "id": "eMhds5pPpDJO"
      }
    },
    {
      "cell_type": "markdown",
      "source": [
        "### **Arithmetic Operations**\n",
        "Like Series, you can do all the common arithmetic operation for a DataFrame.\n"
      ],
      "metadata": {
        "id": "G5XuNJycpJjF"
      }
    },
    {
      "cell_type": "code",
      "source": [
        "import pandas as pd\n",
        "\n",
        "df = pd.DataFrame({'col1': [1, 2, 3], 'col2': [4, 5, 6]}, index = list(\"abc\"))\n",
        "\n",
        "print(df)"
      ],
      "metadata": {
        "id": "udUmUG8V6QNf"
      },
      "execution_count": null,
      "outputs": []
    },
    {
      "cell_type": "code",
      "source": [
        "# Sum of two columns\n",
        "print(df, \"\\n\")\n",
        "print(df['col1'] + df['col2'])"
      ],
      "metadata": {
        "id": "M2j7GupN4uu2"
      },
      "execution_count": null,
      "outputs": []
    },
    {
      "cell_type": "code",
      "source": [
        "# Use method instead of using operator\n",
        "print(df, '\\n')\n",
        "print(df.sub(df['col2'], axis = \"index\"))"
      ],
      "metadata": {
        "id": "8PGWyFhW421v"
      },
      "execution_count": null,
      "outputs": []
    },
    {
      "cell_type": "code",
      "source": [
        "# Subtract different values from different columns\n",
        "print(df, '\\n')\n",
        "print(df - [1,5])"
      ],
      "metadata": {
        "id": "npuP05Im4-24"
      },
      "execution_count": null,
      "outputs": []
    },
    {
      "cell_type": "code",
      "source": [
        "# Subtract values from columns\n",
        "print(df, '\\n')\n",
        "print(df.sub([1, 5], axis='columns'))"
      ],
      "metadata": {
        "id": "qeHwoNi_5FNZ"
      },
      "execution_count": null,
      "outputs": []
    },
    {
      "cell_type": "code",
      "source": [
        "# Subtract values from rows.\n",
        "print(df, '\\n')\n",
        "print(df.sub([10, 20, 30], axis='index'))"
      ],
      "metadata": {
        "id": "r4I51RgB5n27"
      },
      "execution_count": null,
      "outputs": []
    },
    {
      "cell_type": "markdown",
      "source": [
        "### **Comparision Operations**\n",
        "You can compare two columns in a DataFrame to get a boolean Series.\n"
      ],
      "metadata": {
        "id": "bv68kwyPoXc0"
      }
    },
    {
      "cell_type": "code",
      "source": [
        "import pandas as pd\n",
        "\n",
        "df = pd.DataFrame({'col1': [1, 2, 3], 'col2': [1, 5, 6]})\n",
        "\n",
        "print(df['col1'] != df['col2'])"
      ],
      "metadata": {
        "id": "oy2Y9UKlotMa"
      },
      "execution_count": null,
      "outputs": []
    },
    {
      "cell_type": "markdown",
      "source": [
        "### **Aggregation Method**\n",
        "Like Series, Pandas provides many built-in aggregation methods that can be used to summarize data in a data frame. These methods can be applied to individual columns or rows.\n",
        "\n"
      ],
      "metadata": {
        "id": "km2QKqfYpmIV"
      }
    },
    {
      "cell_type": "code",
      "source": [
        "# sum, mean, median, min, max, std, var, count\n",
        "df = pd.DataFrame({'col1': [1, 2, None, 3, 10], 'col2': [1, 5, 6, 7, None]})\n",
        "\n",
        "print(df, '\\n')\n",
        "print(df.sum(axis = 1), '\\n')\n",
        "print(df.std())"
      ],
      "metadata": {
        "id": "mtNupUSarLSt"
      },
      "execution_count": null,
      "outputs": []
    },
    {
      "cell_type": "markdown",
      "source": [
        "#### *Agg() Method*\n",
        "The `agg()` method in Pandas dataframe is used to perform aggregation operations on the specified columns/rows of a data frame.\n",
        "\n"
      ],
      "metadata": {
        "id": "wDHzGoCctxyc"
      }
    },
    {
      "cell_type": "code",
      "source": [
        "df = pd.DataFrame({'col1': [1, 2, 3], 'col2': [4, 5, 6], 'col3': [7, 8, 9]})\n",
        "\n",
        "print(df)"
      ],
      "metadata": {
        "id": "Y3JQBEVf7n_3"
      },
      "execution_count": null,
      "outputs": []
    },
    {
      "cell_type": "code",
      "source": [
        "# apply aggregation functions to columns\n",
        "print(df.agg(['sum', 'mean', 'max']))"
      ],
      "metadata": {
        "id": "beh2PE0j7FOH"
      },
      "execution_count": null,
      "outputs": []
    },
    {
      "cell_type": "code",
      "source": [
        "# apply aggregation fucntion to rows\n",
        "print(df, '\\n')\n",
        "print(df.agg(sum, axis = 1))"
      ],
      "metadata": {
        "id": "I0W7jjp47Iam"
      },
      "execution_count": null,
      "outputs": []
    },
    {
      "cell_type": "code",
      "source": [
        "# using dictionary\n",
        "print(df,'\\n')\n",
        "print(df.agg({\"col1\": [\"mean\", \"std\"], \"col2\": [\"sum\", \"var\"]}))"
      ],
      "metadata": {
        "id": "uljeueNR7POg"
      },
      "execution_count": null,
      "outputs": []
    },
    {
      "cell_type": "code",
      "source": [
        "# using tuple to rename the rows\n",
        "print(df,'\\n')\n",
        "print(df.agg( a = (\"col2\", \"mean\"), b = (\"col1\", sum)))"
      ],
      "metadata": {
        "id": "4Iy_3Ouj7UmC"
      },
      "execution_count": null,
      "outputs": []
    },
    {
      "cell_type": "markdown",
      "source": [
        "### **Apply() Method**\n",
        "The `apply()` method in Pandas dataframe is used to apply a function along a specific axis of the data frame. The function can be either a built-in function or a user-defined function\n",
        "\n"
      ],
      "metadata": {
        "id": "W1Bv-Aonpx7X"
      }
    },
    {
      "cell_type": "code",
      "source": [
        "# create a sample data frame\n",
        "df = pd.DataFrame({'A': [1, 2, 3], 'B': [4, 5, 6]})\n",
        "\n",
        "print(df)"
      ],
      "metadata": {
        "id": "joP0MCSj84R_"
      },
      "execution_count": null,
      "outputs": []
    },
    {
      "cell_type": "code",
      "source": [
        "# Column sum\n",
        "print(df.apply(sum))"
      ],
      "metadata": {
        "id": "1Gsln2Cz753Y"
      },
      "execution_count": null,
      "outputs": []
    },
    {
      "cell_type": "code",
      "source": [
        "# Row sum\n",
        "print(df, '\\n')\n",
        "print(df.apply(sum, axis = 1))"
      ],
      "metadata": {
        "id": "CjTkeNo-8AD3"
      },
      "execution_count": null,
      "outputs": []
    },
    {
      "cell_type": "code",
      "source": [
        "# Apple user defined function to rows\n",
        "def fcn(ser):\n",
        "  ser_sum = ser.sum()\n",
        "  if ser_sum > 8:\n",
        "    return [ser_sum, 100]\n",
        "  else:\n",
        "    return [ser_sum, 0]\n",
        "\n",
        "print(df, '\\n')\n",
        "print(df.apply(fcn, axis = 1))"
      ],
      "metadata": {
        "id": "nQuKoVUQ8NI_"
      },
      "execution_count": null,
      "outputs": []
    },
    {
      "cell_type": "code",
      "source": [
        "# Return a dataframe\n",
        "print(df, '\\n')\n",
        "print(df.apply(fcn, axis = 1, result_type=\"expand\")) # 'broadcast'"
      ],
      "metadata": {
        "id": "YQbTmFeq8nlu"
      },
      "execution_count": null,
      "outputs": []
    },
    {
      "cell_type": "markdown",
      "source": [
        "### **Applymap() Method**\n",
        "The `applymap()` method in Pandas data frame is used to apply a function to each element in the data frame.\n",
        "* The function can be either a built-in function or a user-defined function which returns a single value from a single value.\n",
        "* The `applymap()` method returns a new data frame with the result of the function applied to each element in the original data frame.\n",
        "\n"
      ],
      "metadata": {
        "id": "VdImUBT3p7S5"
      }
    },
    {
      "cell_type": "code",
      "source": [
        "# create a sample data frame\n",
        "df = pd.DataFrame({'A': [\"apple\", \"animal\", None, \"air\"], 'B': [\"blue\", \"bubble\", \"bunny\", pd.NA]})\n",
        "\n",
        "def fcn(el, power):\n",
        "  return len(el) ** power\n",
        "\n",
        "print(df, '\\n')\n",
        "print(df.applymap(fcn, power = 3, na_action='ignore'))"
      ],
      "metadata": {
        "id": "Lnieo7a663yc"
      },
      "execution_count": null,
      "outputs": []
    },
    {
      "cell_type": "markdown",
      "source": [
        "## *Split-Apply-Combine Paradigm*\n",
        "The Split-Apply-Combine paradigm is a powerful data analysis technique that is commonly used in Pandas. This paradigm involves three key steps:\n",
        "\n",
        "1. Splitting the data into groups based on a given criterion.\n",
        "2. Applying a function to each group independently.\n",
        "3. Combining the results of each group into a single data structure."
      ],
      "metadata": {
        "id": "NpvzWVIForcM"
      }
    },
    {
      "cell_type": "markdown",
      "source": [
        "### **Groupby Method**\n",
        "In Pandas, the `groupby()` method is the key method to implement the Split-Apply-Combine paradigm.\n",
        "* The `groupby()` method generate a `groupby` object which splits a data frame into groups based on a given criterion.\n",
        "* Then we can apply a function to the object. The function will be applied to each group.\n",
        "* Finally, the results of each group will be combined into a single data structure.\n",
        "\n"
      ],
      "metadata": {
        "id": "fO4fvdvC7w61"
      }
    },
    {
      "cell_type": "code",
      "source": [
        "# create a DataFrame\n",
        "df = pd.DataFrame({\n",
        "    'name': ['Alice', 'Bob', 'Charlie', 'David', 'Emily'],\n",
        "    'age': [25, 30, 35, 40, 45],\n",
        "    'salary': [50000, 60000, 70000, 80000, 90000],\n",
        "    'gender': ['F', 'M', 'M', 'M', 'F']\n",
        "})\n",
        "\n",
        "# group the data by gender\n",
        "grouped = df.groupby('gender')\n"
      ],
      "metadata": {
        "id": "QzaSL5xAFTCa"
      },
      "execution_count": 77,
      "outputs": []
    },
    {
      "cell_type": "code",
      "source": [
        "# calculate the mean salary for each group\n",
        "print(grouped['salary'].mean())"
      ],
      "metadata": {
        "id": "Qjno5ddEEnXB"
      },
      "execution_count": null,
      "outputs": []
    },
    {
      "cell_type": "code",
      "source": [
        "# Apply multiple functions.\n",
        "print(grouped['salary'].agg([\"min\", \"max\", \"std\"]))"
      ],
      "metadata": {
        "id": "Qul83Rx4Ew70"
      },
      "execution_count": null,
      "outputs": []
    },
    {
      "cell_type": "code",
      "source": [
        "# Apply one function to multiple columns.\n",
        "print(grouped.mean(numeric_only = True))"
      ],
      "metadata": {
        "id": "QxT4LJHCE-qe"
      },
      "execution_count": null,
      "outputs": []
    },
    {
      "cell_type": "markdown",
      "source": [
        "#### *Groupby with Apply Method*\n",
        "The `groupby` method in pandas allows you to group rows of a DataFrame based on one or more columns and apply a function to each group. The `apply` method can then be used to apply a custom function to each group of the grouped DataFrame.\n",
        "\n"
      ],
      "metadata": {
        "id": "B8cHxCAGiU9n"
      }
    },
    {
      "cell_type": "code",
      "source": [
        "df = pd.DataFrame({'group': ['A', 'B', 'B', 'A', 'A', 'B'],\n",
        "                   'value': [1, 2, 3, 4, 5, 6]})\n",
        "print(df)"
      ],
      "metadata": {
        "id": "bQKyYu8uF8Ll"
      },
      "execution_count": null,
      "outputs": []
    },
    {
      "cell_type": "code",
      "source": [
        "# Group the DataFrame by the 'group' column\n",
        "grouped = df.groupby('group')\n",
        "# Define a custom function to apply to each group\n",
        "def custom_function(group):\n",
        "    return group['value'].sum()\n",
        "\n",
        "# Apply the custom function to each group using the apply method\n",
        "result = grouped.apply(custom_function)\n",
        "print(result)"
      ],
      "metadata": {
        "id": "mewamF-kFrcw"
      },
      "execution_count": null,
      "outputs": []
    },
    {
      "cell_type": "markdown",
      "source": [
        "## *Combine Multiple DataFrames*"
      ],
      "metadata": {
        "id": "O8a1a4LmobPa"
      }
    },
    {
      "cell_type": "markdown",
      "source": [
        "### **Concate Method**\n",
        "The `concat` method in pandas is used to concatenate two or more pandas objects (typically DataFrames or Series) along a particular axis, either rows or columns.\n",
        "\n"
      ],
      "metadata": {
        "id": "nm0GLbIsoits"
      }
    },
    {
      "cell_type": "code",
      "source": [
        "# Create two sample DataFrames\n",
        "df1 = pd.DataFrame({'A': [1, 2, 3, 4], 'B': [4, 5, 6, 7]})\n",
        "df2 = pd.DataFrame({'A': [7, 8, 9], 'D': [10, 11, 12]})\n",
        "\n",
        "print(df1, '\\n')\n",
        "print(df2)"
      ],
      "metadata": {
        "id": "6i3MDIFXH7GP"
      },
      "execution_count": null,
      "outputs": []
    },
    {
      "cell_type": "code",
      "source": [
        "# Concatenate the two DataFrames horizontally\n",
        "print(pd.concat([df1, df2], axis=1))"
      ],
      "metadata": {
        "id": "nacBM-PnGMBM"
      },
      "execution_count": null,
      "outputs": []
    },
    {
      "cell_type": "code",
      "source": [
        "# Concatenate the two DataFrames vertically\n",
        "print(pd.concat([df1, df2], axis=0))"
      ],
      "metadata": {
        "id": "1NtU9JfaGO89"
      },
      "execution_count": null,
      "outputs": []
    },
    {
      "cell_type": "code",
      "source": [
        "# Reset index\n",
        "print(pd.concat([df1, df2], axis=0, ignore_index = True))"
      ],
      "metadata": {
        "id": "KOi0yK6VHpIr"
      },
      "execution_count": null,
      "outputs": []
    },
    {
      "cell_type": "code",
      "source": [
        "# Use union to decide the labels\n",
        "print(pd.concat([df1, df2], axis=0, join= 'outer'))"
      ],
      "metadata": {
        "id": "POS8-fyTG3Ug"
      },
      "execution_count": null,
      "outputs": []
    },
    {
      "cell_type": "code",
      "source": [
        "# Use intersect to decide the labels\n",
        "print(pd.concat([df1, df2], axis=0, join= 'inner'))"
      ],
      "metadata": {
        "id": "8M7nmgtIHLff"
      },
      "execution_count": null,
      "outputs": []
    },
    {
      "cell_type": "markdown",
      "source": [
        "### **Merge Method**\n",
        "The merge method in pandas is used to merge two or more DataFrames based on a common column or index. It's similar to the JOIN operation in `SQL`.\n",
        "\n"
      ],
      "metadata": {
        "id": "ONW-gIONomDd"
      }
    },
    {
      "cell_type": "code",
      "source": [
        "# Create two sample DataFrames\n",
        "df1 = pd.DataFrame({'key': ['A', 'B', 'A', 'D', 'F'], 'value': [1, 2, 3, 4, 5]})\n",
        "df2 = pd.DataFrame({'key': ['B', 'D', 'E', 'A'], 'value': [5, 6, 7, 8]})\n",
        "\n",
        "print(df1, '\\n')\n",
        "print(df2)"
      ],
      "metadata": {
        "id": "8hA4u8hYJo9G"
      },
      "execution_count": null,
      "outputs": []
    },
    {
      "cell_type": "code",
      "source": [
        "# Merge the two DataFrames on the 'key' column\n",
        "print(pd.merge(df1, df2, on='key')) # inner join\n",
        "# or\n",
        "#print(pd.merge(df1, df2, left_on='key', right_on = 'key'))"
      ],
      "metadata": {
        "id": "1Q23uhXbIZD4"
      },
      "execution_count": null,
      "outputs": []
    },
    {
      "cell_type": "code",
      "source": [
        "# inner, outer, left, right join\n",
        "print(df1, '\\n')\n",
        "print(df2, '\\n')\n",
        "print(pd.merge(df1, df2, on='key', how = 'left')) # 'outer', 'left', 'right'"
      ],
      "metadata": {
        "id": "Jdm-ap2VIey1"
      },
      "execution_count": null,
      "outputs": []
    },
    {
      "cell_type": "markdown",
      "source": [
        "**Merge on Index**\n"
      ],
      "metadata": {
        "id": "lv_jrARdxMmy"
      }
    },
    {
      "cell_type": "code",
      "source": [
        "# Create two sample DataFrames with the same index\n",
        "df1 = pd.DataFrame({'value': [1, 2, 3, 4], 'col1': [\"B\", \"E\", \"A\", \"C\"]}, index=['A', 'B', 'C', 'D'])\n",
        "df2 = pd.DataFrame({'value': [5, 6, 7, 8]}, index=['B', 'D', 'E', 'F'])\n",
        "\n",
        "print(df1, '\\n')\n",
        "print(df2, '\\n')\n",
        "# Merge the two DataFrames on the index\n",
        "print(pd.merge(df1, df2, left_index=True, right_index=True))"
      ],
      "metadata": {
        "id": "h7krkVtGKRri"
      },
      "execution_count": null,
      "outputs": []
    },
    {
      "cell_type": "code",
      "source": [
        "# Merge on index and column\n",
        "print(df1, '\\n')\n",
        "print(df2, '\\n')\n",
        "print(pd.merge(df1, df2, left_on=\"col1\", right_index=True))"
      ],
      "metadata": {
        "id": "kQUuwbX8KArm"
      },
      "execution_count": null,
      "outputs": []
    }
  ]
}