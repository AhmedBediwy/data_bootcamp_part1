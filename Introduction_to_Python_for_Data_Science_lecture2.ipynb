{
  "nbformat": 4,
  "nbformat_minor": 0,
  "metadata": {
    "colab": {
      "provenance": [],
      "toc_visible": true,
      "authorship_tag": "ABX9TyOj3/uDak6JxYdwBDwKQZG4",
      "include_colab_link": true
    },
    "kernelspec": {
      "name": "python3",
      "display_name": "Python 3"
    },
    "language_info": {
      "name": "python"
    }
  },
  "cells": [
    {
      "cell_type": "markdown",
      "metadata": {
        "id": "view-in-github",
        "colab_type": "text"
      },
      "source": [
        "<a href=\"https://colab.research.google.com/github/statrliu/data_bootcamp_part1/blob/main/Introduction_to_Python_for_Data_Science_lecture2.ipynb\" target=\"_parent\"><img src=\"https://colab.research.google.com/assets/colab-badge.svg\" alt=\"Open In Colab\"/></a>"
      ]
    },
    {
      "cell_type": "markdown",
      "source": [
        "# **Python for Data Science**"
      ],
      "metadata": {
        "id": "CAFrvvZIMUcJ"
      }
    },
    {
      "cell_type": "markdown",
      "source": [
        "## *Flow Control*"
      ],
      "metadata": {
        "id": "vkG1hWOZBU4s"
      }
    },
    {
      "cell_type": "markdown",
      "source": [
        "\n",
        "\n",
        "### **If-elif-else Statements**\n",
        "In Python, the if (elif, else) statements are used for conditional execution of code. It is used to make decisions based on the truth value of a condition.\n",
        "\n",
        "```\n",
        "if condition:\n",
        "    # code to be executed if condition is True\n",
        "elif condition2:\n",
        "    # code to be executed if condition2 is True and condition is False\n",
        "else:\n",
        "    # code to be executed if both condition and condition2 are False\n",
        "\n",
        "```\n",
        "**Important**\n",
        "In Python, indentation is used to define the scope of a code block.\n",
        "+ Code blocks are used in control structures such as `if`, `for`, `while`, `def`, `class`, etc.\n",
        "+ In order to indicate which lines of code belong to a code block, you must indent them with whitespace (usually 4 spaces, but sometimes a tab is used instead).\n"
      ],
      "metadata": {
        "id": "OLRGIKzlF0-p"
      }
    },
    {
      "cell_type": "code",
      "source": [
        "x = -2\n",
        "\n",
        "if x > 0:\n",
        "    print(\"x is positive\")\n",
        "elif x < 0:\n",
        "    print(\"x is negative\")\n",
        "else:\n",
        "    print(\"x is zero\")\n"
      ],
      "metadata": {
        "id": "wO8OKErdGy47"
      },
      "execution_count": null,
      "outputs": []
    },
    {
      "cell_type": "markdown",
      "source": [
        "### **For Loop**\n",
        "A `for` loop is used to iterate over a collection of elements (iterable, iterator), such as a list, tuple, string, or dictionary.\n",
        "```\n",
        "for variable in collection:\n",
        "    # code to be executed\n",
        "```\n"
      ],
      "metadata": {
        "id": "ISYGYLqINCXW"
      }
    },
    {
      "cell_type": "code",
      "source": [
        "# iterate over a list\n",
        "for i in [2,3,4,5]:\n",
        "    print(i)"
      ],
      "metadata": {
        "id": "1MpkaJr3ODDF"
      },
      "execution_count": null,
      "outputs": []
    },
    {
      "cell_type": "code",
      "source": [
        "# iterate over a dictionary\n",
        "my_dict = {\"apple\": 1, \"banana\": 2, \"orange\": 3}\n",
        "for key, value in my_dict.items():\n",
        "    print(key, value)"
      ],
      "metadata": {
        "id": "mtHvQAPLh8dh"
      },
      "execution_count": null,
      "outputs": []
    },
    {
      "cell_type": "code",
      "source": [
        "# Nested for loop\n",
        "for i in [1,2,3]:\n",
        "    for j in (4,5):\n",
        "        print((i, j))"
      ],
      "metadata": {
        "id": "sWdDGofPsmbX"
      },
      "execution_count": null,
      "outputs": []
    },
    {
      "cell_type": "markdown",
      "source": [
        "#### *Break and Continue*\n",
        "\n",
        "The `break` statement breaks out of the innermost enclosing `for` or `while` loop."
      ],
      "metadata": {
        "id": "0PAZMbab1TNs"
      }
    },
    {
      "cell_type": "code",
      "source": [
        "fruits = [\"apple\", \"banana\", \"cherry\", \"orange\", \"kiwi\"]\n",
        "for fruit in fruits:\n",
        "    if fruit == \"orange\":\n",
        "        break\n",
        "    print(fruit)"
      ],
      "metadata": {
        "id": "0kkro-w54TPe"
      },
      "execution_count": null,
      "outputs": []
    },
    {
      "cell_type": "markdown",
      "source": [
        "The `continue` statement continues with the next iteration of the loop (skip codes in the current iteration.):"
      ],
      "metadata": {
        "id": "K7yL8TuDNWDw"
      }
    },
    {
      "cell_type": "code",
      "source": [
        "fruits = [\"apple\", \"banana\", \"cherry\", \"orange\", \"kiwi\"]\n",
        "for fruit in fruits:\n",
        "    if fruit == \"orange\":\n",
        "        continue\n",
        "    print(fruit)"
      ],
      "metadata": {
        "id": "uqB5ljliNY2g"
      },
      "execution_count": null,
      "outputs": []
    },
    {
      "cell_type": "markdown",
      "source": [
        "### While Loop\n",
        "The `while` statement is used for repeated execution as long as an expression is true:\n",
        "```\n",
        "while condition:\n",
        "    # code to be executed if condition is True\n",
        "```\n",
        "**Note:**\n",
        "\n",
        "Be aware of an infinite loop! You may need to add some code logics to avoid infinite loop."
      ],
      "metadata": {
        "id": "amKYkrzWCoEZ"
      }
    },
    {
      "cell_type": "code",
      "source": [
        "count = 1\n",
        "while count <= 5:\n",
        "    print(count)\n",
        "    count += 1\n"
      ],
      "metadata": {
        "id": "AsCnIQpbOEKt"
      },
      "execution_count": null,
      "outputs": []
    },
    {
      "cell_type": "markdown",
      "source": [
        "### Loop with `else` Clause\n",
        "\n",
        "Loop statements may have an `else` clause;\n",
        "+ The `else` clause is executed when the loop terminates through exhaustion of the iterable (with `for`) or when the condition becomes `false` (with `while`).\n",
        "+ It is not executed when the loop is terminated by a `break` statement.\n"
      ],
      "metadata": {
        "id": "MSnoGzmi4lUT"
      }
    },
    {
      "cell_type": "code",
      "source": [
        "fruits = [\"apple\", \"banana\", \"cherry\", \"orange\", \"kiwi\"]\n",
        "for fruit in fruits:\n",
        "    if fruit == \"pineapple\":\n",
        "        print(\"Pineapple is in the list!\")\n",
        "        break\n",
        "else:\n",
        "    print(\"Pineapple is not in the list.\")\n"
      ],
      "metadata": {
        "id": "Ny5MOecFwEtt"
      },
      "execution_count": null,
      "outputs": []
    },
    {
      "cell_type": "markdown",
      "source": [
        "## *Functions*\n",
        "A function is a block of organized, reusable code that performs a specific task.\n",
        "\n",
        "Functions provide a way to break down complex programs into smaller, modular pieces, making them easier to understand, reuse, and maintain.\n",
        "\n"
      ],
      "metadata": {
        "id": "1rrttn1qOfmR"
      }
    },
    {
      "cell_type": "markdown",
      "source": [
        "### **Define a Function**\n",
        "+ functions are defined using the `def` keyword, followed by the function name, any parameters the function takes in (if any), and a colon `:`.\n",
        "+ The function code block is then indented, typically by four spaces or a tab.\n",
        "```\n",
        "def add_numbers(a, b):\n",
        "    result = a + b\n",
        "    return result\n",
        "```\n",
        "+ The `return` statement is optional. If there is no `return` statement in the body of the function, `None` will be returned when the function is called.\n",
        "\n",
        "To use this function, you can simply call it with two arguments, like this:\n",
        "```\n",
        "sum = add_numbers(3, 5)\n",
        "print(sum)\n",
        "```\n",
        "\n"
      ],
      "metadata": {
        "id": "FbpBJTQPdTn6"
      }
    },
    {
      "cell_type": "code",
      "source": [
        "def add_numbers(a, b):\n",
        "    result = a + b\n",
        "    return result\n",
        "\n",
        "sum = add_numbers(3, 5)\n",
        "print(sum)"
      ],
      "metadata": {
        "id": "MiJ0EBhwpBAn"
      },
      "execution_count": null,
      "outputs": []
    },
    {
      "cell_type": "markdown",
      "source": [
        "**Question**\n",
        "\n",
        "What is the value of `sum` ?\n",
        "```\n",
        "def add_numbers(a, b):\n",
        "    result = a + b\n",
        "    \n",
        "sum = add_numbers(3, 5)\n",
        "```"
      ],
      "metadata": {
        "id": "4-BIB64okXK-"
      }
    },
    {
      "cell_type": "code",
      "source": [],
      "metadata": {
        "id": "KYbo6vSvkm9N"
      },
      "execution_count": 17,
      "outputs": []
    },
    {
      "cell_type": "markdown",
      "source": [
        "Fucntions are the first class citizen in Python\n",
        "  + A function can be assigned to a name in an asighment statement\n",
        "  ```\n",
        "  def fcn():\n",
        "       print(\"I am a function\")\n",
        "  fcn_1 = fcn  \n",
        "  ```\n",
        "  + Funcations can be passed to another function as arguments (higher order function)\n",
        "  + A function can be returned by another function (higher order function).\n",
        "\n"
      ],
      "metadata": {
        "id": "VOWwpft9A9_E"
      }
    },
    {
      "cell_type": "markdown",
      "source": [
        "#### *Parameter vs Argument*\n",
        "\n",
        "* When you define a function, the names (object references) in the function definition are called **parameters**\n",
        "\n",
        "* When the function is called, the values or names (object references) passed to the function are called **arguments**.\n",
        "\n",
        "\n"
      ],
      "metadata": {
        "id": "6K-rhXtAjN44"
      }
    },
    {
      "cell_type": "code",
      "source": [
        "def fcn(parameter_1, parameter_2):\n",
        "      print(parameter_1, parameter_2)\n",
        "      return 0\n",
        "\n",
        "print(fcn(20, \"abc\")) # 20 and \"abc\" are called arguments.\n",
        "print(fcn(12, parameter_2 = 20))"
      ],
      "metadata": {
        "id": "yzXXa2_SjX_y"
      },
      "execution_count": null,
      "outputs": []
    },
    {
      "cell_type": "markdown",
      "source": [
        "##### **Function parameters**\n",
        "+ Positional-only parameter\n",
        "+ Positional-keyword parameter\n",
        "+ Variable-length positional parameter\n",
        "+ Keyword only paramter\n",
        "+ Variable-length keyword parameter\n",
        "    \n"
      ],
      "metadata": {
        "id": "VVnm-Cj2lEPk"
      }
    },
    {
      "cell_type": "markdown",
      "source": [
        "\n",
        "###### _positional-only parameter (Python 3.8 and later)_\n",
        "+ When the function is called, we can only use positional argument for this type of parameters. Cannot use keyword argument"
      ],
      "metadata": {
        "id": "88k8Z7WQkr63"
      }
    },
    {
      "cell_type": "code",
      "source": [
        "## All parameters defined before / are positinal-only\n",
        "def fcn(p1, /):\n",
        "    print(p1)\n",
        "\n",
        "fcn(10) # positional argument\n",
        "# 10\n"
      ],
      "metadata": {
        "id": "1pt3CHPaQkrG"
      },
      "execution_count": null,
      "outputs": []
    },
    {
      "cell_type": "markdown",
      "source": [
        "**Question**\n",
        "What is the output of the following statements\n",
        "```\n",
        "def fcn(p1, /):\n",
        "    print(p1)\n",
        "\n",
        "fcn(p1 = 10)\n",
        "```\n",
        "\n",
        "a. `\"p1\"`\n",
        "\n",
        "b. 10\n",
        "\n",
        "c. `/`\n",
        "\n",
        "d. `TypeError`"
      ],
      "metadata": {
        "id": "DU4gi9U3lxs7"
      }
    },
    {
      "cell_type": "code",
      "source": [],
      "metadata": {
        "id": "xhK8C55JmUfm"
      },
      "execution_count": 19,
      "outputs": []
    },
    {
      "cell_type": "markdown",
      "source": [
        "Positional-only parameter can have a default value.\n",
        "\n",
        "It is also called an optional (default) positional-only parameter\n"
      ],
      "metadata": {
        "id": "WA4yBvvmmkAT"
      }
    },
    {
      "cell_type": "code",
      "source": [
        "def fcn(p1, p2 = 10, /): # p2 is optional\n",
        "    print(p1, p2)\n",
        "\n",
        "fcn(20)\n",
        "# Output: 20 10\n",
        "fcn(20, 30)\n",
        "# Output: 20 30"
      ],
      "metadata": {
        "id": "HIgzVdGymp22"
      },
      "execution_count": null,
      "outputs": []
    },
    {
      "cell_type": "markdown",
      "source": [
        "###### _Positional-keyword parameter_\n",
        "Can be called using either positional or keyword argument."
      ],
      "metadata": {
        "id": "BiG7F3o3oj-Z"
      }
    },
    {
      "cell_type": "code",
      "source": [
        "# p1 is positional-keyword parameter, as no / in presence.\n",
        "def fcn(p1):\n",
        "    print(p1)\n",
        "\n",
        "fcn(10)\n",
        "# 10\n",
        "fcn(p1 = 10)\n",
        "# 10"
      ],
      "metadata": {
        "id": "DrwpmvVZQ-AG"
      },
      "execution_count": null,
      "outputs": []
    },
    {
      "cell_type": "code",
      "source": [
        "# p1 is positional-only, p2 is positional-keyword parameter.\n",
        "def fcn(p1, /, p2):\n",
        "    print(p1, p2)\n",
        "\n",
        "fcn(10, 20)\n",
        "# 10 20\n",
        "fcn(10, p2 = 20)\n",
        "# 10 20"
      ],
      "metadata": {
        "id": "4qO1cIOcnRD5"
      },
      "execution_count": null,
      "outputs": []
    },
    {
      "cell_type": "markdown",
      "source": [
        "###### *Variable-length positional parameter*\n",
        "  \n"
      ],
      "metadata": {
        "id": "4i9S_Swvpnw2"
      }
    },
    {
      "cell_type": "code",
      "source": [
        "def fcn(*var_p): ## var_p is a variable length positional parameter\n",
        "    print(var_p)\n",
        "\n",
        "fcn(10, 30, 50)\n",
        "# (10, 30, 50)\n",
        "# notice that var_p is a tuple."
      ],
      "metadata": {
        "id": "quDREXwlRNQl"
      },
      "execution_count": null,
      "outputs": []
    },
    {
      "cell_type": "markdown",
      "source": [
        "**Question**\n",
        "\n",
        "What is the output of the statements?\n",
        "```\n",
        "def fcn(p1, p2, /, p3, p4, *var_p):\n",
        "    print(p1, p2, p3, p4, var_p)\n",
        "\n",
        "print(fcn(1, 2, 3, 4, 5, 6))\n",
        "```\n",
        "\n",
        "a. `(p1, p2, p3, p4, var_p)`\n",
        "\n",
        "b. `1 2 3 4 5 6`\n",
        "\n",
        "c. `1 2 3 4 (5, 6)`\n",
        "\n",
        "d. `None of the above`"
      ],
      "metadata": {
        "id": "qHCuyt0Lnf3K"
      }
    },
    {
      "cell_type": "code",
      "source": [],
      "metadata": {
        "id": "wEjbkE7wn9tl"
      },
      "execution_count": null,
      "outputs": []
    },
    {
      "cell_type": "markdown",
      "source": [
        "###### *Keyword-only parameter*\n",
        "      \n",
        "+ keyword-only parameter without default value (required keyword-only parameter)\n",
        "        \n",
        "+ keyword-only parameter with default value (optional keyword-only parameter)\n",
        "         "
      ],
      "metadata": {
        "id": "Jyn11JIgqg28"
      }
    },
    {
      "cell_type": "code",
      "source": [
        "## anything after * is keyword-only parameter\n",
        "def fcn(*, kp1, kp2 =20):\n",
        "    print(kp1, kp2)\n",
        "\n",
        "fcn(kp1 = 10)\n",
        "# 10 20\n",
        "fcn(kp2 = 30, kp1 = 10)\n",
        "# 10 30"
      ],
      "metadata": {
        "id": "yBDnJQaBRWVp"
      },
      "execution_count": null,
      "outputs": []
    },
    {
      "cell_type": "markdown",
      "source": [
        "**Question**\n",
        "\n",
        "What is the output of the following statements?\n",
        "```\n",
        "def fcn(*, kp1, kp2 =20):\n",
        "    print(kp1, kp2)\n",
        "\n",
        "fcn(10)\n",
        "```\n",
        "a. `10`\n",
        "\n",
        "b. `10, 20`\n",
        "\n",
        "c. `None`\n",
        "\n",
        "d. `TypeError`"
      ],
      "metadata": {
        "id": "LlLcxbvjpVJF"
      }
    },
    {
      "cell_type": "code",
      "source": [],
      "metadata": {
        "id": "JyLY8OH7qDRE"
      },
      "execution_count": 28,
      "outputs": []
    },
    {
      "cell_type": "markdown",
      "source": [
        "###### *Variable length keyword-only parameter*\n"
      ],
      "metadata": {
        "id": "z9aH5o88qpfv"
      }
    },
    {
      "cell_type": "code",
      "source": [
        "## kwvar_p is a variable length keyword-only parameter\n",
        "def fcn(**kwvar_p):\n",
        "    print(kwvar_p)\n",
        "\n",
        "fcn(p1 = 10, p2 = 20)\n",
        "# {'p1': 10, 'p2': 20}\n",
        "# notice that kwvar_p is a dictionary."
      ],
      "metadata": {
        "id": "m6q60w2KRiXX"
      },
      "execution_count": null,
      "outputs": []
    },
    {
      "cell_type": "markdown",
      "source": [
        "###### _The order of parameters in a function definition_\n",
        "\n",
        "  1. Positional-only parameter(s)\n",
        "  2. Positional-keyword parameter(s)\n",
        "  3. Variable length positional parameter\n",
        "  4. Keyword-only parameter(s)\n",
        "  5. Variable length keyword-only parameter\n",
        "    \n",
        "For example:\n",
        "      \n",
        "  ```\n",
        "  def fcn(pos_only, /, pos_keyword, *var_pos, *, keyword_only, **var_keyword_only):\n",
        "      pass\n",
        "  ```\n",
        "\n"
      ],
      "metadata": {
        "id": "At8lImP3r3Lj"
      }
    },
    {
      "cell_type": "markdown",
      "source": [
        "Non-default (non-optional, required) positional parameter can not follow default (optional) positional parameter.\n",
        "  "
      ],
      "metadata": {
        "id": "DXoeuBkER6Oo"
      }
    },
    {
      "cell_type": "code",
      "source": [
        "def fcn(p1, p2 = 2,/, p3):\n",
        "    pass\n",
        "# SyntaxError: non-default argument follows default argument\n",
        "\n",
        "def fcn(p2=2, p3):\n",
        "    pass\n",
        "# SyntaxError: non-default argument follows default argument\n",
        "\n",
        "def fcn(p1 , /, p2=2, p3, p4):\n",
        "    pass\n",
        "\n",
        "# SyntaxError: non-default argument follows default argument"
      ],
      "metadata": {
        "id": "4TMfoAvRR-6M"
      },
      "execution_count": null,
      "outputs": []
    },
    {
      "cell_type": "markdown",
      "source": [
        "###### _The order of arguments in a function call_\n",
        "\n",
        "  1. Positional argument(s)\n",
        "  2. Keyword argument(s)\n",
        "  \n",
        "For example:\n",
        "```\n",
        "fcn(10, 'abc', arg1 = 30, arg2 = 50)\n",
        "```\n",
        "\n",
        "\n",
        "  \n",
        "\n",
        "    \n",
        "\n",
        "\n",
        "\n"
      ],
      "metadata": {
        "id": "Ap0MHVokDNUx"
      }
    },
    {
      "cell_type": "markdown",
      "source": [
        "When calling a function, any argument after a keyword argument MUST be keyword argument\n"
      ],
      "metadata": {
        "id": "VhKuI76wSgkM"
      }
    },
    {
      "cell_type": "code",
      "source": [
        "def fcn(p1, p2): # p1, p2 are positional-keyword parameters\n",
        "    print(p1, p2)\n",
        "\n",
        "fcn(p1=2, p2)\n",
        "# SyntaxError: positional argument follows keyword argument"
      ],
      "metadata": {
        "id": "KOrLLtb7Sih2"
      },
      "execution_count": null,
      "outputs": []
    },
    {
      "cell_type": "markdown",
      "source": [
        "**Question**\n",
        "\n",
        "What is the output of the following statements?\n",
        "```\n",
        "def fcn(p1, p2):\n",
        "    print(p1, p2)\n",
        "\n",
        "fcn(10, 20, p1 = 30)\n",
        "```\n",
        "a. `10 20`\n",
        "\n",
        "b. `10 30`\n",
        "\n",
        "c. `30 20`\n",
        "\n",
        "d. `TypeError`"
      ],
      "metadata": {
        "id": "x9itzku3rYiB"
      }
    },
    {
      "cell_type": "code",
      "source": [],
      "metadata": {
        "id": "kjCNe0-ytcB_"
      },
      "execution_count": 30,
      "outputs": []
    },
    {
      "cell_type": "markdown",
      "source": [
        "##### _Function call with `*` and `**`_\n",
        "\n",
        "A funciton can also be called with 'tuple unpacking' and 'dictionary unpacking'\n",
        "  \n"
      ],
      "metadata": {
        "id": "gChnQPCbtcar"
      }
    },
    {
      "cell_type": "code",
      "source": [
        "def fcn(p1, p2, p3, p4):\n",
        "    print(p1, p2, p3, p4)\n",
        "\n",
        "tup1 = (1,2)\n",
        "dict1 = {\"p3\": 3, \"p4\": 4}   #here keys must match the name of the function\n",
        "# parameters\n",
        "\n",
        "fcn(*tup1, **dict1)\n",
        "# 1 2 3 4"
      ],
      "metadata": {
        "id": "51wf-3g2S32S"
      },
      "execution_count": null,
      "outputs": []
    },
    {
      "cell_type": "code",
      "source": [
        "fcn(**dict1, *tup1)\n",
        "# SyntaxError: iterable argument unpacking follows keyword argument unpacking"
      ],
      "metadata": {
        "id": "uNqk_mN6uzwh"
      },
      "execution_count": null,
      "outputs": []
    },
    {
      "cell_type": "markdown",
      "source": [
        "##### *Pass by Obeject Reference*\n",
        "\n",
        "In a function call, variables are passed by object reference. This means that when you pass a variable to a function, you are passing a reference to the object in memory that the variable is referencing, rather than a copy of the object itself.\n",
        "\n",
        "For example, consider the following code:\n",
        "\n",
        "\n"
      ],
      "metadata": {
        "id": "E8TH_VzXnnT3"
      }
    },
    {
      "cell_type": "code",
      "source": [
        "def my_function(my_list):\n",
        "    my_list.append(4)\n",
        "    print(\"Inside function: my_list =\", my_list)\n",
        "\n",
        "a = [1, 2, 3]\n",
        "my_function(a)\n",
        "print(\"Outside function: a =\", a)"
      ],
      "metadata": {
        "id": "8eIdfiiVTL_A",
        "colab": {
          "base_uri": "https://localhost:8080/"
        },
        "outputId": "6b14ab8a-7563-4c50-c470-453280d3c86e"
      },
      "execution_count": 33,
      "outputs": [
        {
          "output_type": "stream",
          "name": "stdout",
          "text": [
            "Inside function: my_list = [1, 2, 3, 4]\n",
            "Outside function: a = [1, 2, 3, 4]\n"
          ]
        }
      ]
    },
    {
      "cell_type": "markdown",
      "source": [
        "**Question**\n",
        "\n",
        "What is the value of `a` after running the following statements?\n",
        "```\n",
        "def my_function(my_list):\n",
        "    my_list = [5,6,7]\n",
        "    my_list.append(4)\n",
        "    print(\"Inside function: my_list =\", my_list)\n",
        "\n",
        "a = [1, 2, 3]\n",
        "my_function(a)\n",
        "```\n",
        "\n",
        "a. `[1, 2, 3]`\n",
        "\n",
        "b. `[5, 6, 7]`\n",
        "\n",
        "c. `[5, 6, 7, 4]`\n",
        "\n",
        "d. `[1, 2, 3, 4]`"
      ],
      "metadata": {
        "id": "DBAHSiVf49eR"
      }
    },
    {
      "cell_type": "code",
      "source": [],
      "metadata": {
        "id": "esJ6MKkM5TwN"
      },
      "execution_count": 35,
      "outputs": []
    },
    {
      "cell_type": "markdown",
      "source": [
        "### *Lambda function*\n",
        "\n",
        "In Python, a lambda function (also known as an anonymous function) is a small, single-expression function that does not have a name.\n",
        "\n",
        "+ Lambda functions are defined using the `lambda` keyword\n",
        "+ followed by the function's parameters (if any), a colon `:`, and the expression to be evaluated.\n",
        "+ The expression is then returned as the result of the function.\n",
        "```\n",
        "sum = lambda a, b: a + b\n",
        "```\n",
        "\n",
        "The lambda function can be called like a regular function:\n",
        "\n",
        "```\n",
        "result = sum(3, 5)\n",
        "print(result)\n",
        "```"
      ],
      "metadata": {
        "id": "4BQ0Mj_vvJ_i"
      }
    },
    {
      "cell_type": "markdown",
      "source": [
        "Lambda functions are often used in combination with higher-order functions like `map`, `filter` to create concise and expressive code.\n"
      ],
      "metadata": {
        "id": "DYoJ4H8yTljZ"
      }
    },
    {
      "cell_type": "code",
      "source": [
        "numbers = [1, 2, 3, 4, 5]\n",
        "squares = map(lambda x: x**2, numbers)\n",
        "print(list(squares))"
      ],
      "metadata": {
        "id": "2SoBgV_VTn8v"
      },
      "execution_count": null,
      "outputs": []
    },
    {
      "cell_type": "code",
      "source": [
        "numbers = [1, 2, 3, 4, 5, 6]\n",
        "filtered_numbers = filter(lambda x: x % 2 != 0, numbers)\n",
        "print(list(filtered_numbers))"
      ],
      "metadata": {
        "id": "KrU-N_zsI-50"
      },
      "execution_count": null,
      "outputs": []
    },
    {
      "cell_type": "markdown",
      "source": [
        "## *Comprehensions in Python*\n"
      ],
      "metadata": {
        "id": "M3Zx2fSYPxBF"
      }
    },
    {
      "cell_type": "markdown",
      "source": [
        "### **List Comprehension**\n",
        "\n",
        "List comprehension is a concise way to create new lists in Python.\n",
        "+ It allows you to create a new list by applying an **expression** to each element of an existing list (or other iterable object)\n",
        "+ You can also filter the elements based on a condition.\n",
        "\n",
        "+ The syntax of a list comprehension is as follows:\n",
        "```\n",
        "new_list = [expression for item in iterable if condition]\n",
        "```\n",
        "    + `new_list` is the new list that will be created\n",
        "    + `expression` is the operation to be applied to each item in the iterable\n",
        "    + `item` is a variable that represents each item in the iterable\n",
        "    + `iterable` is the existing list or other iterable that the list comprehension is based on\n",
        "    + `condition` is an optional condition that filters the elements in the iterable\n"
      ],
      "metadata": {
        "id": "izMq5FR1P-Cd"
      }
    },
    {
      "cell_type": "markdown",
      "source": [
        "Examples:\n"
      ],
      "metadata": {
        "id": "soLjX7YRCbL9"
      }
    },
    {
      "cell_type": "code",
      "source": [
        "# create a list of squares of numbers from 1 to 10\n",
        "squares = [x**2 for x in range(1, 11)]\n",
        "print(squares)  # Output: [1, 4, 9, 16, 25, 36, 49, 64, 81, 100]\n",
        "\n",
        "# Create a list of even numbers from 1 to 10:\n",
        "even_numbers = [x for x in range(1, 11) if x % 2 == 0]\n",
        "print(even_numbers)  # Output: [2, 4, 6, 8, 10]"
      ],
      "metadata": {
        "id": "va5DKjtQRFs0"
      },
      "execution_count": null,
      "outputs": []
    },
    {
      "cell_type": "markdown",
      "source": [
        "### **Dictionary Comprehension**\n",
        "Dictionary comprehension is similar to list comprehension, but instead of creating a new list, it creates a new dictionary\n",
        "+ It applies an expression to each `key-value` pair in an existing dictionary (or other iterable)\n",
        "+ It can also filter the `key-value` pairs based on a condition.\n",
        "\n",
        "The syntax of a dictionary comprehension is as follows:\n",
        "```\n",
        "new_dict = {key_expression: value_expression for item in iterable if condition}\n",
        "```"
      ],
      "metadata": {
        "id": "2NzFXUoHQB6P"
      }
    },
    {
      "cell_type": "markdown",
      "source": [
        "Examples:\n"
      ],
      "metadata": {
        "id": "d44DwsG9Fetw"
      }
    },
    {
      "cell_type": "code",
      "source": [
        "# Create a dictionary of squares of numbers from 1 to 5\n",
        "squares = {x: x**2 for x in range(1, 6)}\n",
        "print(squares)  # Output: {1: 1, 2: 4, 3: 9, 4: 16, 5: 25}\n"
      ],
      "metadata": {
        "id": "5beVuZcaRFOK"
      },
      "execution_count": null,
      "outputs": []
    },
    {
      "cell_type": "markdown",
      "source": [
        "## *Packages and Modules*\n",
        "\n",
        "### **Module**\n",
        "A Python module is a Python code file (`.py` file)  \n",
        "+ It is a way to organize code into reusable, standalone components that can be easily imported and used in other Python programs.\n",
        "+ Modules allow you to break up your code into logical, reusable pieces that can be shared and reused by other developers.\n",
        "+ Python modules can define functions, classes, variables, and constants that can be used in other Python programs.\n",
        "+ Modules can also include executable code that runs when the module is imported, allowing you to define initialization logic or other setup code that should be executed when the module is loaded.\n",
        "\n",
        "### **Package**\n",
        "\n",
        "A Python package is a way to organize related modules into a single namespace, making it easier to manage and import modules in your Python program.\n",
        "+ A package is simply a directory containing Python modules, along with a special file called `init.py` that is executed when the package is imported.\n",
        "+ Packages can contain sub-packages, which are themselves packages nested within the main package. This allows for a hierarchical structure of packages and modules that can be organized in a logical way.\n",
        "\n"
      ],
      "metadata": {
        "id": "x_GNKFiQRGYa"
      }
    },
    {
      "cell_type": "markdown",
      "source": [
        "Import Packages/Modules\n"
      ],
      "metadata": {
        "id": "M5l91yIgvEXI"
      }
    },
    {
      "cell_type": "code",
      "source": [
        "# Use import statement\n",
        "import pandas # pandas will be the name for referencing the Pandas package\n",
        "# object\n",
        "\n",
        "import pandas as pd # pd will be the name to use. But we can not use symbol\n",
        "# pandas.\n",
        "\n",
        "pd.Series([1,2])\n",
        "pandas.Series([1,2]) # NameError: name 'pandas' is not defined\n",
        "\n",
        "# Use from ... import ... statement\n",
        "from math import sqrt, cos # sqrt and cos will be in the namespace, can be\n",
        "# directly called. BUT math is not in the namespace"
      ],
      "metadata": {
        "id": "bnmMOipiRRr-"
      },
      "execution_count": 40,
      "outputs": []
    },
    {
      "cell_type": "markdown",
      "source": [
        "You can access the functions, classes, and constants in the module using dot notation, for example:\n",
        "```\n",
        "pd.DataFrame([[1,2], [3,4]])\n",
        "```"
      ],
      "metadata": {
        "id": "AE1v5gTFVDyV"
      }
    },
    {
      "cell_type": "markdown",
      "source": [
        "## *Unicode and UTF-8 Encoding*\n",
        "\n",
        "Unicode and UTF-8 are related but distinct concepts in computer science. Unicode defines what each character means, while UTF-8 defines how each character is represented in binary form.\n",
        "\n",
        "+ Unicode is a standard character encoding system that assigns **a unique numeric code point to every character** in the world's writing systems.\n",
        "https://en.wikipedia.org/wiki/List_of_Unicode_characters\n",
        "\n",
        "+ UTF-8 is a variable-length character encoding system that can **represent all Unicode code points using one to four bytes**. UTF-8 is the most widely used encoding for the World Wide Web and other modern computing applications.\n",
        "https://en.wikipedia.org/wiki/UTF-8\n",
        "\n",
        "+ Beside UTF-8, there are other encoding systems, such as: ASCII, UTF-16, UTF-32\n",
        "\n"
      ],
      "metadata": {
        "id": "M5pGvR2p0QR3"
      }
    },
    {
      "cell_type": "markdown",
      "source": [
        "\n",
        "In Python, Unicode strings are represented using the `str` data type, which can store characters from any writing system in the world.\n",
        "\n",
        "Python uses the UTF-8 encoding by default for Unicode strings.\n",
        "+ When you create a string literal in your Python code using quotes (either single or double), the characters in the string are automatically encoded using UTF-8. For example:\n",
        "\n",
        "```\n",
        "my_string = \"Hello, 世界!\"\n",
        "print(my_string)\n",
        "```"
      ],
      "metadata": {
        "id": "wFhzeY26y0hi"
      }
    },
    {
      "cell_type": "markdown",
      "source": [
        "You can also create Unicode strings using escape sequences that represent Unicode code points in hexadecimal notation. For example:\n"
      ],
      "metadata": {
        "id": "TqTQSYY_VRbI"
      }
    },
    {
      "cell_type": "code",
      "source": [
        "#  The escape sequences use the \\u prefix followed by a four-digit hexadecimal\n",
        "# code point for each character.\n",
        "\n",
        "my_string = \"\\u0048\\u0065\\u006C\\u006C\\u006F, \\u4E16\\u754C!\"\n",
        "print(my_string)"
      ],
      "metadata": {
        "id": "Tpri17rV0OnV"
      },
      "execution_count": null,
      "outputs": []
    },
    {
      "cell_type": "markdown",
      "source": [
        "### **Encode() and Decode()**\n",
        "\n",
        "*Encode() string method*\n",
        "\n",
        "The `encode()` method is used to convert a string from its Unicode representation to a specified character encoding.\n",
        "\n",
        "It returns a bytes object that contains the encoded version of the string. Here's an example:\n"
      ],
      "metadata": {
        "id": "kKo0Nl65BHF_"
      }
    },
    {
      "cell_type": "code",
      "source": [
        "string = \"Hello, world!\"\n",
        "encoded_string = string.encode(\"utf-8\")\n",
        "print(encoded_string)"
      ],
      "metadata": {
        "id": "XRiF1YjVCdhG"
      },
      "execution_count": null,
      "outputs": []
    },
    {
      "cell_type": "markdown",
      "source": [
        "*Decode() byte string method*\n",
        "\n",
        "The `decode()` method is used to convert a bytes object to a string in a specified character encoding. Here's an example:\n"
      ],
      "metadata": {
        "id": "Ng5F1g5oVgKp"
      }
    },
    {
      "cell_type": "code",
      "source": [
        "encoded_string = b'Hello, world!'\n",
        "print(encoded_string)\n",
        "\n",
        "decoded_string = encoded_string.decode(\"utf-8\")\n",
        "print(decoded_string)"
      ],
      "metadata": {
        "id": "poYEiNNUVjrK"
      },
      "execution_count": null,
      "outputs": []
    },
    {
      "cell_type": "markdown",
      "source": [
        "**Note**\n",
        "\n",
        "It's important to note that when using encode() and decode(), it's necessary to use the same character encoding for both functions to ensure that the data is properly converted."
      ],
      "metadata": {
        "id": "Qb2YqWkUVnrk"
      }
    },
    {
      "cell_type": "markdown",
      "source": [
        "### **Byte String**\n",
        "\n",
        "In Python, a byte string is a sequence of bytes that represents a string of characters. Byte strings are often used to store binary data or data that is not in human-readable format.\n",
        "\n",
        "\n",
        "+ Byte strings can be used to represent non-textual data, such as images, audio files, and binary data.\n",
        "+ They can also be used for network communication, file input/output\n",
        "+ Other operations where data needs to be transmitted in a raw byte format.\n",
        "\n",
        "It's important to note that byte strings are not the same as Unicode strings, which represent human-readable text. While Unicode strings can be encoded into byte strings using a specific character encoding, byte strings cannot be decoded into Unicode strings unless the original encoding is known.\n"
      ],
      "metadata": {
        "id": "tHsVAYDgCeAa"
      }
    },
    {
      "cell_type": "code",
      "source": [
        "byte_string = b\"hello world\" # create a byte string using the b prefix\n",
        "byte_string1 = bytes([0x68, 0x65, 0x6c, 0x6c, 0x6f, 0x20, 0x77, 0x6f, 0x72, 0x6c, 0x64])\n",
        "print(byte_string1)\n",
        "print(byte_string1.decode('utf8'))\n",
        "# create a byte string using the bytes() constructor and a list of byte values"
      ],
      "metadata": {
        "id": "j16xZ3kjL2mF"
      },
      "execution_count": null,
      "outputs": []
    }
  ]
}