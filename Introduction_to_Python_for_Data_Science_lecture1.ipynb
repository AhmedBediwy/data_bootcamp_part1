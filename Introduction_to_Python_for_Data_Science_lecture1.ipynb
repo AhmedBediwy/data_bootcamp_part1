{
  "nbformat": 4,
  "nbformat_minor": 0,
  "metadata": {
    "colab": {
      "provenance": [],
      "toc_visible": true,
      "authorship_tag": "ABX9TyMg+vYhEXolYfLey9xN/gM5",
      "include_colab_link": true
    },
    "kernelspec": {
      "name": "python3",
      "display_name": "Python 3"
    },
    "language_info": {
      "name": "python"
    }
  },
  "cells": [
    {
      "cell_type": "markdown",
      "metadata": {
        "id": "view-in-github",
        "colab_type": "text"
      },
      "source": [
        "<a href=\"https://colab.research.google.com/github/statrliu/data_bootcamp_part1/blob/main/Introduction_to_Python_for_Data_Science_lecture1.ipynb\" target=\"_parent\"><img src=\"https://colab.research.google.com/assets/colab-badge.svg\" alt=\"Open In Colab\"/></a>"
      ]
    },
    {
      "cell_type": "markdown",
      "source": [
        "#**Full Cycle of a Data Science Project**\n",
        "  1. Defining the Problem to Solve\n",
        "  2. Collecting Data\n",
        "  3. Manipulating Data\n",
        "  4. Building, Evaluating, and Selecting Models\n",
        "  5. Delivering Results"
      ],
      "metadata": {
        "id": "6-6bsnKJKvFU"
      }
    },
    {
      "cell_type": "markdown",
      "source": [
        "# **Overview of Data Manipulation**\n",
        "+ Cleaning the data\n",
        "  + Investigating errors/inconsistency/outliers\n",
        "  + Investigating missing values\n",
        "+ Formating and combining multiple data sets\n",
        "+ Generating new features\n",
        "\n",
        "\n"
      ],
      "metadata": {
        "id": "RKTVSg0BYzgz"
      }
    },
    {
      "cell_type": "markdown",
      "source": [
        "# **Python for Data Science**\n"
      ],
      "metadata": {
        "id": "OHh3T4vlb5AP"
      }
    },
    {
      "cell_type": "code",
      "source": [
        "# Check Python version\n",
        "import sys\n",
        "sys.version"
      ],
      "metadata": {
        "id": "_WVIbH3f0HdU"
      },
      "execution_count": null,
      "outputs": []
    },
    {
      "cell_type": "markdown",
      "source": [
        "## _Object and Type (Class)_\n",
        "\n",
        "**Object:** An object can hold data (attributes) and perform operations (methods). For example:\n",
        "+ An integer object can hold integer values and support arithmetic operations such as addition and subtraction.\n",
        "+ A string object can hold text values and support operations such as concatenation and substring extraction.\n",
        "\n",
        "**Type/Class:** A Python type is a classification of objects based on their characteristics and the operations they support.\n",
        "\n",
        "***In Python, almost everything is an object.***\n",
        "\n",
        "\n",
        "\n",
        "\n",
        "\n"
      ],
      "metadata": {
        "id": "LfJ2OaH0joa4"
      }
    },
    {
      "cell_type": "markdown",
      "source": [
        "Useful functions:\n",
        "\n",
        "+ use `type()` to find the type of an object.\n",
        "+ use `isinstance()` to check if the object is of the specified type.\n",
        "+ use `dir()` to list all the *'visible'* attributes of the object."
      ],
      "metadata": {
        "id": "dEadwdt4FQcO"
      }
    },
    {
      "cell_type": "code",
      "source": [
        "#using build in type() function\n",
        "print(type(10))\n",
        "print(type(1.5))\n",
        "\n",
        "print(dir(10))"
      ],
      "metadata": {
        "id": "pgZ-wnQaFTW7"
      },
      "execution_count": null,
      "outputs": []
    },
    {
      "cell_type": "markdown",
      "source": [
        "Access an object's data/method using `.` notation\n"
      ],
      "metadata": {
        "id": "OONdvz4eGC9Z"
      }
    },
    {
      "cell_type": "code",
      "source": [
        "print((10).real)\n",
        "print(str(10)) # convert a integer to a string\n",
        "print((10).__str__()) # same as str(10)"
      ],
      "metadata": {
        "id": "6WOXFN4hrYM4"
      },
      "execution_count": null,
      "outputs": []
    },
    {
      "cell_type": "markdown",
      "source": [
        "**Variables (Object reference)**\n",
        "\n",
        "Python do not store values directly; they store references (pointers) to objects in memory.\n",
        "\n",
        "When you create a variable in Python, you are essentially creating a name that references an object in memory.\n",
        "\n"
      ],
      "metadata": {
        "id": "hLDEliFfgkCs"
      }
    },
    {
      "cell_type": "markdown",
      "source": [
        "For example, if you create a variable `x` and assign it a value of 25, Python\n",
        "1. creates an integer object with a value of 5\n",
        "2. stores this object somewhere in the memeory.\n",
        "3. creat a variable(name) and assigns to the variable `x` the reference to that object  \n",
        "\n",
        "Then, you can perform operations on that object by reference it use `x`."
      ],
      "metadata": {
        "id": "ekwxBmkM-6O2"
      }
    },
    {
      "cell_type": "markdown",
      "source": [
        "Find the unique id (memory address) for an object.\n"
      ],
      "metadata": {
        "id": "-UyzqWPgw3cb"
      }
    },
    {
      "cell_type": "code",
      "source": [
        "# Using build in id() function\n",
        "print(id(20), end = '\\n\\n')\n",
        "print(id(\"data\"))"
      ],
      "metadata": {
        "id": "bl7v0phrw6ex"
      },
      "execution_count": null,
      "outputs": []
    },
    {
      "cell_type": "markdown",
      "source": [
        "**Assignment Statement:**\n"
      ],
      "metadata": {
        "id": "vvWD-N6YhVTt"
      }
    },
    {
      "cell_type": "code",
      "source": [
        "small_int = 10 # snake case\n",
        "largeFloat = 1234567.89 # camel case\n",
        "HighVolumn = 6789 # pascal case\n",
        "\n",
        "print(small_int)"
      ],
      "metadata": {
        "id": "BssqmFLHyMgX"
      },
      "execution_count": null,
      "outputs": []
    },
    {
      "cell_type": "markdown",
      "source": [
        "**Naming rules:**\n",
        "\n",
        "+ A variable name must start with a letter or the underscore character\n",
        "\n",
        "+ A variable name can only contain alpha-numeric characters and underscores `(A-z, 0-9, and _ )`\n",
        "\n",
        "+ Variable names are case-sensitive (`sd` and `SD` are different )\n",
        "\n",
        "+ A name cannot coincide with one of Python’s reserved words (keywords). https://docs.python.org/3.9/reference/lexical_analysis.html#keywords\n",
        "\n",
        "+ Using meaningfull names (`counter` is better than `c`)"
      ],
      "metadata": {
        "id": "i7GvMiClyVjU"
      }
    },
    {
      "cell_type": "markdown",
      "source": [
        "## *Mutable and Immutable Objects*\n",
        "\n",
        "In Python, objects are either immutable or mutable.\n",
        "\n",
        "**Imutable Object**\n",
        "\n",
        "An object is immutable if its value cannot be changed after it is created.\n",
        "\n",
        "+ If you want to change the value of an immutable object, you must create a new object with the desired value.\n",
        "+ Examples of immutable objects in Python include numbers (`int`, `float`), strings, and tuples.\n",
        "\n",
        "**Mutable Object**\n",
        "\n",
        "An object is mutable if its value can be changed after it is created.\n",
        "\n",
        "+ Changes to mutable objects affect the original object, rather than creating a new object.\n",
        "+ Examples of mutable objects in Python include lists,dictionaries, and sets.\n",
        "\n",
        "\n",
        "\n"
      ],
      "metadata": {
        "id": "e6LbMjlnPA2H"
      }
    },
    {
      "cell_type": "markdown",
      "source": [
        "**Question**\n",
        "```\n",
        "v1 = 10\n",
        "id_before = id(v1)\n",
        "v1 = v1 + 20\n",
        "id_after = id(v1)\n",
        "```\n",
        "Does `id_before` equal to `id_after`?"
      ],
      "metadata": {
        "id": "67LmN1LBG08Q"
      }
    },
    {
      "cell_type": "code",
      "source": [],
      "metadata": {
        "id": "GgHVhSV0_fNz"
      },
      "execution_count": null,
      "outputs": []
    },
    {
      "cell_type": "markdown",
      "source": [
        "**Question**\n",
        "\n",
        "`v_str = 'python'`\n",
        "\n",
        "What will happen when the following statement runs\n",
        "\n",
        "`v_str[0] = 'P'`?"
      ],
      "metadata": {
        "id": "X_ekmm0NHDqZ"
      }
    },
    {
      "cell_type": "code",
      "source": [],
      "metadata": {
        "id": "O4F5IgVMA6eZ"
      },
      "execution_count": null,
      "outputs": []
    },
    {
      "cell_type": "markdown",
      "source": [
        "## _Fundamental Data Types_"
      ],
      "metadata": {
        "id": "U023ZqZ2sM2b"
      }
    },
    {
      "cell_type": "markdown",
      "source": [
        "### **Integer and Float**\n",
        "Python `int` type is used for integer numbers (positive and negative)\n",
        "\n",
        "Python `float` type (floating-point) represents a real number with a fractional part\n",
        "\n",
        "\n",
        "\n",
        "\n"
      ],
      "metadata": {
        "id": "x7gpaQa__-0C"
      }
    },
    {
      "cell_type": "code",
      "source": [
        "# integers\n",
        "print(type(3))\n",
        "print(type(100_000))"
      ],
      "metadata": {
        "id": "BR2PJ29nzC2O"
      },
      "execution_count": null,
      "outputs": []
    },
    {
      "cell_type": "code",
      "source": [
        "# real numbers\n",
        "print(type(3.0)) # A float with a decimal point\n",
        "print(type(2.0e-4)) # # A float with an exponent"
      ],
      "metadata": {
        "id": "f61A_C-LB1jo"
      },
      "execution_count": null,
      "outputs": []
    },
    {
      "cell_type": "markdown",
      "source": [
        "Type conversion\n"
      ],
      "metadata": {
        "id": "IzEcWs5BwWn4"
      }
    },
    {
      "cell_type": "code",
      "source": [
        "# int to float\n",
        "print(float(3_000))\n",
        "\n",
        "# float to int.\n",
        "print(int(3.6415)) # truncation, cut the fraction part.\n",
        "print(int(-3.6415))"
      ],
      "metadata": {
        "id": "M8HCHaP3wl6H"
      },
      "execution_count": null,
      "outputs": []
    },
    {
      "cell_type": "markdown",
      "source": [
        "**Note:** Floating numbers in computer are just approximations.\n",
        "(https://docs.python.org/3/tutorial/floatingpoint.html)"
      ],
      "metadata": {
        "id": "9XpthuKUimJt"
      }
    },
    {
      "cell_type": "markdown",
      "source": [
        "**Question**\n",
        "\n",
        "Is the following statement true in Python?\n",
        "\n",
        "\"The result of 0.1 + 0.1 + 0.1 equals to 0.3\"\n"
      ],
      "metadata": {
        "id": "HbLpyqVoGcZg"
      }
    },
    {
      "cell_type": "code",
      "source": [
        "\n",
        "# format(0.1, '.20f')"
      ],
      "metadata": {
        "id": "WaO-vuUyMa-x"
      },
      "execution_count": null,
      "outputs": []
    },
    {
      "cell_type": "markdown",
      "source": [
        "When dealing with float numbers, don't use `==` for equality comparision. Use `isclose` funtion in the `math` module.\n"
      ],
      "metadata": {
        "id": "J1p0eVQv1RsW"
      }
    },
    {
      "cell_type": "code",
      "source": [
        "import math\n",
        "math.isclose(0.1 + 0.1 + 0.1, 0.3, rel_tol = 0.001, abs_tol = 0.001)"
      ],
      "metadata": {
        "id": "R9JDPXkH1TtU"
      },
      "execution_count": null,
      "outputs": []
    },
    {
      "cell_type": "markdown",
      "source": [
        "#### *Arithmetic Operators*\n",
        "\n"
      ],
      "metadata": {
        "id": "Bo5nS9dFhQYH"
      }
    },
    {
      "cell_type": "code",
      "source": [
        "# +, - as unary operators\n",
        "print(+5)\n",
        "print(-12.5)"
      ],
      "metadata": {
        "id": "1JB2C3DTREDE"
      },
      "execution_count": null,
      "outputs": []
    },
    {
      "cell_type": "code",
      "source": [
        "# +, - as binary operators\n",
        "print(3 + 5)\n",
        "print(3 - 10.5)"
      ],
      "metadata": {
        "id": "0A3VPy1r2kPI"
      },
      "execution_count": null,
      "outputs": []
    },
    {
      "cell_type": "code",
      "source": [
        "# multipication and exponentiation\n",
        "print(5 * 3)\n",
        "\n",
        "print(4 ** 3)"
      ],
      "metadata": {
        "id": "CpliB3rQ2mO9"
      },
      "execution_count": null,
      "outputs": []
    },
    {
      "cell_type": "markdown",
      "source": [
        "**Questions**\n",
        "1. What is the type of `3 + 5.0`? `integer or float`?\n",
        "\n",
        "2. What is the type of `3 ** 2.0` `integer or float`?\n"
      ],
      "metadata": {
        "id": "s4-Fmbp0Hs2s"
      }
    },
    {
      "cell_type": "code",
      "source": [],
      "metadata": {
        "id": "WPsTwIlSIj1q"
      },
      "execution_count": null,
      "outputs": []
    },
    {
      "cell_type": "code",
      "source": [
        "# True division '/' always return a float\n",
        "print(4/2)\n",
        "type(4/2)"
      ],
      "metadata": {
        "id": "04lMeqkk2oW4"
      },
      "execution_count": null,
      "outputs": []
    },
    {
      "cell_type": "markdown",
      "source": [
        "**Floor Division \"//\":**\n",
        "\n",
        "Divides one number by another and returns the largest \"integer\" value that is less than or equal to the result of the true division.\n",
        "\n",
        "The returned `integer` value can be of either `int` or `float` type, depending the type of the operands."
      ],
      "metadata": {
        "id": "dibfOc_uRxXj"
      }
    },
    {
      "cell_type": "code",
      "source": [
        "# Returns a int object\n",
        "print(7//3)\n",
        "\n",
        "print(7/-3)\n"
      ],
      "metadata": {
        "id": "f9kg8V9yUIE0"
      },
      "execution_count": null,
      "outputs": []
    },
    {
      "cell_type": "markdown",
      "source": [
        "**Question**\n",
        "\n",
        "What is the result of `8.4//2` ?\n"
      ],
      "metadata": {
        "id": "gSrPXcBFJG1X"
      }
    },
    {
      "cell_type": "code",
      "source": [],
      "metadata": {
        "id": "A-5AhhEyJw61"
      },
      "execution_count": null,
      "outputs": []
    },
    {
      "cell_type": "markdown",
      "source": [
        "**Question**\n",
        "\n",
        "What is the type of `8//2.0` ? `int or float`?"
      ],
      "metadata": {
        "id": "JURVlkLgKJwE"
      }
    },
    {
      "cell_type": "code",
      "source": [],
      "metadata": {
        "id": "DfaEj9K8KUA_"
      },
      "execution_count": null,
      "outputs": []
    },
    {
      "cell_type": "markdown",
      "source": [
        "**Modulo \"%\":**\n",
        "\n",
        "Returns the remainder of dividing one number by another.\n",
        "\n",
        "Python uses the following equation to find the remainder (`m % n`):\n",
        "```\n",
        "m = n * (m//n) + m % n\n",
        "or\n",
        "m % n = m - n * (m//n)\n",
        "```\n",
        "\n"
      ],
      "metadata": {
        "id": "ZZL8xPa9UIoq"
      }
    },
    {
      "cell_type": "code",
      "source": [
        "print(17//3)\n",
        "print(17%3)\n",
        "print(3 * (17//3) + (17%3), end ='\\n\\n')"
      ],
      "metadata": {
        "id": "osRInH2b5Ulc"
      },
      "execution_count": null,
      "outputs": []
    },
    {
      "cell_type": "code",
      "source": [
        "print(-17//3)\n",
        "print(-17%3)\n",
        "print(3 * (-17//3) + (-17%3), end ='\\n\\n' )"
      ],
      "metadata": {
        "id": "Un1LZyFg1tIh"
      },
      "execution_count": null,
      "outputs": []
    },
    {
      "cell_type": "markdown",
      "source": [
        "**Question**\n",
        "\n",
        "Is `17%-3` equal to 1?\n"
      ],
      "metadata": {
        "id": "YHuYgnjmMF6W"
      }
    },
    {
      "cell_type": "code",
      "source": [],
      "metadata": {
        "id": "De1p0OHnMYGz"
      },
      "execution_count": null,
      "outputs": []
    },
    {
      "cell_type": "markdown",
      "source": [
        "**Round() function**\n",
        "\n",
        "The `round()` function in Python is used to round a floating-point number to a specified number of decimal places or to the nearest integer. The function takes two arguments:\n",
        "+ the number to be rounded,\n",
        "+ an optional second argument that specifies the number of decimal places to round to.\n"
      ],
      "metadata": {
        "id": "O7UrzQOSw-Io"
      }
    },
    {
      "cell_type": "code",
      "source": [
        "print(round(1233.1415))\n",
        "print(round(1233.1415, 2))"
      ],
      "metadata": {
        "id": "MY1lsw1QxXFr"
      },
      "execution_count": null,
      "outputs": []
    },
    {
      "cell_type": "markdown",
      "source": [
        "**Question**\n",
        "\n",
        "What is the result of `round(1233.1415, -1)` ?"
      ],
      "metadata": {
        "id": "ZLzGWH4ZgZW_"
      }
    },
    {
      "cell_type": "code",
      "source": [],
      "metadata": {
        "id": "Ga9qnfw_hdzA"
      },
      "execution_count": null,
      "outputs": []
    },
    {
      "cell_type": "markdown",
      "source": [
        "**Note**\n",
        "\n",
        "The `round()` function uses a rounding rule called \"round half to even\", which means that if the digit to be rounded is exactly halfway between two possible values, the function rounds to the nearest even number.\n"
      ],
      "metadata": {
        "id": "IUMI4N1I59xO"
      }
    },
    {
      "cell_type": "code",
      "source": [
        "print(round(2.5))\n",
        "print(round(3.5))\n"
      ],
      "metadata": {
        "id": "6Mbw1Y4-6AIQ"
      },
      "execution_count": null,
      "outputs": []
    },
    {
      "cell_type": "markdown",
      "source": [
        "**Question**\n",
        "\n",
        "What is the result of `round(12.45, 1)` ?"
      ],
      "metadata": {
        "id": "n4e1p99shAd7"
      }
    },
    {
      "cell_type": "code",
      "source": [],
      "metadata": {
        "id": "pJvXiSVZhcrL"
      },
      "execution_count": null,
      "outputs": []
    },
    {
      "cell_type": "markdown",
      "source": [
        "#### *Augmented Assignment Operators*\n",
        "\n",
        "In Python, augmented assignment operators are shorthand operators that combine an arithmetic or bitwise operation with an assignment operation.\n",
        "\n",
        "They allow you to perform an operation and assign the result to a variable in a single step.\n",
        "\n",
        "\n"
      ],
      "metadata": {
        "id": "gSleg3o1REfN"
      }
    },
    {
      "cell_type": "code",
      "source": [
        "x = 3\n",
        "x += 2    # equivalent to x = x + 2\n",
        "print(x)  # Output: 5"
      ],
      "metadata": {
        "id": "naxVXReuRGkL"
      },
      "execution_count": null,
      "outputs": []
    },
    {
      "cell_type": "markdown",
      "source": [
        "### **None Type**\n",
        "`None` is the only value of the `NoneType`.\n",
        "+ `NoneType` can be used for missing values.\n",
        "+ If a function does not have a `return` statement, the function will automatically return `None`."
      ],
      "metadata": {
        "id": "4sb-MsJU8s6f"
      }
    },
    {
      "cell_type": "code",
      "source": [
        "None is None"
      ],
      "metadata": {
        "id": "PaEW4PJRVDOz"
      },
      "execution_count": null,
      "outputs": []
    },
    {
      "cell_type": "markdown",
      "source": [
        "### **Bool**\n",
        "\n",
        "Bool type has two values: `True, False`\n",
        "\n",
        "`True and False` are objects. Type of `True, False` is `bool`. You can use `id(True), id(False)` to check their addresses.\n"
      ],
      "metadata": {
        "id": "16YO29v2ACka"
      }
    },
    {
      "cell_type": "code",
      "source": [
        "print(id(True))\n",
        "print(id(False))\n",
        "\n",
        "type(True)\n",
        "# Output: bool"
      ],
      "metadata": {
        "id": "s7W0LaSI9X0r"
      },
      "execution_count": null,
      "outputs": []
    },
    {
      "cell_type": "markdown",
      "source": [
        "#### *Type conversion (casting)*\n"
      ],
      "metadata": {
        "id": "B066HP9X9Ovc"
      }
    },
    {
      "cell_type": "markdown",
      "source": [
        "##### **Using `bool()` for expicit conversion.**   \n",
        "    \n",
        "**Truthy and Falsy.**\n",
        "For basic data types:\n",
        "+ We can use `bool()` to convert an object to a boolean object.\n",
        "+ Empty `string` is evaluated as `False`\n",
        "+ For numbers like `int, float`, zero is converted to `False`, other values are Truthy.\n",
        "+ Empty `tuple, list, set, dict` are Falsey      \n",
        "+ `None` object is Falsey.\n",
        "\n",
        "\n",
        "        "
      ],
      "metadata": {
        "id": "fsksduGL-Ei1"
      }
    },
    {
      "cell_type": "code",
      "source": [
        "print(bool(\"\"))\n",
        "# Output: False\n",
        "\n",
        "print(bool(\" \")) # one space\n",
        "# Output: True\n"
      ],
      "metadata": {
        "id": "-wghDPIAVcDi"
      },
      "execution_count": null,
      "outputs": []
    },
    {
      "cell_type": "markdown",
      "source": [
        "#### *Comparison Operators*\n",
        "In Python, comparison operators are used to compare two values and return a Boolean value (`True` or `False`) based on the comparison result.\n",
        "\n",
        "+ `==` (equal to): returns `True` if the values on both sides of the operator are equal.\n",
        "+ `!=` (not equal to): returns `True` if the values on either side of the operator are not equal.\n",
        "+ `<` (less than): returns `True` if the value on the left side of the operator is less than the value on the right side.\n",
        "+ `>` (greater than): returns `True` if the value on the left side of the operator is greater than the value on the right side.\n",
        "+ `<=` (less than or equal to): returns `True` if the value on the left side of the operator is less than or equal to the value on the right side.\n",
        "+ `>=` (greater than or equal to): returns `True` if the value on the left side of the operator is greater than or equal to the value on the right side.\n",
        "\n"
      ],
      "metadata": {
        "id": "UZ0zNT5IVT8O"
      }
    },
    {
      "cell_type": "code",
      "source": [
        "x = 5\n",
        "y = 10\n",
        "\n",
        "# Check if x is less than y\n",
        "print(x < y)  # Output: True\n",
        "\n",
        "# Check if x is equal to y\n",
        "print(x == y)  # Output: False\n",
        "\n",
        "# Check if x is not equal to y\n",
        "print(x != y)  # Output: True\n",
        "\n",
        "# Check if y is greater than or equal to x\n",
        "print(y >= x)  # Output: True"
      ],
      "metadata": {
        "id": "Bg6ECm3WVakw"
      },
      "execution_count": null,
      "outputs": []
    },
    {
      "cell_type": "markdown",
      "source": [
        "##### **Equality vs Identity**\n",
        "\n",
        "+ In Python the `==` operator checks for value equality, not object identity.\n",
        "+ If you want to check whether two objects are the same object (i.e., they have the same memory address), you can use the `is` operator.\n"
      ],
      "metadata": {
        "id": "94SKmNCe-OOa"
      }
    },
    {
      "cell_type": "code",
      "source": [
        "x = [1, 2, 3]\n",
        "y = [1, 2, 3]\n",
        "print(x == y)  # Output: True\n",
        "print(x is y)  # Output: False\n",
        "print(id(x))\n",
        "print(id(y))"
      ],
      "metadata": {
        "id": "oT1KGaaI_yoB"
      },
      "execution_count": null,
      "outputs": []
    },
    {
      "cell_type": "markdown",
      "source": [
        "#### *Logical Operators*\n",
        "In Python, logical operators are used to perform logical operations on Boolean values. There are three logical operators available in Python:\n",
        "\n",
        "+ `and` - returns `True` if both operands are `True`, otherwise returns `False`.\n",
        "+ `or` - returns `True` if at least one operand is `True`, otherwise returns `False`.\n",
        "+ `not` - returns the opposite Boolean value of the operand. If the operand is `True`, it returns `False`, and if the operand is `False`, it returns `True`.\n",
        "\n"
      ],
      "metadata": {
        "id": "G2pNXbBbVZVo"
      }
    },
    {
      "cell_type": "code",
      "source": [
        "x = 5\n",
        "y = 10\n",
        "z = 15\n",
        "\n",
        "print(x < y and y < z)\n",
        "print(x < y or x > z)\n",
        "print(not (y == 10))"
      ],
      "metadata": {
        "id": "R-_auS9ikpF7"
      },
      "execution_count": null,
      "outputs": []
    },
    {
      "cell_type": "markdown",
      "source": [
        "##### **Use `and`, `or` with non-boolean objects**\n",
        "\n",
        "`obj1 and obj2` or `obj1 or obj2`, instead of returning `True` or `False`, will return the object that decides the boolean value of the expressions."
      ],
      "metadata": {
        "id": "YdywaTPUCavX"
      }
    },
    {
      "cell_type": "markdown",
      "source": [
        "**Questions**\n",
        "```\n",
        "x = 38\n",
        "y = ''\n",
        "```\n",
        "What is the value of `x and y`?\n",
        "\n",
        "What is the value of `x or y`?\n"
      ],
      "metadata": {
        "id": "zI2y6MIjyWGm"
      }
    },
    {
      "cell_type": "code",
      "source": [
        "x = 8\n",
        "y = ''"
      ],
      "metadata": {
        "id": "hLG0_VO1CxQC"
      },
      "execution_count": null,
      "outputs": []
    },
    {
      "cell_type": "markdown",
      "source": [
        "### **Collections**\n",
        "A collection object refers to any data structure that can hold multiple elements.\n",
        "+ Sequence type\n",
        "+ Mapping type"
      ],
      "metadata": {
        "id": "fm51hQ5OAF_y"
      }
    },
    {
      "cell_type": "markdown",
      "source": [
        "#### *Sequence Type*\n",
        "Sequence contains an **ordred** collection of objects.\n",
        "Examples:\n",
        "+ string\n",
        "+ list\n",
        "+ tuple"
      ],
      "metadata": {
        "id": "Y6a6c_IaAPlv"
      }
    },
    {
      "cell_type": "markdown",
      "source": [
        "##### **String**\n",
        "A string object is an ordered **immutable** sequence of characters.\n"
      ],
      "metadata": {
        "id": "SA_miWVlAZHP"
      }
    },
    {
      "cell_type": "markdown",
      "source": [
        "###### *Create A String*\n",
        "\n"
      ],
      "metadata": {
        "id": "wr6wa4mFVsOc"
      }
    },
    {
      "cell_type": "code",
      "source": [
        "# Use ' or \"\n",
        "str_1 = 'data science'\n",
        "str_2 = \"statistics\"\n",
        "str_3 = \"it's hard\"\n",
        "\n",
        "print(str_1, str_2, str_3, sep = '\\n', end = '\\n\\n')\n",
        "# Use ''' or \"\"\" to create multiline strings\n",
        "mstr_1 = '''this is\n",
        "a\n",
        "  multiline string\n",
        "'''\n",
        "\n",
        "print(mstr_1)\n",
        "\n",
        "# str_4 = 'it's hard' # SyntaxError: invalid syntax\n",
        "# to include ' inside a string with single quotes,\n",
        "# need to use the escape character, the backslash (\\).\n",
        "str_4 = 'it\\'s hard'\n",
        "\n",
        "print(str_4)\n",
        "\n"
      ],
      "metadata": {
        "id": "K7uZjlSqZt8v"
      },
      "execution_count": null,
      "outputs": []
    },
    {
      "cell_type": "markdown",
      "source": [
        "**Question**\n",
        "How to create a string object that references the following sentence\n",
        "\n",
        "`The sign read, \"Please don't touch the 'Do Not Enter' button.\"`?\n"
      ],
      "metadata": {
        "id": "GsuE5Y_b0C_8"
      }
    },
    {
      "cell_type": "code",
      "source": [],
      "metadata": {
        "id": "_-nXckCo1YtD"
      },
      "execution_count": null,
      "outputs": []
    },
    {
      "cell_type": "markdown",
      "source": [
        "###### *Subset a String*\n"
      ],
      "metadata": {
        "id": "Im_1eDzRcyeK"
      }
    },
    {
      "cell_type": "code",
      "source": [
        "string = \"Hello, world!\" #13 characters\n",
        "# Use index. In Python, index starts with 0 not 1!\n",
        "print(string[0])  # H\n",
        "print(string[7])  # w"
      ],
      "metadata": {
        "id": "rag7wdbBfGbZ"
      },
      "execution_count": null,
      "outputs": []
    },
    {
      "cell_type": "code",
      "source": [
        "string = \"Hello, world!\" #13 characters\n",
        "# Use slice object\n",
        "print(string[0:5])   # Hello\n",
        "print(string[0:4:2])    # Hl\n",
        "print(string[:5])    # Hello\n",
        "print(string[-2:])   # d!"
      ],
      "metadata": {
        "id": "NRL0wjwM2gMj"
      },
      "execution_count": null,
      "outputs": []
    },
    {
      "cell_type": "markdown",
      "source": [
        "###### *Operators, Functions and Methods for String Objects*"
      ],
      "metadata": {
        "id": "gwERMcreEZAs"
      }
    },
    {
      "cell_type": "markdown",
      "source": [
        "Concatenate multiple strings"
      ],
      "metadata": {
        "id": "7ghrr6bvE301"
      }
    },
    {
      "cell_type": "code",
      "source": [
        "str_1 = \"You can \"\n",
        "str_2 = \"subset a string \"\n",
        "str_3 = \"using indexing and slicing.\"\n",
        "\n",
        "\n",
        "str_123 = str_1 + str_2 + str_3\n",
        "print(str_123)"
      ],
      "metadata": {
        "id": "oRK1WplrFuOB"
      },
      "execution_count": null,
      "outputs": []
    },
    {
      "cell_type": "markdown",
      "source": [
        "Repeat a string multiple times"
      ],
      "metadata": {
        "id": "J8ODctdMGJvd"
      }
    },
    {
      "cell_type": "code",
      "source": [
        "str_1 = \"Data\"\n",
        "print(str_1 * 3)"
      ],
      "metadata": {
        "id": "yX5h96ufGKcO"
      },
      "execution_count": null,
      "outputs": []
    },
    {
      "cell_type": "markdown",
      "source": [
        "Split a string"
      ],
      "metadata": {
        "id": "DKefg5xFLE_O"
      }
    },
    {
      "cell_type": "code",
      "source": [
        "sentence = \"I, like, Python\"\n",
        "words = sentence.split(\",\")\n",
        "print(words)"
      ],
      "metadata": {
        "id": "kYI5LPU3LJbB"
      },
      "execution_count": null,
      "outputs": []
    },
    {
      "cell_type": "markdown",
      "source": [
        "Find the index of a substring"
      ],
      "metadata": {
        "id": "zGMbLmMcGdu8"
      }
    },
    {
      "cell_type": "code",
      "source": [
        "# find() method\n",
        "str_1 = \"tennis\"\n",
        "print(str_1.find(\"is\")) # 4. It returns the lowest index of the first match.\n",
        "print(str_1.find(\"ball\")) # -1.\n",
        "print(str_1.find(\"n\")) # 2. It returns the lowest index of the first match."
      ],
      "metadata": {
        "id": "nDp6X79NGesa"
      },
      "execution_count": null,
      "outputs": []
    },
    {
      "cell_type": "code",
      "source": [
        "# index() method\n",
        "str_1 = \"tennis\"\n",
        "print(str_1.index(\"n\"))\n",
        "#print(str_1.index(\"ball\"))"
      ],
      "metadata": {
        "id": "YQ7r_6sHF7JV"
      },
      "execution_count": null,
      "outputs": []
    },
    {
      "cell_type": "markdown",
      "source": [
        "Counts the number of occurrences of a character(or a substring) in the string\n",
        "\n",
        "The `count()` method\n"
      ],
      "metadata": {
        "id": "wZKPN3ZG4tRJ"
      }
    },
    {
      "cell_type": "code",
      "source": [
        "str_1 = 'one two three'\n",
        "print(str_1.count('e'))\n",
        "print(str_1.count('H'))\n",
        "print(str_1.count('ee'))"
      ],
      "metadata": {
        "id": "jl4Qy5wdHaH-"
      },
      "execution_count": null,
      "outputs": []
    },
    {
      "cell_type": "markdown",
      "source": [
        "Replace some or all occurrences of a substring by a new string.\n"
      ],
      "metadata": {
        "id": "Tqx-59zgsAwK"
      }
    },
    {
      "cell_type": "code",
      "source": [
        "# replace() method\n",
        "str_1 = \"cat \" * 4\n",
        "print(str_1)\n",
        "\n",
        "print(str_1.replace(\"cat\", \"dog\"))\n",
        "print(str_1.replace(\"cat\", \"dog\", 3))"
      ],
      "metadata": {
        "id": "aips7WaR03gq"
      },
      "execution_count": null,
      "outputs": []
    },
    {
      "cell_type": "markdown",
      "source": [
        "Case Conversion"
      ],
      "metadata": {
        "id": "DRXWYq9sINep"
      }
    },
    {
      "cell_type": "code",
      "source": [
        "str_1 = \"data sciEnCe\"\n",
        "print(str_1.lower())\n",
        "print(str_1.upper())\n",
        "\n",
        "print(str_1.swapcase())\n",
        "print(str_1.title())\n",
        "print(str_1.capitalize())"
      ],
      "metadata": {
        "id": "9X3kB7_HISBN"
      },
      "execution_count": null,
      "outputs": []
    },
    {
      "cell_type": "markdown",
      "source": [
        "Remove character(s) from the beginning/end of a string."
      ],
      "metadata": {
        "id": "eyLV4bFC2h7k"
      }
    },
    {
      "cell_type": "code",
      "source": [
        "str_1 = \" Hello world! \\t \\n\"\n",
        "print(str_1.strip())\n",
        "print(str_1.rstrip())\n",
        "print(str_1.lstrip())"
      ],
      "metadata": {
        "id": "AzNvhTVaIlWd"
      },
      "execution_count": null,
      "outputs": []
    },
    {
      "cell_type": "markdown",
      "source": [
        "**Question**\n",
        "\n",
        "How to get string `\"ell\"` from string `\"HHello\"`?"
      ],
      "metadata": {
        "id": "2E07P5Jd4k6V"
      }
    },
    {
      "cell_type": "code",
      "source": [],
      "metadata": {
        "id": "rzoSf-y44_aB"
      },
      "execution_count": null,
      "outputs": []
    },
    {
      "cell_type": "markdown",
      "source": [
        "Format string dynamically"
      ],
      "metadata": {
        "id": "AwHdkD8sI9IT"
      }
    },
    {
      "cell_type": "code",
      "source": [
        "# Use f-string (Python 3.6 or later)\n",
        "lang_1 = \"R\"\n",
        "lang_2 = \"Python\"\n",
        "version = 3.6\n",
        "f\"{lang_1} is easy to learn, so is {lang_2} {version}\""
      ],
      "metadata": {
        "id": "-UvlyR6WJAeg"
      },
      "execution_count": null,
      "outputs": []
    },
    {
      "cell_type": "markdown",
      "source": [
        "##### **List**\n",
        "fixed length, **mutable**, heterogeneous sequence.\n"
      ],
      "metadata": {
        "id": "CUiYXZYbgFOR"
      }
    },
    {
      "cell_type": "markdown",
      "source": [
        "###### *Create a List*"
      ],
      "metadata": {
        "id": "-_AxMfzxgPbF"
      }
    },
    {
      "cell_type": "code",
      "source": [
        "# Use []\n",
        "list_1 = [1, 3.5, \"string\"]\n",
        "print(list_1)"
      ],
      "metadata": {
        "id": "6lwhR20AzHOx"
      },
      "execution_count": null,
      "outputs": []
    },
    {
      "cell_type": "code",
      "source": [
        "# Using list(obj) to convert an iterable object to a list.\n",
        "list_1 = list(\"string\")\n",
        "print(list_1)"
      ],
      "metadata": {
        "id": "1Zb6D7CXrecO"
      },
      "execution_count": null,
      "outputs": []
    },
    {
      "cell_type": "markdown",
      "source": [
        "Get the length of a list"
      ],
      "metadata": {
        "id": "0QO-meBeAs_8"
      }
    },
    {
      "cell_type": "code",
      "source": [
        "# Use len() function\n",
        "list_1 = [1, 2, 3]\n",
        "print(len(list_1))"
      ],
      "metadata": {
        "id": "Q-WNX6aoAr5P"
      },
      "execution_count": null,
      "outputs": []
    },
    {
      "cell_type": "markdown",
      "source": [
        "**Question**\n",
        "\n",
        "How many elements are in `list1`, where\n",
        "\n",
        "`list1 = [\"a\", None, 2, 3.14]` ?"
      ],
      "metadata": {
        "id": "7uaZRRt46iZf"
      }
    },
    {
      "cell_type": "code",
      "source": [],
      "metadata": {
        "id": "shYTiOd861T5"
      },
      "execution_count": null,
      "outputs": []
    },
    {
      "cell_type": "markdown",
      "source": [
        "###### *Subset a List*\n",
        "Access an element of a list"
      ],
      "metadata": {
        "id": "pZ-r89HViVN0"
      }
    },
    {
      "cell_type": "code",
      "source": [
        "list_1 = [1, 2, 3, 4, 5]\n",
        "# Using [] with an single index:\n",
        "\n",
        "print(list_1[0]) # 1 return a single object, not list\n",
        "print(list_1[-2]) # 4 Negative index will be converted to a positive number using length of the list plus the index. So, in this example -2 will be converted to 5+ (-2) = 3\n",
        "\n",
        "#list_1[10] # IndexError: list index out of range\n"
      ],
      "metadata": {
        "id": "d4nDNSbSA_fH"
      },
      "execution_count": null,
      "outputs": []
    },
    {
      "cell_type": "markdown",
      "source": [
        "\n",
        "We can also use `[]` with slice object to get a subset of a list.\n",
        "\n",
        "###### *Slice Object*\n",
        "    \n",
        "* In Python, a slice object is used to define a range of elements to extract from a sequence, such as a string, list, or tuple.\n",
        "\n",
        "* A slice object is created using the built-in `slice()` function, and it takes three arguments: start, stop, and step.\n",
        "\n",
        "\n",
        "\n",
        "\n",
        "\n",
        "    \n"
      ],
      "metadata": {
        "id": "sH-fjgpOkBU9"
      }
    },
    {
      "cell_type": "code",
      "source": [
        "my_list = [1,3,5,7,9,11,13]\n",
        "my_slice = slice(2, 5, 2) # index 5 is exclusive !!\n",
        "my_list_slice = my_list[my_slice]\n",
        "print(my_list_slice)"
      ],
      "metadata": {
        "id": "7mmWdMpTBL_P"
      },
      "execution_count": null,
      "outputs": []
    },
    {
      "cell_type": "code",
      "source": [
        "# You can also use shorthand notation to create a slice object:\n",
        "my_list = [1,3,5,7,9,11,13]\n",
        "my_list_slice = my_list[2:5:2]\n",
        "print(my_list_slice)"
      ],
      "metadata": {
        "id": "w3PzMMSf288g"
      },
      "execution_count": null,
      "outputs": []
    },
    {
      "cell_type": "markdown",
      "source": [
        "###### *Operations on one list*"
      ],
      "metadata": {
        "id": "ra9Kwl4IQJ6C"
      }
    },
    {
      "cell_type": "markdown",
      "source": [
        "Append an element"
      ],
      "metadata": {
        "id": "z3_nJk8YAh7r"
      }
    },
    {
      "cell_type": "code",
      "source": [
        "list_1 = [1, 2, 3, 4, 5]\n",
        "list_1.append(6)\n",
        "# in-place method, return None.\n",
        "# Append 6 to the end of the sequence\n",
        "\n",
        "print(list_1) # [1, 2, 3, 4, 5, 6]"
      ],
      "metadata": {
        "id": "oCsQFV80BgeD"
      },
      "execution_count": null,
      "outputs": []
    },
    {
      "cell_type": "markdown",
      "source": [
        "Insert an element   "
      ],
      "metadata": {
        "id": "CmEZJH6jBwcS"
      }
    },
    {
      "cell_type": "code",
      "source": [
        "list_1 = [1, 2, 3, 4, 5]\n",
        "list_1.insert(1, 'new')\n",
        "# in-place method, return None.\n",
        "# Insert a element at the given index.\n",
        "\n",
        "print(list_1) # [1, 'new', 2, 3, 4, 5]\n",
        "\n",
        "list_1.insert(10, 'new')\n",
        "# [1, 'new', 2, 3, 4, 5, 'new']\n",
        "# if index is outof bound on the right hand side, then append the element to the end.\n",
        "print(list_1)"
      ],
      "metadata": {
        "id": "otzBHKYjBrJq"
      },
      "execution_count": null,
      "outputs": []
    },
    {
      "cell_type": "markdown",
      "source": [
        "**Question**\n",
        "\n",
        "Which one does `list_1` reference to\n",
        "\n",
        "```\n",
        "list_1 = [1, 2, 3, 4, 5]\n",
        "\n",
        "list_1.insert(-1, 'aa')\n",
        "```\n",
        "\n",
        "a. `[-1, 1, 2, 3, 4, 5]`\n",
        "\n",
        "b. `[1, 2, 3, 4, 'aa', 5]`\n",
        "\n",
        "c. `[1, 2, 3, 4, 5, -1]`\n",
        "\n",
        "d. `[1, 2, 3, 4, 5]`,\n",
        "   as `list_1.insert(-1, 'aa')` is a wrong syntax."
      ],
      "metadata": {
        "id": "uuW1vf0E7i-N"
      }
    },
    {
      "cell_type": "code",
      "source": [],
      "metadata": {
        "id": "CEgwryn17_yy"
      },
      "execution_count": null,
      "outputs": []
    },
    {
      "cell_type": "markdown",
      "source": [
        "Update one or more elements of a list"
      ],
      "metadata": {
        "id": "bT1XMVPZ3JUJ"
      }
    },
    {
      "cell_type": "code",
      "source": [
        "my_list = [1,2,3,4,5,6]\n",
        "my_list[1] = 20\n",
        "print(my_list)"
      ],
      "metadata": {
        "id": "wzD4UV5yneho"
      },
      "execution_count": null,
      "outputs": []
    },
    {
      "cell_type": "code",
      "source": [
        "my_list = [1,2,3,4,5,6]\n",
        "my_list[2:4] = [400, 500]\n",
        "print(my_list)"
      ],
      "metadata": {
        "id": "-r84z4kcucSD"
      },
      "execution_count": null,
      "outputs": []
    },
    {
      "cell_type": "markdown",
      "source": [
        "**Question**\n",
        "what is the output of running the following statements?\n",
        "\n",
        "```\n",
        "my_list = [1,2,3,4,5,6]\n",
        "my_list[1:3] = 200\n",
        "```"
      ],
      "metadata": {
        "id": "SSScq8bC95s_"
      }
    },
    {
      "cell_type": "code",
      "source": [],
      "metadata": {
        "id": "T4DUyuEKuaek"
      },
      "execution_count": null,
      "outputs": []
    },
    {
      "cell_type": "markdown",
      "source": [
        "**Question**\n",
        "\n",
        "Can these statement run without generating errors?\n",
        "```\n",
        "my_list = [1,2,3,4,5,6]\n",
        "my_list[2:4] = [400, 500, 600, 700]\n",
        "print(my_list)\n",
        "```"
      ],
      "metadata": {
        "id": "duktclJ7-qVG"
      }
    },
    {
      "cell_type": "code",
      "source": [],
      "metadata": {
        "id": "_PAPqMra-4tv"
      },
      "execution_count": null,
      "outputs": []
    },
    {
      "cell_type": "markdown",
      "source": [
        "Remove an element from a list\n"
      ],
      "metadata": {
        "id": "iABkg0tuFw-2"
      }
    },
    {
      "cell_type": "code",
      "source": [
        "# Use del statement to delete one element\n",
        "my_list = [1,2,5,3,5,6,7]\n",
        "del my_list[2]\n",
        "print(my_list)"
      ],
      "metadata": {
        "id": "yq-RN2DYCY7V"
      },
      "execution_count": null,
      "outputs": []
    },
    {
      "cell_type": "code",
      "source": [
        "# Use del statement to delete multiple elements.\n",
        "my_list = [1,2,5,3,5,6,7]\n",
        "del my_list[3:5]\n",
        "print(my_list)"
      ],
      "metadata": {
        "id": "1E2Uly04DvXI"
      },
      "execution_count": null,
      "outputs": []
    },
    {
      "cell_type": "code",
      "source": [
        "# Use remove method\n",
        "my_list = [1,2,5,3,5,6,7]\n",
        "print(my_list.remove(5))\n",
        "print(my_list) # Remove first occurrence of value.\n",
        "\n",
        "# my_list.remove(100) # ValueError: list.remove(x): x not in list"
      ],
      "metadata": {
        "id": "QuCZS-JmvFHs"
      },
      "execution_count": null,
      "outputs": []
    },
    {
      "cell_type": "code",
      "source": [
        "# Use pop method\n",
        "my_list = [1,2,5,3,5,6,7]\n",
        "print(my_list.pop())\n",
        "print(my_list)\n",
        "\n",
        "print(my_list.pop(2))\n",
        "print(my_list)\n"
      ],
      "metadata": {
        "id": "u0S7_gWyvH93"
      },
      "execution_count": null,
      "outputs": []
    },
    {
      "cell_type": "markdown",
      "source": [
        "**Question**\n",
        "What value does `my_list` hold after running the following statements?\n",
        "```\n",
        "my_list = [1,2,5,3,5,6,7]\n",
        "my_list.pop(20)\n",
        "```"
      ],
      "metadata": {
        "id": "G_MJPEQSEFpk"
      }
    },
    {
      "cell_type": "code",
      "source": [],
      "metadata": {
        "id": "A02uUXU7EZ7j"
      },
      "execution_count": null,
      "outputs": []
    },
    {
      "cell_type": "markdown",
      "source": [
        "Remove all the elements of a list:"
      ],
      "metadata": {
        "id": "wYzZuJTXEurH"
      }
    },
    {
      "cell_type": "code",
      "source": [
        "# clear() method removes all elements from the list.\n",
        "my_list = [1, 2, 3]\n",
        "my_list.clear()\n",
        "print(my_list)  # Output: []"
      ],
      "metadata": {
        "id": "89tauCv4xgTq"
      },
      "execution_count": null,
      "outputs": []
    },
    {
      "cell_type": "markdown",
      "source": [
        "Membership checking"
      ],
      "metadata": {
        "id": "zhVRv4WeQQHc"
      }
    },
    {
      "cell_type": "code",
      "source": [
        "list_1 = [1,2,3]\n",
        "print(1 in list_1)\n",
        "print(11 not in list_1)"
      ],
      "metadata": {
        "id": "3tt5Xss6QwLx"
      },
      "execution_count": null,
      "outputs": []
    },
    {
      "cell_type": "markdown",
      "source": [
        "Find the index value of a given object in the list (or subset of the list)."
      ],
      "metadata": {
        "id": "g8cmzbtK255-"
      }
    },
    {
      "cell_type": "code",
      "source": [
        "## Using index() method.\n",
        "## li.index(x[, i[, j]]) index of the first\n",
        "## occurrence of x in list li (at or after index i and before index j)\n",
        "\n",
        "my_list = [4, 5, 6, 5, 7, 8, 7]\n",
        "print(my_list.index(5)) # 1"
      ],
      "metadata": {
        "id": "OWL7--d340X6"
      },
      "execution_count": null,
      "outputs": []
    },
    {
      "cell_type": "code",
      "source": [
        "my_list = [4, 5, 6, 5, 7, 8, 7]\n",
        "\n",
        "print(my_list.index(5, 2)) # 3"
      ],
      "metadata": {
        "id": "ucZOwY5iGlyF"
      },
      "execution_count": null,
      "outputs": []
    },
    {
      "cell_type": "markdown",
      "source": [
        "**Question**\n",
        "what is the output of the following statements.\n",
        "```\n",
        "my_list = [4, 5, 6, 5, 7, 8, 7]\n",
        "print(my_list.index(5, 4, 6))\n",
        "```"
      ],
      "metadata": {
        "id": "ewX7pX3HG0zk"
      }
    },
    {
      "cell_type": "code",
      "source": [],
      "metadata": {
        "id": "z_Fg_AL7HUiC"
      },
      "execution_count": null,
      "outputs": []
    },
    {
      "cell_type": "markdown",
      "source": [
        "Count frequency of elements in a list"
      ],
      "metadata": {
        "id": "CI55kCIm59_7"
      }
    },
    {
      "cell_type": "code",
      "source": [
        "## Using count method\n",
        "my_list = (1, 2, 2, 2, 3, 4, 2)\n",
        "print(my_list.count(2)) # 4\n",
        "print(my_list.count(20)) # 0"
      ],
      "metadata": {
        "id": "XHred9xq6OTE"
      },
      "execution_count": null,
      "outputs": []
    },
    {
      "cell_type": "markdown",
      "source": [
        "Replicate a list multiple times"
      ],
      "metadata": {
        "id": "VF46KOb56dEO"
      }
    },
    {
      "cell_type": "code",
      "source": [
        "## Using * operator\n",
        "['hello', 'world'] * 3 # ['hello', 'world', 'hello', 'world', 'hello', 'world']\n"
      ],
      "metadata": {
        "id": "i59WN0tWDrJd"
      },
      "execution_count": null,
      "outputs": []
    },
    {
      "cell_type": "markdown",
      "source": [
        "Sort a list"
      ],
      "metadata": {
        "id": "1826JVVRHUkg"
      }
    },
    {
      "cell_type": "code",
      "source": [
        "# Use sort() method to sort and modifies the list in-place\n",
        "numbers = [4, 2, 7, 1, 3]\n",
        "numbers.sort()\n",
        "print(numbers)\n",
        "\n",
        "numbers = [4, 2, 7, 1, 3]\n",
        "numbers.sort(reverse = True) # sort in descending order\n",
        "print(numbers)"
      ],
      "metadata": {
        "id": "PsgLZVmoLCD9"
      },
      "execution_count": null,
      "outputs": []
    },
    {
      "cell_type": "code",
      "source": [
        "# Usa s function to sort\n",
        "strings = [\"dog\", \"rabbit\", \"horse\", \"cat\", \"dragon\"]\n",
        "strings.sort(key = len) # Using len() function\n",
        "print(strings) # sort is stable, which means the order of two equal elements is maintained."
      ],
      "metadata": {
        "id": "_7z655yfyRer"
      },
      "execution_count": null,
      "outputs": []
    },
    {
      "cell_type": "markdown",
      "source": [
        "###### *Operations on two or more lists*\n",
        "\n"
      ],
      "metadata": {
        "id": "75zFqgvfncz3"
      }
    },
    {
      "cell_type": "markdown",
      "source": [
        "Combine two lists"
      ],
      "metadata": {
        "id": "9jghdLpJRaOB"
      }
    },
    {
      "cell_type": "code",
      "source": [
        "# \"+\" operator\n",
        "list_1 = [1,2,3,4]\n",
        "list_2 = [5,6,7]\n",
        "print(list_1 + list_2 + list_1)"
      ],
      "metadata": {
        "id": "epb2ssPHEmFm"
      },
      "execution_count": null,
      "outputs": []
    },
    {
      "cell_type": "code",
      "source": [
        "# extend() method\n",
        "# adds multiple elements to the end of a list.\n",
        "# It takes an iterable (e.g., list, tuple, set, string, etc.) as an argument\n",
        "# modifies the original list in-place.\n",
        "list_1 = [1,2,3,4]\n",
        "list_2 = [5,6,7]\n",
        "print(list_1.extend(list_2))\n",
        "print(list_1)"
      ],
      "metadata": {
        "id": "ywwCVI9fyl7i"
      },
      "execution_count": null,
      "outputs": []
    },
    {
      "cell_type": "markdown",
      "source": [
        "Combine a list of strings into one string"
      ],
      "metadata": {
        "id": "6KeY7K6W6Z8J"
      }
    },
    {
      "cell_type": "code",
      "source": [
        "# Use string method join()\n",
        "list_strings = [\"abc\", \"def\", \"gh\"]\n",
        "\",\".join(list_strings)"
      ],
      "metadata": {
        "id": "fbSZNkpBEuJJ"
      },
      "execution_count": null,
      "outputs": []
    },
    {
      "cell_type": "markdown",
      "source": [
        "###### *List Unpacking*     "
      ],
      "metadata": {
        "id": "kfk8z-QP8LDA"
      }
    },
    {
      "cell_type": "markdown",
      "source": [
        "Multiple assignments  "
      ],
      "metadata": {
        "id": "ad56VHVwE3A9"
      }
    },
    {
      "cell_type": "code",
      "source": [
        "## assign a list to several variables\n",
        "my_list = [1,2,3]\n",
        "a, b, c = my_list # equivalent to a,b,c = 1,2,3\n",
        "print(a) #1\n"
      ],
      "metadata": {
        "id": "0UYy4x53RBqG"
      },
      "execution_count": null,
      "outputs": []
    },
    {
      "cell_type": "markdown",
      "source": [
        "**Question**\n",
        "What is the value of `c`\n",
        "```\n",
        "my_list = [1, 2, [3,4]]\n",
        "a,b, c, d = my_list\n",
        "```\n",
        "a. `3`\n",
        "\n",
        "b. `4`\n",
        "\n",
        "c. `[3, 4]`\n",
        "\n",
        "d. `name 'c' is not defined`"
      ],
      "metadata": {
        "id": "qTYu7NCOH04z"
      }
    },
    {
      "cell_type": "code",
      "source": [],
      "metadata": {
        "id": "HaCHH8-FIFWm"
      },
      "execution_count": null,
      "outputs": []
    },
    {
      "cell_type": "markdown",
      "source": [
        "Swap values of two variable   "
      ],
      "metadata": {
        "id": "_AVY_O1AFAvD"
      }
    },
    {
      "cell_type": "code",
      "source": [
        "## swap values of two variable using upacking\n",
        "a, b = [1, 2]\n",
        "b, a = [a, b] # righ hand evaluaed first, than assign to the left hand.\n",
        "print(a, b) # 2 1"
      ],
      "metadata": {
        "id": "vTA9Ats5FAQC"
      },
      "execution_count": null,
      "outputs": []
    },
    {
      "cell_type": "markdown",
      "source": [
        "##### **Tuple**\n",
        "\n",
        "Important characteristics:\n",
        "  * Fixed length, **immutable** sequence.\n",
        "  * Elements can be of different types."
      ],
      "metadata": {
        "id": "2jBG5hpjyNfs"
      }
    },
    {
      "cell_type": "markdown",
      "source": [
        "###### *Create a tuple*\n",
        "  \n",
        "Creat a tuple\n",
        "  + `tup = 1, 2, 3` # called tuple packing\n",
        "  + `tup = (1, 2, 3)`\n",
        "  + `tup = tuple([4, 0, 2])`\n",
        "    * using tuple constructor (`tuple()`) to convert any sequence type of iterator to a tuple.\n",
        "    * `tup = tuple('str') # ('s', 't', 'r')`. string type is a sequence type.\n",
        "    \n",
        "  + `tup = (5, )` you need this format to create a tuple with single element.\n",
        "  + each member of the tuple could be of different types. `(1, 4.5, 'hello')`  "
      ],
      "metadata": {
        "id": "tbBKtCY1D6uH"
      }
    },
    {
      "cell_type": "code",
      "source": [],
      "metadata": {
        "id": "hAtaOPh8yjEB"
      },
      "execution_count": null,
      "outputs": []
    },
    {
      "cell_type": "markdown",
      "source": [
        "###### *Subset a Tuple*\n",
        "Access one or more elements in a tuple\n",
        "Using `[]`, Python will call `__getitem__()` method of the object.\n",
        "\n",
        "  "
      ],
      "metadata": {
        "id": "Ir5lEqihEBCQ"
      }
    },
    {
      "cell_type": "code",
      "source": [
        "tup = tuple('hello')\n",
        "\n",
        "# Using [] with a single index. index starts from 0 not 1.\n",
        "print(tup[1]) # 'e'\n",
        "print(tup[-1]) # 'o'. Negative index will be converted to a positive number using lenght of the tuple plus the index. So, in this example -1 will be converted to 5+ (-1) = 4\n",
        "\n",
        "#tup[10] # IndexError: tuple index out of range\n",
        "#tup[2, 4] # TypeError: tuple indices must be integers or slices, not tuple\n",
        "\n",
        "# Using slice object\n",
        "print(tup[slice(0, 3)] )# ('h', 'e', 'l')\n",
        "\n",
        "print(tup[slice(0, 5, 2)] )# ('h', 'l', 'o')\n",
        "\n",
        "print(tup[0:5:2]) # same as above ('h', 'l', 'o')"
      ],
      "metadata": {
        "id": "wMOX_9UHTFjb"
      },
      "execution_count": null,
      "outputs": []
    },
    {
      "cell_type": "markdown",
      "source": [
        "You can not modify a tuple in the way of adding, reassigning or deleting a element of a tuple, as it is **immutable**.\n"
      ],
      "metadata": {
        "id": "4tbtqewoEYUi"
      }
    },
    {
      "cell_type": "code",
      "source": [
        "# tup[1] = 't' # TypeError: 'tuple' object does not support item assignment\n",
        "# del tup[1] # TypeError: 'tuple' object doesn't support item deletion"
      ],
      "metadata": {
        "id": "U_1pr6VBTHYh"
      },
      "execution_count": null,
      "outputs": []
    },
    {
      "cell_type": "markdown",
      "source": [
        "**But**, if one element of a tuple is mutable, you can modify the element in-place.\n"
      ],
      "metadata": {
        "id": "QpzhfbdeG7Su"
      }
    },
    {
      "cell_type": "code",
      "source": [
        "tup = (10, [3,4,5], 'end')\n",
        "tup[1].append(6)\n",
        "tup # (10, [3, 4, 5, 6], 'end')"
      ],
      "metadata": {
        "id": "M-ivBK1HG-AS"
      },
      "execution_count": null,
      "outputs": []
    },
    {
      "cell_type": "markdown",
      "source": [
        "###### *Operations on one or more tuples*\n",
        "Length of the tuple"
      ],
      "metadata": {
        "id": "KyJlfDgXE3_R"
      }
    },
    {
      "cell_type": "code",
      "source": [
        "tup = (1,2,3)\n",
        "len(tup) # 3 or tup.__len__()"
      ],
      "metadata": {
        "id": "5OwI1jCATJRE"
      },
      "execution_count": null,
      "outputs": []
    },
    {
      "cell_type": "markdown",
      "source": [
        "Check whether an object is in the given tuple\n"
      ],
      "metadata": {
        "id": "J26CR06CHLRI"
      }
    },
    {
      "cell_type": "code",
      "source": [
        "## Membership or contains\n",
        "tup = (1, 2, 3)\n",
        "print(1 in tup) # True\n",
        "print(2 not in tup) # False"
      ],
      "metadata": {
        "id": "4E79xXl9HPM5"
      },
      "execution_count": null,
      "outputs": []
    },
    {
      "cell_type": "markdown",
      "source": [
        "Find the index value of a given object in the tuple (or subset of the tuple).\n"
      ],
      "metadata": {
        "id": "2jQXwLDBFAkM"
      }
    },
    {
      "cell_type": "code",
      "source": [
        "## Using index() method.\n",
        "## s.index(x[, i[, j]]) index of the first\n",
        "## occurrence of x in tuple s (at or after index i and before index j)\n",
        "\n",
        "tup = (4, 5, 6, 5, 7, 8, 7)\n",
        "print(tup.index(5)) # 1\n",
        "print(tup.index(5, 2)) # 3\n",
        "# tup.index(20) # ValueError: tuple.index(x): x not in tuple\n",
        "\n",
        "# tup.index(7, , 5) # SyntaxError: invalid syntax"
      ],
      "metadata": {
        "id": "_cA4utolHabr"
      },
      "execution_count": null,
      "outputs": []
    },
    {
      "cell_type": "markdown",
      "source": [
        "Count frequency of elements in a tuple"
      ],
      "metadata": {
        "id": "m9TzoPplKEdC"
      }
    },
    {
      "cell_type": "code",
      "source": [
        "## Using count method\n",
        "a = (1, 2, 2, 2, 3, 4, 2)\n",
        "a.count(2) # 4\n",
        "a.count(20) # 0"
      ],
      "metadata": {
        "id": "tXRrBz97TNaD"
      },
      "execution_count": null,
      "outputs": []
    },
    {
      "cell_type": "markdown",
      "source": [
        "Replicate a tuple multiple times"
      ],
      "metadata": {
        "id": "I58UE_n5K7nI"
      }
    },
    {
      "cell_type": "code",
      "source": [
        "## Using * operator\n",
        "('hello', 'world') * 3 # ('hello', 'world', 'hello', 'world', 'hello', 'world')"
      ],
      "metadata": {
        "id": "YwglCiaWMFt0"
      },
      "execution_count": null,
      "outputs": []
    },
    {
      "cell_type": "markdown",
      "source": [
        "Concatenating two or more tuples using"
      ],
      "metadata": {
        "id": "uBR97XmQMn3z"
      }
    },
    {
      "cell_type": "code",
      "source": [
        "## Using + operator\n",
        "(1, 2, 3) + (4, 5) # (1, 2, 3, 4, 5)"
      ],
      "metadata": {
        "id": "bbzp4v5sTTHJ"
      },
      "execution_count": null,
      "outputs": []
    },
    {
      "cell_type": "markdown",
      "source": [
        "Combine a tuple of strings into one string"
      ],
      "metadata": {
        "id": "-20zZJgU5bxb"
      }
    },
    {
      "cell_type": "code",
      "source": [
        "tup_strings = (\"abc\", \"def\", \"gh\")\n",
        "\":\".join(tup_strings)"
      ],
      "metadata": {
        "id": "cFSP5ryZIKwk"
      },
      "execution_count": null,
      "outputs": []
    },
    {
      "cell_type": "markdown",
      "source": [
        "###### *Tuple Unpacking*   \n",
        "  \n",
        "Multiple assignments  "
      ],
      "metadata": {
        "id": "k-vFhRnxAlFh"
      }
    },
    {
      "cell_type": "code",
      "source": [
        "## assign a tuple to several variables\n",
        "tup = (1,2,3)\n",
        "a, b, c = tup # equivalent to a,b,c = 1,2,3\n",
        "print(a) #1\n",
        "\n",
        "\n",
        "tup = (1, 2, (3,4))\n",
        "a,b, (c, d) = tup\n",
        "print(d) #4\n",
        "\n",
        "# d, e = tup # ValueError: too many values to unpack (expected 2)"
      ],
      "metadata": {
        "id": "Butur297Us8R"
      },
      "execution_count": null,
      "outputs": []
    },
    {
      "cell_type": "markdown",
      "source": [
        "Swap values of two variable   "
      ],
      "metadata": {
        "id": "kvfN3iZ2IS4G"
      }
    },
    {
      "cell_type": "code",
      "source": [
        "## swap values of two variable using upacking\n",
        "a, b = 1, 2\n",
        "b, a = a, b # righ hand evaluaed first, than assign to the left hand.\n",
        "a, b # (2, 1)"
      ],
      "metadata": {
        "id": "tpKk29BVIaR4"
      },
      "execution_count": null,
      "outputs": []
    },
    {
      "cell_type": "markdown",
      "source": [
        "#### *Mapping Type (Association Array)*\n",
        "A collection of keys and associated values. (order doesn't matter)"
      ],
      "metadata": {
        "id": "t6A5z8FOAyQn"
      }
    },
    {
      "cell_type": "markdown",
      "source": [
        "##### **Dictionary**\n",
        "\n",
        "In Python, a dictionary is a collection of key-value pairs.\n",
        "+ It is also sometimes called a hash table or an associative array.\n",
        "+ Dictionaries are represented using curly braces `{}` and each key-value pair is separated by a colon `:`.\n",
        "+ Each key in a dictionary is unique.\n",
        "+ Constant time complexity for basic operations such as adding, removing, and checking for membership.\n",
        "\n"
      ],
      "metadata": {
        "id": "cwjFJFJSBHsd"
      }
    },
    {
      "cell_type": "code",
      "source": [
        "my_dict = {\"apple\": 1, \"banana\": 2, \"orange\": 3}\n",
        "print(my_dict)"
      ],
      "metadata": {
        "id": "Q8xKHan2mTiw"
      },
      "execution_count": null,
      "outputs": []
    },
    {
      "cell_type": "markdown",
      "source": [
        "A dictionary's keys can only be hashable objects\n",
        "\n",
        "**Hashable Object**\n",
        "\n",
        "+ If an object has a hash value that remains the same throughout its lifetime\n",
        "+ The hash value can be compared to other objects for equality.\n",
        "+ The hash value is a unique integer that is used to look up an object in a hash table.\n",
        "+ Hashable objects in Python include:\n",
        "Immutable data types such as numbers, strings, and tuples."
      ],
      "metadata": {
        "id": "h7OPWasMmcZL"
      }
    },
    {
      "cell_type": "markdown",
      "source": [
        "###### *Dictionary Funtions/Methods*\n",
        "***Creat a dictionary***\n",
        "\n",
        "\n",
        "\n"
      ],
      "metadata": {
        "id": "7bJ6Il67b2pD"
      }
    },
    {
      "cell_type": "code",
      "source": [
        "# Use \"{}\"\n",
        "my_dict = {\"apple\": 1, \"banana\": 2, \"orange\": 3}\n",
        "print(my_dict)\n",
        "\n",
        "my_dict = {}\n",
        "print(my_dict)\n",
        "\n",
        "# dict() constructor\n",
        "my_dict = dict(apple = 1, banana = 2, orange = 3)\n",
        "print(my_dict)\n",
        "\n",
        "my_list = [('apple', 1), ('banana', 2), ('orange', 3), ('banana', 25)]\n",
        "my_dict = dict(my_list)\n",
        "print(my_dict)\n",
        "\n",
        "my_list = [['apple', 1], ('banana', 2), ('orange', 3), ('banana', 25)]\n",
        "my_dict = dict(my_list)\n",
        "print(my_dict)"
      ],
      "metadata": {
        "id": "INs7cgqtJaCl"
      },
      "execution_count": null,
      "outputs": []
    },
    {
      "cell_type": "markdown",
      "source": [
        "**Question**\n",
        "\n",
        "Is this a legitimate dictionary object?\n",
        "```\n",
        "{1.234: '5', [\"a\"]: 56}\n",
        "```\n"
      ],
      "metadata": {
        "id": "hgp8o5B1NYqk"
      }
    },
    {
      "cell_type": "code",
      "source": [],
      "metadata": {
        "id": "taMvYwZHN3va"
      },
      "execution_count": null,
      "outputs": []
    },
    {
      "cell_type": "markdown",
      "source": [
        "***Length of a dictionary***\n"
      ],
      "metadata": {
        "id": "o_QIsD3hJjpB"
      }
    },
    {
      "cell_type": "code",
      "source": [
        "my_dict = {\"apple\": 1, \"banana\": 2, \"orange\": 3}\n",
        "len(my_dict)"
      ],
      "metadata": {
        "id": "CKYs4oXT9wI1"
      },
      "execution_count": null,
      "outputs": []
    },
    {
      "cell_type": "markdown",
      "source": [
        "***Check if a given key exists in a dictionary***\n"
      ],
      "metadata": {
        "id": "jv6GosswJpVI"
      }
    },
    {
      "cell_type": "code",
      "source": [
        "# Use \"in\" operator\n",
        "my_dict = {\"apple\": 1, \"banana\": 2, \"orange\": 3}\n",
        "print(\"apple\" in my_dict)"
      ],
      "metadata": {
        "id": "jKB6xSVoJr4p"
      },
      "execution_count": null,
      "outputs": []
    },
    {
      "cell_type": "markdown",
      "source": [
        "**Question**\n",
        "What is the output of the following statements?\n",
        "```\n",
        "my_dict = {\"apple\": 1, \"banana\": 2, \"orange\": 3}\n",
        "print(2 in my_dict)\n",
        "```\n",
        "a. `\"banana\"`\n",
        "\n",
        "b. `True`\n",
        "\n",
        "c. `False`\n",
        "\n",
        "d. `None of the above`\n"
      ],
      "metadata": {
        "id": "OhkfyD2HKJr-"
      }
    },
    {
      "cell_type": "code",
      "source": [],
      "metadata": {
        "id": "51PKKIAlKRjP"
      },
      "execution_count": null,
      "outputs": []
    },
    {
      "cell_type": "markdown",
      "source": [
        "***Fetch an item in a dictionary***\n"
      ],
      "metadata": {
        "id": "oXpjxvbV9s1U"
      }
    },
    {
      "cell_type": "code",
      "source": [
        "# Use [] with key\n",
        "my_dict = {\"apple\": 1, \"banana\": 2, \"orange\": 3}\n",
        "print(my_dict[\"banana\"])\n",
        "\n",
        "#my_dict[\"grape\"] # KeyError: 'grape'"
      ],
      "metadata": {
        "id": "urER-nDmel3R"
      },
      "execution_count": null,
      "outputs": []
    },
    {
      "cell_type": "code",
      "source": [
        "# Use get() method\n",
        "my_dict = {\"apple\": 1, \"banana\": 2, \"orange\": 3}\n",
        "print(my_dict.get(\"banana\"))\n",
        "print(my_dict.get(\"grape\")) # If the key is not present, it returns the default value (if provided) or None.\n",
        "\n",
        "#print(my_dict.get(\"grape\", -1))"
      ],
      "metadata": {
        "id": "hq_S5NI8nZJ7"
      },
      "execution_count": null,
      "outputs": []
    },
    {
      "cell_type": "markdown",
      "source": [
        "***Modify an item or add a new item***\n"
      ],
      "metadata": {
        "id": "_9XfHjLmc43R"
      }
    },
    {
      "cell_type": "code",
      "source": [
        "# Use assignment operator =\n",
        "my_dict = {\"apple\": 1, \"banana\": 2, \"orange\": 3}\n",
        "my_dict[\"apple\"] = 10\n",
        "print(my_dict)\n",
        "\n",
        "my_dict[\"peach\"] = 20\n",
        "print(my_dict)"
      ],
      "metadata": {
        "id": "ngCR24bdB0hM"
      },
      "execution_count": null,
      "outputs": []
    },
    {
      "cell_type": "markdown",
      "source": [
        "***Delete an item***\n"
      ],
      "metadata": {
        "id": "1IWfhn_-KlUj"
      }
    },
    {
      "cell_type": "code",
      "source": [
        "# Use \"del\" statement\n",
        "my_dict = {\"apple\": 1, \"banana\": 2, \"orange\": 3, \"peach\": 4, \"pear\": 5}\n",
        "del my_dict[\"orange\"]\n",
        "print(my_dict)"
      ],
      "metadata": {
        "id": "csgEbmjKKpmZ"
      },
      "execution_count": null,
      "outputs": []
    },
    {
      "cell_type": "markdown",
      "source": [
        "**Question**\n",
        "What is the output of the following statements?\n",
        "```\n",
        "my_dict = {\"apple\": 1, \"banana\": 2, \"orange\": 3, \"peach\": 4, \"pear\": 5}\n",
        "del my_dict[\"lettuce\"]\n",
        "```\n",
        "a. `None`\n",
        "\n",
        "b. 6\n",
        "\n",
        "c. `KeyError: 'lettuce'`\n",
        "\n",
        "d. 5"
      ],
      "metadata": {
        "id": "2RULRc5DLayk"
      }
    },
    {
      "cell_type": "code",
      "source": [],
      "metadata": {
        "id": "-3sNTPLoLp1e"
      },
      "execution_count": null,
      "outputs": []
    },
    {
      "cell_type": "code",
      "source": [
        "# Use pop method\n",
        "my_dict = {\"apple\": 1, \"banana\": 2, \"orange\": 3, \"peach\": 4, \"pear\": 5}\n",
        "result = my_dict.pop(\"apple\")\n",
        "print(result)\n",
        "print(my_dict)"
      ],
      "metadata": {
        "id": "5NPk9QPTnq-K"
      },
      "execution_count": null,
      "outputs": []
    },
    {
      "cell_type": "code",
      "source": [
        "my_dict = {\"apple\": 1, \"banana\": 2, \"orange\": 3, \"peach\": 4, \"pear\": 5}\n",
        "#result = my_dict.pop(\"lettuce\") #KeyError: 'lettuce'\n",
        "result = my_dict.pop(\"lettuce\", -1)\n",
        "print(result)\n",
        "print(my_dict)"
      ],
      "metadata": {
        "id": "KxHVnSaUMu-d"
      },
      "execution_count": null,
      "outputs": []
    },
    {
      "cell_type": "code",
      "source": [
        "# Use popitem method\n",
        "my_dict = {\"apple\": 1, \"banana\": 2, \"orange\": 3, \"peach\": 4, \"pear\": 5}\n",
        "print(my_dict.popitem())\n",
        "print(my_dict)"
      ],
      "metadata": {
        "id": "5HxUpADxJfqd"
      },
      "execution_count": null,
      "outputs": []
    },
    {
      "cell_type": "markdown",
      "source": [
        "***Convert a dictionay to a list***\n"
      ],
      "metadata": {
        "id": "3zEPUPffB06h"
      }
    },
    {
      "cell_type": "code",
      "source": [
        "my_dict = {\"apple\": 1, \"banana\": 2, \"orange\": 3, \"peach\": 4, \"pear\": 5}\n",
        "\n",
        "# items() method\n",
        "print(list(my_dict.items()))\n",
        "\n",
        "# keys() method\n",
        "print(list(my_dict.keys()))\n",
        "\n",
        "# values() method\n",
        "print(list(my_dict.values()))"
      ],
      "metadata": {
        "id": "FUSYCnRwC5Gz"
      },
      "execution_count": null,
      "outputs": []
    },
    {
      "cell_type": "markdown",
      "source": [
        "***Combine two dictionaris***\n"
      ],
      "metadata": {
        "id": "LdUYrntyChZ9"
      }
    },
    {
      "cell_type": "code",
      "source": [
        "my_dict1 = {\"apple\": 1, \"banana\": 2, \"orange\": 3}\n",
        "my_dict2 = { \"banana\": 25, \"peach\": 4, \"pear\": 5}\n",
        "\n",
        "# update() method\n",
        "print(my_dict1.update(my_dict2))\n",
        "print(my_dict1)\n",
        "print(my_dict2)"
      ],
      "metadata": {
        "id": "O-ge-Q7uDsxk"
      },
      "execution_count": null,
      "outputs": []
    },
    {
      "cell_type": "markdown",
      "source": [
        "##### **Set**\n",
        "\n",
        "In Python, a set is an **unordered** collection of **unique** elements."
      ],
      "metadata": {
        "id": "SAL408bYNkT4"
      }
    },
    {
      "cell_type": "markdown",
      "source": [
        "###### *Set Functions/Methods*\n",
        "\n",
        "***Create a set***"
      ],
      "metadata": {
        "id": "zxehhBMPBMlI"
      }
    },
    {
      "cell_type": "code",
      "source": [
        "my_set = {1, 2, 3}\n",
        "print(my_set)  # Output: {1, 2, 3}"
      ],
      "metadata": {
        "id": "v0-qf1jII-9m"
      },
      "execution_count": null,
      "outputs": []
    },
    {
      "cell_type": "code",
      "source": [
        "# Creating a set from a list\n",
        "my_list = [1, 2, 2, 3, 3, 3]\n",
        "my_set = set(my_list)\n",
        "print(my_set)  # Output: {1, 2, 3}"
      ],
      "metadata": {
        "id": "kloxlL3fPB12"
      },
      "execution_count": null,
      "outputs": []
    },
    {
      "cell_type": "markdown",
      "source": [
        "**Question**\n",
        "\n",
        "How to creat an empty set?\n",
        "\n",
        "a. `{}`\n",
        "\n",
        "b. `set()`\n",
        "\n",
        "c. `()`\n",
        "\n",
        "d. `[]`"
      ],
      "metadata": {
        "id": "jfIe7jfTO8oX"
      }
    },
    {
      "cell_type": "code",
      "source": [],
      "metadata": {
        "id": "8CXRQxQZPV45"
      },
      "execution_count": null,
      "outputs": []
    },
    {
      "cell_type": "markdown",
      "source": [
        "***Add an element to the set.***\n"
      ],
      "metadata": {
        "id": "0X64NtQXLGIQ"
      }
    },
    {
      "cell_type": "code",
      "source": [
        "# add() method\n",
        "my_set = {1, 2, 3}\n",
        "my_set.add(4)\n",
        "print(my_set)  # Output: {1, 2, 3, 4}\n"
      ],
      "metadata": {
        "id": "6xm89ec3LfTL"
      },
      "execution_count": null,
      "outputs": []
    },
    {
      "cell_type": "markdown",
      "source": [
        "***Adds elements from an iterable (e.g. list, set, tuple) to the set.***"
      ],
      "metadata": {
        "id": "pIpacecSLMdz"
      }
    },
    {
      "cell_type": "code",
      "source": [
        "my_set = {1, 2, 3}\n",
        "my_set.update([3, 4, 5])\n",
        "print(my_set)  # Output: {1, 2, 3, 4, 5}\n",
        "my_set.add((7, 8))\n",
        "print(my_set)"
      ],
      "metadata": {
        "id": "qaYNCUe-LQLH"
      },
      "execution_count": null,
      "outputs": []
    },
    {
      "cell_type": "markdown",
      "source": [
        "\n",
        "***Removes an element from the set.***\n",
        "\n"
      ],
      "metadata": {
        "id": "xwWpAtMuKuga"
      }
    },
    {
      "cell_type": "code",
      "source": [
        "# remove() method\n",
        "my_set = {1, 2, 3}\n",
        "print(my_set.remove(2))\n",
        "print(my_set)  # Output: {1, 3}"
      ],
      "metadata": {
        "id": "PirRWTFKNaku"
      },
      "execution_count": null,
      "outputs": []
    },
    {
      "cell_type": "code",
      "source": [
        "try:\n",
        "    my_set.remove(4) # KeyError: 4\n",
        "except Exception as e_msg:\n",
        "    print(repr(e_msg))"
      ],
      "metadata": {
        "id": "kkxY8G_7PsnG"
      },
      "execution_count": null,
      "outputs": []
    },
    {
      "cell_type": "code",
      "source": [
        "# discard() method\n",
        "my_set = {1, 2, 3}\n",
        "print(my_set.discard(2))\n",
        "print(my_set)  # Output: {1, 3}\n",
        "my_set.discard(4) # Does not raise an error if the element is not found.\n",
        "print(my_set)  # Output: {1, 3}"
      ],
      "metadata": {
        "id": "xK1k9UsApOly"
      },
      "execution_count": null,
      "outputs": []
    },
    {
      "cell_type": "code",
      "source": [
        "# pop() method removes and returns an arbitrary element from the set.\n",
        "my_set = {1, 2, 3}\n",
        "elem = my_set.pop()\n",
        "print(elem)\n",
        "print(my_set)"
      ],
      "metadata": {
        "id": "YW-DxYxnpZMM"
      },
      "execution_count": null,
      "outputs": []
    },
    {
      "cell_type": "code",
      "source": [
        "# clear() method removes all elements from the set.\n",
        "my_set = {1, 2, 3}\n",
        "my_set.clear()\n",
        "print(my_set)  # Output: set()"
      ],
      "metadata": {
        "id": "WSU2IMhOpbak"
      },
      "execution_count": null,
      "outputs": []
    },
    {
      "cell_type": "markdown",
      "source": [
        "Sets support various operations such as union, intersection, difference, and symmetric difference.\n"
      ],
      "metadata": {
        "id": "Q2Z4qM_7I_ul"
      }
    },
    {
      "cell_type": "code",
      "source": [
        "# Union of two sets\n",
        "set1 = {1, 2, 3}\n",
        "set2 = {3, 4, 5}\n",
        "union = set1.union(set2)\n",
        "print(set1)\n",
        "print(union)  # Output: {1, 2, 3, 4, 5}"
      ],
      "metadata": {
        "id": "NRSz7N9-J5hQ"
      },
      "execution_count": null,
      "outputs": []
    },
    {
      "cell_type": "code",
      "source": [
        "# Intersection of two sets\n",
        "set1 = {1, 2, 3}\n",
        "set2 = {3, 4, 5}\n",
        "intersection = set1.intersection(set2)\n",
        "print(set1)\n",
        "print(intersection)  # Output: {3}"
      ],
      "metadata": {
        "id": "Y3vA95KCp5I2"
      },
      "execution_count": null,
      "outputs": []
    },
    {
      "cell_type": "code",
      "source": [
        "# Difference of two sets\n",
        "set1 = {1, 2, 3}\n",
        "set2 = {3, 4, 5}\n",
        "difference = set1.difference(set2)\n",
        "print(set1)\n",
        "print(difference)  # Output: {1, 2}"
      ],
      "metadata": {
        "id": "xkiBMz9Lp7P1"
      },
      "execution_count": null,
      "outputs": []
    },
    {
      "cell_type": "code",
      "source": [
        "# Symmetric difference of two sets\n",
        "set1 = {1, 2, 3}\n",
        "set2 = {3, 4, 5}\n",
        "symmetric_difference = set1.symmetric_difference(set2)\n",
        "print(set1)\n",
        "print(symmetric_difference)  # Output: {1, 2, 4, 5}"
      ],
      "metadata": {
        "id": "i7QDBsLfp90y"
      },
      "execution_count": null,
      "outputs": []
    },
    {
      "cell_type": "markdown",
      "source": [
        "#### **Iterable and Iterator**\n",
        "*Iterable*\n",
        "+ In Python, an iterable is any object that can be looped over.\n",
        "+ Examples of iterables include lists, tuples, sets, dictionaries, and strings.\n",
        "+ An iterable is defined by implementing the `__iter__()` method, which returns an iterator object.\n",
        "\n",
        "*Iterator*\n",
        "+ An iterator is an object that produces the next value in an iterable sequence.\n",
        "+ In Python, an iterator is defined by implementing the `__next__()` method, which returns the next value in the sequence.\n",
        "+ When there are no more values to return, the `__next__()` method raises the `StopIteration` exception.\n",
        "+ An iterator can only be iterated once\n"
      ],
      "metadata": {
        "id": "PxUZ5AW4NsDQ"
      }
    },
    {
      "cell_type": "code",
      "source": [
        "numbers = [1, 2, 3]\n",
        "iterator = iter(numbers)\n",
        "\n",
        "print(next(iterator))\n",
        "print(next(iterator))\n",
        "print(next(iterator))\n",
        "\n",
        "try:\n",
        "    next(iterator)\n",
        "except Exception as e_msg:\n",
        "    print(repr(e_msg))\n",
        "# next(iterator)\n",
        "\n",
        "list(iterator)"
      ],
      "metadata": {
        "id": "HnIOEMSHPMA2"
      },
      "execution_count": null,
      "outputs": []
    }
  ]
}