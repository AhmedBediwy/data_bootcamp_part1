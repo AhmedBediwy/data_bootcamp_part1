{
  "cells": [
    {
      "cell_type": "markdown",
      "metadata": {
        "colab_type": "text",
        "id": "view-in-github"
      },
      "source": [
        "<a href=\"https://colab.research.google.com/github/statrliu/data_bootcamp_part1/blob/main/homework_1.ipynb\" target=\"_parent\"><img src=\"https://colab.research.google.com/assets/colab-badge.svg\" alt=\"Open In Colab\"/></a>"
      ]
    },
    {
      "cell_type": "markdown",
      "metadata": {
        "id": "SqgQziyUGC2z"
      },
      "source": [
        "#Q1\n",
        "\n",
        "Given the list of numbers: `12, 34, 45, 67, 88, 99, 56, 23`, find the sum of all the even numbers in the list."
      ]
    },
    {
      "cell_type": "code",
      "execution_count": 44,
      "metadata": {
        "id": "_SAtjY_MqbWU"
      },
      "outputs": [
        {
          "name": "stdout",
          "output_type": "stream",
          "text": [
            "The sum of even numbers in the list is:  190\n"
          ]
        }
      ],
      "source": [
        "\n",
        "# create a list\n",
        "q1_list = [12, 34, 45, 67, 88, 99, 56, 23]\n",
        "# create a variable to store the sum of even numbers\n",
        "sum = 0\n",
        "# loop through the list\n",
        "for num in q1_list:\n",
        "    # check if the number is even\n",
        "    if num % 2 == 0:\n",
        "        # add the number to the sum\n",
        "        sum = sum + num\n",
        "# print the sum\n",
        "print(\"The sum of even numbers in the list is: \", sum)"
      ]
    },
    {
      "cell_type": "markdown",
      "metadata": {
        "id": "alO97tTXPH6R"
      },
      "source": [
        "#Q2\n",
        "\n",
        "Write a program to remove all duplicates from the list\n",
        "`[1, 2, 2, 3, 4, 4, 5]`"
      ]
    },
    {
      "cell_type": "code",
      "execution_count": 45,
      "metadata": {
        "id": "FigidSedPXlw"
      },
      "outputs": [
        {
          "name": "stdout",
          "output_type": "stream",
          "text": [
            "The duplicate number in the list is:  2\n",
            "The list after removing the duplicate number is:  [11, 2, 3, 4, 4, 5]\n"
          ]
        }
      ],
      "source": [
        "# create a list\n",
        "q2_list = [11, 2, 2, 3, 4, 4, 5]\n",
        "# check if the list contains any duplicates\n",
        "for num in q2_list:\n",
        "    # check if the number is in the list more than once\n",
        "    if q2_list.count(num) > 1:\n",
        "        # print the duplicate number\n",
        "        print(\"The duplicate number in the list is: \", num)\n",
        "        # stop the loop\n",
        "        break\n",
        "# remove the duplicate number from the list\n",
        "q2_list.remove(num)\n",
        "# print the list\n",
        "print(\"The list after removing the duplicate number is: \", q2_list)"
      ]
    },
    {
      "cell_type": "markdown",
      "metadata": {
        "id": "8gjag6jFPgLn"
      },
      "source": [
        "#Q3\n",
        "\n",
        "Given two lists,\n",
        "```\n",
        "list1 = [1, 2, 3, 4, 3, 5]\n",
        "list2 = [3, 4, 5, 6, 7, 4]\n",
        "```\n",
        "write a program to find the unique common elements between them."
      ]
    },
    {
      "cell_type": "code",
      "execution_count": 46,
      "metadata": {
        "id": "26OwpBTSP-UM"
      },
      "outputs": [
        {
          "name": "stdout",
          "output_type": "stream",
          "text": [
            "Common numbers between list1 and list2: [3, 4, 5]\n"
          ]
        }
      ],
      "source": [
        "# Define two lists\n",
        "q3_list1 = [1, 2, 3, 4, 5]\n",
        "q3_list2 = [3, 4, 5, 6, 7,4]\n",
        "\n",
        "# Initialize an empty list to store common numbers\n",
        "common_numbers = []\n",
        "\n",
        "# Iterate over elements in list1\n",
        "for number in q3_list1:\n",
        "    # Check if the number is also in list2\n",
        "    if number in q3_list2:\n",
        "        common_numbers.append(number)\n",
        "\n",
        "# Print the common numbers\n",
        "print(\"Common numbers between list1 and list2:\", common_numbers)"
      ]
    },
    {
      "cell_type": "markdown",
      "metadata": {
        "id": "Wu9CxFNORNsm"
      },
      "source": [
        "#Q4\n",
        "\n",
        "Given the list of strings,\n",
        "\n",
        "`[\"apple\", \"banana\", \"cherry\", \"date\", \"fig\"]`,\n",
        "\n",
        "create a new list containing only the strings with more than 4 characters using list comprehensio\n",
        "\n"
      ]
    },
    {
      "cell_type": "code",
      "execution_count": 47,
      "metadata": {
        "id": "41AQB5tpRYzs"
      },
      "outputs": [
        {
          "name": "stdout",
          "output_type": "stream",
          "text": [
            "['apple', 'banana', 'cherry']\n"
          ]
        }
      ],
      "source": [
        "q4_list = [\"apple\", \"banana\", \"cherry\", \"date\", \"fig\"]\n",
        "q4_new_list = [x for x in list if len(x) > 4]\n",
        "print(q4_new_list)"
      ]
    },
    {
      "cell_type": "markdown",
      "metadata": {
        "id": "nb0cBndORxdT"
      },
      "source": [
        "#Q5\n",
        "\n",
        "Write a function to reverse a list without using the reverse method."
      ]
    },
    {
      "cell_type": "code",
      "execution_count": 50,
      "metadata": {
        "id": "mRkD2OrfRvBH"
      },
      "outputs": [
        {
          "name": "stdout",
          "output_type": "stream",
          "text": [
            "The reversed list is: [5, 4, 3, 2, 1]\n"
          ]
        }
      ],
      "source": [
        "# Write a function to reverse a list without using the reverse method.\n",
        "def reverse_list(list):\n",
        "    # Initialize an empty list\n",
        "    reversed_list = []\n",
        "    # Iterate over elements in the list\n",
        "    for element in list:\n",
        "        # Insert the element at the beginning of the list\n",
        "        reversed_list.insert(0, element)\n",
        "    # Return the reversed list\n",
        "    return reversed_list\n",
        "# Define a list\n",
        "q5_list = [1, 2, 3, 4, 5]\n",
        "# Call the function\n",
        "q5_reversed_list = reverse_list(q5_list)\n",
        "# Print the reversed list\n",
        "print(\"The reversed list is:\", q5_reversed_list)"
      ]
    },
    {
      "cell_type": "markdown",
      "metadata": {
        "id": "shYTeXiCSR0l"
      },
      "source": [
        "#Q6\n",
        "\n",
        "Create a matrix (a list of lists) and write a program to find the sum of all the elements in the matrix."
      ]
    },
    {
      "cell_type": "code",
      "execution_count": 52,
      "metadata": {
        "id": "HD9Gm_rbSQEz"
      },
      "outputs": [
        {
          "name": "stdout",
          "output_type": "stream",
          "text": [
            "The sum of all the elements in the matrix is: 45\n"
          ]
        }
      ],
      "source": [
        "# Create a matrix\n",
        "q6_matrix = [[1, 2, 3], [4, 5, 6], [7, 8, 9]]\n",
        "# Initialize the sum\n",
        "sum = 0\n",
        "# Iterate over rows\n",
        "for row in q6_matrix:\n",
        "    # Iterate over columns\n",
        "    for column in row:\n",
        "        # Add the element to the sum\n",
        "        sum = sum + column\n",
        "# Print the sum\n",
        "print(\"The sum of all the elements in the matrix is:\", sum)"
      ]
    },
    {
      "cell_type": "markdown",
      "metadata": {
        "id": "8VcZx57US70G"
      },
      "source": [
        "#Q7\n",
        "\n",
        "Given the list of numbers,\n",
        "\n",
        "`[12, 34, 45, 67, 88, 99, 56, 23]`\n",
        "\n",
        "write codes to find the second largest and second smallest elements."
      ]
    },
    {
      "cell_type": "code",
      "execution_count": 53,
      "metadata": {
        "id": "A5vCgMnbTBcf"
      },
      "outputs": [
        {
          "name": "stdout",
          "output_type": "stream",
          "text": [
            "The second largest element in the list is: 88\n",
            "The second smallest element in the list is: 23\n"
          ]
        }
      ],
      "source": [
        "# write codes to find the second largest and second smallest elements.\n",
        "# Create a list\n",
        "q7_list = [12, 34, 45, 67, 88, 99, 56, 23]\n",
        "# Sort the list\n",
        "q7_list.sort()\n",
        "# Print the second largest element\n",
        "print(\"The second largest element in the list is:\", q7_list[-2])\n",
        "# Print the second smallest element\n",
        "print(\"The second smallest element in the list is:\", q7_list[1])"
      ]
    },
    {
      "cell_type": "markdown",
      "metadata": {
        "id": "2LR-YUf-T9EZ"
      },
      "source": [
        "#Q8\n",
        "\n",
        "Write a function that computes the cumulative sum of a list (each element is the sum of all elements before it)."
      ]
    },
    {
      "cell_type": "code",
      "execution_count": 54,
      "metadata": {
        "id": "6D4L1Yc1UQ7j"
      },
      "outputs": [
        {
          "name": "stdout",
          "output_type": "stream",
          "text": [
            "The cumulative list is: [1, 3, 6, 10, 15]\n"
          ]
        }
      ],
      "source": [
        "# Write a function that computes the cumulative sum of a list (each element is the sum of all elements before it).\n",
        "def cumulative_sum(list):\n",
        "    # Initialize an empty list\n",
        "    cumulative_list = []\n",
        "    # Initialize a variable to store the sum\n",
        "    sum = 0\n",
        "    # Iterate over elements in the list\n",
        "    for element in list:\n",
        "        # Add the element to the sum\n",
        "        sum = sum + element\n",
        "        # Append the sum to the cumulative list\n",
        "        cumulative_list.append(sum)\n",
        "    # Return the cumulative list\n",
        "    return cumulative_list\n",
        "# Define a list\n",
        "q8_list = [1, 2, 3, 4, 5]\n",
        "# Call the function\n",
        "q8_cumulative_list = cumulative_sum(q8_list)\n",
        "# Print the cumulative list\n",
        "print(\"The cumulative list is:\", q8_cumulative_list)"
      ]
    },
    {
      "cell_type": "markdown",
      "metadata": {
        "id": "Es6hBQMwWVYQ"
      },
      "source": [
        "#Q9\n",
        "Based on the dictionary below,\n",
        "\n",
        "```\n",
        "prices = {\n",
        "'ACME': 45.23,\n",
        "'AAPL': 612.78,\n",
        "'IBM': 205.55,\n",
        "'HPQ': 37.20,\n",
        "'FB': 10.75\n",
        "}\n",
        "```\n",
        "1. Make a dictionary of all prices over 200\n",
        "\n",
        "2. Make a dictionary of tech stocks based on the following list.\n",
        "`tech_names = ['AAPL', 'IBM', 'HPQ', 'FB']`\n"
      ]
    },
    {
      "cell_type": "code",
      "execution_count": 56,
      "metadata": {
        "id": "jmJBjueAWfk0"
      },
      "outputs": [
        {
          "name": "stdout",
          "output_type": "stream",
          "text": [
            "{'AAPL': 612.78, 'IBM': 205.55}\n",
            "{'AAPL': 612.78, 'IBM': 205.55, 'HPQ': 37.2, 'FB': 10.75}\n"
          ]
        }
      ],
      "source": [
        "# Based on the dictionary below,\n",
        "prices = {\n",
        "'ACME': 45.23,\n",
        "'AAPL': 612.78,\n",
        "'IBM': 205.55,\n",
        "'HPQ': 37.20,\n",
        "'FB': 10.75\n",
        "}\n",
        "\n",
        "# Make a dictionary of all prices over 200\n",
        "q9_prices_over_200 = {key: value for key, value in prices.items() if value > 200}\n",
        "print(q9_prices_over_200)\n",
        "\n",
        "#  Make a dictionary of tech stocks based on the following list.\n",
        "tech_names = ['AAPL', 'IBM', 'HPQ', 'FB']\n",
        "q9_tech_stocks = {key: value for key, value in prices.items() if key in tech_names}\n",
        "print(q9_tech_stocks)"
      ]
    },
    {
      "cell_type": "markdown",
      "metadata": {
        "id": "olmlaDhpXVLV"
      },
      "source": [
        "#Q10\n",
        "\n",
        "Given the string,\n",
        "\n",
        "`string = \"Hello, World!\"`\n",
        "\n",
        "count the number of vowels `(a, e, i, o, u)` in it."
      ]
    },
    {
      "cell_type": "code",
      "execution_count": 57,
      "metadata": {
        "id": "YZrvLXJ2YEC7"
      },
      "outputs": [
        {
          "name": "stdout",
          "output_type": "stream",
          "text": [
            "The number of vowels in the string is: 3\n"
          ]
        }
      ],
      "source": [
        "# given the string,\n",
        "string = \"Hello, World!\"\n",
        "# count thenumber of vowels (a, e, i, o, u) in it.\n",
        "# Initialize a variable to store the count\n",
        "count = 0\n",
        "# Iterate over characters in the string\n",
        "for char in string:\n",
        "    # Check if the character is a vowel considering both upper and lower cases\n",
        "    if char in \"aeiouAEIOU\":\n",
        "        # Increment the count\n",
        "        count = count + 1\n",
        "# Print the count\n",
        "print(\"The number of vowels in the string is:\", count)"
      ]
    },
    {
      "cell_type": "markdown",
      "metadata": {
        "id": "iztTuFCzDpzJ"
      },
      "source": [
        "#Q11\n",
        "\n",
        "Given the string,\n",
        "\n",
        "`\"Hello, World !\"`\n",
        "\n",
        "remove all whitespace characters from it.\n"
      ]
    },
    {
      "cell_type": "code",
      "execution_count": 60,
      "metadata": {
        "id": "lS7K-7F8DvwK"
      },
      "outputs": [
        {
          "name": "stdout",
          "output_type": "stream",
          "text": [
            "The string after removing all the whitespaces is: Hello,World!\n"
          ]
        }
      ],
      "source": [
        "# given the string,\n",
        "q11_string = \"Hello, World!\"\n",
        "# remove all whitespace characters from it.\n",
        "# Initialize an empty string\n",
        "q11_new_string = \"\"\n",
        "# Iterate over characters in the string\n",
        "for char in string:\n",
        "    # Check if the character is not a whitespace\n",
        "    if char != \" \":\n",
        "        # Append the character to the new string\n",
        "        q11_new_string = q11_new_string + char\n",
        "# Print the new string\n",
        "print(\"The string after removing all the whitespaces is:\", q11_new_string)"
      ]
    },
    {
      "cell_type": "markdown",
      "metadata": {
        "id": "iZYGypDsEZBk"
      },
      "source": [
        "#Q12\n",
        "\n",
        "Given the string,\n",
        "\n",
        "`\"This is a sample sentence with long words\"`\n",
        "\n",
        "find the longest word in it."
      ]
    },
    {
      "cell_type": "code",
      "execution_count": 61,
      "metadata": {
        "id": "QK0EsmmsEfrv"
      },
      "outputs": [
        {
          "name": "stdout",
          "output_type": "stream",
          "text": [
            "The longest word in the string is: sentence\n"
          ]
        }
      ],
      "source": [
        "# given the string,\n",
        "q12_string = \"This is a sample sentence with long words\"\n",
        "# find the longest word in it\n",
        "# Split the string into a list of words\n",
        "q12_words = q12_string.split()\n",
        "# Initialize a variable to store the length of the longest word\n",
        "q12_max_length = 0\n",
        "# Iterate over words in the list\n",
        "for word in q12_words:\n",
        "    # Check if the length of the word is greater than the length of the longest word\n",
        "    if len(word) > q12_max_length:\n",
        "        # Update the length of the longest word\n",
        "        q12_max_length = len(word)\n",
        "        # Store the longest word\n",
        "        q12_longest_word = word\n",
        "# Print the longest word\n",
        "print(\"The longest word in the string is:\", q12_longest_word)"
      ]
    },
    {
      "cell_type": "markdown",
      "metadata": {
        "id": "LmSbyKpwFlFH"
      },
      "source": [
        "#Q13\n",
        "\n",
        "Write code to round `123456` to tens place"
      ]
    },
    {
      "cell_type": "code",
      "execution_count": 63,
      "metadata": {
        "id": "txIoPmpUGvpy"
      },
      "outputs": [
        {
          "name": "stdout",
          "output_type": "stream",
          "text": [
            "Rounded number to the nearest tens: 123460\n"
          ]
        }
      ],
      "source": [
        "# Input number\n",
        "q13_number = 123456\n",
        "\n",
        "# Round to the nearest tens\n",
        "q13_rounded_number = round(q13_number, -1)\n",
        "\n",
        "# Print the rounded number\n",
        "print(\"Rounded number to the nearest tens:\", q13_rounded_number)"
      ]
    },
    {
      "cell_type": "markdown",
      "metadata": {
        "id": "g_ZzptXXJ4V5"
      },
      "source": [
        "#Q14\n",
        "\n",
        "Write a function that checks if a given number is even or odd and returns a corresponding message.\n"
      ]
    },
    {
      "cell_type": "code",
      "execution_count": 94,
      "metadata": {
        "id": "WwzfztwsJ9oB"
      },
      "outputs": [
        {
          "name": "stdout",
          "output_type": "stream",
          "text": [
            "The number is: even\n"
          ]
        }
      ],
      "source": [
        "# write a function that checks if a given number is even or oddd and returns \"even\", \"odd\", \"invalid\" accordingly.\n",
        "def even_or_odd(number):\n",
        "    # Check if the number is valid\n",
        "    if number != 0:\n",
        "        # Check if the number is even\n",
        "        if number % 2 == 0:\n",
        "            # Return \"even\"\n",
        "            return \"even\"\n",
        "        else:\n",
        "            if number % 2 == 1:\n",
        "            # Return \"odd\"\n",
        "                return \"odd\"\n",
        "    else:\n",
        "        # Return \"even\" for 0\n",
        "        return \"even\"\n",
        "# Input number\n",
        "q14_number = 5890\n",
        "# Call the function\n",
        "q14_result = even_or_odd(q14_number)\n",
        "# Print the result\n",
        "print(\"The number is:\", q14_result)"
      ]
    },
    {
      "cell_type": "markdown",
      "metadata": {
        "id": "e0Mrsya3Kdng"
      },
      "source": [
        "#Q15\n",
        "\n",
        "Create a function that takes a **list** of numbers as input and returns the average of those numbers."
      ]
    },
    {
      "cell_type": "code",
      "execution_count": 99,
      "metadata": {
        "id": "1UnDTwdBKtPY"
      },
      "outputs": [
        {
          "name": "stdout",
          "output_type": "stream",
          "text": [
            "The average of the list is: 31.25\n"
          ]
        }
      ],
      "source": [
        "def average(list):\n",
        "    # Initialize a variable to store the sum\n",
        "    sum = 0\n",
        "    # Iterate over elements in the list\n",
        "    for element in list:\n",
        "        # Add the element to the sum\n",
        "        sum = sum + element\n",
        "    # Return the average\n",
        "    return sum / len(list)\n",
        "# Define a list\n",
        "q15_list = [10, 15, 40, 60]\n",
        "# Call the function\n",
        "q15_average = average(q15_list)\n",
        "# Print the average\n",
        "print(\"The average of the list is:\", q15_average)"
      ]
    },
    {
      "cell_type": "markdown",
      "metadata": {
        "id": "EbfeNyD4K6DF"
      },
      "source": [
        "#Q16\n",
        "\n",
        "Write a function that takes **a variable number** of arguments and returns their sum."
      ]
    },
    {
      "cell_type": "code",
      "execution_count": 100,
      "metadata": {
        "id": "J-gaTxyzLesa"
      },
      "outputs": [
        {
          "name": "stdout",
          "output_type": "stream",
          "text": [
            "The sum is: 150\n"
          ]
        }
      ],
      "source": [
        "def sum(*args):\n",
        "    # Initialize a variable to store the sum\n",
        "    sum = 0\n",
        "    # Iterate over arguments\n",
        "    for arg in args:\n",
        "        # Add the argument to the sum\n",
        "        sum = sum + arg\n",
        "    # Return the sum\n",
        "    return sum\n",
        "# Call the function\n",
        "q16_sum = sum(10, 20, 30, 40, 50)\n",
        "# Print the sum\n",
        "print(\"The sum is:\", q16_sum)\n"
      ]
    },
    {
      "cell_type": "markdown",
      "metadata": {
        "id": "mKIOKd61MIJ9"
      },
      "source": [
        "#Q17\n",
        "\n",
        "Create a lambda function that takes two numbers as input and returns their product."
      ]
    },
    {
      "cell_type": "code",
      "execution_count": 101,
      "metadata": {
        "id": "jN8g5NtJMLjS"
      },
      "outputs": [
        {
          "name": "stdout",
          "output_type": "stream",
          "text": [
            "The product is: 200\n"
          ]
        }
      ],
      "source": [
        "# Define a lambda function\n",
        "q17_product = lambda x, y: x * y\n",
        "# Call the lambda function\n",
        "print(\"The product is:\", q17_product(10, 20))\n"
      ]
    },
    {
      "cell_type": "markdown",
      "metadata": {
        "id": "5ihLqra6MzMi"
      },
      "source": [
        "#Q18\n",
        "\n",
        "Write a function that accepts a **dictionary** of student names and their corresponding scores. Calculate the average score, round it to the second digits after decimal points, and return it.\n",
        "\n",
        "Example input:\n",
        "\n",
        "`student_scores = {\"Alice\": 90, \"Brain\": 82, \"David\": 88}`\n"
      ]
    },
    {
      "cell_type": "code",
      "execution_count": 103,
      "metadata": {
        "id": "XjU464wrNY6X"
      },
      "outputs": [
        {
          "name": "stdout",
          "output_type": "stream",
          "text": [
            "The average score is: 76.67\n"
          ]
        }
      ],
      "source": [
        "def average_score(scores):\n",
        "    # Initialize a variable to store the sum\n",
        "    sum = 0\n",
        "    # Iterate over values in the dictionary\n",
        "    for score in scores.values():\n",
        "        # Add the score to the sum\n",
        "        sum = sum + score\n",
        "    # Return the average score\n",
        "    return round(sum / len(scores), 2)\n",
        "# Define a dictionary\n",
        "q18_scores = {\"Bladimer\": 80, \"Ahmed\": 60, \"Mubarak\": 90}\n",
        "# Call the function\n",
        "q18_average_score = average_score(q18_scores)\n",
        "# Print the average score\n",
        "print(\"The average score is:\", q18_average_score)"
      ]
    },
    {
      "cell_type": "markdown",
      "metadata": {
        "id": "9YzJfl9WOHRU"
      },
      "source": [
        "#Q19\n",
        "\n",
        "Write a function `count_char_occurrences` that takes a string and a character as arguments and counts the number of times the character appears in the string.\n",
        "\n",
        "Example imput:\n",
        "\n",
        "```\n",
        "text = \"Hello, World!\"\n",
        "char = 'l'\n",
        "count = count_char_occurrences(text, char)\n",
        "```"
      ]
    },
    {
      "cell_type": "code",
      "execution_count": 110,
      "metadata": {
        "id": "PBXWTAMJOGem"
      },
      "outputs": [
        {
          "name": "stdout",
          "output_type": "stream",
          "text": [
            "The number of occurrences of the character (l) in the string (Hello, World!) is: 3\n"
          ]
        }
      ],
      "source": [
        "\n",
        "def count_char_occurrences(text, char):\n",
        "    # Initialize a variable to store the count\n",
        "    count = 0\n",
        "    # Iterate over characters in the string\n",
        "    for c in text:\n",
        "        # Check if the character is equal to the character to be counted\n",
        "        if c == char:\n",
        "            # Increment the count\n",
        "            count = count + 1\n",
        "    # Return the count\n",
        "    return count\n",
        "\n",
        "# Example\n",
        "# Input text\n",
        "q19_text = \"Hello, World!\"\n",
        "# Input character\n",
        "q19_char = \"l\"\n",
        "# Call the function\n",
        "q19_count = count_char_occurrences(q19_text, q19_char)\n",
        "# Print the count\n",
        "print(\"The number of occurrences of the character \" + \"(\" + q19_char +\")\" + \" in the string \" + \"(\" + q19_text +\")\" + \" is:\", q19_count)\n"
      ]
    },
    {
      "cell_type": "markdown",
      "metadata": {
        "id": "vEOXkDlUP6t_"
      },
      "source": [
        "#Q20\n",
        "\n",
        "Create a function that takes a function and a list of numbers as arguments and applies the function to each number in the list.\n",
        "\n",
        "Example:\n",
        "```\n",
        "def apply_function_to_list(func, numbers):\n",
        "    # you code here\n",
        "\n",
        "numbers = [1, 2, 3, 4, 5]\n",
        "squared_numbers = apply_function_to_list(lambda x: x**2, numbers)\n",
        "print(\"Squared numbers:\", squared_numbers)\n",
        "\n",
        "```"
      ]
    },
    {
      "cell_type": "code",
      "execution_count": 113,
      "metadata": {
        "id": "5O2kN1uRQFJb"
      },
      "outputs": [
        {
          "name": "stdout",
          "output_type": "stream",
          "text": [
            "Squared numbers are: [1, 4, 9, 16, 25]\n"
          ]
        }
      ],
      "source": [
        "def apply_func(func, list):\n",
        "    # Initialize an empty list\n",
        "    result = []\n",
        "    # Iterate over numbers in the list\n",
        "    for number in list:\n",
        "        # Apply the function to the number\n",
        "        result.append(func(number))\n",
        "    # Return the result\n",
        "    return result\n",
        "\n",
        "# Define a list\n",
        "q20_list = [1, 2, 3, 4, 5]\n",
        "# Call the function\n",
        "q20_squares = apply_func(lambda x: x * x, q20_list)\n",
        "\n",
        "# Print the result\n",
        "print(\"Squared numbers are:\", q20_squares)\n"
      ]
    },
    {
      "cell_type": "markdown",
      "metadata": {
        "id": "1IoLNHc0RDkG"
      },
      "source": [
        "#Q21\n",
        "\n",
        "Write a program that calculates the factorial of a given non-negative integer that is less than 15 using a **while** loop."
      ]
    },
    {
      "cell_type": "code",
      "execution_count": 134,
      "metadata": {
        "id": "B8hbmy3_RJBd"
      },
      "outputs": [
        {
          "name": "stdout",
          "output_type": "stream",
          "text": [
            "The factorial of the number is: 120\n"
          ]
        }
      ],
      "source": [
        "# Write a program that calculates the factorial of a given non-negative integer that is less than 15 using a **while** loop.\n",
        "# Input number\n",
        "q21_number = 5\n",
        "# Initialize a variable to store the factorial\n",
        "q21_factorial = 1\n",
        "# use while loop to calculate the factorial\n",
        "while q21_number > 0:\n",
        "    # Calculate the factorial\n",
        "    q21_factorial = q21_factorial * q21_number\n",
        "    # Decrement the number\n",
        "    q21_number = q21_number - 1\n",
        "# Print the factorial of the number\n",
        "print(\"The factorial of the number is:\", q21_factorial)"
      ]
    },
    {
      "cell_type": "markdown",
      "metadata": {
        "id": "_-DsCWs8Rzlm"
      },
      "source": [
        "#Q22\n",
        "\n",
        "Create a program that takes a list of numbers and performs the following operations:\n",
        "\n",
        "+ Find the maximum number in the list.\n",
        "+ Find the minimum number in the list.\n",
        "+ Calculate the sum of all numbers in the list.\n",
        "+ Calculate the average of the numbers in the list.\n",
        "\n",
        "Example list\n",
        "\n",
        "`[12, 34, 75, 14, 23, 809]`"
      ]
    },
    {
      "cell_type": "code",
      "execution_count": 136,
      "metadata": {
        "id": "mB_H6p1CSFHl"
      },
      "outputs": [
        {
          "name": "stdout",
          "output_type": "stream",
          "text": [
            "The maximum number is: 809\n",
            "The minimum number is: 12\n",
            "The sum is: 967\n",
            "The average is: 161.16666666666666\n"
          ]
        }
      ],
      "source": [
        "# Define a list\n",
        "q22_list = [12, 34,  75, 14, 23,809]\n",
        "# Initialize a variable to store the maximum number\n",
        "q22_max = q22_list[0]\n",
        "# Initialize a variable to store the minimum number\n",
        "q22_min = q22_list[0]\n",
        "# Initialize a variable to store the sum\n",
        "q22_sum = 0\n",
        "# Iterate over numbers in the list\n",
        "for number in q22_list:\n",
        "    # Check if the number is greater than the maximum number\n",
        "    if number > q22_max:\n",
        "        # Update the maximum number\n",
        "        q22_max = number\n",
        "    # Check if the number is less than the minimum number\n",
        "    if number < q22_min:\n",
        "        # Update the minimum number\n",
        "        q22_min = number\n",
        "    # Add the number to the sum\n",
        "    q22_sum = q22_sum + number\n",
        "# Calculate the average\n",
        "q22_average = q22_sum / len(q22_list)\n",
        "# Print the maximum number\n",
        "print(\"The maximum number is:\", q22_max)\n",
        "# Print the minimum number\n",
        "print(\"The minimum number is:\", q22_min)\n",
        "# Print the sum\n",
        "print(\"The sum is:\", q22_sum)\n",
        "# Print the average\n",
        "print(\"The average is:\", q22_average)"
      ]
    },
    {
      "cell_type": "markdown",
      "metadata": {
        "id": "Hl4f9MbFSqgt"
      },
      "source": [
        "#Q23\n",
        "\n",
        "Create a program that extracts a sublist from a given list based on user input for start and end indices.\n",
        "\n",
        "Example input\n",
        "```\n",
        "original_list = [1, 2, 3, 4, 5, 6, 7, 8, 9]\n",
        "\n",
        "start_index = 2\n",
        "end_index = 5\n",
        "```"
      ]
    },
    {
      "cell_type": "code",
      "execution_count": 137,
      "metadata": {
        "id": "HsCjEG58Stvm"
      },
      "outputs": [
        {
          "name": "stdout",
          "output_type": "stream",
          "text": [
            "The sublist is: [3, 4, 5]\n"
          ]
        }
      ],
      "source": [
        "# Create a program that extracts a sublist from a given list based on user input for start and end indices.\n",
        "# Define a list\n",
        "q23_list = [1, 2, 3, 4, 5, 6, 7, 8, 9]\n",
        "# Input start index\n",
        "q23_start_index = 2\n",
        "# Input end index\n",
        "q23_end_index = 5\n",
        "# Extract the sublist\n",
        "q23_sublist = q23_list[q23_start_index:q23_end_index]\n",
        "# Print the sublist\n",
        "print(\"The sublist is:\", q23_sublist)\n"
      ]
    },
    {
      "cell_type": "markdown",
      "metadata": {
        "id": "G-40K60WTqEv"
      },
      "source": [
        "#Q24\n",
        "\n",
        "Write a program that demonstrates basic set operations such as union, intersection, and difference."
      ]
    },
    {
      "cell_type": "code",
      "execution_count": 138,
      "metadata": {
        "id": "hbdsdbOzTt1W"
      },
      "outputs": [
        {
          "name": "stdout",
          "output_type": "stream",
          "text": [
            "The union is: {1, 2, 3, 4, 5, 6, 7, 8}\n",
            "The intersection is: {4, 5}\n",
            "The difference is: {1, 2, 3}\n"
          ]
        }
      ],
      "source": [
        "# Write a program that demonstrates basic set operations such as union, intersection, and difference.\n",
        "# Define two sets\n",
        "q24_set1 = {1, 2, 3, 4, 5}\n",
        "q24_set2 = {4, 5, 6, 7, 8}\n",
        "# Calculate the union\n",
        "q24_union = q24_set1 | q24_set2\n",
        "# Calculate the intersection\n",
        "q24_intersection = q24_set1 & q24_set2\n",
        "# Calculate the difference\n",
        "q24_difference = q24_set1 - q24_set2\n",
        "# Print the union\n",
        "print(\"The union is:\", q24_union)\n",
        "# Print the intersection\n",
        "print(\"The intersection is:\", q24_intersection)\n",
        "# Print the difference\n",
        "print(\"The difference is:\", q24_difference)"
      ]
    }
  ],
  "metadata": {
    "colab": {
      "authorship_tag": "ABX9TyP9z24C9qP1ftBDZL0KGWcL",
      "include_colab_link": true,
      "provenance": [],
      "toc_visible": true
    },
    "kernelspec": {
      "display_name": "Python 3.9.6 64-bit",
      "language": "python",
      "name": "python3"
    },
    "language_info": {
      "codemirror_mode": {
        "name": "ipython",
        "version": 3
      },
      "file_extension": ".py",
      "mimetype": "text/x-python",
      "name": "python",
      "nbconvert_exporter": "python",
      "pygments_lexer": "ipython3",
      "version": "3.9.6"
    },
    "vscode": {
      "interpreter": {
        "hash": "31f2aee4e71d21fbe5cf8b01ff0e069b9275f58929596ceb00d14d90e3e16cd6"
      }
    }
  },
  "nbformat": 4,
  "nbformat_minor": 0
}
