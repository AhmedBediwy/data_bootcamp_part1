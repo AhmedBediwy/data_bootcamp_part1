<a href="https://colab.research.google.com/github/statrliu/data_bootcamp_part1/blob/main/homework_1.ipynb" target="_parent"><img src="https://colab.research.google.com/assets/colab-badge.svg" alt="Open In Colab"/></a>
#Q1

Given the list of numbers: `12, 34, 45, 67, 88, 99, 56, 23`, find the sum of all the even numbers in the list.

# create a list
q1_list = [12, 34, 45, 67, 88, 99, 56, 23]
# create a variable to store the sum of even numbers
sum = 0
# loop through the list
for num in q1_list:
    # check if the number is even
    if num % 2 == 0:
        # add the number to the sum
        sum = sum + num
# print the sum
print("The sum of even numbers in the list is: ", sum)
#Q2

Write a program to remove all duplicates from the list
`[1, 2, 2, 3, 4, 4, 5]`
# create a list
q2_list = [11, 2, 2, 3, 4, 4, 5]
# check if the list contains any duplicates
for num in q2_list:
    # check if the number is in the list more than once
    if q2_list.count(num) > 1:
        # print the duplicate number
        print("The duplicate number in the list is: ", num)
        # stop the loop
        break
# remove the duplicate number from the list
q2_list.remove(num)
# print the list
print("The list after removing the duplicate number is: ", q2_list)
#Q3

Given two lists,
```
list1 = [1, 2, 3, 4, 3, 5]
list2 = [3, 4, 5, 6, 7, 4]
```
write a program to find the unique common elements between them.
# Define two lists
q3_list1 = [1, 2, 3, 4, 5]
q3_list2 = [3, 4, 5, 6, 7,4]

# Initialize an empty list to store common numbers
common_numbers = []

# Iterate over elements in list1
for number in q3_list1:
    # Check if the number is also in list2
    if number in q3_list2:
        common_numbers.append(number)

# Print the common numbers
print("Common numbers between list1 and list2:", common_numbers)
#Q4

Given the list of strings,

`["apple", "banana", "cherry", "date", "fig"]`,

create a new list containing only the strings with more than 4 characters using list comprehensio


q4_list = ["apple", "banana", "cherry", "date", "fig"]
q4_new_list = [x for x in list if len(x) > 4]
print(q4_new_list)
#Q5

Write a function to reverse a list without using the reverse method.
# Write a function to reverse a list without using the reverse method.
def reverse_list(list):
    # Initialize an empty list
    reversed_list = []
    # Iterate over elements in the list
    for element in list:
        # Insert the element at the beginning of the list
        reversed_list.insert(0, element)
    # Return the reversed list
    return reversed_list
# Define a list
q5_list = [1, 2, 3, 4, 5]
# Call the function
q5_reversed_list = reverse_list(q5_list)
# Print the reversed list
print("The reversed list is:", q5_reversed_list)
#Q6

Create a matrix (a list of lists) and write a program to find the sum of all the elements in the matrix.
# Create a matrix
q6_matrix = [[1, 2, 3], [4, 5, 6], [7, 8, 9]]
# Initialize the sum
sum = 0
# Iterate over rows
for row in q6_matrix:
    # Iterate over columns
    for column in row:
        # Add the element to the sum
        sum = sum + column
# Print the sum
print("The sum of all the elements in the matrix is:", sum)
#Q7

Given the list of numbers,

`[12, 34, 45, 67, 88, 99, 56, 23]`

write codes to find the second largest and second smallest elements.
# write codes to find the second largest and second smallest elements.
# Create a list
q7_list = [12, 34, 45, 67, 88, 99, 56, 23]
# Sort the list
q7_list.sort()
# Print the second largest element
print("The second largest element in the list is:", q7_list[-2])
# Print the second smallest element
print("The second smallest element in the list is:", q7_list[1])
#Q8

Write a function that computes the cumulative sum of a list (each element is the sum of all elements before it).
# Write a function that computes the cumulative sum of a list (each element is the sum of all elements before it).
def cumulative_sum(list):
    # Initialize an empty list
    cumulative_list = []
    # Initialize a variable to store the sum
    sum = 0
    # Iterate over elements in the list
    for element in list:
        # Add the element to the sum
        sum = sum + element
        # Append the sum to the cumulative list
        cumulative_list.append(sum)
    # Return the cumulative list
    return cumulative_list
# Define a list
q8_list = [1, 2, 3, 4, 5]
# Call the function
q8_cumulative_list = cumulative_sum(q8_list)
# Print the cumulative list
print("The cumulative list is:", q8_cumulative_list)
#Q9
Based on the dictionary below,

```
prices = {
'ACME': 45.23,
'AAPL': 612.78,
'IBM': 205.55,
'HPQ': 37.20,
'FB': 10.75
}
```
1. Make a dictionary of all prices over 200

2. Make a dictionary of tech stocks based on the following list.
`tech_names = ['AAPL', 'IBM', 'HPQ', 'FB']`

# Based on the dictionary below,
prices = {
'ACME': 45.23,
'AAPL': 612.78,
'IBM': 205.55,
'HPQ': 37.20,
'FB': 10.75
}

# Make a dictionary of all prices over 200
q9_prices_over_200 = {key: value for key, value in prices.items() if value > 200}
print(q9_prices_over_200)

#  Make a dictionary of tech stocks based on the following list.
tech_names = ['AAPL', 'IBM', 'HPQ', 'FB']
q9_tech_stocks = {key: value for key, value in prices.items() if key in tech_names}
print(q9_tech_stocks)
#Q10

Given the string,

`string = "Hello, World!"`

count the number of vowels `(a, e, i, o, u)` in it.
# given the string,
string = "Hello, World!"
# count thenumber of vowels (a, e, i, o, u) in it.
# Initialize a variable to store the count
count = 0
# Iterate over characters in the string
for char in string:
    # Check if the character is a vowel considering both upper and lower cases
    if char in "aeiouAEIOU":
        # Increment the count
        count = count + 1
# Print the count
print("The number of vowels in the string is:", count)
#Q11

Given the string,

`"Hello, World !"`

remove all whitespace characters from it.

# given the string,
q11_string = "Hello, World!"
# remove all whitespace characters from it.
# Initialize an empty string
q11_new_string = ""
# Iterate over characters in the string
for char in string:
    # Check if the character is not a whitespace
    if char != " ":
        # Append the character to the new string
        q11_new_string = q11_new_string + char
# Print the new string
print("The string after removing all the whitespaces is:", q11_new_string)
#Q12

Given the string,

`"This is a sample sentence with long words"`

find the longest word in it.
# given the string,
q12_string = "This is a sample sentence with long words"
# find the longest word in it
# Split the string into a list of words
q12_words = q12_string.split()
# Initialize a variable to store the length of the longest word
q12_max_length = 0
# Iterate over words in the list
for word in q12_words:
    # Check if the length of the word is greater than the length of the longest word
    if len(word) > q12_max_length:
        # Update the length of the longest word
        q12_max_length = len(word)
        # Store the longest word
        q12_longest_word = word
# Print the longest word
print("The longest word in the string is:", q12_longest_word)
#Q13

Write code to round `123456` to tens place
# Input number
q13_number = 123456

# Round to the nearest tens
q13_rounded_number = round(q13_number, -1)

# Print the rounded number
print("Rounded number to the nearest tens:", q13_rounded_number)
#Q14

Write a function that checks if a given number is even or odd and returns a corresponding message.

# write a function that checks if a given number is even or oddd and returns "even", "odd", "invalid" accordingly.
def even_or_odd(number):
    # Check if the number is valid
    if number != 0:
        # Check if the number is even
        if number % 2 == 0:
            # Return "even"
            return "even"
        else:
            if number % 2 == 1:
            # Return "odd"
                return "odd"
    else:
        # Return "even" for 0
        return "even"
# Input number
q14_number = 5890
# Call the function
q14_result = even_or_odd(q14_number)
# Print the result
print("The number is:", q14_result)
#Q15

Create a function that takes a **list** of numbers as input and returns the average of those numbers.
def average(list):
    # Initialize a variable to store the sum
    sum = 0
    # Iterate over elements in the list
    for element in list:
        # Add the element to the sum
        sum = sum + element
    # Return the average
    return sum / len(list)
# Define a list
q15_list = [10, 15, 40, 60]
# Call the function
q15_average = average(q15_list)
# Print the average
print("The average of the list is:", q15_average)
#Q16

Write a function that takes **a variable number** of arguments and returns their sum.
def sum(*args):
    # Initialize a variable to store the sum
    sum = 0
    # Iterate over arguments
    for arg in args:
        # Add the argument to the sum
        sum = sum + arg
    # Return the sum
    return sum
# Call the function
q16_sum = sum(10, 20, 30, 40, 50)
# Print the sum
print("The sum is:", q16_sum)

#Q17

Create a lambda function that takes two numbers as input and returns their product.
# Define a lambda function
q17_product = lambda x, y: x * y
# Call the lambda function
print("The product is:", q17_product(10, 20))

#Q18

Write a function that accepts a **dictionary** of student names and their corresponding scores. Calculate the average score, round it to the second digits after decimal points, and return it.

Example input:

`student_scores = {"Alice": 90, "Brain": 82, "David": 88}`

def average_score(scores):
    # Initialize a variable to store the sum
    sum = 0
    # Iterate over values in the dictionary
    for score in scores.values():
        # Add the score to the sum
        sum = sum + score
    # Return the average score
    return round(sum / len(scores), 2)
# Define a dictionary
q18_scores = {"Bladimer": 80, "Ahmed": 60, "Mubarak": 90}
# Call the function
q18_average_score = average_score(q18_scores)
# Print the average score
print("The average score is:", q18_average_score)
#Q19

Write a function `count_char_occurrences` that takes a string and a character as arguments and counts the number of times the character appears in the string.

Example imput:

```
text = "Hello, World!"
char = 'l'
count = count_char_occurrences(text, char)
```

def count_char_occurrences(text, char):
    # Initialize a variable to store the count
    count = 0
    # Iterate over characters in the string
    for c in text:
        # Check if the character is equal to the character to be counted
        if c == char:
            # Increment the count
            count = count + 1
    # Return the count
    return count

# Example
# Input text
q19_text = "Hello, World!"
# Input character
q19_char = "l"
# Call the function
q19_count = count_char_occurrences(q19_text, q19_char)
# Print the count
print("The number of occurrences of the character " + "(" + q19_char +")" + " in the string " + "(" + q19_text +")" + " is:", q19_count)

#Q20

Create a function that takes a function and a list of numbers as arguments and applies the function to each number in the list.

Example:
```
def apply_function_to_list(func, numbers):
    # you code here

numbers = [1, 2, 3, 4, 5]
squared_numbers = apply_function_to_list(lambda x: x**2, numbers)
print("Squared numbers:", squared_numbers)

```
def apply_func(func, list):
    # Initialize an empty list
    result = []
    # Iterate over numbers in the list
    for number in list:
        # Apply the function to the number
        result.append(func(number))
    # Return the result
    return result

# Define a list
q20_list = [1, 2, 3, 4, 5]
# Call the function
q20_squares = apply_func(lambda x: x * x, q20_list)

# Print the result
print("Squared numbers are:", q20_squares)

#Q21

Write a program that calculates the factorial of a given non-negative integer that is less than 15 using a **while** loop.
# Write a program that calculates the factorial of a given non-negative integer that is less than 15 using a **while** loop.
# Input number
q21_number = 5
# Initialize a variable to store the factorial
q21_factorial = 1
# use while loop to calculate the factorial
while q21_number > 0:
    # Calculate the factorial
    q21_factorial = q21_factorial * q21_number
    # Decrement the number
    q21_number = q21_number - 1
# Print the factorial of the number
print("The factorial of the number is:", q21_factorial)
#Q22

Create a program that takes a list of numbers and performs the following operations:

+ Find the maximum number in the list.
+ Find the minimum number in the list.
+ Calculate the sum of all numbers in the list.
+ Calculate the average of the numbers in the list.

Example list

`[12, 34, 75, 14, 23, 809]`
# Define a list
q22_list = [12, 34,  75, 14, 23,809]
# Initialize a variable to store the maximum number
q22_max = q22_list[0]
# Initialize a variable to store the minimum number
q22_min = q22_list[0]
# Initialize a variable to store the sum
q22_sum = 0
# Iterate over numbers in the list
for number in q22_list:
    # Check if the number is greater than the maximum number
    if number > q22_max:
        # Update the maximum number
        q22_max = number
    # Check if the number is less than the minimum number
    if number < q22_min:
        # Update the minimum number
        q22_min = number
    # Add the number to the sum
    q22_sum = q22_sum + number
# Calculate the average
q22_average = q22_sum / len(q22_list)
# Print the maximum number
print("The maximum number is:", q22_max)
# Print the minimum number
print("The minimum number is:", q22_min)
# Print the sum
print("The sum is:", q22_sum)
# Print the average
print("The average is:", q22_average)
#Q23

Create a program that extracts a sublist from a given list based on user input for start and end indices.

Example input
```
original_list = [1, 2, 3, 4, 5, 6, 7, 8, 9]

start_index = 2
end_index = 5
```
# Create a program that extracts a sublist from a given list based on user input for start and end indices.
# Define a list
q23_list = [1, 2, 3, 4, 5, 6, 7, 8, 9]
# Input start index
q23_start_index = 2
# Input end index
q23_end_index = 5
# Extract the sublist
q23_sublist = q23_list[q23_start_index:q23_end_index]
# Print the sublist
print("The sublist is:", q23_sublist)

#Q24

Write a program that demonstrates basic set operations such as union, intersection, and difference.
# Write a program that demonstrates basic set operations such as union, intersection, and difference.
# Define two sets
q24_set1 = {1, 2, 3, 4, 5}
q24_set2 = {4, 5, 6, 7, 8}
# Calculate the union
q24_union = q24_set1 | q24_set2
# Calculate the intersection
q24_intersection = q24_set1 & q24_set2
# Calculate the difference
q24_difference = q24_set1 - q24_set2
# Print the union
print("The union is:", q24_union)
# Print the intersection
print("The intersection is:", q24_intersection)
# Print the difference
print("The difference is:", q24_difference)
