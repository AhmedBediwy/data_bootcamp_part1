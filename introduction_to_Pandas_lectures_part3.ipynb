{
  "nbformat": 4,
  "nbformat_minor": 0,
  "metadata": {
    "colab": {
      "provenance": [],
      "authorship_tag": "ABX9TyNMj0zBOhdS31znAQ0wzlAL",
      "include_colab_link": true
    },
    "kernelspec": {
      "name": "python3",
      "display_name": "Python 3"
    },
    "language_info": {
      "name": "python"
    }
  },
  "cells": [
    {
      "cell_type": "markdown",
      "metadata": {
        "id": "view-in-github",
        "colab_type": "text"
      },
      "source": [
        "<a href=\"https://colab.research.google.com/github/statrliu/data_bootcamp_part1/blob/main/introduction_to_Pandas_lectures_part3.ipynb\" target=\"_parent\"><img src=\"https://colab.research.google.com/assets/colab-badge.svg\" alt=\"Open In Colab\"/></a>"
      ]
    },
    {
      "cell_type": "markdown",
      "source": [
        "# Read SAS Files\n",
        "The following data can be found here:\n",
        "https://wwwn.cdc.gov/nchs/nhanes/"
      ],
      "metadata": {
        "id": "0QVigzdr5JK0"
      }
    },
    {
      "cell_type": "code",
      "execution_count": 1,
      "metadata": {
        "id": "3NPT3X6heIOm"
      },
      "outputs": [],
      "source": [
        "# Read SAS file\n",
        "import pandas as pd"
      ]
    },
    {
      "cell_type": "code",
      "source": [
        "# NHANES 2017-2018 demographic data\n",
        "nhanes1718_demo = pd.read_sas(\"https://wwwn.cdc.gov/Nchs/Nhanes/2017-2018/DEMO_J.XPT\", format = \"xport\")\n",
        "\n",
        "# NHANES 2017-2018 diabetes questionnaire\n",
        "nhanes1718_diabq = pd.read_sas(\"https://wwwn.cdc.gov/Nchs/Nhanes/2017-2018/DIQ_J.XPT\", format = \"xport\")"
      ],
      "metadata": {
        "id": "NdfejhiUebYF"
      },
      "execution_count": 2,
      "outputs": []
    },
    {
      "cell_type": "code",
      "source": [
        "print(nhanes1718_demo.info())"
      ],
      "metadata": {
        "id": "q5HHsAUMesCZ"
      },
      "execution_count": null,
      "outputs": []
    },
    {
      "cell_type": "code",
      "source": [
        "print(nhanes1718_diabq.info())"
      ],
      "metadata": {
        "id": "S_zJImdifAOP"
      },
      "execution_count": null,
      "outputs": []
    },
    {
      "cell_type": "code",
      "source": [
        "# left outer join 2017-2018 demographics with questionnaire\n",
        "nhanes1718_all = pd.merge(nhanes1718_demo, nhanes1718_diabq, on=\"SEQN\", how = \"left\")"
      ],
      "metadata": {
        "id": "odvAlPlefZo9"
      },
      "execution_count": 5,
      "outputs": []
    },
    {
      "cell_type": "code",
      "source": [
        "print(nhanes1718_all.info())"
      ],
      "metadata": {
        "id": "FBAEllpvf7H-"
      },
      "execution_count": null,
      "outputs": []
    },
    {
      "cell_type": "code",
      "source": [
        "# NHANES 2015-2016 demographic data\n",
        "nhanes1516_demo = pd.read_sas(\"https://wwwn.cdc.gov/Nchs/Nhanes/2015-2016/DEMO_I.XPT\")\n",
        "\n",
        "# NHANES 2015-2016 diabetes questionnaire\n",
        "nhanes1516_diabq = pd.read_sas(\"https://wwwn.cdc.gov/Nchs/Nhanes/2015-2016/DIQ_I.XPT\")\n"
      ],
      "metadata": {
        "id": "qWTUXVN9gGg-"
      },
      "execution_count": 7,
      "outputs": []
    },
    {
      "cell_type": "code",
      "source": [
        "print(nhanes1516_demo.info())"
      ],
      "metadata": {
        "id": "dD-3NG7DgZMa"
      },
      "execution_count": null,
      "outputs": []
    },
    {
      "cell_type": "code",
      "source": [
        "print(nhanes1516_diabq.info())"
      ],
      "metadata": {
        "id": "SP3n10U4gieZ"
      },
      "execution_count": null,
      "outputs": []
    },
    {
      "cell_type": "code",
      "source": [
        "# left outer join 2015-2016 demographics with questionnaire\n",
        "nhanes1516_all = pd.merge(nhanes1516_demo, nhanes1516_diabq, on = \"SEQN\", how = \"left\")"
      ],
      "metadata": {
        "id": "-hU3uxGtgqOO"
      },
      "execution_count": 10,
      "outputs": []
    },
    {
      "cell_type": "code",
      "source": [
        "print(nhanes1516_all.info())"
      ],
      "metadata": {
        "id": "AMEx5_yUg-kb"
      },
      "execution_count": null,
      "outputs": []
    },
    {
      "cell_type": "code",
      "source": [
        "# append years\n",
        "nhanes1518_all = pd.concat([nhanes1516_all, nhanes1718_all], axis = 0, join=\"outer\", ignore_index=True)"
      ],
      "metadata": {
        "id": "eiw93hkghaKo"
      },
      "execution_count": 12,
      "outputs": []
    },
    {
      "cell_type": "code",
      "source": [
        "print(nhanes1518_all.info())\n",
        "# print(nhanes1518_all.shape)"
      ],
      "metadata": {
        "id": "_Orzho9FjTV4"
      },
      "execution_count": null,
      "outputs": []
    },
    {
      "cell_type": "code",
      "source": [
        "nhanes1518_all.head(20)"
      ],
      "metadata": {
        "id": "dJvjho6RjwPA"
      },
      "execution_count": null,
      "outputs": []
    },
    {
      "cell_type": "code",
      "source": [
        "# Write the dataframe (no index) to a csv file\n",
        "nhanes1518_all.to_csv('output.csv', index = False)"
      ],
      "metadata": {
        "id": "WtylXyIw7o97"
      },
      "execution_count": 15,
      "outputs": []
    },
    {
      "cell_type": "code",
      "source": [
        "from google.colab import files"
      ],
      "metadata": {
        "id": "_Us-ST-Y7iEg"
      },
      "execution_count": 16,
      "outputs": []
    },
    {
      "cell_type": "code",
      "source": [
        "# download the file to local machine.\n",
        "files.download('output.csv')"
      ],
      "metadata": {
        "id": "ks9dbn1N7kX0"
      },
      "execution_count": null,
      "outputs": []
    }
  ]
}