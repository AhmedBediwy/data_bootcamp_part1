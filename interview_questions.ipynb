{
  "nbformat": 4,
  "nbformat_minor": 0,
  "metadata": {
    "colab": {
      "provenance": [],
      "toc_visible": true,
      "authorship_tag": "ABX9TyPVmzhMS28iGPXHOGXnHBBf",
      "include_colab_link": true
    },
    "kernelspec": {
      "name": "python3",
      "display_name": "Python 3"
    },
    "language_info": {
      "name": "python"
    }
  },
  "cells": [
    {
      "cell_type": "markdown",
      "metadata": {
        "id": "view-in-github",
        "colab_type": "text"
      },
      "source": [
        "<a href=\"https://colab.research.google.com/github/statrliu/data_bootcamp_part1/blob/main/interview_questions.ipynb\" target=\"_parent\"><img src=\"https://colab.research.google.com/assets/colab-badge.svg\" alt=\"Open In Colab\"/></a>"
      ]
    },
    {
      "cell_type": "code",
      "source": [
        "import pandas as pd\n",
        "import numpy as np"
      ],
      "metadata": {
        "id": "wVckFYnobrFp"
      },
      "execution_count": 1,
      "outputs": []
    },
    {
      "cell_type": "markdown",
      "source": [
        "# **Quesiton 1**\n",
        "\n",
        "Meta/Facebook has developed a new programing language called Hack.To measure the popularity of Hack they ran a survey with their employees.\n",
        "\n",
        "The survey included data on previous programing familiarity as well as the number of years of experience, age, gender and most importantly satisfaction with Hack.\n",
        "\n",
        "Due to an error location data was not collected, but your supervisor demands a report showing average popularity of Hack by office location.\n",
        "\n",
        "Luckily the user IDs of employees completing the surveys were stored.\n",
        "Based on the above, find the average popularity of the Hack per office location.\n",
        "\n",
        "Output the location along with the average popularity.\n",
        "\n",
        "**DataFrames:** facebook_employees, facebook_hack_survey\n",
        "\n"
      ],
      "metadata": {
        "id": "gwzpywxcZeLv"
      }
    },
    {
      "cell_type": "code",
      "source": [
        "# Generate data set\n",
        "import pandas as pd\n",
        "\n",
        "##\n",
        "data = {\n",
        "    'id': list(range(14)),\n",
        "    'location': ['USA', 'USA', 'USA', 'USA', 'USA', 'India', 'India', 'India', 'India', 'UK', 'UK', 'UK', 'Switzerland', 'Switzerland'],\n",
        "    'age': [24, 31, 29, 33, 36, 41, 44, 28, 24, 18, 21, 23, 30, 31],\n",
        "    'gender': ['M', 'F', 'F', 'M', 'F', 'F', 'F', 'F', 'M', 'M', 'M', 'F', 'F', 'M'],\n",
        "    'is_senior': [False, True, False, False, True, True, True, False, False, False, False, True, True, True]\n",
        "}\n",
        "\n",
        "facebook_employees = pd.DataFrame(data)\n",
        "print(facebook_employees.head())\n",
        "print(\"\\n\\n\")\n",
        "##\n",
        "\n",
        "employee_data = {\n",
        "    'employee_id': [0, 1, 2, 3, 4, 5, 6, 7, 8, 9, 10, 11, 12, 13, 66, 55, 17],\n",
        "    'age': [24, 31, 29, 33, 36, 41, 44, 28, 24, 18, 21, 23, 30, 31, 25, 35, 54],\n",
        "    'gender': ['M', 'F', 'F', 'M', 'F', 'F', 'F', 'F', 'M', 'M', 'M', 'F', 'F', 'M', 'F', 'M', 'M'],\n",
        "    'popularity': [6, 4, 0, 7, 6, 9, 7, 5, 9, 8, 1, 4, 2, 0, 5, 6, 9]\n",
        "}\n",
        "\n",
        "# create a pandas DataFrame from the dictionary\n",
        "facebook_hack_survey = pd.DataFrame(employee_data)\n",
        "\n",
        "# display the DataFrame\n",
        "print(facebook_hack_survey.head())\n",
        "\n"
      ],
      "metadata": {
        "colab": {
          "base_uri": "https://localhost:8080/"
        },
        "id": "OPAXkN3RbQbF",
        "outputId": "9d18c332-4773-4ea7-dbbc-23c0d0c8b163"
      },
      "execution_count": 2,
      "outputs": [
        {
          "output_type": "stream",
          "name": "stdout",
          "text": [
            "   id location  age gender  is_senior\n",
            "0   0      USA   24      M      False\n",
            "1   1      USA   31      F       True\n",
            "2   2      USA   29      F      False\n",
            "3   3      USA   33      M      False\n",
            "4   4      USA   36      F       True\n",
            "\n",
            "\n",
            "\n",
            "   employee_id  age gender  popularity\n",
            "0            0   24      M           6\n",
            "1            1   31      F           4\n",
            "2            2   29      F           0\n",
            "3            3   33      M           7\n",
            "4            4   36      F           6\n"
          ]
        }
      ]
    },
    {
      "cell_type": "markdown",
      "source": [
        "## **Solution:**"
      ],
      "metadata": {
        "id": "9HHD9E1jeHs9"
      }
    },
    {
      "cell_type": "code",
      "source": [
        "merged = pd.merge(facebook_employees,facebook_hack_survey, left_on = 'id', right_on = 'employee_id', how = 'inner')\n",
        "print(merged.head())\n",
        "print(\"\\n\\n\")\n",
        "\n",
        "result = merged.groupby(['location'])['popularity'].mean()#.reset_index()\n",
        "print(result)"
      ],
      "metadata": {
        "colab": {
          "base_uri": "https://localhost:8080/"
        },
        "id": "eEKGRNXvb3kk",
        "outputId": "f0070eb0-42e4-4531-9665-28887f873813"
      },
      "execution_count": 3,
      "outputs": [
        {
          "output_type": "stream",
          "name": "stdout",
          "text": [
            "   id location  age_x gender_x  is_senior  employee_id  age_y gender_y  \\\n",
            "0   0      USA     24        M      False            0     24        M   \n",
            "1   1      USA     31        F       True            1     31        F   \n",
            "2   2      USA     29        F      False            2     29        F   \n",
            "3   3      USA     33        M      False            3     33        M   \n",
            "4   4      USA     36        F       True            4     36        F   \n",
            "\n",
            "   popularity  \n",
            "0           6  \n",
            "1           4  \n",
            "2           0  \n",
            "3           7  \n",
            "4           6  \n",
            "\n",
            "\n",
            "\n",
            "location\n",
            "India          7.500000\n",
            "Switzerland    1.000000\n",
            "UK             4.333333\n",
            "USA            4.600000\n",
            "Name: popularity, dtype: float64\n"
          ]
        }
      ]
    },
    {
      "cell_type": "markdown",
      "source": [
        "# **Question 2**\n",
        "\n",
        "Find the job titles of the highest-paid employees.\n",
        "\n",
        "\n",
        "Your output should include the highest-paid title or multiple titles with the same salary.\n",
        "\n",
        "**DataFrames:** worker, title"
      ],
      "metadata": {
        "id": "AQ0hPFU-eNbW"
      }
    },
    {
      "cell_type": "code",
      "source": [
        "# Data set\n",
        "# create a dictionary of worker data\n",
        "worker_data = {\n",
        "    'worker_id': [1, 2, 3, 4, 5, 6, 7, 8, 9, 10, 11, 12],\n",
        "    'first_name': ['Monika', 'Niharika', 'Vishal', 'Amitah', 'Vivek', 'Vipul', 'Satish', 'Geetika', 'Agepi', 'Moe', 'Nayah', 'Jai'],\n",
        "    'last_name': ['Arora', 'Verma', 'Singhal', 'Singh', 'Bhati', 'Diwan', 'Kumar', 'Chauhan', 'Argon', 'Acharya', 'Laghari', 'Patel'],\n",
        "    'salary': [100000, 80000, 300000, 500000, 500000, 200000, 75000, 90000, 90000, 65000, 75000, 85000],\n",
        "    'joining_date': ['2014-02-20', '2014-06-11', '2014-02-20', '2014-02-20', '2014-06-11', '2014-06-11', '2014-01-20', '2014-04-11', '2015-04-10', '2015-04-11', '2014-03-20', '2014-03-21'],\n",
        "    'department': ['HR', 'Admin', 'HR', 'Admin', 'Admin', 'Account', 'Account', 'Admin', 'Admin', 'HR', 'Account', 'HR']\n",
        "}\n",
        "\n",
        "# create a pandas DataFrame from the dictionary\n",
        "worker = pd.DataFrame(worker_data)\n",
        "\n",
        "# display the DataFrame\n",
        "print(worker.head())\n",
        "print(\"\\n\\n\")\n",
        "\n",
        "\n",
        "# create a dictionary of worker reference data\n",
        "worker_ref_data = {\n",
        "    'worker_ref_id': [1, 2, 8, 5, 4, 7, 6, 3],\n",
        "    'worker_title': ['Manager', 'Executive', 'Executive', 'Manager', 'Asst. Manager', 'Executive', 'Lead', 'Lead'],\n",
        "    'affected_from': ['2016-02-20', '2016-06-11', '2016-06-11', '2016-06-11', '2016-06-11', '2016-06-11', '2016-06-11', '2016-06-11']\n",
        "}\n",
        "\n",
        "# create a pandas DataFrame from the dictionary\n",
        "title = pd.DataFrame(worker_ref_data)\n",
        "\n",
        "# display the DataFrame\n",
        "print(title.head())\n",
        "\n"
      ],
      "metadata": {
        "colab": {
          "base_uri": "https://localhost:8080/"
        },
        "id": "8BPOjpafe1NV",
        "outputId": "b0446b64-cc60-4a02-a0b3-92a841df5302"
      },
      "execution_count": 4,
      "outputs": [
        {
          "output_type": "stream",
          "name": "stdout",
          "text": [
            "   worker_id first_name last_name  salary joining_date department\n",
            "0          1     Monika     Arora  100000   2014-02-20         HR\n",
            "1          2   Niharika     Verma   80000   2014-06-11      Admin\n",
            "2          3     Vishal   Singhal  300000   2014-02-20         HR\n",
            "3          4     Amitah     Singh  500000   2014-02-20      Admin\n",
            "4          5      Vivek     Bhati  500000   2014-06-11      Admin\n",
            "\n",
            "\n",
            "\n",
            "   worker_ref_id   worker_title affected_from\n",
            "0              1        Manager    2016-02-20\n",
            "1              2      Executive    2016-06-11\n",
            "2              8      Executive    2016-06-11\n",
            "3              5        Manager    2016-06-11\n",
            "4              4  Asst. Manager    2016-06-11\n"
          ]
        }
      ]
    },
    {
      "cell_type": "markdown",
      "source": [
        "## **Solution**"
      ],
      "metadata": {
        "id": "me120vVGe7GS"
      }
    },
    {
      "cell_type": "code",
      "source": [
        "#title_worker_id = title.rename(columns={\"worker_ref_id\": \"worker_id\"})\n",
        "#merged_df = pd.merge(worker, title_worker_id, on=\"worker_id\")\n",
        "merged_df = pd.merge(worker, title, left_on=\"worker_id\", right_on = \"worker_ref_id\")\n",
        "print(merged_df)\n",
        "print(\"\\n\\n\")\n",
        "\n",
        "max_salary = merged_df[merged_df[\"salary\"] == merged_df[\"salary\"].max()][\n",
        "    [\"worker_title\"]\n",
        "]#.rename(columns={\"worker_title\": \"best_paid_title\"})\n",
        "\n",
        "\n",
        "print(max_salary)"
      ],
      "metadata": {
        "colab": {
          "base_uri": "https://localhost:8080/"
        },
        "id": "4opJ5A6Ie-GG",
        "outputId": "1c37ca97-66db-45ca-c1b5-fa4218cb4fe3"
      },
      "execution_count": 5,
      "outputs": [
        {
          "output_type": "stream",
          "name": "stdout",
          "text": [
            "   worker_id first_name last_name  salary joining_date department  \\\n",
            "0          1     Monika     Arora  100000   2014-02-20         HR   \n",
            "1          2   Niharika     Verma   80000   2014-06-11      Admin   \n",
            "2          3     Vishal   Singhal  300000   2014-02-20         HR   \n",
            "3          4     Amitah     Singh  500000   2014-02-20      Admin   \n",
            "4          5      Vivek     Bhati  500000   2014-06-11      Admin   \n",
            "5          6      Vipul     Diwan  200000   2014-06-11    Account   \n",
            "6          7     Satish     Kumar   75000   2014-01-20    Account   \n",
            "7          8    Geetika   Chauhan   90000   2014-04-11      Admin   \n",
            "\n",
            "   worker_ref_id   worker_title affected_from  \n",
            "0              1        Manager    2016-02-20  \n",
            "1              2      Executive    2016-06-11  \n",
            "2              3           Lead    2016-06-11  \n",
            "3              4  Asst. Manager    2016-06-11  \n",
            "4              5        Manager    2016-06-11  \n",
            "5              6           Lead    2016-06-11  \n",
            "6              7      Executive    2016-06-11  \n",
            "7              8      Executive    2016-06-11  \n",
            "\n",
            "\n",
            "\n",
            "    worker_title\n",
            "3  Asst. Manager\n",
            "4        Manager\n"
          ]
        }
      ]
    },
    {
      "cell_type": "markdown",
      "source": [
        "# **Questions 3**\n",
        "\n",
        "Find the total AdWords earnings for each business type.\n",
        "\n",
        "Output the business types along with the total earnings.\n",
        "\n",
        "**DataFrame:** google_adwords_earnings"
      ],
      "metadata": {
        "id": "7G89SGecgsD_"
      }
    },
    {
      "cell_type": "code",
      "source": [
        "\n",
        "# create a dictionary of business data\n",
        "business_data = {\n",
        "    'business_type': ['handyman', 'handyman', 'media', 'handyman', 'handyman', 'handyman', 'handyman', 'transport', 'handyman', 'handyman', 'handyman', 'handyman', 'handyman', 'handyman', 'handyman', 'media', 'transport', 'transport', 'media', 'handyman'],\n",
        "    'n_employees': [2, 10, 10000, 5000, 2, 10, 1500, 3200, 10, 2, 10, 2, 5, 10, 7, 10000, 3200, 10000, 3200, 3],\n",
        "    'year': [2018, 2018, 2018, 2018, 2018, 2018, 2018, 2018, 2018, 2018, 2019, 2020, 2018, 2019, 2020, 2019, 2019, 2019, 2019, 2019],\n",
        "    'adwords_earnings': [81, 110, 123456789, 1001001, 150, 87, 5040032, 7865490, 55, 130, 80, 16, 130, 55, 182, 123456789, 1001001, 123456789, 1001001, 78]\n",
        "}\n",
        "\n",
        "# create a pandas DataFrame from the dictionary\n",
        "google_adwords_earnings = pd.DataFrame(business_data)\n",
        "\n",
        "# display the DataFrame\n",
        "print(google_adwords_earnings.head())\n"
      ],
      "metadata": {
        "colab": {
          "base_uri": "https://localhost:8080/"
        },
        "id": "V4Rkm8FXhI5T",
        "outputId": "1962d6dd-1a2b-48ee-92af-729b3f9970a2"
      },
      "execution_count": 6,
      "outputs": [
        {
          "output_type": "stream",
          "name": "stdout",
          "text": [
            "  business_type  n_employees  year  adwords_earnings\n",
            "0      handyman            2  2018                81\n",
            "1      handyman           10  2018               110\n",
            "2         media        10000  2018         123456789\n",
            "3      handyman         5000  2018           1001001\n",
            "4      handyman            2  2018               150\n"
          ]
        }
      ]
    },
    {
      "cell_type": "markdown",
      "source": [
        "## **Solution**"
      ],
      "metadata": {
        "id": "TDKEamTuhKsa"
      }
    },
    {
      "cell_type": "code",
      "source": [
        "result = google_adwords_earnings.groupby(['business_type'])['adwords_earnings'].sum().reset_index()\n",
        "\n",
        "print(result)"
      ],
      "metadata": {
        "colab": {
          "base_uri": "https://localhost:8080/"
        },
        "id": "B1GXOKZMhOam",
        "outputId": "92b2bebe-c6ab-40a9-acfc-62d1812e58fa"
      },
      "execution_count": 7,
      "outputs": [
        {
          "output_type": "stream",
          "name": "stdout",
          "text": [
            "  business_type  adwords_earnings\n",
            "0      handyman           6042187\n",
            "1         media         247914579\n",
            "2     transport         132323280\n"
          ]
        }
      ]
    },
    {
      "cell_type": "markdown",
      "source": [
        "# **Question 4**\n",
        "\n",
        "We have a table with employees and their salaries, however, some of the records are old and contain outdated salary information.\n",
        "\n",
        "Find the current salary of each employee **assuming that salaries increase each year.**\n",
        "\n",
        "Output their id, first name, last name, department ID, and current salary. Order your list by employee ID in ascending order.\n",
        "\n",
        "**DataFrame:** ms_employee_salary"
      ],
      "metadata": {
        "id": "504NZzfbhlSY"
      }
    },
    {
      "cell_type": "code",
      "source": [
        "# Data set\n",
        "ms_employee_salary = pd.read_csv(\"https://github.com/statrliu/ds_datasets/raw/main/ms_employee_salary.csv\")\n",
        "\n",
        "print(ms_employee_salary.head())"
      ],
      "metadata": {
        "colab": {
          "base_uri": "https://localhost:8080/"
        },
        "id": "f_CCczYGhnyE",
        "outputId": "6cb11130-11b5-423b-adcb-3464f7cc75ec"
      },
      "execution_count": 8,
      "outputs": [
        {
          "output_type": "stream",
          "name": "stdout",
          "text": [
            "   id first_name last_name  salary  department_id\n",
            "0   1       Todd    Wilson  110000           1006\n",
            "1   1       Todd    Wilson  106119           1006\n",
            "2   2     Justin     Simon  128922           1005\n",
            "3   2     Justin     Simon  130000           1005\n",
            "4   3      Kelly   Rosario   42689           1002\n"
          ]
        }
      ]
    },
    {
      "cell_type": "markdown",
      "source": [
        "## **Solution**"
      ],
      "metadata": {
        "id": "uyrjplILhoQW"
      }
    },
    {
      "cell_type": "code",
      "source": [
        "result = ms_employee_salary.groupby(['id','first_name','last_name','department_id'])['salary'].max().reset_index().sort_values('id')\n",
        "result"
      ],
      "metadata": {
        "colab": {
          "base_uri": "https://localhost:8080/",
          "height": 424
        },
        "id": "CP9smeN5WNrZ",
        "outputId": "b134d487-3fce-4d1e-c52e-3b9f2e6e33f6"
      },
      "execution_count": 9,
      "outputs": [
        {
          "output_type": "execute_result",
          "data": {
            "text/plain": [
              "    id first_name last_name  department_id  salary\n",
              "0    1       Todd    Wilson           1006  110000\n",
              "1    2     Justin     Simon           1005  130000\n",
              "2    3      Kelly   Rosario           1002   42689\n",
              "3    4   Patricia    Powell           1004  170000\n",
              "4    5     Sherry    Golden           1002   44101\n",
              "..  ..        ...       ...            ...     ...\n",
              "70  71   Kristine     Casey           1003   67651\n",
              "71  72  Christine      Frye           1004  137244\n",
              "72  73    William   Preston           1003  155225\n",
              "73  74    Richard      Cole           1003  180361\n",
              "74  75      Julia     Ramos           1006  105000\n",
              "\n",
              "[75 rows x 5 columns]"
            ],
            "text/html": [
              "\n",
              "  <div id=\"df-8e112866-2784-4469-aef1-42b212a2a8ac\" class=\"colab-df-container\">\n",
              "    <div>\n",
              "<style scoped>\n",
              "    .dataframe tbody tr th:only-of-type {\n",
              "        vertical-align: middle;\n",
              "    }\n",
              "\n",
              "    .dataframe tbody tr th {\n",
              "        vertical-align: top;\n",
              "    }\n",
              "\n",
              "    .dataframe thead th {\n",
              "        text-align: right;\n",
              "    }\n",
              "</style>\n",
              "<table border=\"1\" class=\"dataframe\">\n",
              "  <thead>\n",
              "    <tr style=\"text-align: right;\">\n",
              "      <th></th>\n",
              "      <th>id</th>\n",
              "      <th>first_name</th>\n",
              "      <th>last_name</th>\n",
              "      <th>department_id</th>\n",
              "      <th>salary</th>\n",
              "    </tr>\n",
              "  </thead>\n",
              "  <tbody>\n",
              "    <tr>\n",
              "      <th>0</th>\n",
              "      <td>1</td>\n",
              "      <td>Todd</td>\n",
              "      <td>Wilson</td>\n",
              "      <td>1006</td>\n",
              "      <td>110000</td>\n",
              "    </tr>\n",
              "    <tr>\n",
              "      <th>1</th>\n",
              "      <td>2</td>\n",
              "      <td>Justin</td>\n",
              "      <td>Simon</td>\n",
              "      <td>1005</td>\n",
              "      <td>130000</td>\n",
              "    </tr>\n",
              "    <tr>\n",
              "      <th>2</th>\n",
              "      <td>3</td>\n",
              "      <td>Kelly</td>\n",
              "      <td>Rosario</td>\n",
              "      <td>1002</td>\n",
              "      <td>42689</td>\n",
              "    </tr>\n",
              "    <tr>\n",
              "      <th>3</th>\n",
              "      <td>4</td>\n",
              "      <td>Patricia</td>\n",
              "      <td>Powell</td>\n",
              "      <td>1004</td>\n",
              "      <td>170000</td>\n",
              "    </tr>\n",
              "    <tr>\n",
              "      <th>4</th>\n",
              "      <td>5</td>\n",
              "      <td>Sherry</td>\n",
              "      <td>Golden</td>\n",
              "      <td>1002</td>\n",
              "      <td>44101</td>\n",
              "    </tr>\n",
              "    <tr>\n",
              "      <th>...</th>\n",
              "      <td>...</td>\n",
              "      <td>...</td>\n",
              "      <td>...</td>\n",
              "      <td>...</td>\n",
              "      <td>...</td>\n",
              "    </tr>\n",
              "    <tr>\n",
              "      <th>70</th>\n",
              "      <td>71</td>\n",
              "      <td>Kristine</td>\n",
              "      <td>Casey</td>\n",
              "      <td>1003</td>\n",
              "      <td>67651</td>\n",
              "    </tr>\n",
              "    <tr>\n",
              "      <th>71</th>\n",
              "      <td>72</td>\n",
              "      <td>Christine</td>\n",
              "      <td>Frye</td>\n",
              "      <td>1004</td>\n",
              "      <td>137244</td>\n",
              "    </tr>\n",
              "    <tr>\n",
              "      <th>72</th>\n",
              "      <td>73</td>\n",
              "      <td>William</td>\n",
              "      <td>Preston</td>\n",
              "      <td>1003</td>\n",
              "      <td>155225</td>\n",
              "    </tr>\n",
              "    <tr>\n",
              "      <th>73</th>\n",
              "      <td>74</td>\n",
              "      <td>Richard</td>\n",
              "      <td>Cole</td>\n",
              "      <td>1003</td>\n",
              "      <td>180361</td>\n",
              "    </tr>\n",
              "    <tr>\n",
              "      <th>74</th>\n",
              "      <td>75</td>\n",
              "      <td>Julia</td>\n",
              "      <td>Ramos</td>\n",
              "      <td>1006</td>\n",
              "      <td>105000</td>\n",
              "    </tr>\n",
              "  </tbody>\n",
              "</table>\n",
              "<p>75 rows × 5 columns</p>\n",
              "</div>\n",
              "    <div class=\"colab-df-buttons\">\n",
              "\n",
              "  <div class=\"colab-df-container\">\n",
              "    <button class=\"colab-df-convert\" onclick=\"convertToInteractive('df-8e112866-2784-4469-aef1-42b212a2a8ac')\"\n",
              "            title=\"Convert this dataframe to an interactive table.\"\n",
              "            style=\"display:none;\">\n",
              "\n",
              "  <svg xmlns=\"http://www.w3.org/2000/svg\" height=\"24px\" viewBox=\"0 -960 960 960\">\n",
              "    <path d=\"M120-120v-720h720v720H120Zm60-500h600v-160H180v160Zm220 220h160v-160H400v160Zm0 220h160v-160H400v160ZM180-400h160v-160H180v160Zm440 0h160v-160H620v160ZM180-180h160v-160H180v160Zm440 0h160v-160H620v160Z\"/>\n",
              "  </svg>\n",
              "    </button>\n",
              "\n",
              "  <style>\n",
              "    .colab-df-container {\n",
              "      display:flex;\n",
              "      gap: 12px;\n",
              "    }\n",
              "\n",
              "    .colab-df-convert {\n",
              "      background-color: #E8F0FE;\n",
              "      border: none;\n",
              "      border-radius: 50%;\n",
              "      cursor: pointer;\n",
              "      display: none;\n",
              "      fill: #1967D2;\n",
              "      height: 32px;\n",
              "      padding: 0 0 0 0;\n",
              "      width: 32px;\n",
              "    }\n",
              "\n",
              "    .colab-df-convert:hover {\n",
              "      background-color: #E2EBFA;\n",
              "      box-shadow: 0px 1px 2px rgba(60, 64, 67, 0.3), 0px 1px 3px 1px rgba(60, 64, 67, 0.15);\n",
              "      fill: #174EA6;\n",
              "    }\n",
              "\n",
              "    .colab-df-buttons div {\n",
              "      margin-bottom: 4px;\n",
              "    }\n",
              "\n",
              "    [theme=dark] .colab-df-convert {\n",
              "      background-color: #3B4455;\n",
              "      fill: #D2E3FC;\n",
              "    }\n",
              "\n",
              "    [theme=dark] .colab-df-convert:hover {\n",
              "      background-color: #434B5C;\n",
              "      box-shadow: 0px 1px 3px 1px rgba(0, 0, 0, 0.15);\n",
              "      filter: drop-shadow(0px 1px 2px rgba(0, 0, 0, 0.3));\n",
              "      fill: #FFFFFF;\n",
              "    }\n",
              "  </style>\n",
              "\n",
              "    <script>\n",
              "      const buttonEl =\n",
              "        document.querySelector('#df-8e112866-2784-4469-aef1-42b212a2a8ac button.colab-df-convert');\n",
              "      buttonEl.style.display =\n",
              "        google.colab.kernel.accessAllowed ? 'block' : 'none';\n",
              "\n",
              "      async function convertToInteractive(key) {\n",
              "        const element = document.querySelector('#df-8e112866-2784-4469-aef1-42b212a2a8ac');\n",
              "        const dataTable =\n",
              "          await google.colab.kernel.invokeFunction('convertToInteractive',\n",
              "                                                    [key], {});\n",
              "        if (!dataTable) return;\n",
              "\n",
              "        const docLinkHtml = 'Like what you see? Visit the ' +\n",
              "          '<a target=\"_blank\" href=https://colab.research.google.com/notebooks/data_table.ipynb>data table notebook</a>'\n",
              "          + ' to learn more about interactive tables.';\n",
              "        element.innerHTML = '';\n",
              "        dataTable['output_type'] = 'display_data';\n",
              "        await google.colab.output.renderOutput(dataTable, element);\n",
              "        const docLink = document.createElement('div');\n",
              "        docLink.innerHTML = docLinkHtml;\n",
              "        element.appendChild(docLink);\n",
              "      }\n",
              "    </script>\n",
              "  </div>\n",
              "\n",
              "\n",
              "<div id=\"df-fb5b35e0-2b4f-4ccf-875d-4a171916a86c\">\n",
              "  <button class=\"colab-df-quickchart\" onclick=\"quickchart('df-fb5b35e0-2b4f-4ccf-875d-4a171916a86c')\"\n",
              "            title=\"Suggest charts.\"\n",
              "            style=\"display:none;\">\n",
              "\n",
              "<svg xmlns=\"http://www.w3.org/2000/svg\" height=\"24px\"viewBox=\"0 0 24 24\"\n",
              "     width=\"24px\">\n",
              "    <g>\n",
              "        <path d=\"M19 3H5c-1.1 0-2 .9-2 2v14c0 1.1.9 2 2 2h14c1.1 0 2-.9 2-2V5c0-1.1-.9-2-2-2zM9 17H7v-7h2v7zm4 0h-2V7h2v10zm4 0h-2v-4h2v4z\"/>\n",
              "    </g>\n",
              "</svg>\n",
              "  </button>\n",
              "\n",
              "<style>\n",
              "  .colab-df-quickchart {\n",
              "      --bg-color: #E8F0FE;\n",
              "      --fill-color: #1967D2;\n",
              "      --hover-bg-color: #E2EBFA;\n",
              "      --hover-fill-color: #174EA6;\n",
              "      --disabled-fill-color: #AAA;\n",
              "      --disabled-bg-color: #DDD;\n",
              "  }\n",
              "\n",
              "  [theme=dark] .colab-df-quickchart {\n",
              "      --bg-color: #3B4455;\n",
              "      --fill-color: #D2E3FC;\n",
              "      --hover-bg-color: #434B5C;\n",
              "      --hover-fill-color: #FFFFFF;\n",
              "      --disabled-bg-color: #3B4455;\n",
              "      --disabled-fill-color: #666;\n",
              "  }\n",
              "\n",
              "  .colab-df-quickchart {\n",
              "    background-color: var(--bg-color);\n",
              "    border: none;\n",
              "    border-radius: 50%;\n",
              "    cursor: pointer;\n",
              "    display: none;\n",
              "    fill: var(--fill-color);\n",
              "    height: 32px;\n",
              "    padding: 0;\n",
              "    width: 32px;\n",
              "  }\n",
              "\n",
              "  .colab-df-quickchart:hover {\n",
              "    background-color: var(--hover-bg-color);\n",
              "    box-shadow: 0 1px 2px rgba(60, 64, 67, 0.3), 0 1px 3px 1px rgba(60, 64, 67, 0.15);\n",
              "    fill: var(--button-hover-fill-color);\n",
              "  }\n",
              "\n",
              "  .colab-df-quickchart-complete:disabled,\n",
              "  .colab-df-quickchart-complete:disabled:hover {\n",
              "    background-color: var(--disabled-bg-color);\n",
              "    fill: var(--disabled-fill-color);\n",
              "    box-shadow: none;\n",
              "  }\n",
              "\n",
              "  .colab-df-spinner {\n",
              "    border: 2px solid var(--fill-color);\n",
              "    border-color: transparent;\n",
              "    border-bottom-color: var(--fill-color);\n",
              "    animation:\n",
              "      spin 1s steps(1) infinite;\n",
              "  }\n",
              "\n",
              "  @keyframes spin {\n",
              "    0% {\n",
              "      border-color: transparent;\n",
              "      border-bottom-color: var(--fill-color);\n",
              "      border-left-color: var(--fill-color);\n",
              "    }\n",
              "    20% {\n",
              "      border-color: transparent;\n",
              "      border-left-color: var(--fill-color);\n",
              "      border-top-color: var(--fill-color);\n",
              "    }\n",
              "    30% {\n",
              "      border-color: transparent;\n",
              "      border-left-color: var(--fill-color);\n",
              "      border-top-color: var(--fill-color);\n",
              "      border-right-color: var(--fill-color);\n",
              "    }\n",
              "    40% {\n",
              "      border-color: transparent;\n",
              "      border-right-color: var(--fill-color);\n",
              "      border-top-color: var(--fill-color);\n",
              "    }\n",
              "    60% {\n",
              "      border-color: transparent;\n",
              "      border-right-color: var(--fill-color);\n",
              "    }\n",
              "    80% {\n",
              "      border-color: transparent;\n",
              "      border-right-color: var(--fill-color);\n",
              "      border-bottom-color: var(--fill-color);\n",
              "    }\n",
              "    90% {\n",
              "      border-color: transparent;\n",
              "      border-bottom-color: var(--fill-color);\n",
              "    }\n",
              "  }\n",
              "</style>\n",
              "\n",
              "  <script>\n",
              "    async function quickchart(key) {\n",
              "      const quickchartButtonEl =\n",
              "        document.querySelector('#' + key + ' button');\n",
              "      quickchartButtonEl.disabled = true;  // To prevent multiple clicks.\n",
              "      quickchartButtonEl.classList.add('colab-df-spinner');\n",
              "      try {\n",
              "        const charts = await google.colab.kernel.invokeFunction(\n",
              "            'suggestCharts', [key], {});\n",
              "      } catch (error) {\n",
              "        console.error('Error during call to suggestCharts:', error);\n",
              "      }\n",
              "      quickchartButtonEl.classList.remove('colab-df-spinner');\n",
              "      quickchartButtonEl.classList.add('colab-df-quickchart-complete');\n",
              "    }\n",
              "    (() => {\n",
              "      let quickchartButtonEl =\n",
              "        document.querySelector('#df-fb5b35e0-2b4f-4ccf-875d-4a171916a86c button');\n",
              "      quickchartButtonEl.style.display =\n",
              "        google.colab.kernel.accessAllowed ? 'block' : 'none';\n",
              "    })();\n",
              "  </script>\n",
              "</div>\n",
              "    </div>\n",
              "  </div>\n"
            ]
          },
          "metadata": {},
          "execution_count": 9
        }
      ]
    },
    {
      "cell_type": "code",
      "source": [
        "result = ms_employee_salary.groupby(['id','first_name','last_name','department_id'])['salary'].max().reset_index().sort_values('id')\n",
        "result1 = ms_employee_salary.groupby(['id'])['salary'].max().reset_index().sort_values('id')\n",
        "\n",
        "\n",
        "print(result)\n",
        "print(\"\\n\\n\")\n",
        "\n",
        "print(result1)\n",
        "print(\"\\n\\n\")\n",
        "\n",
        "print(result.salary.equals(result1.salary)) # use equals() method to compare two Series/DataFrames"
      ],
      "metadata": {
        "colab": {
          "base_uri": "https://localhost:8080/"
        },
        "id": "cMd2T13vhqi4",
        "outputId": "2a544487-1a52-499c-9c96-c6a9dc5241ba"
      },
      "execution_count": 10,
      "outputs": [
        {
          "output_type": "stream",
          "name": "stdout",
          "text": [
            "    id first_name last_name  department_id  salary\n",
            "0    1       Todd    Wilson           1006  110000\n",
            "1    2     Justin     Simon           1005  130000\n",
            "2    3      Kelly   Rosario           1002   42689\n",
            "3    4   Patricia    Powell           1004  170000\n",
            "4    5     Sherry    Golden           1002   44101\n",
            "..  ..        ...       ...            ...     ...\n",
            "70  71   Kristine     Casey           1003   67651\n",
            "71  72  Christine      Frye           1004  137244\n",
            "72  73    William   Preston           1003  155225\n",
            "73  74    Richard      Cole           1003  180361\n",
            "74  75      Julia     Ramos           1006  105000\n",
            "\n",
            "[75 rows x 5 columns]\n",
            "\n",
            "\n",
            "\n",
            "    id  salary\n",
            "0    1  110000\n",
            "1    2  130000\n",
            "2    3   42689\n",
            "3    4  170000\n",
            "4    5   44101\n",
            "..  ..     ...\n",
            "70  71   67651\n",
            "71  72  137244\n",
            "72  73  155225\n",
            "73  74  180361\n",
            "74  75  105000\n",
            "\n",
            "[75 rows x 2 columns]\n",
            "\n",
            "\n",
            "\n",
            "True\n"
          ]
        }
      ]
    },
    {
      "cell_type": "markdown",
      "source": [
        "# **Question 5**\n",
        "\n",
        "Find the price of the cheapest property for every city.\n",
        "\n",
        "**DataFrame:** airbnb_search_details"
      ],
      "metadata": {
        "id": "SSiTKSrbj7Ro"
      }
    },
    {
      "cell_type": "code",
      "source": [
        "# Data\n",
        "airbnb_search_details = pd.read_csv(\"https://github.com/statrliu/ds_datasets/raw/main/airbnb_search_details.csv\")\n",
        "\n",
        "print(airbnb_search_details.head())"
      ],
      "metadata": {
        "colab": {
          "base_uri": "https://localhost:8080/"
        },
        "id": "aadGaLupkAmb",
        "outputId": "c1b1bcef-4261-42b6-cba4-35e5b097c223"
      },
      "execution_count": 11,
      "outputs": [
        {
          "output_type": "stream",
          "name": "stdout",
          "text": [
            "   Unnamed: 0        id   price property_type        room_type  \\\n",
            "0           0  12513361  555.68     Apartment  Entire home/apt   \n",
            "1           1   7196412  366.36         Cabin     Private room   \n",
            "2           2  16333776  482.83         House     Private room   \n",
            "3           3   1786412  448.86     Apartment     Private room   \n",
            "4           4  14575777  506.89         Villa     Private room   \n",
            "\n",
            "                                           amenities  accommodates  bathrooms  \\\n",
            "0  {TV,\"Wireless Internet\",\"Air conditioning\",\"Sm...             2          1   \n",
            "1  {\"Wireless Internet\",Kitchen,Washer,Dryer,\"Smo...             2          3   \n",
            "2  {TV,\"Cable TV\",Internet,\"Wireless Internet\",Ki...             2          1   \n",
            "3  {\"Wireless Internet\",\"Air conditioning\",Kitche...             2          1   \n",
            "4  {TV,Internet,\"Wireless Internet\",\"Air conditio...             6          2   \n",
            "\n",
            "   bed_type cancellation_policy  ...  city host_identity_verified  \\\n",
            "0  Real Bed            flexible  ...   NYC                      t   \n",
            "1  Real Bed            moderate  ...    LA                      f   \n",
            "2  Real Bed              strict  ...    SF                      t   \n",
            "3  Real Bed              strict  ...   NYC                      t   \n",
            "4  Real Bed              strict  ...    LA                      t   \n",
            "\n",
            "  host_response_rate          host_since      neighbourhood number_of_reviews  \\\n",
            "0                89%  2015-11-18 0:00:00        East Harlem                 3   \n",
            "1               100%  2016-09-10 0:00:00        Valley Glen                14   \n",
            "2               100%  2013-12-26 0:00:00  Richmond District               117   \n",
            "3                93%  2010-05-11 0:00:00       Williamsburg                 8   \n",
            "4                70%  2015-10-22 0:00:00                NaN                 2   \n",
            "\n",
            "   review_scores_rating  zipcode  bedrooms  beds  \n",
            "0                  87.0    10029         0     1  \n",
            "1                  91.0    91606         1     1  \n",
            "2                  96.0    94118         1     1  \n",
            "3                  86.0    11211         1     1  \n",
            "4                 100.0    90703         3     3  \n",
            "\n",
            "[5 rows x 21 columns]\n"
          ]
        }
      ]
    },
    {
      "cell_type": "markdown",
      "source": [
        "## **Solution**"
      ],
      "metadata": {
        "id": "-Pp0zgdCj-Ov"
      }
    },
    {
      "cell_type": "code",
      "source": [
        "cheapest_property = airbnb_search_details.groupby(['city'])['price'].min().reset_index()[['city','price']]\n",
        "result = cheapest_property.rename(columns={\"price\": \"min_price\"})\n",
        "\n",
        "print(result)\n",
        "# airbnb_search_details.groupby(['city']).apply(lambda df: df[df['price'] == df[\"price\"].min()])"
      ],
      "metadata": {
        "colab": {
          "base_uri": "https://localhost:8080/"
        },
        "id": "4UEm-3cSj96C",
        "outputId": "7f60df06-7678-4f70-cb69-a19ef9fc44f9"
      },
      "execution_count": 12,
      "outputs": [
        {
          "output_type": "stream",
          "name": "stdout",
          "text": [
            "      city  min_price\n",
            "0   Boston     385.01\n",
            "1  Chicago     487.52\n",
            "2       DC     417.44\n",
            "3       LA     270.81\n",
            "4      NYC     340.12\n",
            "5       SF     424.85\n"
          ]
        }
      ]
    },
    {
      "cell_type": "markdown",
      "source": [
        "# **Question 6**\n",
        "\n",
        "Find the average number of bathrooms and bedrooms for each city’s property types.\n",
        "\n",
        "Output the result along with the city name and the property type.\n",
        "\n",
        "**DataFrame:** airbnb_search_details"
      ],
      "metadata": {
        "id": "VmiZfiwYlqxh"
      }
    },
    {
      "cell_type": "code",
      "source": [
        "# Data\n",
        "import pandas as pd\n",
        "airbnb_search_details = pd.read_csv(\"https://github.com/statrliu/ds_datasets/raw/main/airbnb_search_details.csv\")\n",
        "\n",
        "print(airbnb_search_details.head())"
      ],
      "metadata": {
        "colab": {
          "base_uri": "https://localhost:8080/"
        },
        "id": "jArY_VCil53I",
        "outputId": "f4cb9047-ef5f-4604-ccc9-88f6908e36ec"
      },
      "execution_count": 13,
      "outputs": [
        {
          "output_type": "stream",
          "name": "stdout",
          "text": [
            "   Unnamed: 0        id   price property_type        room_type  \\\n",
            "0           0  12513361  555.68     Apartment  Entire home/apt   \n",
            "1           1   7196412  366.36         Cabin     Private room   \n",
            "2           2  16333776  482.83         House     Private room   \n",
            "3           3   1786412  448.86     Apartment     Private room   \n",
            "4           4  14575777  506.89         Villa     Private room   \n",
            "\n",
            "                                           amenities  accommodates  bathrooms  \\\n",
            "0  {TV,\"Wireless Internet\",\"Air conditioning\",\"Sm...             2          1   \n",
            "1  {\"Wireless Internet\",Kitchen,Washer,Dryer,\"Smo...             2          3   \n",
            "2  {TV,\"Cable TV\",Internet,\"Wireless Internet\",Ki...             2          1   \n",
            "3  {\"Wireless Internet\",\"Air conditioning\",Kitche...             2          1   \n",
            "4  {TV,Internet,\"Wireless Internet\",\"Air conditio...             6          2   \n",
            "\n",
            "   bed_type cancellation_policy  ...  city host_identity_verified  \\\n",
            "0  Real Bed            flexible  ...   NYC                      t   \n",
            "1  Real Bed            moderate  ...    LA                      f   \n",
            "2  Real Bed              strict  ...    SF                      t   \n",
            "3  Real Bed              strict  ...   NYC                      t   \n",
            "4  Real Bed              strict  ...    LA                      t   \n",
            "\n",
            "  host_response_rate          host_since      neighbourhood number_of_reviews  \\\n",
            "0                89%  2015-11-18 0:00:00        East Harlem                 3   \n",
            "1               100%  2016-09-10 0:00:00        Valley Glen                14   \n",
            "2               100%  2013-12-26 0:00:00  Richmond District               117   \n",
            "3                93%  2010-05-11 0:00:00       Williamsburg                 8   \n",
            "4                70%  2015-10-22 0:00:00                NaN                 2   \n",
            "\n",
            "   review_scores_rating  zipcode  bedrooms  beds  \n",
            "0                  87.0    10029         0     1  \n",
            "1                  91.0    91606         1     1  \n",
            "2                  96.0    94118         1     1  \n",
            "3                  86.0    11211         1     1  \n",
            "4                 100.0    90703         3     3  \n",
            "\n",
            "[5 rows x 21 columns]\n"
          ]
        }
      ]
    },
    {
      "cell_type": "code",
      "source": [
        "airbnb_search_details.info()"
      ],
      "metadata": {
        "colab": {
          "base_uri": "https://localhost:8080/"
        },
        "id": "phXXuqqNYcAP",
        "outputId": "f94b1bd3-5d9e-4228-e589-9618f3c1fa75"
      },
      "execution_count": 14,
      "outputs": [
        {
          "output_type": "stream",
          "name": "stdout",
          "text": [
            "<class 'pandas.core.frame.DataFrame'>\n",
            "RangeIndex: 160 entries, 0 to 159\n",
            "Data columns (total 21 columns):\n",
            " #   Column                  Non-Null Count  Dtype  \n",
            "---  ------                  --------------  -----  \n",
            " 0   Unnamed: 0              160 non-null    int64  \n",
            " 1   id                      160 non-null    int64  \n",
            " 2   price                   160 non-null    float64\n",
            " 3   property_type           160 non-null    object \n",
            " 4   room_type               160 non-null    object \n",
            " 5   amenities               160 non-null    object \n",
            " 6   accommodates            160 non-null    int64  \n",
            " 7   bathrooms               160 non-null    int64  \n",
            " 8   bed_type                160 non-null    object \n",
            " 9   cancellation_policy     160 non-null    object \n",
            " 10  cleaning_fee            160 non-null    bool   \n",
            " 11  city                    160 non-null    object \n",
            " 12  host_identity_verified  160 non-null    object \n",
            " 13  host_response_rate      128 non-null    object \n",
            " 14  host_since              160 non-null    object \n",
            " 15  neighbourhood           145 non-null    object \n",
            " 16  number_of_reviews       160 non-null    int64  \n",
            " 17  review_scores_rating    123 non-null    float64\n",
            " 18  zipcode                 160 non-null    int64  \n",
            " 19  bedrooms                160 non-null    int64  \n",
            " 20  beds                    160 non-null    int64  \n",
            "dtypes: bool(1), float64(2), int64(8), object(10)\n",
            "memory usage: 25.3+ KB\n"
          ]
        }
      ]
    },
    {
      "cell_type": "markdown",
      "source": [
        "## **Solution:**"
      ],
      "metadata": {
        "id": "1fIcfa7ml6of"
      }
    },
    {
      "cell_type": "code",
      "source": [
        "result = airbnb_search_details.groupby(['city','property_type'])['bedrooms','bathrooms'].mean()\n",
        "print(result.head())\n",
        "print(\"\\n\\n\")\n",
        "\n",
        "result = result.rename(columns={\"reset_index().bedrooms\": \"n_bedrooms_avg\", \"bathrooms\": \"n_bathrooms_avg\"})\n",
        "\n",
        "print(result)\n"
      ],
      "metadata": {
        "colab": {
          "base_uri": "https://localhost:8080/"
        },
        "id": "HtPC7Zm8l9Zu",
        "outputId": "3dcf350b-2bf3-4dbc-a461-444f32d3ce37"
      },
      "execution_count": 15,
      "outputs": [
        {
          "output_type": "stream",
          "name": "stdout",
          "text": [
            "                       bedrooms  bathrooms\n",
            "city    property_type                     \n",
            "Boston  Apartment           1.0        1.0\n",
            "        Condominium         2.0        2.0\n",
            "        House               1.0        1.0\n",
            "Chicago Apartment           2.0        2.0\n",
            "        Condominium         2.0        2.0\n",
            "\n",
            "\n",
            "\n",
            "                       bedrooms  n_bathrooms_avg\n",
            "city    property_type                           \n",
            "Boston  Apartment      1.000000         1.000000\n",
            "        Condominium    2.000000         2.000000\n",
            "        House          1.000000         1.000000\n",
            "Chicago Apartment      2.000000         2.000000\n",
            "        Condominium    2.000000         2.000000\n",
            "        House          3.000000         2.000000\n",
            "DC      House          1.000000         1.000000\n",
            "LA      Apartment      1.142857         1.142857\n",
            "        Bungalow       0.000000         1.000000\n",
            "        Cabin          1.000000         3.000000\n",
            "        Condominium    1.500000         1.500000\n",
            "        House          1.558824         1.500000\n",
            "        Loft           0.000000         1.000000\n",
            "        Other          1.000000         1.000000\n",
            "        Townhouse      3.000000         2.000000\n",
            "        Villa          2.533333         2.066667\n",
            "NYC     Apartment      1.250000         1.116667\n",
            "        Condominium    1.333333         1.000000\n",
            "        House          1.800000         1.400000\n",
            "        Loft           0.500000         1.000000\n",
            "        Townhouse      0.000000         1.000000\n",
            "SF      Apartment      2.000000         1.000000\n",
            "        House          1.800000         1.400000\n"
          ]
        },
        {
          "output_type": "stream",
          "name": "stderr",
          "text": [
            "<ipython-input-15-eb38bc2c13a0>:1: FutureWarning: Indexing with multiple keys (implicitly converted to a tuple of keys) will be deprecated, use a list instead.\n",
            "  result = airbnb_search_details.groupby(['city','property_type'])['bedrooms','bathrooms'].mean()\n"
          ]
        }
      ]
    },
    {
      "cell_type": "markdown",
      "source": [
        "# **Question 7**\n",
        "\n",
        "For each guest reviewer, find the nationality of the reviewer’s favorite host based on the guest’s highest review score given to a host.\n",
        "\n",
        "Output the user ID of the guest along with their favorite host’s nationality.\n",
        "\n",
        "In case there is more than one favorite host from the same country, list that country only once (remove duplicates).\n",
        "\n",
        "Both the from_user and to_user columns are user IDs.\n",
        "\n",
        "**DataFrames:** airbnb_reviews, airbnb_hosts"
      ],
      "metadata": {
        "id": "V_ZsgiPNoRZ6"
      }
    },
    {
      "cell_type": "code",
      "source": [
        "# Data\n",
        "airbnb_reviews = pd.read_csv(\"https://github.com/statrliu/ds_datasets/raw/main/airbnb_reviews.csv\")\n",
        "print(airbnb_reviews.head())\n",
        "print(\"\\n\\n\")\n",
        "\n",
        "airbnb_hosts = pd.read_csv(\"https://github.com/statrliu/ds_datasets/raw/main/airbnb_hosts.csv\")\n",
        "print(airbnb_hosts.head())"
      ],
      "metadata": {
        "colab": {
          "base_uri": "https://localhost:8080/"
        },
        "id": "Q9B_kwXyoeWI",
        "outputId": "dc64831f-b1d2-4a74-e2f8-80e12a2d0f71"
      },
      "execution_count": 16,
      "outputs": [
        {
          "output_type": "stream",
          "name": "stdout",
          "text": [
            "   from_user  to_user from_type to_type  review_score\n",
            "0          4        2     guest    host             3\n",
            "1          1        2      host   guest             5\n",
            "2          8        8     guest    host             9\n",
            "3          4        0     guest    host             6\n",
            "4          7        1      host   guest             2\n",
            "\n",
            "\n",
            "\n",
            "   host_id nationality gender  age\n",
            "0        0         USA      M   28\n",
            "1        1         USA      F   29\n",
            "2        2       China      F   31\n",
            "3        3       China      M   24\n",
            "4        4        Mali      M   30\n"
          ]
        }
      ]
    },
    {
      "cell_type": "markdown",
      "source": [
        "## **Solution**\n"
      ],
      "metadata": {
        "id": "WYIcDqzZo1-h"
      }
    },
    {
      "cell_type": "code",
      "source": [
        "guests = airbnb_reviews[airbnb_reviews['from_type'] == 'guest']\n",
        "print(guests.head())\n"
      ],
      "metadata": {
        "colab": {
          "base_uri": "https://localhost:8080/"
        },
        "id": "HzCrQyrDo4Ve",
        "outputId": "9f14bf31-f1ed-4464-ccf1-8dcc1eeff8a8"
      },
      "execution_count": 17,
      "outputs": [
        {
          "output_type": "stream",
          "name": "stdout",
          "text": [
            "   from_user  to_user from_type to_type  review_score\n",
            "0          4        2     guest    host             3\n",
            "2          8        8     guest    host             9\n",
            "3          4        0     guest    host             6\n",
            "6          4        6     guest    host             9\n",
            "7          9        3     guest    host             3\n"
          ]
        }
      ]
    },
    {
      "cell_type": "code",
      "source": [
        "max_guest = guests.groupby(['from_user'])['review_score'].max().to_frame('max_score_given').reset_index()\n",
        "print(max_guest)"
      ],
      "metadata": {
        "colab": {
          "base_uri": "https://localhost:8080/"
        },
        "id": "AHynbsUXX3EG",
        "outputId": "03b6f4c1-4def-49af-9820-fbce53889f21"
      },
      "execution_count": 18,
      "outputs": [
        {
          "output_type": "stream",
          "name": "stdout",
          "text": [
            "    from_user  max_score_given\n",
            "0           0               10\n",
            "1           1               10\n",
            "2           2               10\n",
            "3           3               10\n",
            "4           4               10\n",
            "5           5               10\n",
            "6           6               10\n",
            "7           7               10\n",
            "8           8               10\n",
            "9           9               10\n",
            "10         10               10\n",
            "11         11               10\n"
          ]
        }
      ]
    },
    {
      "cell_type": "code",
      "source": [
        "merged = pd.merge(max_guest, guests, left_on = ['from_user','max_score_given'], right_on = ['from_user','review_score'])\n",
        "print(merged.head())"
      ],
      "metadata": {
        "colab": {
          "base_uri": "https://localhost:8080/"
        },
        "id": "goBj0ZMyX-RC",
        "outputId": "74b8c988-e689-4fc1-b366-88525bef0b0b"
      },
      "execution_count": 19,
      "outputs": [
        {
          "output_type": "stream",
          "name": "stdout",
          "text": [
            "   from_user  max_score_given  to_user from_type to_type  review_score\n",
            "0          0               10        6     guest    host            10\n",
            "1          1               10       11     guest    host            10\n",
            "2          1               10       10     guest    host            10\n",
            "3          2               10        9     guest    host            10\n",
            "4          3               10        8     guest    host            10\n"
          ]
        }
      ]
    },
    {
      "cell_type": "code",
      "source": [
        "df = pd.merge(merged,airbnb_hosts, left_on = 'to_user', right_on = 'host_id')\n",
        "print(df.head())\n",
        "print(\"\\n\\n\")\n",
        "\n",
        "result = df[['from_user','nationality']].drop_duplicates()\n",
        "print(result)"
      ],
      "metadata": {
        "colab": {
          "base_uri": "https://localhost:8080/"
        },
        "id": "5EHFNsGxY4Mu",
        "outputId": "63bbb9f2-4c1e-44aa-cf55-e6e35c787ce2"
      },
      "execution_count": 20,
      "outputs": [
        {
          "output_type": "stream",
          "name": "stdout",
          "text": [
            "   from_user  max_score_given  to_user from_type to_type  review_score  \\\n",
            "0          0               10        6     guest    host            10   \n",
            "1          0               10        6     guest    host            10   \n",
            "2          0               10        6     guest    host            10   \n",
            "3          0               10        6     guest    host            10   \n",
            "4          0               10        6     guest    host            10   \n",
            "\n",
            "   host_id nationality gender  age  \n",
            "0        6  Luxembourg      M   25  \n",
            "1        6  Luxembourg      M   25  \n",
            "2        6  Luxembourg      M   25  \n",
            "3        6  Luxembourg      M   25  \n",
            "4        6  Luxembourg      M   25  \n",
            "\n",
            "\n",
            "\n",
            "     from_user nationality\n",
            "0            0  Luxembourg\n",
            "32           1      Brazil\n",
            "36           9      Brazil\n",
            "44           4      Brazil\n",
            "48           7      Brazil\n",
            "52           2   Australia\n",
            "56           8   Australia\n",
            "60           3   Australia\n",
            "64           5   Australia\n",
            "68           5        Mali\n",
            "76          11        Mali\n",
            "80           5         USA\n",
            "152          6         USA\n",
            "224          8         USA\n",
            "368         10         USA\n",
            "440          6       China\n",
            "444         11       China\n",
            "456          7         USA\n",
            "480          7       China\n",
            "484          8       China\n",
            "488          7  Luxembourg\n",
            "520          8        Mali\n"
          ]
        }
      ]
    },
    {
      "cell_type": "markdown",
      "source": [
        "# **Question 8**\n",
        "\n",
        "Count how many claims submitted in December 2021 are still pending. A claim is pending when it has neither an acceptance nor rejection date.\n",
        "\n",
        "**DataFrame:** cvs_claims"
      ],
      "metadata": {
        "id": "epFSyeSSqPaA"
      }
    },
    {
      "cell_type": "code",
      "source": [
        "# create the data\n",
        "import pandas as pd\n",
        "import numpy as np\n",
        "\n",
        "data = {'claim_id': [3075, 3065, 3061, 3074, 3069, 3063, 3076, 3070, 3073, 3072, 3071, 3062, 3066, 3064, 3067, 3068],\n",
        "        'account_id': ['A41', 'A41', 'A41', 'A42', 'A42', 'A43', 'A44', 'A44', 'A45', 'A45', 'A46', 'A46', 'A47', 'A47', 'A48', 'A52'],\n",
        "        'date_submitted': ['2022-01-05 00:00:00', '2021-12-01 00:00:00', '2020-12-15 00:00:00', '2022-01-03 00:00:00', '2021-12-19 00:00:00',\n",
        "                           '2021-11-23 00:00:00', '2022-01-15 00:00:00', '2021-12-22 00:00:00', '2021-12-31 00:00:00', '2021-12-28 00:00:00',\n",
        "                           '2021-12-28 00:00:00', '2021-11-07 00:00:00', '2021-12-14 00:00:00', '2021-11-28 00:00:00', '2021-12-14 00:00:00',\n",
        "                           '2021-12-16 00:00:00'],\n",
        "        'date_accepted': ['NaN', 'NaN', 'NaN', '2022-01-14 00:00:00', '2021-12-23 00:00:00', '2021-11-24 00:00:00', '2022-01-17 00:00:00',\n",
        "                          'NaN', 'NaN', '2021-12-29 00:00:00', 'NaN', 'NaN', '2021-12-28 00:00:00', '2021-12-13 00:00:00', 'NaN',\n",
        "                          '2022-01-02 00:00:00'],\n",
        "        'date_rejected': ['NaN', 'NaN', 'NaN', 'NaN', 'NaN', 'NaN', 'NaN', 'NaN', 'NaN', '2022-01-10 00:00:00', 'NaN', 'NaN', 'NaN',\n",
        "                          'NaN', 'NaN', 'NaN']}\n",
        "\n",
        "# create a pandas DataFrame from the data\n",
        "cvs_claims = pd.DataFrame(data)\n",
        "\n",
        "# replace 'NaN' with np.nan for easier manipulation\n",
        "cvs_claims = cvs_claims.replace('NaN', np.nan)\n",
        "\n",
        "# display the DataFrame\n",
        "print(cvs_claims.head())\n"
      ],
      "metadata": {
        "colab": {
          "base_uri": "https://localhost:8080/"
        },
        "id": "OGSm51_iqStS",
        "outputId": "0ea69f7e-5024-402a-9b56-614b2cf41405"
      },
      "execution_count": 21,
      "outputs": [
        {
          "output_type": "stream",
          "name": "stdout",
          "text": [
            "   claim_id account_id       date_submitted        date_accepted date_rejected\n",
            "0      3075        A41  2022-01-05 00:00:00                  NaN           NaN\n",
            "1      3065        A41  2021-12-01 00:00:00                  NaN           NaN\n",
            "2      3061        A41  2020-12-15 00:00:00                  NaN           NaN\n",
            "3      3074        A42  2022-01-03 00:00:00  2022-01-14 00:00:00           NaN\n",
            "4      3069        A42  2021-12-19 00:00:00  2021-12-23 00:00:00           NaN\n"
          ]
        }
      ]
    },
    {
      "cell_type": "markdown",
      "source": [
        "## **Solution**"
      ],
      "metadata": {
        "id": "3SF5D1aNqVMT"
      }
    },
    {
      "cell_type": "code",
      "source": [
        "cvs_claims['date_submitted'] = pd.to_datetime(cvs_claims['date_submitted'])\n",
        "print(cvs_claims.info())"
      ],
      "metadata": {
        "colab": {
          "base_uri": "https://localhost:8080/"
        },
        "id": "-TXg8F2kZ1Qc",
        "outputId": "3bb73a15-a670-41c1-f3ff-ea4e85f837bc"
      },
      "execution_count": 22,
      "outputs": [
        {
          "output_type": "stream",
          "name": "stdout",
          "text": [
            "<class 'pandas.core.frame.DataFrame'>\n",
            "RangeIndex: 16 entries, 0 to 15\n",
            "Data columns (total 5 columns):\n",
            " #   Column          Non-Null Count  Dtype         \n",
            "---  ------          --------------  -----         \n",
            " 0   claim_id        16 non-null     int64         \n",
            " 1   account_id      16 non-null     object        \n",
            " 2   date_submitted  16 non-null     datetime64[ns]\n",
            " 3   date_accepted   8 non-null      object        \n",
            " 4   date_rejected   1 non-null      object        \n",
            "dtypes: datetime64[ns](1), int64(1), object(3)\n",
            "memory usage: 768.0+ bytes\n",
            "None\n"
          ]
        }
      ]
    },
    {
      "cell_type": "code",
      "source": [
        "cvs_claims['date_submitted'] = cvs_claims['date_submitted'].dt.to_period(\"M\")\n",
        "print(cvs_claims.head())"
      ],
      "metadata": {
        "colab": {
          "base_uri": "https://localhost:8080/"
        },
        "id": "8_OLZJAjaW1x",
        "outputId": "3df3179a-6297-439f-abbd-1ae43751a554"
      },
      "execution_count": 23,
      "outputs": [
        {
          "output_type": "stream",
          "name": "stdout",
          "text": [
            "   claim_id account_id date_submitted        date_accepted date_rejected\n",
            "0      3075        A41        2022-01                  NaN           NaN\n",
            "1      3065        A41        2021-12                  NaN           NaN\n",
            "2      3061        A41        2020-12                  NaN           NaN\n",
            "3      3074        A42        2022-01  2022-01-14 00:00:00           NaN\n",
            "4      3069        A42        2021-12  2021-12-23 00:00:00           NaN\n"
          ]
        }
      ]
    },
    {
      "cell_type": "code",
      "source": [
        "filtered_claims = cvs_claims[ (cvs_claims['date_submitted'] == '2021-12') & (cvs_claims['date_accepted'].isna()) & (cvs_claims['date_rejected'].isna())]\n",
        "print(filtered_claims.head())\n",
        "print(\"\\n\\n\")\n",
        "\n",
        "result = filtered_claims.shape[0]\n",
        "print(result)"
      ],
      "metadata": {
        "colab": {
          "base_uri": "https://localhost:8080/"
        },
        "id": "rjZZOmAybJNP",
        "outputId": "5fbd483f-1e3a-4fce-af07-05ac24cca777"
      },
      "execution_count": 24,
      "outputs": [
        {
          "output_type": "stream",
          "name": "stdout",
          "text": [
            "    claim_id account_id date_submitted date_accepted date_rejected\n",
            "1       3065        A41        2021-12           NaN           NaN\n",
            "7       3070        A44        2021-12           NaN           NaN\n",
            "8       3073        A45        2021-12           NaN           NaN\n",
            "10      3071        A46        2021-12           NaN           NaN\n",
            "14      3067        A48        2021-12           NaN           NaN\n",
            "\n",
            "\n",
            "\n",
            "5\n"
          ]
        }
      ]
    },
    {
      "cell_type": "markdown",
      "source": [
        "# **Question 9**\n",
        "\n",
        "Write a query that calculates the difference between the highest salaries found in the marketing and engineering departments.\n",
        "\n",
        "Output just the absolute difference in salaries.\n",
        "\n",
        "**DataFrames:** db_employee, db_dept"
      ],
      "metadata": {
        "id": "4fuys2Bxr8PQ"
      }
    },
    {
      "cell_type": "code",
      "source": [
        "# Data\n",
        "\n",
        "db_employee = pd.read_csv(\"https://github.com/statrliu/ds_datasets/raw/main/db_employee.csv\")\n",
        "print(db_employee.head())\n",
        "print(\"\\n\\n\")\n",
        "\n",
        "\n",
        "# create the data for the table\n",
        "data = {'id': [1, 2, 3, 4, 5, 6],\n",
        "        'department': ['engineering', 'human resource', 'operation', 'marketing', 'sales', 'customer care']}\n",
        "\n",
        "# create a DataFrame from the data\n",
        "db_dept = pd.DataFrame(data)\n",
        "\n",
        "# display the DataFrame\n",
        "print(db_dept)\n"
      ],
      "metadata": {
        "colab": {
          "base_uri": "https://localhost:8080/"
        },
        "id": "U8q1cER3r-zH",
        "outputId": "c5532842-e57b-4933-ae7f-2bc1afa58155"
      },
      "execution_count": 25,
      "outputs": [
        {
          "output_type": "stream",
          "name": "stdout",
          "text": [
            "      id first_name last_name  salary  department_id\n",
            "0  10301      Keith    Morgan   27056              2\n",
            "1  10302      Tyler     Booth   32199              3\n",
            "2  10303   Clifford    Nguyen   32165              2\n",
            "3  10304       Mary     Jones   49488              3\n",
            "4  10305    Melissa    Lucero   27024              3\n",
            "\n",
            "\n",
            "\n",
            "   id      department\n",
            "0   1     engineering\n",
            "1   2  human resource\n",
            "2   3       operation\n",
            "3   4       marketing\n",
            "4   5           sales\n",
            "5   6   customer care\n"
          ]
        }
      ]
    },
    {
      "cell_type": "markdown",
      "source": [
        "## **Solution**"
      ],
      "metadata": {
        "id": "1S_LUSTXsn12"
      }
    },
    {
      "cell_type": "code",
      "source": [
        "df = pd.merge(db_employee, db_dept, how = 'left',left_on = ['department_id'], right_on=['id'])\n",
        "print(df.head())"
      ],
      "metadata": {
        "colab": {
          "base_uri": "https://localhost:8080/"
        },
        "id": "DHx6Rdu6c7V0",
        "outputId": "09cb6566-0657-4c14-8fe5-e1e527cc1656"
      },
      "execution_count": 26,
      "outputs": [
        {
          "output_type": "stream",
          "name": "stdout",
          "text": [
            "    id_x first_name last_name  salary  department_id  id_y      department\n",
            "0  10301      Keith    Morgan   27056              2     2  human resource\n",
            "1  10302      Tyler     Booth   32199              3     3       operation\n",
            "2  10303   Clifford    Nguyen   32165              2     2  human resource\n",
            "3  10304       Mary     Jones   49488              3     3       operation\n",
            "4  10305    Melissa    Lucero   27024              3     3       operation\n"
          ]
        }
      ]
    },
    {
      "cell_type": "code",
      "source": [
        "df1=df[df[\"department\"]=='engineering']\n",
        "df_eng = df1.groupby('department')['salary'].max().reset_index(name='eng_salary')\n",
        "print(df_eng)"
      ],
      "metadata": {
        "colab": {
          "base_uri": "https://localhost:8080/"
        },
        "id": "zf6_AfxrdD9p",
        "outputId": "fb59f6ac-4442-4c9d-b4bf-587b78030447"
      },
      "execution_count": 27,
      "outputs": [
        {
          "output_type": "stream",
          "name": "stdout",
          "text": [
            "    department  eng_salary\n",
            "0  engineering       45787\n"
          ]
        }
      ]
    },
    {
      "cell_type": "code",
      "source": [
        "df2=df[df[\"department\"]=='marketing']\n",
        "df_mkt = df2.groupby('department')['salary'].max().reset_index(name='mkt_salary')\n",
        "print(df_mkt)"
      ],
      "metadata": {
        "colab": {
          "base_uri": "https://localhost:8080/"
        },
        "id": "By48zL2EdNXc",
        "outputId": "66e48aee-ead0-42a0-d4b8-3155bada25d6"
      },
      "execution_count": 28,
      "outputs": [
        {
          "output_type": "stream",
          "name": "stdout",
          "text": [
            "  department  mkt_salary\n",
            "0  marketing       48187\n"
          ]
        }
      ]
    },
    {
      "cell_type": "code",
      "source": [
        "#result = abs(pd.DataFrame(df_mkt['mkt_salary'] - df_eng['eng_salary']))\n",
        "result = pd.DataFrame(abs(df_mkt['mkt_salary'] - df_eng['eng_salary']))\n",
        "result.columns = ['salary_difference']\n",
        "print(result)\n"
      ],
      "metadata": {
        "colab": {
          "base_uri": "https://localhost:8080/"
        },
        "id": "6x2HzbZGsp_z",
        "outputId": "b95ac061-b28e-453d-8e1f-7ebe5f8d0f46"
      },
      "execution_count": 29,
      "outputs": [
        {
          "output_type": "stream",
          "name": "stdout",
          "text": [
            "   salary_difference\n",
            "0               2400\n"
          ]
        }
      ]
    },
    {
      "cell_type": "code",
      "source": [
        "df = pd.merge(db_employee, db_dept, how = \"inner\", left_on = \"department_id\", right_on = \"id\")\n",
        "\n",
        "marketing = df[df[\"department\"] == 'marketing']\n",
        "\n",
        "market_m = marketing[\"salary\"].max()\n",
        "\n",
        "engineering = df[df[\"department\"] == 'engineering']\n",
        "\n",
        "enginer_m = engineering[\"salary\"].max()\n",
        "\n",
        "dif = abs(market_m - enginer_m)\n",
        "\n",
        "print(dif)"
      ],
      "metadata": {
        "colab": {
          "base_uri": "https://localhost:8080/"
        },
        "id": "_9RNSBBjsyBU",
        "outputId": "434f4c28-c6fa-4d56-da14-e57bf4ec1c7b"
      },
      "execution_count": 30,
      "outputs": [
        {
          "output_type": "stream",
          "name": "stdout",
          "text": [
            "2400\n"
          ]
        }
      ]
    },
    {
      "cell_type": "markdown",
      "source": [
        "# **Question 10**\n",
        "\n",
        "Find employees who are earning more than their managers.\n",
        "\n",
        "Output the employee's first name along with the corresponding salary.\n",
        "\n",
        "**DataFrame:** employee"
      ],
      "metadata": {
        "id": "gyN1vaDktUB6"
      }
    },
    {
      "cell_type": "code",
      "source": [
        "# Data\n",
        "employee = pd.read_csv(\"https://github.com/statrliu/ds_datasets/raw/main/employee.csv\")\n",
        "\n",
        "print(employee.head(5))"
      ],
      "metadata": {
        "colab": {
          "base_uri": "https://localhost:8080/"
        },
        "id": "aMYZ6erWuBEh",
        "outputId": "69fad93c-80ff-42f2-96e0-131341f4fbd9"
      },
      "execution_count": 31,
      "outputs": [
        {
          "output_type": "stream",
          "name": "stdout",
          "text": [
            "   id first_name last_name  age sex employee_title  department  salary  \\\n",
            "0   5        Max    George   26   M          Sales       Sales    1300   \n",
            "1  13      Katty      Bond   56   F        Manager  Management  150000   \n",
            "2  11    Richerd      Gear   57   M        Manager  Management  250000   \n",
            "3  10   Jennifer      Dion   34   F          Sales       Sales    1000   \n",
            "4  19     George       Joe   50   M        Manager  Management  100000   \n",
            "\n",
            "   target  bonus                 email        city               address  \\\n",
            "0     200    150       Max@company.com  California  2638 Richards Avenue   \n",
            "1       0    300     Katty@company.com     Arizona                   NaN   \n",
            "2       0    300   Richerd@company.com     Alabama                   NaN   \n",
            "3     200    150  Jennifer@company.com     Alabama                   NaN   \n",
            "4       0    300    George@company.com     Florida     1003 Wyatt Street   \n",
            "\n",
            "   manager_id  \n",
            "0           1  \n",
            "1           1  \n",
            "2           1  \n",
            "3          13  \n",
            "4           1  \n"
          ]
        }
      ]
    },
    {
      "cell_type": "markdown",
      "source": [
        "## **Solution**\n"
      ],
      "metadata": {
        "id": "didJl0dfuLJa"
      }
    },
    {
      "cell_type": "code",
      "source": [
        "merged = pd.merge(employee, employee, left_on = 'manager_id', right_on = 'id')\n",
        "print(merged[[\"id_x\", \"first_name_x\", \"last_name_x\", \"salary_x\", \"manager_id_x\",\n",
        "              \"id_y\", \"first_name_y\", \"last_name_y\", \"salary_y\", \"manager_id_y\"]].head())"
      ],
      "metadata": {
        "colab": {
          "base_uri": "https://localhost:8080/"
        },
        "id": "1WeIEcmkeTrg",
        "outputId": "71a8b808-8a0d-4081-d08e-95fa23517fed"
      },
      "execution_count": 32,
      "outputs": [
        {
          "output_type": "stream",
          "name": "stdout",
          "text": [
            "   id_x first_name_x last_name_x  salary_x  manager_id_x  id_y first_name_y  \\\n",
            "0     5          Max      George      1300             1     1        Allen   \n",
            "1    13        Katty        Bond    150000             1     1        Allen   \n",
            "2    11      Richerd        Gear    250000             1     1        Allen   \n",
            "3    19       George         Joe    100000             1     1        Allen   \n",
            "4    27          Tom       Fridy      1200             1     1        Allen   \n",
            "\n",
            "  last_name_y  salary_y  manager_id_y  \n",
            "0        Wang    200000             1  \n",
            "1        Wang    200000             1  \n",
            "2        Wang    200000             1  \n",
            "3        Wang    200000             1  \n",
            "4        Wang    200000             1  \n"
          ]
        }
      ]
    },
    {
      "cell_type": "code",
      "source": [
        "result = merged[merged['salary_x'] > merged['salary_y']][['first_name_x','salary_x']]\n",
        "\n",
        "print(result)"
      ],
      "metadata": {
        "colab": {
          "base_uri": "https://localhost:8080/"
        },
        "id": "2wZVSf25uOhB",
        "outputId": "759da4f7-cae5-497f-9658-95a194759034"
      },
      "execution_count": 33,
      "outputs": [
        {
          "output_type": "stream",
          "name": "stdout",
          "text": [
            "  first_name_x  salary_x\n",
            "2      Richerd    250000\n"
          ]
        }
      ]
    },
    {
      "cell_type": "markdown",
      "source": [
        "# **Question 11**\n",
        "\n",
        "Find all emails with duplicates.\n",
        "\n",
        "**DataFrame:** employee"
      ],
      "metadata": {
        "id": "uKhLENKqSqPk"
      }
    },
    {
      "cell_type": "code",
      "source": [
        "employee = pd.read_csv(\"https://github.com/statrliu/ds_datasets/raw/main/employee.csv\")\n",
        "\n",
        "print(employee.head())"
      ],
      "metadata": {
        "colab": {
          "base_uri": "https://localhost:8080/"
        },
        "id": "rthbddWMSt6E",
        "outputId": "69afafcb-7c11-438a-a9ab-d972fd7e0049"
      },
      "execution_count": 34,
      "outputs": [
        {
          "output_type": "stream",
          "name": "stdout",
          "text": [
            "   id first_name last_name  age sex employee_title  department  salary  \\\n",
            "0   5        Max    George   26   M          Sales       Sales    1300   \n",
            "1  13      Katty      Bond   56   F        Manager  Management  150000   \n",
            "2  11    Richerd      Gear   57   M        Manager  Management  250000   \n",
            "3  10   Jennifer      Dion   34   F          Sales       Sales    1000   \n",
            "4  19     George       Joe   50   M        Manager  Management  100000   \n",
            "\n",
            "   target  bonus                 email        city               address  \\\n",
            "0     200    150       Max@company.com  California  2638 Richards Avenue   \n",
            "1       0    300     Katty@company.com     Arizona                   NaN   \n",
            "2       0    300   Richerd@company.com     Alabama                   NaN   \n",
            "3     200    150  Jennifer@company.com     Alabama                   NaN   \n",
            "4       0    300    George@company.com     Florida     1003 Wyatt Street   \n",
            "\n",
            "   manager_id  \n",
            "0           1  \n",
            "1           1  \n",
            "2           1  \n",
            "3          13  \n",
            "4           1  \n"
          ]
        }
      ]
    },
    {
      "cell_type": "markdown",
      "source": [
        "## **Solution**"
      ],
      "metadata": {
        "id": "VQyUIlLxSua7"
      }
    },
    {
      "cell_type": "code",
      "source": [
        "cust_count = employee.groupby(['email']).size().to_frame('count').reset_index()\n",
        "print(cust_count)"
      ],
      "metadata": {
        "colab": {
          "base_uri": "https://localhost:8080/"
        },
        "id": "B43QpiC6gLyC",
        "outputId": "e2a28d68-0c3c-46bf-90d1-8b8478dc9b69"
      },
      "execution_count": 35,
      "outputs": [
        {
          "output_type": "stream",
          "name": "stdout",
          "text": [
            "                   email  count\n",
            "0       Adam@company.com      1\n",
            "1      Allen@company.com      1\n",
            "2    Antoney@company.com      1\n",
            "3        Ben@company.com      1\n",
            "4    Britney@company.com      1\n",
            "5     Celine@company.com      1\n",
            "6     George@company.com      1\n",
            "7      Henry@company.com      1\n",
            "8       Jack@company.com      1\n",
            "9      Jason@company.com      1\n",
            "10  Jennifer@company.com      1\n",
            "11       Joe@company.com      1\n",
            "12     Katty@company.com      1\n",
            "13     Laila@company.com      1\n",
            "14     Mandy@company.com      1\n",
            "15      Mark@company.com      1\n",
            "16       Max@company.com      1\n",
            "17   Michale@company.com      1\n",
            "18      Mick@company.com      1\n",
            "19     Molly@company.com      4\n",
            "20    Morgan@company.com      1\n",
            "21   Richerd@company.com      1\n",
            "22       Sam@company.com      1\n",
            "23    Sarrah@company.com      1\n",
            "24  Shandler@company.com      1\n",
            "25     Suzan@company.com      1\n",
            "26       Tom@company.com      1\n"
          ]
        }
      ]
    },
    {
      "cell_type": "code",
      "source": [
        "result = cust_count[cust_count['count'] > 1][['email']]\n",
        "\n",
        "print(result)"
      ],
      "metadata": {
        "colab": {
          "base_uri": "https://localhost:8080/"
        },
        "id": "CHeaTSXySwrf",
        "outputId": "5d0c4af1-0420-4421-ff52-e7c067222dce"
      },
      "execution_count": 36,
      "outputs": [
        {
          "output_type": "stream",
          "name": "stdout",
          "text": [
            "                email\n",
            "19  Molly@company.com\n"
          ]
        }
      ]
    },
    {
      "cell_type": "markdown",
      "source": [
        "# **Question 12**\n",
        "\n",
        "Redfin helps clients to find agents.\n",
        "+ Each client will have a unique request_id\n",
        "+ and each request_id has several calls.\n",
        "+ For each request_id, the first call is an “initial call” and all the following calls are “update calls”.\n",
        "\n",
        "What's the average call duration for all update calls?\n",
        "\n",
        "**DataFrame:** redfin_call_tracking"
      ],
      "metadata": {
        "id": "_3UCSrzFT2kT"
      }
    },
    {
      "cell_type": "code",
      "source": [
        "# Data\n",
        "\n",
        "data = {'created_on': ['2020-03-01 04:08:04', '2020-03-01 05:28:47', '2020-03-01 07:27:36', '2020-03-01 13:18:21', '2020-03-01 15:08:08', '2020-03-01 16:27:23', '2020-03-01 17:38:01', '2020-03-01 17:56:39', '2020-03-02 00:10:10', '2020-03-02 00:45:49', '2020-03-02 04:28:44', '2020-03-02 04:52:52', '2020-03-02 05:02:41', '2020-03-02 06:19:56', '2020-03-02 07:25:59', '2020-03-02 08:20:25', '2020-03-02 10:45:35', '2020-03-02 13:38:59', '2020-03-02 15:02:29', '2020-03-02 17:13:13'],\n",
        "        'request_id': [2, 1, 2, 1, 2, 1, 3, 2, 1, 3, 3, 1, 3, 3, 2, 1, 3, 1, 2, 1],\n",
        "        'call_duration': [3, 28, 22, 12, 13, 19, 15, 25, 28, 19, 28, 13, 24, 5, 20, 21, 23, 11, 19, 2],\n",
        "        'id': [1, 2, 3, 4, 5, 6, 7, 8, 9, 10, 11, 12, 13, 14, 15, 16, 17, 18, 19, 20]}\n",
        "redfin_call_tracking = pd.DataFrame(data)\n",
        "\n",
        "print(redfin_call_tracking.head())\n",
        "\n"
      ],
      "metadata": {
        "colab": {
          "base_uri": "https://localhost:8080/"
        },
        "id": "GR8Y2BkkUOfM",
        "outputId": "f6448f96-1f59-4d86-8ff7-e281f7e85d7f"
      },
      "execution_count": 37,
      "outputs": [
        {
          "output_type": "stream",
          "name": "stdout",
          "text": [
            "            created_on  request_id  call_duration  id\n",
            "0  2020-03-01 04:08:04           2              3   1\n",
            "1  2020-03-01 05:28:47           1             28   2\n",
            "2  2020-03-01 07:27:36           2             22   3\n",
            "3  2020-03-01 13:18:21           1             12   4\n",
            "4  2020-03-01 15:08:08           2             13   5\n"
          ]
        }
      ]
    },
    {
      "cell_type": "markdown",
      "source": [
        "## **Solution**"
      ],
      "metadata": {
        "id": "wNH7C-k2UPK5"
      }
    },
    {
      "cell_type": "code",
      "source": [
        "redfin_call_tracking.info()"
      ],
      "metadata": {
        "colab": {
          "base_uri": "https://localhost:8080/"
        },
        "id": "qGigKtuvg1z4",
        "outputId": "aad0f7f2-d574-4cb6-d132-9b6759837b7b"
      },
      "execution_count": 38,
      "outputs": [
        {
          "output_type": "stream",
          "name": "stdout",
          "text": [
            "<class 'pandas.core.frame.DataFrame'>\n",
            "RangeIndex: 20 entries, 0 to 19\n",
            "Data columns (total 4 columns):\n",
            " #   Column         Non-Null Count  Dtype \n",
            "---  ------         --------------  ----- \n",
            " 0   created_on     20 non-null     object\n",
            " 1   request_id     20 non-null     int64 \n",
            " 2   call_duration  20 non-null     int64 \n",
            " 3   id             20 non-null     int64 \n",
            "dtypes: int64(3), object(1)\n",
            "memory usage: 768.0+ bytes\n"
          ]
        }
      ]
    },
    {
      "cell_type": "code",
      "source": [
        "redfin_call_tracking[\"created_on\"] = pd.to_datetime(redfin_call_tracking[\"created_on\"])\n",
        "redfin_call_tracking.info()"
      ],
      "metadata": {
        "colab": {
          "base_uri": "https://localhost:8080/"
        },
        "id": "4bQvZ3L5hJn3",
        "outputId": "04757f54-7816-40fa-9680-8f4bd90261bf"
      },
      "execution_count": 39,
      "outputs": [
        {
          "output_type": "stream",
          "name": "stdout",
          "text": [
            "<class 'pandas.core.frame.DataFrame'>\n",
            "RangeIndex: 20 entries, 0 to 19\n",
            "Data columns (total 4 columns):\n",
            " #   Column         Non-Null Count  Dtype         \n",
            "---  ------         --------------  -----         \n",
            " 0   created_on     20 non-null     datetime64[ns]\n",
            " 1   request_id     20 non-null     int64         \n",
            " 2   call_duration  20 non-null     int64         \n",
            " 3   id             20 non-null     int64         \n",
            "dtypes: datetime64[ns](1), int64(3)\n",
            "memory usage: 768.0 bytes\n"
          ]
        }
      ]
    },
    {
      "cell_type": "code",
      "source": [
        "first_callid = redfin_call_tracking.groupby(['request_id']).apply(lambda df: df.sort_values(\"created_on\")[\"id\"].iloc[0])\n",
        "print(first_callid)"
      ],
      "metadata": {
        "colab": {
          "base_uri": "https://localhost:8080/"
        },
        "id": "NPNsuy4Ehcvk",
        "outputId": "c86bea29-223a-4a3b-87fe-ef92b93c7556"
      },
      "execution_count": 40,
      "outputs": [
        {
          "output_type": "stream",
          "name": "stdout",
          "text": [
            "request_id\n",
            "1    2\n",
            "2    1\n",
            "3    7\n",
            "dtype: int64\n"
          ]
        }
      ]
    },
    {
      "cell_type": "code",
      "source": [
        "result = redfin_call_tracking[~redfin_call_tracking['id'].isin(first_callid)]['call_duration'].mean()\n",
        "print(result)"
      ],
      "metadata": {
        "colab": {
          "base_uri": "https://localhost:8080/"
        },
        "id": "gOe97hctjZx8",
        "outputId": "daa368fd-eba6-4a01-db6b-22e2ea36418a"
      },
      "execution_count": 41,
      "outputs": [
        {
          "output_type": "stream",
          "name": "stdout",
          "text": [
            "17.88235294117647\n"
          ]
        }
      ]
    },
    {
      "cell_type": "code",
      "source": [
        "# What is the problem with this approach\n",
        "first_call = redfin_call_tracking.groupby(['request_id'])['id'].min()\n",
        "print(first_call)\n",
        "\n",
        "result1 = redfin_call_tracking[~redfin_call_tracking['id'].isin(first_call)]['call_duration'].mean()\n",
        "print(result1)"
      ],
      "metadata": {
        "colab": {
          "base_uri": "https://localhost:8080/"
        },
        "id": "xGxR2ziyURbd",
        "outputId": "748f6932-21e3-4b2a-8837-2d23f5ab208c"
      },
      "execution_count": 42,
      "outputs": [
        {
          "output_type": "stream",
          "name": "stdout",
          "text": [
            "request_id\n",
            "1    2\n",
            "2    1\n",
            "3    7\n",
            "Name: id, dtype: int64\n",
            "17.88235294117647\n"
          ]
        }
      ]
    },
    {
      "cell_type": "markdown",
      "source": [
        "# **Question 13**\n",
        "\n",
        "Write a query to find which gender gives a higher average review score when writing reviews as guests.\n",
        "\n",
        "Use the from_type column to identify guest reviews.\n",
        "\n",
        "Output the gender and their average review score.\n",
        "\n",
        "**DataFrames:** airbnb_reviews, airbnb_guests"
      ],
      "metadata": {
        "id": "qKcNia7-V8ps"
      }
    },
    {
      "cell_type": "code",
      "source": [
        "# Data\n",
        "\n",
        "data = {'guest_id': [0, 1, 2, 3, 4, 5, 6, 7, 8, 9, 10, 11],\n",
        "        'nationality': ['Mali', 'China', 'Mali', 'Australia', 'Luxembourg', 'USA', 'Brazil', 'China', 'Australia', 'USA', 'Luxembourg', 'Brazil'],\n",
        "        'gender': ['M', 'F', 'F', 'F', 'M', 'F', 'M', 'M', 'M', 'M', 'F', 'F'],\n",
        "        'age': [21, 23, 27, 24, 19, 33, 32, 27, 37, 29, 28, 24]}\n",
        "\n",
        "airbnb_guests = pd.DataFrame(data)\n",
        "\n",
        "print(airbnb_guests.head())\n",
        "print(\"\\n\\n\")\n",
        "\n",
        "#\n",
        "airbnb_reviews = pd.read_csv(\"https://github.com/statrliu/ds_datasets/raw/main/airbnb_reviews.csv\")\n",
        "print(airbnb_reviews.head())\n",
        "\n"
      ],
      "metadata": {
        "colab": {
          "base_uri": "https://localhost:8080/"
        },
        "id": "xi8s3vF8V_OK",
        "outputId": "cfda2184-16c0-43a8-a872-3edba11920b6"
      },
      "execution_count": 43,
      "outputs": [
        {
          "output_type": "stream",
          "name": "stdout",
          "text": [
            "   guest_id nationality gender  age\n",
            "0         0        Mali      M   21\n",
            "1         1       China      F   23\n",
            "2         2        Mali      F   27\n",
            "3         3   Australia      F   24\n",
            "4         4  Luxembourg      M   19\n",
            "\n",
            "\n",
            "\n",
            "   from_user  to_user from_type to_type  review_score\n",
            "0          4        2     guest    host             3\n",
            "1          1        2      host   guest             5\n",
            "2          8        8     guest    host             9\n",
            "3          4        0     guest    host             6\n",
            "4          7        1      host   guest             2\n"
          ]
        }
      ]
    },
    {
      "cell_type": "markdown",
      "source": [
        "## **Solution**"
      ],
      "metadata": {
        "id": "InxRSsXAV_vc"
      }
    },
    {
      "cell_type": "code",
      "source": [
        "merged = pd.merge(airbnb_reviews,airbnb_guests, left_on = 'from_user', right_on = 'guest_id')\n",
        "print(merged.head())"
      ],
      "metadata": {
        "colab": {
          "base_uri": "https://localhost:8080/"
        },
        "id": "mkGQY0lbj3en",
        "outputId": "6d967649-c976-4eef-e72f-9059593d83c5"
      },
      "execution_count": 44,
      "outputs": [
        {
          "output_type": "stream",
          "name": "stdout",
          "text": [
            "   from_user  to_user from_type to_type  review_score  guest_id nationality  \\\n",
            "0          4        2     guest    host             3         4  Luxembourg   \n",
            "1          4        0     guest    host             6         4  Luxembourg   \n",
            "2          4        6     guest    host             9         4  Luxembourg   \n",
            "3          4        4     guest    host             1         4  Luxembourg   \n",
            "4          4        2     guest    host             0         4  Luxembourg   \n",
            "\n",
            "  gender  age  \n",
            "0      M   19  \n",
            "1      M   19  \n",
            "2      M   19  \n",
            "3      M   19  \n",
            "4      M   19  \n"
          ]
        }
      ]
    },
    {
      "cell_type": "code",
      "source": [
        "guest = merged[merged['from_type'] == 'guest']\n",
        "print(guest.head())"
      ],
      "metadata": {
        "colab": {
          "base_uri": "https://localhost:8080/"
        },
        "id": "kDeM1-8xkI65",
        "outputId": "7d1beed8-0ccc-41c8-fb37-625874f649c1"
      },
      "execution_count": 45,
      "outputs": [
        {
          "output_type": "stream",
          "name": "stdout",
          "text": [
            "   from_user  to_user from_type to_type  review_score  guest_id nationality  \\\n",
            "0          4        2     guest    host             3         4  Luxembourg   \n",
            "1          4        0     guest    host             6         4  Luxembourg   \n",
            "2          4        6     guest    host             9         4  Luxembourg   \n",
            "3          4        4     guest    host             1         4  Luxembourg   \n",
            "4          4        2     guest    host             0         4  Luxembourg   \n",
            "\n",
            "  gender  age  \n",
            "0      M   19  \n",
            "1      M   19  \n",
            "2      M   19  \n",
            "3      M   19  \n",
            "4      M   19  \n"
          ]
        }
      ]
    },
    {
      "cell_type": "code",
      "source": [
        "guest_summary = guest.groupby(['gender'])['review_score'].mean().to_frame('avg_score').reset_index()\n",
        "print(guest_summary)"
      ],
      "metadata": {
        "colab": {
          "base_uri": "https://localhost:8080/"
        },
        "id": "N0u4L2jVkXSa",
        "outputId": "6ef6ba86-3942-4499-a031-3717bebf53f1"
      },
      "execution_count": 46,
      "outputs": [
        {
          "output_type": "stream",
          "name": "stdout",
          "text": [
            "  gender  avg_score\n",
            "0      F   5.008850\n",
            "1      M   5.526316\n"
          ]
        }
      ]
    },
    {
      "cell_type": "code",
      "source": [
        "result = guest_summary[guest_summary['avg_score'] == guest_summary['avg_score'].max()]\n",
        "\n",
        "print(result)"
      ],
      "metadata": {
        "colab": {
          "base_uri": "https://localhost:8080/"
        },
        "id": "PYrOOsKrkrQZ",
        "outputId": "fcbc4518-85b8-4490-d436-194583a7f9e4"
      },
      "execution_count": 47,
      "outputs": [
        {
          "output_type": "stream",
          "name": "stdout",
          "text": [
            "  gender  avg_score\n",
            "1      M   5.526316\n"
          ]
        }
      ]
    },
    {
      "cell_type": "markdown",
      "source": [
        "# **Question 14**\n",
        "\n",
        "Compare each employee's salary with the average salary of the corresponding department.\n",
        "\n",
        "Output the department, first name, and salary of employees along with the average salary of that department.\n",
        "\n",
        "**DataFrame:** employee"
      ],
      "metadata": {
        "id": "StC9YXbfZulM"
      }
    },
    {
      "cell_type": "code",
      "source": [
        "employee = pd.read_csv(\"https://github.com/statrliu/ds_datasets/raw/main/employee.csv\")\n",
        "\n",
        "print(employee.head())"
      ],
      "metadata": {
        "colab": {
          "base_uri": "https://localhost:8080/"
        },
        "id": "-3e8TJXLZ2qv",
        "outputId": "2574509a-e023-4a6f-ebff-846a2e42e6e0"
      },
      "execution_count": 48,
      "outputs": [
        {
          "output_type": "stream",
          "name": "stdout",
          "text": [
            "   id first_name last_name  age sex employee_title  department  salary  \\\n",
            "0   5        Max    George   26   M          Sales       Sales    1300   \n",
            "1  13      Katty      Bond   56   F        Manager  Management  150000   \n",
            "2  11    Richerd      Gear   57   M        Manager  Management  250000   \n",
            "3  10   Jennifer      Dion   34   F          Sales       Sales    1000   \n",
            "4  19     George       Joe   50   M        Manager  Management  100000   \n",
            "\n",
            "   target  bonus                 email        city               address  \\\n",
            "0     200    150       Max@company.com  California  2638 Richards Avenue   \n",
            "1       0    300     Katty@company.com     Arizona                   NaN   \n",
            "2       0    300   Richerd@company.com     Alabama                   NaN   \n",
            "3     200    150  Jennifer@company.com     Alabama                   NaN   \n",
            "4       0    300    George@company.com     Florida     1003 Wyatt Street   \n",
            "\n",
            "   manager_id  \n",
            "0           1  \n",
            "1           1  \n",
            "2           1  \n",
            "3          13  \n",
            "4           1  \n"
          ]
        }
      ]
    },
    {
      "cell_type": "markdown",
      "source": [
        "## **Solution**"
      ],
      "metadata": {
        "id": "5JiZEGsVZ4Jl"
      }
    },
    {
      "cell_type": "code",
      "source": [
        "emp_mean = employee.groupby(['department'])['salary'].mean()\n",
        "emp_mean"
      ],
      "metadata": {
        "colab": {
          "base_uri": "https://localhost:8080/"
        },
        "id": "LogDT0YVjI2T",
        "outputId": "bf984396-a172-440e-aab2-a6f2d05dd9d3"
      },
      "execution_count": 49,
      "outputs": [
        {
          "output_type": "execute_result",
          "data": {
            "text/plain": [
              "department\n",
              "Audit            950.000000\n",
              "Management    175000.000000\n",
              "Sales           1336.363636\n",
              "Name: salary, dtype: float64"
            ]
          },
          "metadata": {},
          "execution_count": 49
        }
      ]
    },
    {
      "cell_type": "code",
      "source": [
        "employee['avg_salary'] = employee.groupby(['department'])['salary'].transform('mean')\n",
        "result = employee[['department','first_name','salary','avg_salary']]\n",
        "\n",
        "print(result)"
      ],
      "metadata": {
        "colab": {
          "base_uri": "https://localhost:8080/"
        },
        "id": "9Zj9RnxdZ6IP",
        "outputId": "2306639f-a74d-4595-eafb-59385b92c7ae"
      },
      "execution_count": 50,
      "outputs": [
        {
          "output_type": "stream",
          "name": "stdout",
          "text": [
            "    department first_name  salary     avg_salary\n",
            "0        Sales        Max    1300    1336.363636\n",
            "1   Management      Katty  150000  175000.000000\n",
            "2   Management    Richerd  250000  175000.000000\n",
            "3        Sales   Jennifer    1000    1336.363636\n",
            "4   Management     George  100000  175000.000000\n",
            "5        Sales      Laila    1000    1336.363636\n",
            "6        Sales     Sarrah    2000    1336.363636\n",
            "7        Sales      Suzan    1300    1336.363636\n",
            "8        Sales      Mandy    1300    1336.363636\n",
            "9        Sales    Britney    1200    1336.363636\n",
            "10       Sales       Jack    1300    1336.363636\n",
            "11       Sales        Ben    1300    1336.363636\n",
            "12       Sales        Tom    1200    1336.363636\n",
            "13       Sales    Antoney    1300    1336.363636\n",
            "14       Sales     Morgan    1200    1336.363636\n",
            "15       Sales      Molly    1400    1336.363636\n",
            "16       Sales      Nicky    1400    1336.363636\n",
            "17       Sales     Monika    1000    1336.363636\n",
            "18       Sales       Mick    2200    1336.363636\n",
            "19       Audit   Shandler    1100     950.000000\n",
            "20       Audit      Jason    1000     950.000000\n",
            "21       Audit     Celine    1000     950.000000\n",
            "22       Audit    Michale     700     950.000000\n",
            "23       Sales       Adam    1300    1336.363636\n",
            "24       Sales       Mark    1200    1336.363636\n",
            "25       Sales       John    1500    1336.363636\n",
            "26  Management      Allen  200000  175000.000000\n",
            "27       Sales        Joe    1000    1336.363636\n",
            "28       Sales      Henry    2000    1336.363636\n",
            "29       Sales        Sam    1000    1336.363636\n"
          ]
        }
      ]
    },
    {
      "cell_type": "markdown",
      "source": [
        "# **Question 15**\n",
        "\n",
        "Given a list of projects and employees mapped to each project, calculate by the amount of project budget allocated to each employee (total budget of the project / number of employee of the project).\n",
        "\n",
        "The output should include the project title and the project budget rounded to the closest integer.\n",
        "\n",
        "Order your list by projects with the highest budget per employee first.\n",
        "\n",
        "**DataFrames:** ms_projects, ms_emp_projects"
      ],
      "metadata": {
        "id": "W9w7-CvaaScP"
      }
    },
    {
      "cell_type": "code",
      "source": [
        "# Data\n",
        "ms_projects = pd.read_csv(\"https://github.com/statrliu/ds_datasets/raw/main/ms_projects.csv\")\n",
        "print(ms_projects.head())\n",
        "print(\"\\n\\n\")\n",
        "\n",
        "ms_emp_projects = pd.read_csv(\"https://github.com/statrliu/ds_datasets/raw/main/ms_emp_projects.csv\")\n",
        "print(ms_emp_projects.head())"
      ],
      "metadata": {
        "colab": {
          "base_uri": "https://localhost:8080/"
        },
        "id": "wVaoZD8QaVk5",
        "outputId": "30fd67b2-6870-43b6-d994-977fd6391e9b"
      },
      "execution_count": 51,
      "outputs": [
        {
          "output_type": "stream",
          "name": "stdout",
          "text": [
            "   id     title  budget\n",
            "0   1  Project1   29498\n",
            "1   2  Project2   32487\n",
            "2   3  Project3   43909\n",
            "3   4  Project4   15776\n",
            "4   5  Project5   36268\n",
            "\n",
            "\n",
            "\n",
            "   emp_id  project_id\n",
            "0   10592           1\n",
            "1   10593           2\n",
            "2   10594           3\n",
            "3   10595           4\n",
            "4   10596           5\n"
          ]
        }
      ]
    },
    {
      "cell_type": "markdown",
      "source": [
        "## **Solution**"
      ],
      "metadata": {
        "id": "sna8wDMMaV3I"
      }
    },
    {
      "cell_type": "code",
      "source": [
        "df=pd.merge(ms_projects, ms_emp_projects, how = 'inner',left_on = ['id'], right_on=['project_id'])\n",
        "print(df.head())"
      ],
      "metadata": {
        "colab": {
          "base_uri": "https://localhost:8080/"
        },
        "id": "TL8EWkOxlmIb",
        "outputId": "470b1de7-cbfc-41ca-e897-05a759c871a2"
      },
      "execution_count": 52,
      "outputs": [
        {
          "output_type": "stream",
          "name": "stdout",
          "text": [
            "   id     title  budget  emp_id  project_id\n",
            "0   1  Project1   29498   10592           1\n",
            "1   1  Project1   29498   10642           1\n",
            "2   2  Project2   32487   10593           2\n",
            "3   2  Project2   32487   10643           2\n",
            "4   3  Project3   43909   10594           3\n"
          ]
        }
      ]
    },
    {
      "cell_type": "code",
      "source": [
        "df1=df.groupby(['title','budget'])['emp_id'].size().reset_index()\n",
        "df1 = df1.rename(columns = {\"emp_id\": \"size\"})\n",
        "print(df1.head())"
      ],
      "metadata": {
        "colab": {
          "base_uri": "https://localhost:8080/"
        },
        "id": "5iafXYkXl3dz",
        "outputId": "2829061d-2a59-45da-9684-925bab6d908e"
      },
      "execution_count": 53,
      "outputs": [
        {
          "output_type": "stream",
          "name": "stdout",
          "text": [
            "       title  budget  size\n",
            "0   Project1   29498     2\n",
            "1  Project10   47587     2\n",
            "2  Project11   11705     2\n",
            "3  Project12   10468     2\n",
            "4  Project13   43238     2\n"
          ]
        }
      ]
    },
    {
      "cell_type": "code",
      "source": [
        "df1['budget_emp_ratio'] = (df1['budget']/df1['size']).round()\n",
        "print(df1.head())"
      ],
      "metadata": {
        "colab": {
          "base_uri": "https://localhost:8080/"
        },
        "id": "QRJQ-CkOnS3W",
        "outputId": "433a4574-a5f3-472d-d2d1-d91abb53b0e3"
      },
      "execution_count": 54,
      "outputs": [
        {
          "output_type": "stream",
          "name": "stdout",
          "text": [
            "       title  budget  size  budget_emp_ratio\n",
            "0   Project1   29498     2           14749.0\n",
            "1  Project10   47587     2           23794.0\n",
            "2  Project11   11705     2            5852.0\n",
            "3  Project12   10468     2            5234.0\n",
            "4  Project13   43238     2           21619.0\n"
          ]
        }
      ]
    },
    {
      "cell_type": "code",
      "source": [
        "df2=df1.sort_values(by='budget_emp_ratio',ascending=False)\n",
        "result = df2[[\"title\",\"budget_emp_ratio\"]]\n",
        "\n",
        "print(result)"
      ],
      "metadata": {
        "colab": {
          "base_uri": "https://localhost:8080/"
        },
        "id": "3wNZ26XQnffW",
        "outputId": "42fc875b-0100-4503-a104-ee7d2f606391"
      },
      "execution_count": 55,
      "outputs": [
        {
          "output_type": "stream",
          "name": "stdout",
          "text": [
            "        title  budget_emp_ratio\n",
            "48   Project8           24642.0\n",
            "43  Project49           24387.0\n",
            "6   Project15           24058.0\n",
            "1   Project10           23794.0\n",
            "10  Project19           22493.0\n",
            "41  Project47           22386.0\n",
            "39  Project45           22266.0\n",
            "22   Project3           21954.0\n",
            "20  Project28           21828.0\n",
            "4   Project13           21619.0\n",
            "34  Project40           21470.0\n",
            "24  Project31           20990.0\n",
            "42  Project48           20814.0\n",
            "15  Project23           20808.0\n",
            "46   Project6           20806.0\n",
            "17  Project25           19454.0\n",
            "44   Project5           18134.0\n",
            "18  Project26           18095.0\n",
            "47   Project7           17002.0\n",
            "11   Project2           16244.0\n",
            "49   Project9           16170.0\n",
            "26  Project33           15055.0\n",
            "5   Project14           15007.0\n",
            "0    Project1           14749.0\n",
            "32  Project39           12971.0\n",
            "37  Project43           12872.0\n",
            "35  Project41           12694.0\n",
            "36  Project42           12467.0\n",
            "13  Project21           12165.0\n",
            "23  Project30           12006.0\n",
            "28  Project35           11966.0\n",
            "38  Project44           11442.0\n",
            "31  Project38           10822.0\n",
            "7   Project16            9961.0\n",
            "12  Project20            9748.0\n",
            "8   Project17            9530.0\n",
            "45  Project50            9458.0\n",
            "14  Project22            9295.0\n",
            "27  Project34            8172.0\n",
            "33   Project4            7888.0\n",
            "19  Project27            6308.0\n",
            "25  Project32            6178.0\n",
            "16  Project24            5959.0\n",
            "2   Project11            5852.0\n",
            "21  Project29            5468.0\n",
            "3   Project12            5234.0\n",
            "9   Project18            5151.0\n",
            "40  Project46            4912.0\n",
            "30  Project37            4403.0\n",
            "29  Project36            2338.0\n"
          ]
        }
      ]
    },
    {
      "cell_type": "markdown",
      "source": [
        "# **Question 16**\n",
        "\n",
        "Find details of the business with the highest number of high-risk violations.\n",
        "\n",
        "Output all columns from the dataset considering business_id which consist 'high risk' phrase in risk_category column.\n",
        "\n",
        "**DataFrame:** sf_restaurant_health_violations"
      ],
      "metadata": {
        "id": "B50OaFioc8QZ"
      }
    },
    {
      "cell_type": "code",
      "source": [
        "# Data\n",
        "import pandas as pd\n",
        "sf_restaurant_health_violations = pd.read_csv(\"https://github.com/statrliu/ds_datasets/raw/main/sf_restaurant_health_violations.csv\")\n",
        "print(sf_restaurant_health_violations.head())"
      ],
      "metadata": {
        "colab": {
          "base_uri": "https://localhost:8080/"
        },
        "id": "JXwnKq_Rc-9-",
        "outputId": "436eef38-2307-4b17-9fb9-2dc1053a0e64"
      },
      "execution_count": 56,
      "outputs": [
        {
          "output_type": "stream",
          "name": "stdout",
          "text": [
            "   business_id                   business_name   business_address  \\\n",
            "0         5800     John Chin Elementary School    350 Broadway St   \n",
            "1        64236       Sutter Pub and Restaurant      700 Sutter St   \n",
            "2         1991                SRI THAI CUISINE   4621 LINCOLN Way   \n",
            "3         3816  Washington Bakery & Restaurant  733 Washington St   \n",
            "4        39119             Brothers Restaurant    4128 GEARY Blvd   \n",
            "\n",
            "   business_city business_state  business_postal_code  business_latitude  \\\n",
            "0  San Francisco             CA               94133.0             37.798   \n",
            "1  San Francisco             CA               94102.0             37.789   \n",
            "2  San Francisco             CA               94122.0             37.764   \n",
            "3  San Francisco             CA               94108.0             37.795   \n",
            "4  San Francisco             CA               94118.0             37.781   \n",
            "\n",
            "   business_longitude                                  business_location  \\\n",
            "0            -122.403  {'longitude': '-122.403154', 'needs_recoding':...   \n",
            "1            -122.412  {'longitude': '-122.41188', 'needs_recoding': ...   \n",
            "2            -122.508  {'longitude': '-122.507779', 'needs_recoding':...   \n",
            "3            -122.406  {'longitude': '-122.405845', 'needs_recoding':...   \n",
            "4            -122.464  {'longitude': '-122.463762', 'needs_recoding':...   \n",
            "\n",
            "   business_phone_number   inspection_id     inspection_date  \\\n",
            "0                    NaN   5800_20171017  2017-10-17 0:00:00   \n",
            "1                    NaN  64236_20170725  2017-07-25 0:00:00   \n",
            "2                    NaN   1991_20171129  2017-11-29 0:00:00   \n",
            "3                    NaN   3816_20160728  2016-07-28 0:00:00   \n",
            "4                    NaN  39119_20160718  2016-07-18 0:00:00   \n",
            "\n",
            "   inspection_score        inspection_type           violation_id  \\\n",
            "0              98.0  Routine - Unscheduled   5800_20171017_103149   \n",
            "1              88.0  Routine - Unscheduled  64236_20170725_103133   \n",
            "2              86.0  Routine - Unscheduled   1991_20171129_103139   \n",
            "3              67.0  Routine - Unscheduled   3816_20160728_103108   \n",
            "4              79.0  Routine - Unscheduled  39119_20160718_103133   \n",
            "\n",
            "                               violation_description  risk_category  \n",
            "0  Wiping cloths not clean or properly stored or ...       Low Risk  \n",
            "1             Foods not protected from contamination  Moderate Risk  \n",
            "2                              Improper food storage       Low Risk  \n",
            "3                   Contaminated or adulterated food      High Risk  \n",
            "4             Foods not protected from contamination  Moderate Risk  \n"
          ]
        }
      ]
    },
    {
      "cell_type": "markdown",
      "source": [
        "## **Solution**"
      ],
      "metadata": {
        "id": "ZFzkYZxOc_SM"
      }
    },
    {
      "cell_type": "code",
      "source": [
        "high_risk = sf_restaurant_health_violations[sf_restaurant_health_violations['risk_category'] == 'High Risk']\n",
        "print(high_risk.head())"
      ],
      "metadata": {
        "colab": {
          "base_uri": "https://localhost:8080/"
        },
        "id": "YFglXTF5MH6R",
        "outputId": "07ffadc2-b0b8-469e-dbc0-f1a3ba93d4ee"
      },
      "execution_count": 57,
      "outputs": [
        {
          "output_type": "stream",
          "name": "stdout",
          "text": [
            "    business_id                   business_name    business_address  \\\n",
            "3          3816  Washington Bakery & Restaurant   733 Washington St   \n",
            "5          6643               T & L FOOD MARKET         405 EDDY St   \n",
            "8         68872   Jiang Ling Cuisine Restaurant  2517 SAN BRUNO Ave   \n",
            "15        79414                      Home Plate     2274 Lombard St   \n",
            "21        61861                              SO      1010 BRYANT St   \n",
            "\n",
            "    business_city business_state  business_postal_code  business_latitude  \\\n",
            "3   San Francisco             CA               94108.0             37.795   \n",
            "5   San Francisco             CA               94109.0             37.784   \n",
            "8   San Francisco             CA               94134.0             37.730   \n",
            "15  San Francisco             CA               94123.0                NaN   \n",
            "21  San Francisco             CA               94103.0             37.772   \n",
            "\n",
            "    business_longitude                                  business_location  \\\n",
            "3             -122.406  {'longitude': '-122.405845', 'needs_recoding':...   \n",
            "5             -122.414  {'longitude': '-122.414341', 'needs_recoding':...   \n",
            "8             -122.405  {'longitude': '-122.404526', 'needs_recoding':...   \n",
            "15                 NaN                                                NaN   \n",
            "21            -122.407  {'longitude': '-122.407339', 'needs_recoding':...   \n",
            "\n",
            "    business_phone_number   inspection_id     inspection_date  \\\n",
            "3                     NaN   3816_20160728  2016-07-28 0:00:00   \n",
            "5                     NaN   6643_20160609  2016-06-09 0:00:00   \n",
            "8                     NaN  68872_20171212  2017-12-12 0:00:00   \n",
            "15                    NaN  79414_20161017  2016-10-17 0:00:00   \n",
            "21                    NaN  61861_20171214  2017-12-14 0:00:00   \n",
            "\n",
            "    inspection_score        inspection_type           violation_id  \\\n",
            "3               67.0  Routine - Unscheduled   3816_20160728_103108   \n",
            "5               69.0  Routine - Unscheduled   6643_20160609_103102   \n",
            "8               72.0  Routine - Unscheduled  68872_20171212_103105   \n",
            "15              67.0  Routine - Unscheduled  79414_20161017_103103   \n",
            "21              85.0  Routine - Unscheduled  61861_20171214_103105   \n",
            "\n",
            "                      violation_description risk_category  \n",
            "3          Contaminated or adulterated food     High Risk  \n",
            "5   Unclean hands or improper use of gloves     High Risk  \n",
            "8                  Improper cooling methods     High Risk  \n",
            "15       High risk food holding temperature     High Risk  \n",
            "21                 Improper cooling methods     High Risk  \n"
          ]
        }
      ]
    },
    {
      "cell_type": "code",
      "source": [
        "busy_name = high_risk.groupby(['business_name']).size().to_frame('size').reset_index()\n",
        "print(busy_name.head(10))"
      ],
      "metadata": {
        "colab": {
          "base_uri": "https://localhost:8080/"
        },
        "id": "ThxxK0jZMQzi",
        "outputId": "a838fd7d-1f31-4d8e-8f6c-3906541a5b64"
      },
      "execution_count": 58,
      "outputs": [
        {
          "output_type": "stream",
          "name": "stdout",
          "text": [
            "                 business_name  size\n",
            "0  7-Eleven, Store 2366-21389F     1\n",
            "1                    Azalina's     1\n",
            "2            CHA-AM RESTAURANT     1\n",
            "3      Castagnola's Restaurant     1\n",
            "4                Cathead's BBQ     1\n",
            "5                  Chez Julien     1\n",
            "6                      Da Cafe     4\n",
            "7               Elephant Sushi     1\n",
            "8     Gateway High/Kip Schools     1\n",
            "9                   Golden Wok     1\n"
          ]
        }
      ]
    },
    {
      "cell_type": "code",
      "source": [
        "busy_name = busy_name[busy_name['size']==busy_name['size'].max()]\n",
        "print(busy_name)\n",
        "print(\"\\n\\n\")\n",
        "\n",
        "#busy_name_list = list(busy_name[\"business_name\"])\n",
        "#print(busy_name_list)"
      ],
      "metadata": {
        "colab": {
          "base_uri": "https://localhost:8080/"
        },
        "id": "4RdwwAcVMq5-",
        "outputId": "2185ec27-5f1d-49d7-8f0d-7c6b702b5819"
      },
      "execution_count": 59,
      "outputs": [
        {
          "output_type": "stream",
          "name": "stdout",
          "text": [
            "  business_name  size\n",
            "6       Da Cafe     4\n",
            "\n",
            "\n",
            "\n"
          ]
        }
      ]
    },
    {
      "cell_type": "code",
      "source": [
        "result = sf_restaurant_health_violations[sf_restaurant_health_violations['business_name'].isin(busy_name[\"business_name\"])]\n",
        "print(result)"
      ],
      "metadata": {
        "colab": {
          "base_uri": "https://localhost:8080/"
        },
        "id": "pErQ7YpAN6tC",
        "outputId": "465ce052-6384-4cc7-9dd0-897fb50525da"
      },
      "execution_count": 60,
      "outputs": [
        {
          "output_type": "stream",
          "name": "stdout",
          "text": [
            "     business_id business_name business_address  business_city business_state  \\\n",
            "279        86647       Da Cafe   407 Clement St  San Francisco             CA   \n",
            "284        86647       Da Cafe   407 Clement St  San Francisco             CA   \n",
            "285        86647       Da Cafe   407 Clement St  San Francisco             CA   \n",
            "286        86647       Da Cafe   407 Clement St  San Francisco             CA   \n",
            "\n",
            "     business_postal_code  business_latitude  business_longitude  \\\n",
            "279               94118.0                NaN                 NaN   \n",
            "284               94118.0                NaN                 NaN   \n",
            "285               94118.0                NaN                 NaN   \n",
            "286               94118.0                NaN                 NaN   \n",
            "\n",
            "    business_location  business_phone_number   inspection_id  \\\n",
            "279               NaN                    NaN  86647_20160907   \n",
            "284               NaN                    NaN  86647_20160907   \n",
            "285               NaN                    NaN  86647_20160907   \n",
            "286               NaN                    NaN  86647_20160907   \n",
            "\n",
            "        inspection_date  inspection_score        inspection_type  \\\n",
            "279  2016-09-07 0:00:00              48.0  Routine - Unscheduled   \n",
            "284  2016-09-07 0:00:00              48.0  Routine - Unscheduled   \n",
            "285  2016-09-07 0:00:00              48.0  Routine - Unscheduled   \n",
            "286  2016-09-07 0:00:00              48.0  Routine - Unscheduled   \n",
            "\n",
            "              violation_id                        violation_description  \\\n",
            "279  86647_20160907_103112                No hot water or running water   \n",
            "284  86647_20160907_103109  Unclean or unsanitary food contact surfaces   \n",
            "285  86647_20160907_103102      Unclean hands or improper use of gloves   \n",
            "286  86647_20160907_103114                 High risk vermin infestation   \n",
            "\n",
            "    risk_category  \n",
            "279     High Risk  \n",
            "284     High Risk  \n",
            "285     High Risk  \n",
            "286     High Risk  \n"
          ]
        }
      ]
    },
    {
      "cell_type": "markdown",
      "source": [
        "## **Question 17**\n",
        "\n",
        "Find the number of inspections that happened in the municipality with postal code 94102 during January, May or November in each year.\n",
        "\n",
        "Output the count of each month separately.\n",
        "\n",
        "**DataFrame:** sf_restaurant_health_violations"
      ],
      "metadata": {
        "id": "AFYCbBtHelBw"
      }
    },
    {
      "cell_type": "code",
      "source": [
        "sf_restaurant_health_violations = pd.read_csv(\"https://github.com/statrliu/ds_datasets/raw/main/sf_restaurant_health_violations.csv\")\n",
        "print(sf_restaurant_health_violations.head())"
      ],
      "metadata": {
        "colab": {
          "base_uri": "https://localhost:8080/"
        },
        "id": "gxBNcgRAen4i",
        "outputId": "966af0d8-cf15-4d0c-d103-cb2cca0e8e3a"
      },
      "execution_count": 61,
      "outputs": [
        {
          "output_type": "stream",
          "name": "stdout",
          "text": [
            "   business_id                   business_name   business_address  \\\n",
            "0         5800     John Chin Elementary School    350 Broadway St   \n",
            "1        64236       Sutter Pub and Restaurant      700 Sutter St   \n",
            "2         1991                SRI THAI CUISINE   4621 LINCOLN Way   \n",
            "3         3816  Washington Bakery & Restaurant  733 Washington St   \n",
            "4        39119             Brothers Restaurant    4128 GEARY Blvd   \n",
            "\n",
            "   business_city business_state  business_postal_code  business_latitude  \\\n",
            "0  San Francisco             CA               94133.0             37.798   \n",
            "1  San Francisco             CA               94102.0             37.789   \n",
            "2  San Francisco             CA               94122.0             37.764   \n",
            "3  San Francisco             CA               94108.0             37.795   \n",
            "4  San Francisco             CA               94118.0             37.781   \n",
            "\n",
            "   business_longitude                                  business_location  \\\n",
            "0            -122.403  {'longitude': '-122.403154', 'needs_recoding':...   \n",
            "1            -122.412  {'longitude': '-122.41188', 'needs_recoding': ...   \n",
            "2            -122.508  {'longitude': '-122.507779', 'needs_recoding':...   \n",
            "3            -122.406  {'longitude': '-122.405845', 'needs_recoding':...   \n",
            "4            -122.464  {'longitude': '-122.463762', 'needs_recoding':...   \n",
            "\n",
            "   business_phone_number   inspection_id     inspection_date  \\\n",
            "0                    NaN   5800_20171017  2017-10-17 0:00:00   \n",
            "1                    NaN  64236_20170725  2017-07-25 0:00:00   \n",
            "2                    NaN   1991_20171129  2017-11-29 0:00:00   \n",
            "3                    NaN   3816_20160728  2016-07-28 0:00:00   \n",
            "4                    NaN  39119_20160718  2016-07-18 0:00:00   \n",
            "\n",
            "   inspection_score        inspection_type           violation_id  \\\n",
            "0              98.0  Routine - Unscheduled   5800_20171017_103149   \n",
            "1              88.0  Routine - Unscheduled  64236_20170725_103133   \n",
            "2              86.0  Routine - Unscheduled   1991_20171129_103139   \n",
            "3              67.0  Routine - Unscheduled   3816_20160728_103108   \n",
            "4              79.0  Routine - Unscheduled  39119_20160718_103133   \n",
            "\n",
            "                               violation_description  risk_category  \n",
            "0  Wiping cloths not clean or properly stored or ...       Low Risk  \n",
            "1             Foods not protected from contamination  Moderate Risk  \n",
            "2                              Improper food storage       Low Risk  \n",
            "3                   Contaminated or adulterated food      High Risk  \n",
            "4             Foods not protected from contamination  Moderate Risk  \n"
          ]
        }
      ]
    },
    {
      "cell_type": "markdown",
      "source": [
        "## **Solution**"
      ],
      "metadata": {
        "id": "rmcFvHmkeoLE"
      }
    },
    {
      "cell_type": "code",
      "source": [
        "sf_restaurant_health_violations.inspection_date = pd.to_datetime(sf_restaurant_health_violations.inspection_date)"
      ],
      "metadata": {
        "id": "VJ5YRPHQPmUl"
      },
      "execution_count": 62,
      "outputs": []
    },
    {
      "cell_type": "code",
      "source": [
        "sf = sf_restaurant_health_violations[(sf_restaurant_health_violations.inspection_date.dt.month.isin([1,5,11])) & (sf_restaurant_health_violations.business_postal_code == 94102)]\n",
        "print(sf.head())"
      ],
      "metadata": {
        "colab": {
          "base_uri": "https://localhost:8080/"
        },
        "id": "1juup5e2PqXs",
        "outputId": "d359f0a6-17f9-480a-f99d-a4ccc4ffbbf1"
      },
      "execution_count": 63,
      "outputs": [
        {
          "output_type": "stream",
          "name": "stdout",
          "text": [
            "     business_id              business_name          business_address  \\\n",
            "37         64682                      Straw            203 Octavia St   \n",
            "90          3642            ABSINTHE PASTRY                201 IVY St   \n",
            "186        10238  King of Thai Noodle House          184 O'Farrell St   \n",
            "199        91276                     A Mano  450 Hayes St., Suite C-2   \n",
            "232        79667                Chez Julien          100 Bush St #110   \n",
            "\n",
            "     business_city business_state  business_postal_code  business_latitude  \\\n",
            "37   San Francisco             CA               94102.0             37.774   \n",
            "90   San Francisco             CA               94102.0             37.777   \n",
            "186  San Francisco             CA               94102.0             37.786   \n",
            "199  San Francisco             CA               94102.0                NaN   \n",
            "232  San Francisco             CA               94102.0                NaN   \n",
            "\n",
            "     business_longitude                                  business_location  \\\n",
            "37             -122.424  {'longitude': '-122.42419', 'needs_recoding': ...   \n",
            "90             -122.421  {'longitude': '-122.421458', 'needs_recoding':...   \n",
            "186            -122.408  {'longitude': '-122.407764', 'needs_recoding':...   \n",
            "199                 NaN                                                NaN   \n",
            "232                 NaN                                                NaN   \n",
            "\n",
            "     business_phone_number   inspection_id inspection_date  inspection_score  \\\n",
            "37                     NaN  64682_20160129      2016-01-29              86.0   \n",
            "90                     NaN   3642_20170510      2017-05-10              92.0   \n",
            "186                    NaN  10238_20180508      2018-05-08              76.0   \n",
            "199                    NaN  91276_20170505      2017-05-05               NaN   \n",
            "232           1.415539e+10  79667_20160510      2016-05-10              83.0   \n",
            "\n",
            "           inspection_type           violation_id  \\\n",
            "37   Routine - Unscheduled  64682_20160129_103142   \n",
            "90   Routine - Unscheduled   3642_20170510_103142   \n",
            "186  Routine - Unscheduled  10238_20180508_103133   \n",
            "199       New Construction                    NaN   \n",
            "232  Routine - Unscheduled  79667_20160510_103104   \n",
            "\n",
            "                                 violation_description  risk_category  \n",
            "37                    Unclean nonfood contact surfaces       Low Risk  \n",
            "90                    Unclean nonfood contact surfaces       Low Risk  \n",
            "186             Foods not protected from contamination  Moderate Risk  \n",
            "199                                                NaN            NaN  \n",
            "232  Unauthorized or unsafe use of time as a public...      High Risk  \n"
          ]
        }
      ]
    },
    {
      "cell_type": "code",
      "source": [
        "result = sf.groupby([sf.inspection_date.dt.year, sf.inspection_date.dt.month]).size()#.unstack(fill_value=0).reset_index()\n",
        "#result.index.names = (result.index.names[0] + \"_year\", result.index.names[0] + \"_month\")\n",
        "print(result)"
      ],
      "metadata": {
        "colab": {
          "base_uri": "https://localhost:8080/"
        },
        "id": "AIFwHsCsP9h5",
        "outputId": "27615935-648a-4559-f366-3ffe3e4fb168"
      },
      "execution_count": 64,
      "outputs": [
        {
          "output_type": "stream",
          "name": "stdout",
          "text": [
            "inspection_date  inspection_date\n",
            "2016             1                  1\n",
            "                 5                  1\n",
            "                 11                 1\n",
            "2017             5                  2\n",
            "2018             5                  1\n",
            "dtype: int64\n"
          ]
        }
      ]
    },
    {
      "cell_type": "markdown",
      "source": [
        "# **Question 18**\n",
        "\n",
        "Find a neighborhood where you can sleep on a real bed in a villa with internet while paying the lowest price possible.\n",
        "\n",
        "**DataFrame:** airbnb_search_details"
      ],
      "metadata": {
        "id": "Msc72TnChME-"
      }
    },
    {
      "cell_type": "code",
      "source": [
        "# Data\n",
        "airbnb_search_details = pd.read_csv(\"https://github.com/statrliu/ds_datasets/raw/main/airbnb_search_details.csv\")\n",
        "\n",
        "print(airbnb_search_details.head())"
      ],
      "metadata": {
        "colab": {
          "base_uri": "https://localhost:8080/"
        },
        "id": "GiglYa-4hOpQ",
        "outputId": "d36b37e0-b170-45ab-b29c-660b78a23889"
      },
      "execution_count": 65,
      "outputs": [
        {
          "output_type": "stream",
          "name": "stdout",
          "text": [
            "   Unnamed: 0        id   price property_type        room_type  \\\n",
            "0           0  12513361  555.68     Apartment  Entire home/apt   \n",
            "1           1   7196412  366.36         Cabin     Private room   \n",
            "2           2  16333776  482.83         House     Private room   \n",
            "3           3   1786412  448.86     Apartment     Private room   \n",
            "4           4  14575777  506.89         Villa     Private room   \n",
            "\n",
            "                                           amenities  accommodates  bathrooms  \\\n",
            "0  {TV,\"Wireless Internet\",\"Air conditioning\",\"Sm...             2          1   \n",
            "1  {\"Wireless Internet\",Kitchen,Washer,Dryer,\"Smo...             2          3   \n",
            "2  {TV,\"Cable TV\",Internet,\"Wireless Internet\",Ki...             2          1   \n",
            "3  {\"Wireless Internet\",\"Air conditioning\",Kitche...             2          1   \n",
            "4  {TV,Internet,\"Wireless Internet\",\"Air conditio...             6          2   \n",
            "\n",
            "   bed_type cancellation_policy  ...  city host_identity_verified  \\\n",
            "0  Real Bed            flexible  ...   NYC                      t   \n",
            "1  Real Bed            moderate  ...    LA                      f   \n",
            "2  Real Bed              strict  ...    SF                      t   \n",
            "3  Real Bed              strict  ...   NYC                      t   \n",
            "4  Real Bed              strict  ...    LA                      t   \n",
            "\n",
            "  host_response_rate          host_since      neighbourhood number_of_reviews  \\\n",
            "0                89%  2015-11-18 0:00:00        East Harlem                 3   \n",
            "1               100%  2016-09-10 0:00:00        Valley Glen                14   \n",
            "2               100%  2013-12-26 0:00:00  Richmond District               117   \n",
            "3                93%  2010-05-11 0:00:00       Williamsburg                 8   \n",
            "4                70%  2015-10-22 0:00:00                NaN                 2   \n",
            "\n",
            "   review_scores_rating  zipcode  bedrooms  beds  \n",
            "0                  87.0    10029         0     1  \n",
            "1                  91.0    91606         1     1  \n",
            "2                  96.0    94118         1     1  \n",
            "3                  86.0    11211         1     1  \n",
            "4                 100.0    90703         3     3  \n",
            "\n",
            "[5 rows x 21 columns]\n"
          ]
        }
      ]
    },
    {
      "cell_type": "markdown",
      "source": [
        "## **Solution**"
      ],
      "metadata": {
        "id": "ChA9c7KihPUE"
      }
    },
    {
      "cell_type": "code",
      "source": [
        "filtered = airbnb_search_details[(airbnb_search_details['bed_type'] == 'Real Bed') & (airbnb_search_details['property_type'] == 'Villa') & (airbnb_search_details['amenities'].str.contains('internet', case=False))]\n",
        "print(filtered.head())"
      ],
      "metadata": {
        "colab": {
          "base_uri": "https://localhost:8080/"
        },
        "id": "pYXQMp2SQsSU",
        "outputId": "a5462b96-150c-4678-fdb8-c69558aac320"
      },
      "execution_count": 66,
      "outputs": [
        {
          "output_type": "stream",
          "name": "stdout",
          "text": [
            "   Unnamed: 0        id   price property_type        room_type  \\\n",
            "4           4  14575777  506.89         Villa     Private room   \n",
            "5           5  20515889  720.79         Villa  Entire home/apt   \n",
            "6           6  13783491  516.48         Villa     Private room   \n",
            "7           7   6591755  529.33         Villa  Entire home/apt   \n",
            "8           8   5203241  679.68         Villa  Entire home/apt   \n",
            "\n",
            "                                           amenities  accommodates  bathrooms  \\\n",
            "4  {TV,Internet,\"Wireless Internet\",\"Air conditio...             6          2   \n",
            "5  {TV,\"Cable TV\",Internet,\"Wireless Internet\",Ki...             8          3   \n",
            "6  {TV,\"Cable TV\",Internet,\"Wireless Internet\",\"A...             2          1   \n",
            "7  {TV,\"Cable TV\",Internet,\"Wireless Internet\",Ki...            16          3   \n",
            "8  {TV,\"Cable TV\",Internet,\"Wireless Internet\",\"A...             6          2   \n",
            "\n",
            "   bed_type cancellation_policy  ...  city host_identity_verified  \\\n",
            "4  Real Bed              strict  ...    LA                      t   \n",
            "5  Real Bed              strict  ...    LA                      f   \n",
            "6  Real Bed              strict  ...    LA                      t   \n",
            "7  Real Bed              strict  ...    LA                      t   \n",
            "8  Real Bed              strict  ...    LA                      t   \n",
            "\n",
            "  host_response_rate          host_since        neighbourhood  \\\n",
            "4                70%  2015-10-22 0:00:00                  NaN   \n",
            "5                20%  2014-05-26 0:00:00              Topanga   \n",
            "6                90%  2015-08-20 0:00:00      Hollywood Hills   \n",
            "7                91%  2016-01-16 0:00:00           Long Beach   \n",
            "8               100%  2017-08-17 0:00:00  Rancho Palos Verdes   \n",
            "\n",
            "  number_of_reviews  review_scores_rating  zipcode  bedrooms  beds  \n",
            "4                 2                 100.0    90703         3     3  \n",
            "5                 0                   NaN    90265         3     4  \n",
            "6                 1                 100.0    90046         1     1  \n",
            "7                88                  90.0    90803         4     6  \n",
            "8                 1                 100.0    90275         2     4  \n",
            "\n",
            "[5 rows x 21 columns]\n"
          ]
        }
      ]
    },
    {
      "cell_type": "code",
      "source": [
        "filtered_grp = filtered.groupby(['neighbourhood'])['price'].min().to_frame().reset_index()\n",
        "print(filtered_grp)"
      ],
      "metadata": {
        "colab": {
          "base_uri": "https://localhost:8080/"
        },
        "id": "ROsxmqVDQ5xE",
        "outputId": "c4585916-0325-41c2-846b-2a7ce7982cab"
      },
      "execution_count": 67,
      "outputs": [
        {
          "output_type": "stream",
          "name": "stdout",
          "text": [
            "         neighbourhood   price\n",
            "0       Harbor Gateway  485.98\n",
            "1      Hollywood Hills  516.48\n",
            "2           Long Beach  459.51\n",
            "3               Malibu  633.51\n",
            "4  Rancho Palos Verdes  679.68\n",
            "5        Redondo Beach  599.15\n",
            "6          Temple City  485.20\n",
            "7              Topanga  469.13\n"
          ]
        }
      ]
    },
    {
      "cell_type": "code",
      "source": [
        "print(filtered_grp.sort_values(\"price\").iloc[0])\n",
        "\n",
        "#print(filtered_grp.iloc[filtered_grp['price'].idxmin()]['neighbourhood'])"
      ],
      "metadata": {
        "colab": {
          "base_uri": "https://localhost:8080/"
        },
        "id": "pkNIhz79RM4y",
        "outputId": "5b36f3d1-77ae-4cc1-c0a9-d8deaf30044d"
      },
      "execution_count": 68,
      "outputs": [
        {
          "output_type": "stream",
          "name": "stdout",
          "text": [
            "neighbourhood    Long Beach\n",
            "price                459.51\n",
            "Name: 2, dtype: object\n"
          ]
        }
      ]
    },
    {
      "cell_type": "markdown",
      "source": [
        "# **Question 19**\n",
        "\n",
        "For each day, find a merchant who earned the highest amount on a previous day.\n",
        "\n",
        "Round total amount to 2 decimals and do that before comparing totals between different merchants.\n",
        "\n",
        "Output the date and the name of the merchant but only for the days where the data from the previous day are available.\n",
        "\n",
        "In the case of multiple merchants having the same highest shared amount, your output should include all the names in different rows.\n",
        "\n",
        "**DataFrames:** doordash_orders, doordash_merchants"
      ],
      "metadata": {
        "id": "KweJ8hfQihvV"
      }
    },
    {
      "cell_type": "code",
      "source": [
        "# Data\n",
        "doordash_orders = pd.read_csv(\"https://github.com/statrliu/ds_datasets/raw/main/doordash_orders.csv\")\n",
        "print(doordash_orders.head(10))\n",
        "print(\"\\n\\n\")\n",
        "\n",
        "doordash_merchants = pd.read_csv(\"https://github.com/statrliu/ds_datasets/raw/main/doordash_merchants.csv\")\n",
        "print(doordash_merchants.head())\n"
      ],
      "metadata": {
        "colab": {
          "base_uri": "https://localhost:8080/"
        },
        "id": "EsdxmJY6ij_G",
        "outputId": "b2210c7f-4c9e-4f81-e0ba-303a3b45b076"
      },
      "execution_count": 69,
      "outputs": [
        {
          "output_type": "stream",
          "name": "stdout",
          "text": [
            "   id  customer_id  merchant_id      order_timestamp  n_items  \\\n",
            "0  27         1053            1  2022-01-14 14:41:11        9   \n",
            "1  22         1049            1  2022-01-14 22:46:54        8   \n",
            "2  46         1050            2   2022-01-14 2:11:24       13   \n",
            "3  26         1052            2   2022-01-14 8:11:58        9   \n",
            "4  48         1051            2  2022-01-14 14:21:15       14   \n",
            "5  16         1050            2  2022-01-14 15:33:29        7   \n",
            "6  12         1052            2  2022-01-14 18:20:07        6   \n",
            "7  17         1050            3  2022-01-14 19:34:39        7   \n",
            "8  11         1051            5   2022-01-14 5:32:38        6   \n",
            "9  47         1053            5   2022-01-14 8:20:02       14   \n",
            "\n",
            "   total_amount_earned  \n",
            "0                12.47  \n",
            "1                 2.63  \n",
            "2                13.90  \n",
            "3                17.28  \n",
            "4                15.18  \n",
            "5                 7.78  \n",
            "6                 8.37  \n",
            "7                11.10  \n",
            "8                 5.56  \n",
            "9                19.49  \n",
            "\n",
            "\n",
            "\n",
            "   id             name   category  zipcode\n",
            "0   1  Treehouse Pizza   american    92507\n",
            "1   2        Thai Lion      asian    90017\n",
            "2   3       Meal Raven  fast food    95204\n",
            "3   4        Burger A1   american    93401\n",
            "4   5        Sushi Bay      asian    92121\n"
          ]
        }
      ]
    },
    {
      "cell_type": "markdown",
      "source": [
        "## **Solution**"
      ],
      "metadata": {
        "id": "LplHR24iikON"
      }
    },
    {
      "cell_type": "code",
      "source": [
        "doordash_orders['order_date'] = pd.to_datetime(doordash_orders['order_timestamp']).dt.date\n",
        "print(doordash_orders.head())"
      ],
      "metadata": {
        "colab": {
          "base_uri": "https://localhost:8080/"
        },
        "id": "GLkNXZKIUfaO",
        "outputId": "26b7536a-5e6e-4d71-e67f-b929d3f31d50"
      },
      "execution_count": 70,
      "outputs": [
        {
          "output_type": "stream",
          "name": "stdout",
          "text": [
            "   id  customer_id  merchant_id      order_timestamp  n_items  \\\n",
            "0  27         1053            1  2022-01-14 14:41:11        9   \n",
            "1  22         1049            1  2022-01-14 22:46:54        8   \n",
            "2  46         1050            2   2022-01-14 2:11:24       13   \n",
            "3  26         1052            2   2022-01-14 8:11:58        9   \n",
            "4  48         1051            2  2022-01-14 14:21:15       14   \n",
            "\n",
            "   total_amount_earned  order_date  \n",
            "0                12.47  2022-01-14  \n",
            "1                 2.63  2022-01-14  \n",
            "2                13.90  2022-01-14  \n",
            "3                17.28  2022-01-14  \n",
            "4                15.18  2022-01-14  \n"
          ]
        }
      ]
    },
    {
      "cell_type": "code",
      "source": [
        "total_orders = doordash_orders.groupby(['order_date', 'merchant_id'])['total_amount_earned'].sum().reset_index().rename(columns={'total_amount_earned':'daily_total'})\n",
        "total_orders['daily_total'] = total_orders['daily_total'].round(2)\n",
        "print(total_orders.head())"
      ],
      "metadata": {
        "colab": {
          "base_uri": "https://localhost:8080/"
        },
        "id": "F3SIKEnPUyYA",
        "outputId": "471b8e4a-d653-49c8-ac19-8823799a0deb"
      },
      "execution_count": 71,
      "outputs": [
        {
          "output_type": "stream",
          "name": "stdout",
          "text": [
            "   order_date  merchant_id  daily_total\n",
            "0  2022-01-14            1        15.10\n",
            "1  2022-01-14            2        62.51\n",
            "2  2022-01-14            3        11.10\n",
            "3  2022-01-14            5        27.21\n",
            "4  2022-01-14            6        16.30\n"
          ]
        }
      ]
    },
    {
      "cell_type": "code",
      "source": [
        "total_orders = total_orders.merge(doordash_merchants[['name','id']], left_on='merchant_id', right_on='id')\n",
        "print(total_orders.head())"
      ],
      "metadata": {
        "colab": {
          "base_uri": "https://localhost:8080/"
        },
        "id": "l2LMeCp4VFU5",
        "outputId": "936ce854-fd37-4fb4-fe99-0d51b6afb179"
      },
      "execution_count": 72,
      "outputs": [
        {
          "output_type": "stream",
          "name": "stdout",
          "text": [
            "   order_date  merchant_id  daily_total             name  id\n",
            "0  2022-01-14            1        15.10  Treehouse Pizza   1\n",
            "1  2022-01-15            1        42.06  Treehouse Pizza   1\n",
            "2  2022-01-16            1        26.40  Treehouse Pizza   1\n",
            "3  2022-01-14            2        62.51        Thai Lion   2\n",
            "4  2022-01-15            2        42.06        Thai Lion   2\n"
          ]
        }
      ]
    },
    {
      "cell_type": "code",
      "source": [
        "total_orders['next_day'] = total_orders['order_date'] + pd.Timedelta(1, 'd')\n",
        "print(total_orders.head())"
      ],
      "metadata": {
        "colab": {
          "base_uri": "https://localhost:8080/"
        },
        "id": "tzN0uD8xVnJt",
        "outputId": "1b71ffb8-7e66-42f5-870b-8e53ce3a123b"
      },
      "execution_count": 73,
      "outputs": [
        {
          "output_type": "stream",
          "name": "stdout",
          "text": [
            "   order_date  merchant_id  daily_total             name  id    next_day\n",
            "0  2022-01-14            1        15.10  Treehouse Pizza   1  2022-01-15\n",
            "1  2022-01-15            1        42.06  Treehouse Pizza   1  2022-01-16\n",
            "2  2022-01-16            1        26.40  Treehouse Pizza   1  2022-01-17\n",
            "3  2022-01-14            2        62.51        Thai Lion   2  2022-01-15\n",
            "4  2022-01-15            2        42.06        Thai Lion   2  2022-01-16\n"
          ]
        }
      ]
    },
    {
      "cell_type": "code",
      "source": [
        "highest_amounts = total_orders.groupby(['next_day'])['daily_total'].max().reset_index()\n",
        "print(highest_amounts.head())"
      ],
      "metadata": {
        "colab": {
          "base_uri": "https://localhost:8080/"
        },
        "id": "i6f-ESx2XCpn",
        "outputId": "7a0b447d-d0e0-42c5-f11c-15e12bba428e"
      },
      "execution_count": 74,
      "outputs": [
        {
          "output_type": "stream",
          "name": "stdout",
          "text": [
            "     next_day  daily_total\n",
            "0  2022-01-15        62.51\n",
            "1  2022-01-16        42.06\n",
            "2  2022-01-17        74.41\n"
          ]
        }
      ]
    },
    {
      "cell_type": "code",
      "source": [
        "highest_earned = pd.merge(highest_amounts, total_orders, on=['next_day', 'daily_total'])\n",
        "print(highest_earned.head())"
      ],
      "metadata": {
        "colab": {
          "base_uri": "https://localhost:8080/"
        },
        "id": "WoeDatTaXQlc",
        "outputId": "87965a47-3b05-450f-f6df-7127b7f750ed"
      },
      "execution_count": 75,
      "outputs": [
        {
          "output_type": "stream",
          "name": "stdout",
          "text": [
            "     next_day  daily_total  order_date  merchant_id             name  id\n",
            "0  2022-01-15        62.51  2022-01-14            2        Thai Lion   2\n",
            "1  2022-01-16        42.06  2022-01-15            1  Treehouse Pizza   1\n",
            "2  2022-01-16        42.06  2022-01-15            2        Thai Lion   2\n",
            "3  2022-01-16        42.06  2022-01-15            3       Meal Raven   3\n",
            "4  2022-01-17        74.41  2022-01-16            3       Meal Raven   3\n"
          ]
        }
      ]
    },
    {
      "cell_type": "code",
      "source": [
        "result = highest_earned[['next_day', 'name']].rename(columns={'next_day': 'date'})\n",
        "\n",
        "print(result)"
      ],
      "metadata": {
        "colab": {
          "base_uri": "https://localhost:8080/"
        },
        "id": "bvTghUtDamMj",
        "outputId": "f55abc7c-da9a-4597-afec-19107607e66f"
      },
      "execution_count": 76,
      "outputs": [
        {
          "output_type": "stream",
          "name": "stdout",
          "text": [
            "         date             name\n",
            "0  2022-01-15        Thai Lion\n",
            "1  2022-01-16  Treehouse Pizza\n",
            "2  2022-01-16        Thai Lion\n",
            "3  2022-01-16       Meal Raven\n",
            "4  2022-01-17       Meal Raven\n"
          ]
        }
      ]
    },
    {
      "cell_type": "markdown",
      "source": [
        "# **Question 20**\n",
        "\n",
        "Find employees who have worked for Uber for more than 2 years (730 days) and check to see if they're still part of the company.\n",
        "\n",
        "Output 'Yes' if they are and 'No' if they are not.\n",
        "\n",
        "Use May 1, 2021 as your date of reference when calculating whether they have worked for more than 2 years since their hire date.\n",
        "\n",
        "Output the first name, last name, whether or not the employee is still working for Uber, and the number of years at the company.\n",
        "\n",
        "**DataFrame:** uber_employees"
      ],
      "metadata": {
        "id": "d1WohwxjkVSd"
      }
    },
    {
      "cell_type": "code",
      "source": [
        "# Data\n",
        "uber_employees = pd.read_csv(\"https://github.com/statrliu/ds_datasets/raw/main/uber_employees.csv\")\n",
        "print(uber_employees.head())"
      ],
      "metadata": {
        "colab": {
          "base_uri": "https://localhost:8080/"
        },
        "id": "4w59YWTgkYCH",
        "outputId": "57aa4308-24a0-47b8-d684-07de61fd27f5"
      },
      "execution_count": 77,
      "outputs": [
        {
          "output_type": "stream",
          "name": "stdout",
          "text": [
            "  first_name last_name  id           hire_date    termination_date  salary\n",
            "0        Bob     Smith   1  2009-02-03 0:00:00  2016-01-01 0:00:00   10000\n",
            "1        Joe    Jarrod   2  2009-02-03 0:00:00                 NaN   20000\n",
            "2      Nancy     Soley   3  2009-02-03 0:00:00                 NaN   30000\n",
            "3      Keith   Widjaja   4  2009-04-15 0:00:00  2014-01-01 0:00:00   20000\n",
            "4      Kelly    Smalls   5  2009-02-03 0:00:00                 NaN   20000\n"
          ]
        }
      ]
    },
    {
      "cell_type": "markdown",
      "source": [
        "## **Solution**"
      ],
      "metadata": {
        "id": "rdFWEkDtkYjv"
      }
    },
    {
      "cell_type": "code",
      "source": [
        "uber_employees['hire_date'] = pd.to_datetime(uber_employees['hire_date'])\n",
        "uber_employees['termination_date'] = pd.to_datetime(uber_employees['termination_date'])\n",
        "print(uber_employees.head())"
      ],
      "metadata": {
        "colab": {
          "base_uri": "https://localhost:8080/"
        },
        "id": "qXd7rsJkSTMS",
        "outputId": "ee0a9c91-b6c6-41f1-b553-ba635d07f36c"
      },
      "execution_count": 78,
      "outputs": [
        {
          "output_type": "stream",
          "name": "stdout",
          "text": [
            "  first_name last_name  id  hire_date termination_date  salary\n",
            "0        Bob     Smith   1 2009-02-03       2016-01-01   10000\n",
            "1        Joe    Jarrod   2 2009-02-03              NaT   20000\n",
            "2      Nancy     Soley   3 2009-02-03              NaT   30000\n",
            "3      Keith   Widjaja   4 2009-04-15       2014-01-01   20000\n",
            "4      Kelly    Smalls   5 2009-02-03              NaT   20000\n"
          ]
        }
      ]
    },
    {
      "cell_type": "code",
      "source": [
        "uber_employees['years_spent'] = ((uber_employees['termination_date'].fillna(pd.to_datetime('2021-05-01')) - uber_employees['hire_date']).dt.days)/365\n",
        "print(uber_employees.head())"
      ],
      "metadata": {
        "colab": {
          "base_uri": "https://localhost:8080/"
        },
        "id": "hjyhJNiaSXqm",
        "outputId": "4dfad40d-fc1d-45b1-ab19-91a7d98ff601"
      },
      "execution_count": 79,
      "outputs": [
        {
          "output_type": "stream",
          "name": "stdout",
          "text": [
            "  first_name last_name  id  hire_date termination_date  salary  years_spent\n",
            "0        Bob     Smith   1 2009-02-03       2016-01-01   10000     6.912329\n",
            "1        Joe    Jarrod   2 2009-02-03              NaT   20000    12.246575\n",
            "2      Nancy     Soley   3 2009-02-03              NaT   30000    12.246575\n",
            "3      Keith   Widjaja   4 2009-04-15       2014-01-01   20000     4.717808\n",
            "4      Kelly    Smalls   5 2009-02-03              NaT   20000    12.246575\n"
          ]
        }
      ]
    },
    {
      "cell_type": "code",
      "source": [
        "uber_employees['still_employed'] = uber_employees['termination_date'].apply(lambda x: 'Yes' if pd.isnull(x) else 'No')\n",
        "\n",
        "result = uber_employees[uber_employees['years_spent'] >2][['first_name','last_name', 'years_spent', 'still_employed']]\n",
        "\n",
        "print(result)\n",
        "print(result.still_employed.value_counts(normalize = True))"
      ],
      "metadata": {
        "colab": {
          "base_uri": "https://localhost:8080/"
        },
        "id": "HvU9XxQETQE5",
        "outputId": "ffe4b372-762c-46d6-b340-d92a5ef2f512"
      },
      "execution_count": 80,
      "outputs": [
        {
          "output_type": "stream",
          "name": "stdout",
          "text": [
            "   first_name last_name  years_spent still_employed\n",
            "0         Bob     Smith     6.912329             No\n",
            "1         Joe    Jarrod    12.246575            Yes\n",
            "2       Nancy     Soley    12.246575            Yes\n",
            "3       Keith   Widjaja     4.717808             No\n",
            "4       Kelly    Smalls    12.246575            Yes\n",
            "..        ...       ...          ...            ...\n",
            "85        Eve      John     2.950685            Yes\n",
            "86        Kai      Luca     2.945205            Yes\n",
            "91       Sana     Pital     2.356164            Yes\n",
            "92       Jaya    Ananya     2.279452            Yes\n",
            "93    Mohamed     Saeed     2.117808            Yes\n",
            "\n",
            "[71 rows x 4 columns]\n",
            "No     0.577465\n",
            "Yes    0.422535\n",
            "Name: still_employed, dtype: float64\n"
          ]
        }
      ]
    }
  ]
}